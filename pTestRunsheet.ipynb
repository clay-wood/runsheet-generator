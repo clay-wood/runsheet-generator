{
 "cells": [
  {
   "cell_type": "code",
   "execution_count": 1,
   "id": "ab603420-bff5-430d-a23f-5c92098226a9",
   "metadata": {},
   "outputs": [],
   "source": [
    "import runsheet_display as rs"
   ]
  },
  {
   "cell_type": "code",
   "execution_count": 2,
   "id": "2e17655f-9de4-46f9-a57a-0fead58a9792",
   "metadata": {
    "tags": []
   },
   "outputs": [
    {
     "data": {
      "application/vnd.jupyter.widget-view+json": {
       "model_id": "334a3ff3602a472bb0d74b2c2971ba4d",
       "version_major": 2,
       "version_minor": 0
      },
      "text/plain": [
       "GridBox(children=(VBox(children=(Text(value='', description='Exp. Name:', placeholder='pxxxx', style=Descripti…"
      ]
     },
     "metadata": {},
     "output_type": "display_data"
    },
    {
     "data": {
      "application/vnd.jupyter.widget-view+json": {
       "model_id": "d52c80a777574d7796b3351b78cab6b0",
       "version_major": 2,
       "version_minor": 0
      },
      "text/plain": [
       "GridBox(children=(VBox(children=(Text(value='', description='Contact Area (m^2)', placeholder='m^2', style=Des…"
      ]
     },
     "metadata": {},
     "output_type": "display_data"
    },
    {
     "data": {
      "application/vnd.jupyter.widget-view+json": {
       "model_id": "ad56a18486154dd89536dd3bf058972e",
       "version_major": 2,
       "version_minor": 0
      },
      "text/plain": [
       "GridBox(children=(VBox(children=(Label(value='Horizontal Load Cell'), Dropdown(description='Horiz. Load Cell:'…"
      ]
     },
     "metadata": {},
     "output_type": "display_data"
    },
    {
     "data": {
      "application/vnd.jupyter.widget-view+json": {
       "model_id": "2b4b79c468ec4124bb6ea6b63d01c4db",
       "version_major": 2,
       "version_minor": 0
      },
      "text/plain": [
       "RadioButtons(description='Use Vessel?', index=1, options=('yes', 'no'), value='no')"
      ]
     },
     "metadata": {},
     "output_type": "display_data"
    },
    {
     "data": {
      "application/vnd.jupyter.widget-view+json": {
       "model_id": "2e54a56a33db49f3b5cfcd8d4912cebf",
       "version_major": 2,
       "version_minor": 0
      },
      "text/plain": [
       "Output()"
      ]
     },
     "metadata": {},
     "output_type": "display_data"
    },
    {
     "data": {
      "application/vnd.jupyter.widget-view+json": {
       "model_id": "d4a83580bfe043edb7f6c47a38a4cba5",
       "version_major": 2,
       "version_minor": 0
      },
      "text/plain": [
       "GridBox(children=(Dropdown(description='Data Logger Used:', options=('8 channel', '16 channel'), style=Descrip…"
      ]
     },
     "metadata": {},
     "output_type": "display_data"
    },
    {
     "data": {
      "application/vnd.jupyter.widget-view+json": {
       "model_id": "12c608cc8a7940a4a1c2775faa647aa3",
       "version_major": 2,
       "version_minor": 0
      },
      "text/plain": [
       "GridBox(children=(Textarea(value='', description='Purpose/Description', layout=Layout(flex='1 1 1%', width='au…"
      ]
     },
     "metadata": {},
     "output_type": "display_data"
    },
    {
     "data": {
      "application/vnd.jupyter.widget-view+json": {
       "model_id": "80cb59722510440c93a65da27fe72715",
       "version_major": 2,
       "version_minor": 0
      },
      "text/plain": [
       "RadioButtons(description='Record PID?', index=1, options=('yes', 'no'), value='no')"
      ]
     },
     "metadata": {},
     "output_type": "display_data"
    },
    {
     "data": {
      "application/vnd.jupyter.widget-view+json": {
       "model_id": "7662673925d744d08b48a782fd340932",
       "version_major": 2,
       "version_minor": 0
      },
      "text/plain": [
       "Output()"
      ]
     },
     "metadata": {},
     "output_type": "display_data"
    },
    {
     "data": {
      "application/vnd.jupyter.widget-view+json": {
       "model_id": "db1b2afd175d49babe01dc688fc2a0a0",
       "version_major": 2,
       "version_minor": 0
      },
      "text/plain": [
       "Button(description='Make Runsheet', style=ButtonStyle())"
      ]
     },
     "metadata": {},
     "output_type": "display_data"
    },
    {
     "data": {
      "application/vnd.jupyter.widget-view+json": {
       "model_id": "2c0c3f2d2d354f9197e773060da62d44",
       "version_major": 2,
       "version_minor": 0
      },
      "text/plain": [
       "Output()"
      ]
     },
     "metadata": {},
     "output_type": "display_data"
    }
   ],
   "source": [
    "entry, outputs = rs.entry_gui()\n",
    "\n",
    "rs.print_btn(outputs)"
   ]
  },
  {
   "cell_type": "code",
   "execution_count": 19,
   "id": "b2c1fc98-81ac-46ab-8434-4a71f6a5d439",
   "metadata": {},
   "outputs": [],
   "source": [
    "import ipywidgets as widgets\n",
    "import numpy as np\n",
    "\n",
    "def calc_press(gain, targ_stress, init_volt):\n",
    "    \n",
    "    targ_volt = (np.fromstring(gain.value, dtype=float, sep=',') * np.fromstring(targ_stress.value, dtype=float, sep=',')) + np.fromstring(init_volt.value, dtype=float, sep=',')\n",
    "    targ_volt = np.array2string(targ_volt, precision = 5, separator=', ')[1:-1]\n",
    "    \n",
    "    return targ_volt\n",
    "\n",
    "ves_grid_args = {'continuous_update':True, 'disabled':False}\n",
    "style = {'description_width': 'initial'}\n",
    "ves_grid = widgets.GridspecLayout(7, 3)\n",
    "\n",
    "ves_grid[0:2,:] = widgets.Text(value='DI H2O', placeholder='DI H2O', description='Pore Fluid', style=style, **ves_grid_args)\n",
    "\n",
    "ves_grid[2,0] = widgets.Label('Confining Pressure')\n",
    "\n",
    "ves_grid[3,0] = widgets.Text(value='0.1456', placeholder='0.1456 V/MPa', description='Pc Gain (V/MPa):', style=style, **ves_grid_args)\n",
    "\n",
    "ves_grid[4,0] = widgets.Text(placeholder='MPa', description='Target Stress(es) (MPa):', style=style, **ves_grid_args)\n",
    "\n",
    "ves_grid[5,0] = widgets.Text(placeholder='Volt', description='Init. Volt.:', style=style, **ves_grid_args)\n",
    "\n",
    "ves_grid[6,0] =  widgets.Label(value='Volt. @ Load = ')\n",
    "\n",
    "def pc_handle_change(change):\n",
    "    if str(change.new) == '' or str(change.new) == '--' or str(change.new) == '-':\n",
    "        ves_grid[6,0].value = 'Volt. @ Load = N/A'\n",
    "    else:\n",
    "        targ_volt = calc_press(ves_grid[3,0], ves_grid[4,0], ves_grid[5,0])\n",
    "        ves_grid[6,0].value = 'Volt. @ Load = '+ targ_volt\n",
    "\n",
    "ves_grid[5,0].observe(pc_handle_change, names='value')\n",
    "\n",
    "# pc_items = widgets.VBox(children=[vessel_title, pc_gain, pc_press, pc_ini_V, pc_load_v])\n",
    "\n",
    "# ppa_gain = widgets.Text(\n",
    "#     placeholder='Ppa Gain (V/MPa)',\n",
    "#     description='Ppa Gain (V/MPa):',\n",
    "#     continuous_update = True,\n",
    "#     disabled=False, \n",
    "#     style=style)\n",
    "\n",
    "# ppa_press = widgets.Text(\n",
    "#     placeholder='MPa',\n",
    "#     description='PpA Press. (MPa)',\n",
    "#     continuous_update = True,\n",
    "#     disabled=False, \n",
    "#     style=style)\n",
    "\n",
    "# ppa_ini_V = widgets.Text(\n",
    "#     placeholder='Volt',\n",
    "#     description='V. Init. Volt.:',\n",
    "#     continuous_update = True,\n",
    "#     disabled=False, \n",
    "#     style=style)\n",
    "\n",
    "# ppa_load_v =  widgets.Label(value='Volt. @ Load = ')\n",
    "\n",
    "# def ppa_handle_change(change):\n",
    "#     if str(change.new) == '' or str(change.new) == '--' or str(change.new) == '-':\n",
    "#         ppa_load_v.value = 'Volt. @ Load = N/A'\n",
    "#     else:\n",
    "#         targ_volt = calc_press(ppa_gain, ppa_press, ppa_ini_V)\n",
    "#         ppa_load_v.value = 'Volt. @ Load = '+ targ_volt\n",
    "\n",
    "# ppa_ini_V.observe(ppa_handle_change, names='value')\n",
    "\n",
    "# ppa_items = widgets.VBox(children=[vessel_title, ppa_gain, ppa_press, ppa_ini_V, ppa_load_v])\n",
    "\n",
    "# ppb_gain = widgets.Text(\n",
    "#     placeholder='PpB Gain (V/MPa)',\n",
    "#     description='PpB Gain (V/MPa):',\n",
    "#     continuous_update = True,\n",
    "#     disabled=False, \n",
    "#     style=style)\n",
    "\n",
    "# ppb_press = widgets.Text(\n",
    "#     placeholder='MPa',\n",
    "#     description='PpB Press. (MPa)',\n",
    "#     continuous_update = True,\n",
    "#     disabled=False, \n",
    "#     style=style)\n",
    "\n",
    "# ppb_ini_V = widgets.Text(\n",
    "#     placeholder='Volt',\n",
    "#     description='V. Init. Volt.:',\n",
    "#     continuous_update = True,\n",
    "#     disabled=False, \n",
    "#     style=style)\n",
    "\n",
    "# ppb_load_v =  widgets.Label(value='Volt. @ Load = ')\n",
    "\n",
    "# def ppb_handle_change(change):\n",
    "#     if str(change.new) == '' or str(change.new) == '--' or str(change.new) == '-':\n",
    "#         ppb_load_v.value = 'Volt. @ Load = N/A'\n",
    "#     else:\n",
    "#         targ_volt = calc_press(ppb_gain, ppb_press, ppb_ini_V)\n",
    "#         ppb_load_v.value = 'Volt. @ Load = '+ targ_volt\n",
    "\n",
    "# ppb_ini_V.observe(ppb_handle_change, names='value')\n",
    "\n",
    "# ppb_items = widgets.VBox(children=[pore_fluid, vessel_title, ppb_gain, ppb_press, ppb_ini_V, ppb_load_v])\n",
    "\n",
    "# layout_args = {'flex_flow':'row',\n",
    "#      'padding':'10px',\n",
    "#      'width':'75%',\n",
    "#      'grid_gap':'60px'}\n",
    "\n",
    "# layout2 = widgets.Layout(display='flex', **layout_args, border='2px solid royalblue')\n",
    "\n",
    "\n",
    "# horizontal = widgets.VBox(children=[h_lc_title, h_lc_picker, h_lc_calib, h_lc_stress, h_lc_ini_V, h_load_v], layout=widgets.Layout(flex='1 1 0%', width='auto'))\n",
    "# vertical = widgets.VBox(children=[v_lc_title, v_lc_picker, v_lc_calib, v_lc_stress, v_lc_ini_V, v_load_v], layout=widgets.Layout(flex='1 1 0%', width='auto'))\n",
    "\n",
    "# layout = widgets.Layout(display='flex',\n",
    "#          flex_flow='row',\n",
    "#          align_items='stretch',\n",
    "#          border='2px solid grey',\n",
    "#          padding='10px',\n",
    "#          width='75%')\n",
    "\n",
    "# hor_vert = widgets.GridBox(children=[horizontal, vertical], layout=layout)\n",
    "\n",
    "# use_vessel = widgets.RadioButtons(\n",
    "#     options=['yes', 'no'],\n",
    "#     description='Use Vessel?',\n",
    "#     value='no',\n",
    "#     disabled=False)\n",
    "\n",
    "# def vessel_input(a):\n",
    "#     pore_press=widgets.Label('')\n",
    "#     if a == 'yes':\n",
    "#         pore_press = widgets.GridBox(children=[pc_items, ppa_items, ppb_items], layout=layout2)\n",
    "#     return display(pore_press)\n",
    "\n",
    "# vessel_params = widgets.interactive_output(vessel_input, {'a': use_vessel})"
   ]
  },
  {
   "cell_type": "code",
   "execution_count": 20,
   "id": "0eb3ce7e-0bca-4e92-aaa9-f94178cf69d1",
   "metadata": {},
   "outputs": [
    {
     "data": {
      "application/vnd.jupyter.widget-view+json": {
       "model_id": "3828cc8cc588472dac9f6cb6b569a73a",
       "version_major": 2,
       "version_minor": 0
      },
      "text/plain": [
       "GridspecLayout(children=(Text(value='DI H2O', description='Pore Fluid', layout=Layout(grid_area='widget001'), …"
      ]
     },
     "metadata": {},
     "output_type": "display_data"
    }
   ],
   "source": [
    "display(ves_grid)"
   ]
  },
  {
   "cell_type": "code",
   "execution_count": null,
   "id": "7c014896-aed1-433c-b0f1-5b0d1d3ba4e7",
   "metadata": {},
   "outputs": [],
   "source": []
  }
 ],
 "metadata": {
  "kernelspec": {
   "display_name": "Python 3",
   "language": "python",
   "name": "python3"
  },
  "language_info": {
   "codemirror_mode": {
    "name": "ipython",
    "version": 3
   },
   "file_extension": ".py",
   "mimetype": "text/x-python",
   "name": "python",
   "nbconvert_exporter": "python",
   "pygments_lexer": "ipython3",
   "version": "3.9.7"
  },
  "widgets": {
   "application/vnd.jupyter.widget-state+json": {
    "state": {
     "00bcc3004a454c79a89c6c959a42fae3": {
      "model_module": "@jupyter-widgets/base",
      "model_module_version": "1.2.0",
      "model_name": "LayoutModel",
      "state": {}
     },
     "016f3dd1fcca45fb9ece9898e963c0c4": {
      "model_module": "@jupyter-widgets/base",
      "model_module_version": "1.2.0",
      "model_name": "LayoutModel",
      "state": {
       "grid_area": "widget001"
      }
     },
     "020e6bde5e4a42bcb847b127d2ade7a2": {
      "model_module": "@jupyter-widgets/controls",
      "model_module_version": "1.5.0",
      "model_name": "TextModel",
      "state": {
       "description": "Operator Name(s):",
       "layout": "IPY_MODEL_ce78a96577d849b08d233eb4dfa1a1e1",
       "placeholder": "Name(s)",
       "style": "IPY_MODEL_ad3fdd845cab4548b4ebc0cf73dfc075",
       "value": "clay"
      }
     },
     "02d5fe425aed47538da255a80b5b5976": {
      "model_module": "@jupyter-widgets/controls",
      "model_module_version": "1.5.0",
      "model_name": "DescriptionStyleModel",
      "state": {
       "description_width": ""
      }
     },
     "033ee17b5a354890a6ff3cb3b7da765f": {
      "model_module": "@jupyter-widgets/controls",
      "model_module_version": "1.5.0",
      "model_name": "TextModel",
      "state": {
       "description": "Target Stress(es) (MPa):",
       "layout": "IPY_MODEL_6db9d9c7def64d6d9cf58e02166d1b11",
       "placeholder": "MPa",
       "style": "IPY_MODEL_f7c02ea4228b402fb70d613939ccc9bb",
       "value": "10"
      }
     },
     "03931de54c0f4732bb21063a5016aa9b": {
      "model_module": "@jupyter-widgets/base",
      "model_module_version": "1.2.0",
      "model_name": "LayoutModel",
      "state": {
       "flex": "1 1 1%",
       "width": "auto"
      }
     },
     "03b0b41dd5204ee6a87e097e195aee39": {
      "model_module": "@jupyter-widgets/controls",
      "model_module_version": "1.5.0",
      "model_name": "TextModel",
      "state": {
       "description": "H. Init. Volt.:",
       "layout": "IPY_MODEL_0d30d9966bcb4cc4b10c7a40fe1da91f",
       "placeholder": "Volt",
       "style": "IPY_MODEL_35730c9aa65c4bce949326d5695e7c62",
       "value": "0"
      }
     },
     "045cab0928844950a447a60d11fd370c": {
      "model_module": "@jupyter-widgets/controls",
      "model_module_version": "1.5.0",
      "model_name": "DescriptionStyleModel",
      "state": {
       "description_width": ""
      }
     },
     "04a49479e121470cb295fa85eeb9adcd": {
      "model_module": "@jupyter-widgets/base",
      "model_module_version": "1.2.0",
      "model_name": "LayoutModel",
      "state": {
       "align_items": "stretch",
       "border": "2px solid grey",
       "display": "flex",
       "flex_flow": "row",
       "grid_gap": "60px 60px",
       "padding": "10px",
       "width": "75%"
      }
     },
     "04d5a23e24224a619d679050d289ef71": {
      "model_module": "@jupyter-widgets/controls",
      "model_module_version": "1.5.0",
      "model_name": "DescriptionStyleModel",
      "state": {
       "description_width": "initial"
      }
     },
     "054b34a4a28c4cd799cb9568ab717699": {
      "model_module": "@jupyter-widgets/base",
      "model_module_version": "1.2.0",
      "model_name": "LayoutModel",
      "state": {}
     },
     "05af57f3f3774c32b766d682886fd068": {
      "model_module": "@jupyter-widgets/base",
      "model_module_version": "1.2.0",
      "model_name": "LayoutModel",
      "state": {
       "grid_area": "widget003",
       "width": "150px"
      }
     },
     "0632094e84f84e52a10880172da60a3e": {
      "model_module": "@jupyter-widgets/base",
      "model_module_version": "1.2.0",
      "model_name": "LayoutModel",
      "state": {}
     },
     "0701150b2816427fa19c8fab6182d18d": {
      "model_module": "@jupyter-widgets/controls",
      "model_module_version": "1.5.0",
      "model_name": "TextModel",
      "state": {
       "description": "Datten",
       "layout": "IPY_MODEL_4e32462c469b434cb6f4d3bc1741fb48",
       "placeholder": "",
       "style": "IPY_MODEL_48fdd59616b7456eb06ebb4886f8b3a6"
      }
     },
     "0c825069c67f4a2180f8c060304aef9c": {
      "model_module": "@jupyter-widgets/base",
      "model_module_version": "1.2.0",
      "model_name": "LayoutModel",
      "state": {}
     },
     "0d30d9966bcb4cc4b10c7a40fe1da91f": {
      "model_module": "@jupyter-widgets/base",
      "model_module_version": "1.2.0",
      "model_name": "LayoutModel",
      "state": {}
     },
     "10ad09eb4b00471fbe612f23668e8619": {
      "model_module": "@jupyter-widgets/base",
      "model_module_version": "1.2.0",
      "model_name": "LayoutModel",
      "state": {}
     },
     "10b07a61018344aba0a0c4a05778ea3d": {
      "model_module": "@jupyter-widgets/controls",
      "model_module_version": "1.5.0",
      "model_name": "VBoxModel",
      "state": {
       "children": [
        "IPY_MODEL_8ec9d97a09904dacbce5927438ee6897",
        "IPY_MODEL_68c5eb90029f4f85b3dce9b5956ce697",
        "IPY_MODEL_033ee17b5a354890a6ff3cb3b7da765f",
        "IPY_MODEL_7102f95251254432bfa28d25c2c85b92",
        "IPY_MODEL_2daa7307b7ab48c88c39965688227efa"
       ],
       "layout": "IPY_MODEL_f389d29fd9cd4b238be0e0501c0967b3"
      }
     },
     "11020f341a10493982102082b9d32090": {
      "model_module": "@jupyter-widgets/controls",
      "model_module_version": "1.5.0",
      "model_name": "DescriptionStyleModel",
      "state": {
       "description_width": "initial"
      }
     },
     "12ac8501fec845939809799327810ce0": {
      "model_module": "@jupyter-widgets/base",
      "model_module_version": "1.2.0",
      "model_name": "LayoutModel",
      "state": {
       "align_content": "center",
       "align_items": "center",
       "border": "2px solid grey",
       "display": "inline_flex",
       "grid_template_areas": "\"widget001 widget001 widget008 widget008\"\n\"widget002 widget005 widget009 widget012\"\n\"widget003 widget006 widget010 widget013\"\n\"widget004 widget007 widget011 widget014\"",
       "grid_template_columns": "repeat(4, 1fr)",
       "grid_template_rows": "repeat(4, 1fr)",
       "padding": "10px",
       "width": "75%"
      }
     },
     "12c608cc8a7940a4a1c2775faa647aa3": {
      "model_module": "@jupyter-widgets/controls",
      "model_module_version": "1.5.0",
      "model_name": "GridBoxModel",
      "state": {
       "children": [
        "IPY_MODEL_dd424433bc5f40d9b9e4fbf40f64d1b6",
        "IPY_MODEL_ae7396873f504c029c0517fa788f965f",
        "IPY_MODEL_dc1efc23767646d59e4571db09f6d31c"
       ],
       "layout": "IPY_MODEL_3111cdf30ddd4d5baac5ac3de288ac0d"
      }
     },
     "12e017c40dd440a38ec24e1734b0143c": {
      "model_module": "@jupyter-widgets/controls",
      "model_module_version": "1.5.0",
      "model_name": "DescriptionStyleModel",
      "state": {
       "description_width": ""
      }
     },
     "1375fb694c444b28a0ba415284154b62": {
      "model_module": "@jupyter-widgets/base",
      "model_module_version": "1.2.0",
      "model_name": "LayoutModel",
      "state": {}
     },
     "13ac3bf963084e4f8a5828ae6b174c88": {
      "model_module": "@jupyter-widgets/controls",
      "model_module_version": "1.5.0",
      "model_name": "DescriptionStyleModel",
      "state": {
       "description_width": "initial"
      }
     },
     "13cafdc7fa264dd5b6574f6542847a92": {
      "model_module": "@jupyter-widgets/controls",
      "model_module_version": "1.5.0",
      "model_name": "DescriptionStyleModel",
      "state": {
       "description_width": "initial"
      }
     },
     "148632d9f2ae491bad986c818199c5fc": {
      "model_module": "@jupyter-widgets/controls",
      "model_module_version": "1.5.0",
      "model_name": "DescriptionStyleModel",
      "state": {
       "description_width": "initial"
      }
     },
     "14f0650151454e69b3fd724b2f6b1f38": {
      "model_module": "@jupyter-widgets/controls",
      "model_module_version": "1.5.0",
      "model_name": "DescriptionStyleModel",
      "state": {
       "description_width": "initial"
      }
     },
     "157e3f2fe6a94814947033116a882180": {
      "model_module": "@jupyter-widgets/controls",
      "model_module_version": "1.5.0",
      "model_name": "TextModel",
      "state": {
       "description": "Exp. Name:",
       "layout": "IPY_MODEL_d1689d1c75e24937bbe804d20a481d00",
       "placeholder": "pxxxx",
       "style": "IPY_MODEL_aff46ba4933d4cd387786fce371c48aa",
       "value": "p5555"
      }
     },
     "186400dca67340058e9bccf8c54a508d": {
      "model_module": "@jupyter-widgets/controls",
      "model_module_version": "1.5.0",
      "model_name": "DescriptionStyleModel",
      "state": {
       "description_width": "initial"
      }
     },
     "1882b170cae1446f8a308542b2cbcc69": {
      "model_module": "@jupyter-widgets/base",
      "model_module_version": "1.2.0",
      "model_name": "LayoutModel",
      "state": {
       "align_items": "stretch",
       "border": "2px solid grey",
       "display": "flex",
       "flex_flow": "row",
       "padding": "10px",
       "width": "75%"
      }
     },
     "19758e8a9a984770985edfd1f68f8d6e": {
      "model_module": "@jupyter-widgets/base",
      "model_module_version": "1.2.0",
      "model_name": "LayoutModel",
      "state": {}
     },
     "19fc0bf38d534d0a818364693a2a7f5c": {
      "model_module": "@jupyter-widgets/controls",
      "model_module_version": "1.5.0",
      "model_name": "LabelModel",
      "state": {
       "layout": "IPY_MODEL_9a84e4a4ca1f4ff78ea91e4008b20fbb",
       "style": "IPY_MODEL_d145416679d14822816497682a05644a",
       "value": "Volt. @ Load = 2.234"
      }
     },
     "1a52287ece734fe596ae0802bd26141f": {
      "model_module": "@jupyter-widgets/base",
      "model_module_version": "1.2.0",
      "model_name": "LayoutModel",
      "state": {}
     },
     "1ab5f28084114a8a98c20ed8a3841d3e": {
      "model_module": "@jupyter-widgets/base",
      "model_module_version": "1.2.0",
      "model_name": "LayoutModel",
      "state": {}
     },
     "1b3bd94659694925b681bda7f051bef3": {
      "model_module": "@jupyter-widgets/base",
      "model_module_version": "1.2.0",
      "model_name": "LayoutModel",
      "state": {}
     },
     "1b93780b967044c69ec204aab5b77b9a": {
      "model_module": "@jupyter-widgets/base",
      "model_module_version": "1.2.0",
      "model_name": "LayoutModel",
      "state": {}
     },
     "1f2230234ea84d658b36765649cd3985": {
      "model_module": "@jupyter-widgets/controls",
      "model_module_version": "1.5.0",
      "model_name": "DescriptionStyleModel",
      "state": {
       "description_width": "initial"
      }
     },
     "204b0ac9d55c487a9a88f986e72e181a": {
      "model_module": "@jupyter-widgets/base",
      "model_module_version": "1.2.0",
      "model_name": "LayoutModel",
      "state": {
       "flex": "1 1 1%",
       "width": "auto"
      }
     },
     "2127274f2ae649e09b8404207604cf91": {
      "model_module": "@jupyter-widgets/base",
      "model_module_version": "1.2.0",
      "model_name": "LayoutModel",
      "state": {}
     },
     "23e86d06695540e89bc7850c409a566d": {
      "model_module": "@jupyter-widgets/controls",
      "model_module_version": "1.5.0",
      "model_name": "DescriptionStyleModel",
      "state": {
       "description_width": ""
      }
     },
     "23f3b370f1f94229a877e307744094f9": {
      "model_module": "@jupyter-widgets/controls",
      "model_module_version": "1.5.0",
      "model_name": "DescriptionStyleModel",
      "state": {
       "description_width": "initial"
      }
     },
     "241b202256ee4a9298e4f3ff6947c877": {
      "model_module": "@jupyter-widgets/controls",
      "model_module_version": "1.5.0",
      "model_name": "TextModel",
      "state": {
       "description": "Pore Fluid",
       "layout": "IPY_MODEL_19758e8a9a984770985edfd1f68f8d6e",
       "placeholder": "DI H2O",
       "style": "IPY_MODEL_bc80c9bf30b1409a8f040b4166e5bd17",
       "value": "DI H2O"
      }
     },
     "24c3f53202ae427189e938f9a4900a43": {
      "model_module": "@jupyter-widgets/controls",
      "model_module_version": "1.5.0",
      "model_name": "DescriptionStyleModel",
      "state": {
       "description_width": "initial"
      }
     },
     "260892d0e68741c59747552e622d49a7": {
      "model_module": "@jupyter-widgets/base",
      "model_module_version": "1.2.0",
      "model_name": "LayoutModel",
      "state": {
       "border": "2px solid royalblue",
       "display": "flex",
       "flex_flow": "row",
       "grid_gap": "60px",
       "padding": "10px",
       "width": "75%"
      }
     },
     "268837a056d5453d99e399d68a90885a": {
      "model_module": "@jupyter-widgets/controls",
      "model_module_version": "1.5.0",
      "model_name": "TextModel",
      "state": {
       "description": "Target Stress(es) (MPa):",
       "layout": "IPY_MODEL_10ad09eb4b00471fbe612f23668e8619",
       "placeholder": "MPa",
       "style": "IPY_MODEL_be6fa9a4899348409a8eabb7a43843b0",
       "value": "10"
      }
     },
     "2711e43fa94a441e859f13cc4028cb6f": {
      "model_module": "@jupyter-widgets/controls",
      "model_module_version": "1.5.0",
      "model_name": "LabelModel",
      "state": {
       "layout": "IPY_MODEL_83229b5a68e6479fbc210769518fc5e3",
       "style": "IPY_MODEL_7b9a4adb4ef54fb28b4fdd7869543445",
       "value": "Volt. @ Load = 2.00123"
      }
     },
     "2757acf6691842fba774979fbf93667c": {
      "model_module": "@jupyter-widgets/base",
      "model_module_version": "1.2.0",
      "model_name": "LayoutModel",
      "state": {
       "flex": "1 1 1%",
       "width": "auto"
      }
     },
     "29a46280d96d4499a38389d9e023f4eb": {
      "model_module": "@jupyter-widgets/base",
      "model_module_version": "1.2.0",
      "model_name": "LayoutModel",
      "state": {}
     },
     "2b213060b2e544adb1d560321875982a": {
      "model_module": "@jupyter-widgets/controls",
      "model_module_version": "1.5.0",
      "model_name": "DescriptionStyleModel",
      "state": {
       "description_width": "initial"
      }
     },
     "2b4b79c468ec4124bb6ea6b63d01c4db": {
      "model_module": "@jupyter-widgets/controls",
      "model_module_version": "1.5.0",
      "model_name": "RadioButtonsModel",
      "state": {
       "_options_labels": [
        "yes",
        "no"
       ],
       "description": "Use Vessel?",
       "index": 1,
       "layout": "IPY_MODEL_bb9a5cd2ae074a8f9133b37e46dd1a30",
       "style": "IPY_MODEL_da9e6ff39fd443febe1cd5b7075ffbfe"
      }
     },
     "2c0c3f2d2d354f9197e773060da62d44": {
      "model_module": "@jupyter-widgets/output",
      "model_module_version": "1.0.0",
      "model_name": "OutputModel",
      "state": {
       "layout": "IPY_MODEL_2fe647f62cbe4c02a4b531864791122a",
       "outputs": [
        {
         "name": "stdout",
         "output_type": "stream",
         "text": "printing runsheet...\nThis is pdfTeX, Version 3.14159265-2.6-1.40.21 (TeX Live 2020) (preloaded format=pdflatex)\n restricted \\write18 enabled.\nentering extended mode\n(./p5555_Runsheet.tex\nLaTeX2e <2020-02-02> patch level 5\nL3 programming layer <2020-03-06>\n(/usr/local/texlive/2020/texmf-dist/tex/latex/base/article.cls\nDocument Class: article 2019/12/20 v1.4l Standard LaTeX document class\n(/usr/local/texlive/2020/texmf-dist/tex/latex/base/size10.clo))\n(/usr/local/texlive/2020/texmf-dist/tex/latex/blindtext/blindtext.sty\n(/usr/local/texlive/2020/texmf-dist/tex/latex/tools/xspace.sty))\n(/usr/local/texlive/2020/texmf-dist/tex/latex/preprint/authblk.sty)\n(/usr/local/texlive/2020/texmf-dist/tex/latex/tools/tabularx.sty\n(/usr/local/texlive/2020/texmf-dist/tex/latex/tools/array.sty))\n(/usr/local/texlive/2020/texmf-dist/tex/latex/base/textcomp.sty)\n(/usr/local/texlive/2020/texmf-dist/tex/latex/was/gensymb.sty)\n(/usr/local/texlive/2020/texmf-dist/tex/latex/amsmath/amsmath.sty\nFor additional information on amsmath, use the `?' option.\n(/usr/local/texlive/2020/texmf-dist/tex/latex/amsmath/amstext.sty\n(/usr/local/texlive/2020/texmf-dist/tex/latex/amsmath/amsgen.sty))\n(/usr/local/texlive/2020/texmf-dist/tex/latex/amsmath/amsbsy.sty)\n(/usr/local/texlive/2020/texmf-dist/tex/latex/amsmath/amsopn.sty))\n(/usr/local/texlive/2020/texmf-dist/tex/latex/xcolor/xcolor.sty\n(/usr/local/texlive/2020/texmf-dist/tex/latex/graphics-cfg/color.cfg)\n(/usr/local/texlive/2020/texmf-dist/tex/latex/graphics-def/pdftex.def))\n(/usr/local/texlive/2020/texmf-dist/tex/latex/graphics/rotating.sty\n(/usr/local/texlive/2020/texmf-dist/tex/latex/graphics/graphicx.sty\n(/usr/local/texlive/2020/texmf-dist/tex/latex/graphics/keyval.sty)\n(/usr/local/texlive/2020/texmf-dist/tex/latex/graphics/graphics.sty\n(/usr/local/texlive/2020/texmf-dist/tex/latex/graphics/trig.sty)\n(/usr/local/texlive/2020/texmf-dist/tex/latex/graphics-cfg/graphics.cfg)))\n(/usr/local/texlive/2020/texmf-dist/tex/latex/base/ifthen.sty))\n(/usr/local/texlive/2020/texmf-dist/tex/latex/geometry/geometry.sty\n(/usr/local/texlive/2020/texmf-dist/tex/generic/iftex/ifvtex.sty\n(/usr/local/texlive/2020/texmf-dist/tex/generic/iftex/iftex.sty)))\n(/usr/local/texlive/2020/texmf-dist/tex/latex/setspace/setspace.sty)\n(/usr/local/texlive/2020/texmf-dist/tex/latex/multirow/multirow.sty)\n(/usr/local/texlive/2020/texmf-dist/tex/latex/enumitem/enumitem.sty)\n(/usr/local/texlive/2020/texmf-dist/tex/latex/l3backend/l3backend-pdfmode.def)\nNo file p5555_Runsheet.aux.\n(/usr/local/texlive/2020/texmf-dist/tex/context/base/mkii/supp-pdf.mkii\n[Loading MPS to PDF converter (version 2006.09.02).]\n) (/usr/local/texlive/2020/texmf-dist/tex/latex/epstopdf-pkg/epstopdf-base.sty\n(/usr/local/texlive/2020/texmf-dist/tex/latex/latexconfig/epstopdf-sys.cfg))\n*geometry* driver: auto-detecting\n*geometry* detected driver: pdftex\n\nOverfull \\hbox (130.61786pt too wide) in paragraph at lines 26--32\n[][]\n\nOverfull \\hbox (130.61786pt too wide) in paragraph at lines 46--49\n[][] \n\nOverfull \\hbox (21.5087pt too wide) in paragraph at lines 52--62\n[][]\n\nOverfull \\hbox (130.61786pt too wide) in paragraph at lines 64--68\n[][] \n\nOverfull \\hbox (130.61786pt too wide) in paragraph at lines 70--76\n[][]\n\nUnderfull \\hbox (badness 10000) in paragraph at lines 78--79\n\n[1{/usr/local/texlive/2020/texmf-var/fonts/map/pdftex/updmap/pdftex.map}]\n[2] (./p5555_Runsheet.aux) )\n(see the transcript file for additional information)</usr/local/texlive/2020/te\nxmf-dist/fonts/type1/public/amsfonts/cm/cmbx10.pfb></usr/local/texlive/2020/tex\nmf-dist/fonts/type1/public/amsfonts/cm/cmbx12.pfb></usr/local/texlive/2020/texm\nf-dist/fonts/type1/public/amsfonts/cm/cmbx9.pfb></usr/local/texlive/2020/texmf-\ndist/fonts/type1/public/amsfonts/cm/cmbxti10.pfb></usr/local/texlive/2020/texmf\n-dist/fonts/type1/public/amsfonts/cm/cmmi10.pfb></usr/local/texlive/2020/texmf-\ndist/fonts/type1/public/amsfonts/cm/cmr10.pfb></usr/local/texlive/2020/texmf-di\nst/fonts/type1/public/amsfonts/cm/cmr7.pfb></usr/local/texlive/2020/texmf-dist/\nfonts/type1/public/amsfonts/cm/cmr9.pfb></usr/local/texlive/2020/texmf-dist/fon\nts/type1/public/amsfonts/cm/cmti10.pfb></usr/local/texlive/2020/texmf-dist/font\ns/type1/public/amsfonts/cm/cmti9.pfb>\nOutput written on p5555_Runsheet.pdf (2 pages, 117682 bytes).\nTranscript written on p5555_Runsheet.log.\n"
        }
       ]
      }
     },
     "2c1613a617bc4815831f3b7c058976f4": {
      "model_module": "@jupyter-widgets/controls",
      "model_module_version": "1.5.0",
      "model_name": "VBoxModel",
      "state": {
       "children": [
        "IPY_MODEL_be5d486c693e402dbcf2ec3956ea2506",
        "IPY_MODEL_be9d21f1b77d49ba9652bf09eaa53143",
        "IPY_MODEL_54bd0604cc274e51b09ce6af733004b1"
       ],
       "layout": "IPY_MODEL_2757acf6691842fba774979fbf93667c"
      }
     },
     "2cf521d353cf4adc978db804dd50b51f": {
      "model_module": "@jupyter-widgets/controls",
      "model_module_version": "1.5.0",
      "model_name": "DescriptionStyleModel",
      "state": {
       "description_width": "initial"
      }
     },
     "2daa7307b7ab48c88c39965688227efa": {
      "model_module": "@jupyter-widgets/controls",
      "model_module_version": "1.5.0",
      "model_name": "LabelModel",
      "state": {
       "layout": "IPY_MODEL_c2880f92746c465783e6fb802094f293",
       "style": "IPY_MODEL_02d5fe425aed47538da255a80b5b5976",
       "value": "Volt. @ Load = 2.456"
      }
     },
     "2e54a56a33db49f3b5cfcd8d4912cebf": {
      "model_module": "@jupyter-widgets/output",
      "model_module_version": "1.0.0",
      "model_name": "OutputModel",
      "state": {
       "layout": "IPY_MODEL_7f35bc32c0204ee6ae55711aea7acd4a",
       "outputs": [
        {
         "data": {
          "application/vnd.jupyter.widget-view+json": {
           "model_id": "90e652ca21944136aad4aece05b67b97",
           "version_major": 2,
           "version_minor": 0
          },
          "text/plain": "Label(value='')"
         },
         "metadata": {},
         "output_type": "display_data"
        }
       ]
      }
     },
     "2e80b9b72ed5491fa28ab070c1e64a4b": {
      "model_module": "@jupyter-widgets/controls",
      "model_module_version": "1.5.0",
      "model_name": "DescriptionStyleModel",
      "state": {
       "description_width": ""
      }
     },
     "2e98f281254c4fdfb169f5d1360b6600": {
      "model_module": "@jupyter-widgets/controls",
      "model_module_version": "1.5.0",
      "model_name": "TextModel",
      "state": {
       "description": "Under Load",
       "layout": "IPY_MODEL_d17a56df873b4cdf9a36f053f77b117d",
       "placeholder": "mm",
       "style": "IPY_MODEL_14f0650151454e69b3fd724b2f6b1f38"
      }
     },
     "2fe647f62cbe4c02a4b531864791122a": {
      "model_module": "@jupyter-widgets/base",
      "model_module_version": "1.2.0",
      "model_name": "LayoutModel",
      "state": {}
     },
     "3111cdf30ddd4d5baac5ac3de288ac0d": {
      "model_module": "@jupyter-widgets/base",
      "model_module_version": "1.2.0",
      "model_name": "LayoutModel",
      "state": {
       "align_items": "stretch",
       "border": "2px solid grey",
       "display": "flex",
       "flex_flow": "column",
       "padding": "10px",
       "width": "75%"
      }
     },
     "32000f62b3e34ed18640a88601116e3a": {
      "model_module": "@jupyter-widgets/base",
      "model_module_version": "1.2.0",
      "model_name": "LayoutModel",
      "state": {}
     },
     "32ac822422cb4dd5a97e3ca40be94e3e": {
      "model_module": "@jupyter-widgets/controls",
      "model_module_version": "1.5.0",
      "model_name": "DescriptionStyleModel",
      "state": {
       "description_width": "initial"
      }
     },
     "334a3ff3602a472bb0d74b2c2971ba4d": {
      "model_module": "@jupyter-widgets/controls",
      "model_module_version": "1.5.0",
      "model_name": "GridBoxModel",
      "state": {
       "children": [
        "IPY_MODEL_c5c9e66eb4b9416db41b8d86eb246877",
        "IPY_MODEL_636e15175eb94c5481c621f889d79665"
       ],
       "layout": "IPY_MODEL_df0fd195fda3463885426843c74ceb57"
      }
     },
     "347423d692a44f89b60f124cc00549b9": {
      "model_module": "@jupyter-widgets/controls",
      "model_module_version": "1.5.0",
      "model_name": "DropdownModel",
      "state": {
       "_options_labels": [
        "44mm Solid Horiz",
        "44mm Solid Vert",
        "None"
       ],
       "description": "Horiz. Load Cell:",
       "index": 0,
       "layout": "IPY_MODEL_eaaf387ca427446ca4719f1f66fd9cea",
       "style": "IPY_MODEL_8a37b8369a4b45c295275811fd5d2e5d"
      }
     },
     "34c346afa62d4f5cbeae7852f719f887": {
      "model_module": "@jupyter-widgets/base",
      "model_module_version": "1.2.0",
      "model_name": "LayoutModel",
      "state": {}
     },
     "35730c9aa65c4bce949326d5695e7c62": {
      "model_module": "@jupyter-widgets/controls",
      "model_module_version": "1.5.0",
      "model_name": "DescriptionStyleModel",
      "state": {
       "description_width": "initial"
      }
     },
     "363a0903b7474679860db8787415961d": {
      "model_module": "@jupyter-widgets/base",
      "model_module_version": "1.2.0",
      "model_name": "LayoutModel",
      "state": {}
     },
     "36a99c23f4c048c6885b61ff950b6abb": {
      "model_module": "@jupyter-widgets/base",
      "model_module_version": "1.2.0",
      "model_name": "LayoutModel",
      "state": {
       "grid_area": "widget007",
       "width": "150px"
      }
     },
     "37310fc93a1e456fa742058cfb44a861": {
      "model_module": "@jupyter-widgets/controls",
      "model_module_version": "1.5.0",
      "model_name": "GridBoxModel",
      "state": {
       "children": [
        "IPY_MODEL_6be3bf31e6b84ee28643a76dae6aec94",
        "IPY_MODEL_8fdcf365cc7744199428ac0021b482de",
        "IPY_MODEL_ed6105650543459483fb015fe956781b",
        "IPY_MODEL_9604f03bc4764a9b86d983ba4ffcfc92",
        "IPY_MODEL_0701150b2816427fa19c8fab6182d18d",
        "IPY_MODEL_e4f839b1f1f14bb6b4aaf497d184b8f2",
        "IPY_MODEL_b8dc9ad3916942cf9e769cfec068e6cc",
        "IPY_MODEL_d3bcee5e32e74fbc85d1843dba4c4699",
        "IPY_MODEL_37cc29dcf9834828b8ae81576d0becfd",
        "IPY_MODEL_9299803896b24242a6379bcd074182c6",
        "IPY_MODEL_b9aa74973cc14d0fa062b290bcabd609",
        "IPY_MODEL_c088c757ca3547e4aa0d1a4270ecd23f",
        "IPY_MODEL_5094d946b5aa41b69d0466c3a58ee85e",
        "IPY_MODEL_534abd7144b94ef69f7af16bf5d6e372"
       ],
       "layout": "IPY_MODEL_12ac8501fec845939809799327810ce0"
      }
     },
     "3777bdc8977644c091a2994836b065c3": {
      "model_module": "@jupyter-widgets/base",
      "model_module_version": "1.2.0",
      "model_name": "LayoutModel",
      "state": {
       "grid_area": "widget008"
      }
     },
     "37cc29dcf9834828b8ae81576d0becfd": {
      "model_module": "@jupyter-widgets/controls",
      "model_module_version": "1.5.0",
      "model_name": "TextModel",
      "state": {
       "description": "P",
       "layout": "IPY_MODEL_a088ea404fa04573b037f7e441ad362d",
       "placeholder": "",
       "style": "IPY_MODEL_d70cb8c3443645af88bcad83c111e077"
      }
     },
     "422e0c614a344305b26434d25cfa7df2": {
      "model_module": "@jupyter-widgets/controls",
      "model_module_version": "1.5.0",
      "model_name": "DescriptionStyleModel",
      "state": {
       "description_width": "initial"
      }
     },
     "43a3106f56c04625990017a7d9cd8e5c": {
      "model_module": "@jupyter-widgets/base",
      "model_module_version": "1.2.0",
      "model_name": "LayoutModel",
      "state": {}
     },
     "4420ffec51f64e57bdc5e225e7a8c0c2": {
      "model_module": "@jupyter-widgets/controls",
      "model_module_version": "1.5.0",
      "model_name": "TextModel",
      "state": {
       "description": "PpB Press. (MPa)",
       "layout": "IPY_MODEL_f73ea69e7f104413bf94d328406423e1",
       "placeholder": "MPa",
       "style": "IPY_MODEL_abb19272ce504cb7a475ea3b0bc2b3b6",
       "value": "10"
      }
     },
     "45e89e123edc4754b20f4d9af6d01825": {
      "model_module": "@jupyter-widgets/controls",
      "model_module_version": "1.5.0",
      "model_name": "DescriptionStyleModel",
      "state": {
       "description_width": ""
      }
     },
     "48fdd59616b7456eb06ebb4886f8b3a6": {
      "model_module": "@jupyter-widgets/controls",
      "model_module_version": "1.5.0",
      "model_name": "DescriptionStyleModel",
      "state": {
       "description_width": ""
      }
     },
     "4b517fcbf36e40d5aeb8a920baa3e727": {
      "model_module": "@jupyter-widgets/controls",
      "model_module_version": "1.5.0",
      "model_name": "TextModel",
      "state": {
       "description": "Hyd. End:",
       "layout": "IPY_MODEL_ac42b10ece3b49fbb82594f9d814ca1b",
       "placeholder": "xxx.x",
       "style": "IPY_MODEL_8c112277342548b59e52f9acc41f2eea",
       "value": "2"
      }
     },
     "4c9053efec744b10bbba639a8274db6d": {
      "model_module": "@jupyter-widgets/controls",
      "model_module_version": "1.5.0",
      "model_name": "ComboboxModel",
      "state": {
       "description": "Horiz. DCDT:",
       "ensure_option": true,
       "layout": "IPY_MODEL_b3f2b1b65b834bfea9305c734fc9b48d",
       "options": [
        "short rod",
        "long rod",
        "None"
       ],
       "placeholder": "Horiz. DCDT",
       "style": "IPY_MODEL_b06f59b584f846db874b7140fe91690d",
       "value": "long rod"
      }
     },
     "4e32462c469b434cb6f4d3bc1741fb48": {
      "model_module": "@jupyter-widgets/base",
      "model_module_version": "1.2.0",
      "model_name": "LayoutModel",
      "state": {
       "grid_area": "widget005",
       "width": "150px"
      }
     },
     "4ede301aee5444eabfbdd9ee58b2bff6": {
      "model_module": "@jupyter-widgets/base",
      "model_module_version": "1.2.0",
      "model_name": "LayoutModel",
      "state": {
       "flex": "1 1 0%",
       "width": "auto"
      }
     },
     "5094d946b5aa41b69d0466c3a58ee85e": {
      "model_module": "@jupyter-widgets/controls",
      "model_module_version": "1.5.0",
      "model_name": "TextModel",
      "state": {
       "description": "Feedback",
       "layout": "IPY_MODEL_f52b2e5ba4ab41e0bc13ea84500e2236",
       "placeholder": "",
       "style": "IPY_MODEL_587a46fa885841c8be6fdfb180d9fcdd"
      }
     },
     "5163683efe9f4cada8e8575e15b8ba29": {
      "model_module": "@jupyter-widgets/controls",
      "model_module_version": "1.5.0",
      "model_name": "DescriptionStyleModel",
      "state": {
       "description_width": "initial"
      }
     },
     "5345c62bcaf04571b40b99e468fa4f1e": {
      "model_module": "@jupyter-widgets/base",
      "model_module_version": "1.2.0",
      "model_name": "LayoutModel",
      "state": {
       "flex": "1 1 1%",
       "width": "auto"
      }
     },
     "534abd7144b94ef69f7af16bf5d6e372": {
      "model_module": "@jupyter-widgets/controls",
      "model_module_version": "1.5.0",
      "model_name": "TextModel",
      "state": {
       "description": "E-gain",
       "layout": "IPY_MODEL_9fa00a3ffeeb440b90098cb0c8766413",
       "placeholder": "",
       "style": "IPY_MODEL_b0b09826a60e4e04bebe936233c92bc3"
      }
     },
     "54bd0604cc274e51b09ce6af733004b1": {
      "model_module": "@jupyter-widgets/controls",
      "model_module_version": "1.5.0",
      "model_name": "TextModel",
      "state": {
       "description": "Layer Thickness",
       "layout": "IPY_MODEL_c7aaf7dbc79040888d89d062713c8350",
       "placeholder": "mm",
       "style": "IPY_MODEL_561621f3dc094cdcb34ed5fa36edb182"
      }
     },
     "55df82052de24e27ad0fdb6fe218d142": {
      "model_module": "@jupyter-widgets/controls",
      "model_module_version": "1.5.0",
      "model_name": "TextModel",
      "state": {
       "description": "V. Init. Volt.:",
       "layout": "IPY_MODEL_29a46280d96d4499a38389d9e023f4eb",
       "placeholder": "Volt",
       "style": "IPY_MODEL_11020f341a10493982102082b9d32090",
       "value": "1"
      }
     },
     "561621f3dc094cdcb34ed5fa36edb182": {
      "model_module": "@jupyter-widgets/controls",
      "model_module_version": "1.5.0",
      "model_name": "DescriptionStyleModel",
      "state": {
       "description_width": "initial"
      }
     },
     "57bc6aa3c2a84bf4b819294c2e11a014": {
      "model_module": "@jupyter-widgets/controls",
      "model_module_version": "1.5.0",
      "model_name": "DescriptionStyleModel",
      "state": {
       "description_width": ""
      }
     },
     "57d6d0c8e6e24637846929e33111cf4b": {
      "model_module": "@jupyter-widgets/controls",
      "model_module_version": "1.5.0",
      "model_name": "DescriptionStyleModel",
      "state": {
       "description_width": ""
      }
     },
     "587a46fa885841c8be6fdfb180d9fcdd": {
      "model_module": "@jupyter-widgets/controls",
      "model_module_version": "1.5.0",
      "model_name": "DescriptionStyleModel",
      "state": {
       "description_width": ""
      }
     },
     "5b92191037634d7088c23e030dc6b730": {
      "model_module": "@jupyter-widgets/controls",
      "model_module_version": "1.5.0",
      "model_name": "DescriptionStyleModel",
      "state": {
       "description_width": ""
      }
     },
     "5e4ac6a83ec14046b3ddd4ea8503656d": {
      "model_module": "@jupyter-widgets/controls",
      "model_module_version": "1.5.0",
      "model_name": "DescriptionStyleModel",
      "state": {
       "description_width": ""
      }
     },
     "5fb5d67995414790b94d05be16953e9f": {
      "model_module": "@jupyter-widgets/controls",
      "model_module_version": "1.5.0",
      "model_name": "LabelModel",
      "state": {
       "layout": "IPY_MODEL_1a52287ece734fe596ae0802bd26141f",
       "style": "IPY_MODEL_2e80b9b72ed5491fa28ab070c1e64a4b"
      }
     },
     "60740ce0de0b48eb9b96d308f82dc144": {
      "model_module": "@jupyter-widgets/controls",
      "model_module_version": "1.5.0",
      "model_name": "DescriptionStyleModel",
      "state": {
       "description_width": "initial"
      }
     },
     "617048e1c23d4ea69ae46fe7a7a4315c": {
      "model_module": "@jupyter-widgets/controls",
      "model_module_version": "1.5.0",
      "model_name": "GridBoxModel",
      "state": {
       "children": [
        "IPY_MODEL_10b07a61018344aba0a0c4a05778ea3d",
        "IPY_MODEL_707dae9728be4022a3017168022f91ce",
        "IPY_MODEL_7ee00aefa6b84a55b48655a7ca6f2e2b"
       ],
       "layout": "IPY_MODEL_260892d0e68741c59747552e622d49a7"
      }
     },
     "61e89d25ffb6483d97ecfcf7195017e3": {
      "model_module": "@jupyter-widgets/base",
      "model_module_version": "1.2.0",
      "model_name": "LayoutModel",
      "state": {
       "flex": "1 1 1%",
       "width": "auto"
      }
     },
     "632fdeb1ce9943d18e6d3d4e372b312c": {
      "model_module": "@jupyter-widgets/controls",
      "model_module_version": "1.5.0",
      "model_name": "VBoxModel",
      "state": {
       "children": [
        "IPY_MODEL_de9576873bce420e956da6ec0659ae98",
        "IPY_MODEL_347423d692a44f89b60f124cc00549b9",
        "IPY_MODEL_6e0209c287a64e1bab2016f7f75fa7b5",
        "IPY_MODEL_268837a056d5453d99e399d68a90885a",
        "IPY_MODEL_03b0b41dd5204ee6a87e097e195aee39",
        "IPY_MODEL_e1ab64c76642457d86f1d105da2a45a5"
       ],
       "layout": "IPY_MODEL_4ede301aee5444eabfbdd9ee58b2bff6"
      }
     },
     "636e15175eb94c5481c621f889d79665": {
      "model_module": "@jupyter-widgets/controls",
      "model_module_version": "1.5.0",
      "model_name": "VBoxModel",
      "state": {
       "children": [
        "IPY_MODEL_cb66ca5e42f647d4a36a3fb7121c936d",
        "IPY_MODEL_862e4721cd3a4e96ba16cb511c9b91e4",
        "IPY_MODEL_4b517fcbf36e40d5aeb8a920baa3e727"
       ],
       "layout": "IPY_MODEL_b646bb7054da427880e3c440c36129c0"
      }
     },
     "6555331e4cfa4c41a5a674607014b3c8": {
      "model_module": "@jupyter-widgets/controls",
      "model_module_version": "1.5.0",
      "model_name": "DescriptionStyleModel",
      "state": {
       "description_width": "initial"
      }
     },
     "67aa0afe75c84c89820e385f74d50197": {
      "model_module": "@jupyter-widgets/base",
      "model_module_version": "1.2.0",
      "model_name": "LayoutModel",
      "state": {}
     },
     "68c5eb90029f4f85b3dce9b5956ce697": {
      "model_module": "@jupyter-widgets/controls",
      "model_module_version": "1.5.0",
      "model_name": "TextModel",
      "state": {
       "description": "Pc Gain (V/MPa):",
       "layout": "IPY_MODEL_d4ae26dd9d2642a7b70db87dd18c1698",
       "placeholder": "0.1456 V/MPa",
       "style": "IPY_MODEL_60740ce0de0b48eb9b96d308f82dc144",
       "value": "0.1456"
      }
     },
     "6a9085bca22249b1bac777b393b98610": {
      "model_module": "@jupyter-widgets/controls",
      "model_module_version": "1.5.0",
      "model_name": "ComboboxModel",
      "state": {
       "description": "Vert. DCDT:",
       "ensure_option": true,
       "layout": "IPY_MODEL_7199933a67ae4240aaedf004accd5181",
       "options": [
        "Trans-Tek2",
        "None"
       ],
       "placeholder": "Vert. DCDT",
       "style": "IPY_MODEL_6555331e4cfa4c41a5a674607014b3c8",
       "value": "Trans-Tek2"
      }
     },
     "6b41dba7040d45ac8fcec1bf09c0bd7f": {
      "model_module": "@jupyter-widgets/base",
      "model_module_version": "1.2.0",
      "model_name": "LayoutModel",
      "state": {
       "grid_area": "widget010",
       "width": "150px"
      }
     },
     "6be3bf31e6b84ee28643a76dae6aec94": {
      "model_module": "@jupyter-widgets/controls",
      "model_module_version": "1.5.0",
      "model_name": "LabelModel",
      "state": {
       "layout": "IPY_MODEL_016f3dd1fcca45fb9ece9898e963c0c4",
       "style": "IPY_MODEL_5b92191037634d7088c23e030dc6b730",
       "value": "Hor. Servo Settings"
      }
     },
     "6d07b8203fe047fc8fc746d81b56e2b6": {
      "model_module": "@jupyter-widgets/base",
      "model_module_version": "1.2.0",
      "model_name": "LayoutModel",
      "state": {
       "flex": "1 1 1%",
       "width": "auto"
      }
     },
     "6db9d9c7def64d6d9cf58e02166d1b11": {
      "model_module": "@jupyter-widgets/base",
      "model_module_version": "1.2.0",
      "model_name": "LayoutModel",
      "state": {}
     },
     "6e0209c287a64e1bab2016f7f75fa7b5": {
      "model_module": "@jupyter-widgets/controls",
      "model_module_version": "1.5.0",
      "model_name": "TextModel",
      "state": {
       "description": "Calibration (mV/kN):",
       "layout": "IPY_MODEL_9e959c860a6d40999fe72caf783fbf8b",
       "placeholder": "mV/kN",
       "style": "IPY_MODEL_7a4141bbd782406d81017927285e26c7",
       "value": "100.123"
      }
     },
     "6f34dfaabc4e4be8a8949de1e7535f3c": {
      "model_module": "@jupyter-widgets/controls",
      "model_module_version": "1.5.0",
      "model_name": "TextModel",
      "state": {
       "description": "PpB Gain (V/MPa):",
       "layout": "IPY_MODEL_054b34a4a28c4cd799cb9568ab717699",
       "placeholder": "PpB Gain (V/MPa)",
       "style": "IPY_MODEL_f2218ee33d5d48db9d4b002ccee8f577",
       "value": "0.1234"
      }
     },
     "707dae9728be4022a3017168022f91ce": {
      "model_module": "@jupyter-widgets/controls",
      "model_module_version": "1.5.0",
      "model_name": "VBoxModel",
      "state": {
       "children": [
        "IPY_MODEL_8ec9d97a09904dacbce5927438ee6897",
        "IPY_MODEL_dd2aa882e500417ab3939a20bd603da8",
        "IPY_MODEL_86329307d5d44ed9a9318a09750972dd",
        "IPY_MODEL_959e0654cd54460fbad68966e68132c4",
        "IPY_MODEL_19fc0bf38d534d0a818364693a2a7f5c"
       ],
       "layout": "IPY_MODEL_e4feaa9dd09044ada98f2db2cf58ad4d"
      }
     },
     "7102f95251254432bfa28d25c2c85b92": {
      "model_module": "@jupyter-widgets/controls",
      "model_module_version": "1.5.0",
      "model_name": "TextModel",
      "state": {
       "description": "V. Init. Volt.:",
       "layout": "IPY_MODEL_e319e448ebf640d98447518ff31d2364",
       "placeholder": "Volt",
       "style": "IPY_MODEL_04d5a23e24224a619d679050d289ef71",
       "value": "1"
      }
     },
     "7199933a67ae4240aaedf004accd5181": {
      "model_module": "@jupyter-widgets/base",
      "model_module_version": "1.2.0",
      "model_name": "LayoutModel",
      "state": {}
     },
     "74e67c8ab017463282d55f3fe6a0061d": {
      "model_module": "@jupyter-widgets/base",
      "model_module_version": "1.2.0",
      "model_name": "LayoutModel",
      "state": {
       "grid_area": "widget006",
       "width": "150px"
      }
     },
     "7662673925d744d08b48a782fd340932": {
      "model_module": "@jupyter-widgets/output",
      "model_module_version": "1.0.0",
      "model_name": "OutputModel",
      "state": {
       "layout": "IPY_MODEL_1ab5f28084114a8a98c20ed8a3841d3e",
       "outputs": [
        {
         "data": {
          "application/vnd.jupyter.widget-view+json": {
           "model_id": "f98e864a66e341f69cd60f84d96aadb2",
           "version_major": 2,
           "version_minor": 0
          },
          "text/plain": "Label(value='')"
         },
         "metadata": {},
         "output_type": "display_data"
        }
       ]
      }
     },
     "76eae220b75c4a3c93299cbab56d1528": {
      "model_module": "@jupyter-widgets/controls",
      "model_module_version": "1.5.0",
      "model_name": "VBoxModel",
      "state": {
       "children": [
        "IPY_MODEL_6a9085bca22249b1bac777b393b98610",
        "IPY_MODEL_f2224cb9b1c14391bf1fea95ff886478"
       ],
       "layout": "IPY_MODEL_5345c62bcaf04571b40b99e468fa4f1e"
      }
     },
     "78901578244b4fb1943f3d93ebbfe1be": {
      "model_module": "@jupyter-widgets/controls",
      "model_module_version": "1.5.0",
      "model_name": "TextModel",
      "state": {
       "description": "Relative Humidity",
       "layout": "IPY_MODEL_61e89d25ffb6483d97ecfcf7195017e3",
       "placeholder": "Rel. Humid. (%)",
       "style": "IPY_MODEL_d74168dc5e034f23a67e16981e4a2f5f",
       "value": "10"
      }
     },
     "7a4141bbd782406d81017927285e26c7": {
      "model_module": "@jupyter-widgets/controls",
      "model_module_version": "1.5.0",
      "model_name": "DescriptionStyleModel",
      "state": {
       "description_width": "initial"
      }
     },
     "7b656c1cd2154f54a44e42716b34d828": {
      "model_module": "@jupyter-widgets/base",
      "model_module_version": "1.2.0",
      "model_name": "LayoutModel",
      "state": {}
     },
     "7b9a4adb4ef54fb28b4fdd7869543445": {
      "model_module": "@jupyter-widgets/controls",
      "model_module_version": "1.5.0",
      "model_name": "DescriptionStyleModel",
      "state": {
       "description_width": ""
      }
     },
     "7ee00aefa6b84a55b48655a7ca6f2e2b": {
      "model_module": "@jupyter-widgets/controls",
      "model_module_version": "1.5.0",
      "model_name": "VBoxModel",
      "state": {
       "children": [
        "IPY_MODEL_241b202256ee4a9298e4f3ff6947c877",
        "IPY_MODEL_8ec9d97a09904dacbce5927438ee6897",
        "IPY_MODEL_6f34dfaabc4e4be8a8949de1e7535f3c",
        "IPY_MODEL_4420ffec51f64e57bdc5e225e7a8c0c2",
        "IPY_MODEL_85f477900a0f44fc8559a4917b6fd531",
        "IPY_MODEL_da0c2b9ca289484e95f4401fc1201d49"
       ],
       "layout": "IPY_MODEL_1375fb694c444b28a0ba415284154b62"
      }
     },
     "7f35bc32c0204ee6ae55711aea7acd4a": {
      "model_module": "@jupyter-widgets/base",
      "model_module_version": "1.2.0",
      "model_name": "LayoutModel",
      "state": {}
     },
     "8041187e86b54af4ac0468237c003083": {
      "model_module": "@jupyter-widgets/controls",
      "model_module_version": "1.5.0",
      "model_name": "DescriptionStyleModel",
      "state": {
       "description_width": "initial"
      }
     },
     "80cb59722510440c93a65da27fe72715": {
      "model_module": "@jupyter-widgets/controls",
      "model_module_version": "1.5.0",
      "model_name": "RadioButtonsModel",
      "state": {
       "_options_labels": [
        "yes",
        "no"
       ],
       "description": "Record PID?",
       "index": 1,
       "layout": "IPY_MODEL_1b3bd94659694925b681bda7f051bef3",
       "style": "IPY_MODEL_a28a38aa87694b9999c384a58117a718"
      }
     },
     "83229b5a68e6479fbc210769518fc5e3": {
      "model_module": "@jupyter-widgets/base",
      "model_module_version": "1.2.0",
      "model_name": "LayoutModel",
      "state": {}
     },
     "85f477900a0f44fc8559a4917b6fd531": {
      "model_module": "@jupyter-widgets/controls",
      "model_module_version": "1.5.0",
      "model_name": "TextModel",
      "state": {
       "description": "V. Init. Volt.:",
       "layout": "IPY_MODEL_cf0b043d5b1140c1bcdc5630289aea83",
       "placeholder": "Volt",
       "style": "IPY_MODEL_96e477f3481245e1929972cb553fda68",
       "value": "1"
      }
     },
     "862e4721cd3a4e96ba16cb511c9b91e4": {
      "model_module": "@jupyter-widgets/controls",
      "model_module_version": "1.5.0",
      "model_name": "TextModel",
      "state": {
       "description": "Hyd. Start:",
       "layout": "IPY_MODEL_f5e1d5edf2a04c4aba6da7f1ad205b8c",
       "placeholder": "xxx.x",
       "style": "IPY_MODEL_af316f763f284170bfac8324146a25e7",
       "value": "1"
      }
     },
     "86329307d5d44ed9a9318a09750972dd": {
      "model_module": "@jupyter-widgets/controls",
      "model_module_version": "1.5.0",
      "model_name": "TextModel",
      "state": {
       "description": "PpA Press. (MPa)",
       "layout": "IPY_MODEL_43a3106f56c04625990017a7d9cd8e5c",
       "placeholder": "MPa",
       "style": "IPY_MODEL_186400dca67340058e9bccf8c54a508d",
       "value": "10"
      }
     },
     "893cd4fc54f74c4d8e7c812b1b8a7dfc": {
      "model_module": "@jupyter-widgets/base",
      "model_module_version": "1.2.0",
      "model_name": "LayoutModel",
      "state": {}
     },
     "895593169d654438ba1a54360d05ac62": {
      "model_module": "@jupyter-widgets/controls",
      "model_module_version": "1.5.0",
      "model_name": "TextModel",
      "state": {
       "description": "Particle Size, Distribution",
       "layout": "IPY_MODEL_f578e03919af4ffc916cf69930bc7d98",
       "placeholder": "Size Distribution",
       "style": "IPY_MODEL_422e0c614a344305b26434d25cfa7df2"
      }
     },
     "8a37b8369a4b45c295275811fd5d2e5d": {
      "model_module": "@jupyter-widgets/controls",
      "model_module_version": "1.5.0",
      "model_name": "DescriptionStyleModel",
      "state": {
       "description_width": "initial"
      }
     },
     "8c112277342548b59e52f9acc41f2eea": {
      "model_module": "@jupyter-widgets/controls",
      "model_module_version": "1.5.0",
      "model_name": "DescriptionStyleModel",
      "state": {
       "description_width": "initial"
      }
     },
     "8ec9d97a09904dacbce5927438ee6897": {
      "model_module": "@jupyter-widgets/controls",
      "model_module_version": "1.5.0",
      "model_name": "LabelModel",
      "state": {
       "layout": "IPY_MODEL_f47603eb91e347e9a0eda2dfa4a37125",
       "style": "IPY_MODEL_986c8f8cf06340009eb5d6e7c3b051b1",
       "value": "Confining Pressure"
      }
     },
     "8fdcf365cc7744199428ac0021b482de": {
      "model_module": "@jupyter-widgets/controls",
      "model_module_version": "1.5.0",
      "model_name": "TextModel",
      "state": {
       "description": "P",
       "layout": "IPY_MODEL_90d802ad513149379d25eb96cd99c159",
       "placeholder": "",
       "style": "IPY_MODEL_abbf87d985bb4afbb834851715a6f33e"
      }
     },
     "9080aa0aa4a44ff880883aa1ebe093b2": {
      "model_module": "@jupyter-widgets/controls",
      "model_module_version": "1.5.0",
      "model_name": "LabelModel",
      "state": {
       "layout": "IPY_MODEL_893cd4fc54f74c4d8e7c812b1b8a7dfc",
       "style": "IPY_MODEL_45e89e123edc4754b20f4d9af6d01825",
       "value": "Vertical Load Cell"
      }
     },
     "90d802ad513149379d25eb96cd99c159": {
      "model_module": "@jupyter-widgets/base",
      "model_module_version": "1.2.0",
      "model_name": "LayoutModel",
      "state": {
       "grid_area": "widget002",
       "width": "150px"
      }
     },
     "90e652ca21944136aad4aece05b67b97": {
      "model_module": "@jupyter-widgets/controls",
      "model_module_version": "1.5.0",
      "model_name": "LabelModel",
      "state": {
       "layout": "IPY_MODEL_7b656c1cd2154f54a44e42716b34d828",
       "style": "IPY_MODEL_57d6d0c8e6e24637846929e33111cf4b"
      }
     },
     "90e685ba1a0c46dea5a61efc2cbc60e7": {
      "model_module": "@jupyter-widgets/base",
      "model_module_version": "1.2.0",
      "model_name": "LayoutModel",
      "state": {}
     },
     "9266794f06cf4c869baff46c8f35b1a5": {
      "model_module": "@jupyter-widgets/base",
      "model_module_version": "1.2.0",
      "model_name": "LayoutModel",
      "state": {
       "grid_area": "widget004",
       "width": "150px"
      }
     },
     "9299803896b24242a6379bcd074182c6": {
      "model_module": "@jupyter-widgets/controls",
      "model_module_version": "1.5.0",
      "model_name": "TextModel",
      "state": {
       "description": "I",
       "layout": "IPY_MODEL_6b41dba7040d45ac8fcec1bf09c0bd7f",
       "placeholder": "",
       "style": "IPY_MODEL_fe58a8384ce74d008e67e6ec4365ef29"
      }
     },
     "94c67495a5904967ae4870e2a3515e1f": {
      "model_module": "@jupyter-widgets/base",
      "model_module_version": "1.2.0",
      "model_name": "LayoutModel",
      "state": {}
     },
     "959e0654cd54460fbad68966e68132c4": {
      "model_module": "@jupyter-widgets/controls",
      "model_module_version": "1.5.0",
      "model_name": "TextModel",
      "state": {
       "description": "V. Init. Volt.:",
       "layout": "IPY_MODEL_dad06e295e804dd08bcda13dcf3dd825",
       "placeholder": "Volt",
       "style": "IPY_MODEL_cd59b14929aa468993198c8e5bb4be32",
       "value": "1"
      }
     },
     "95c9b678833145d5a802fae5e3a93723": {
      "model_module": "@jupyter-widgets/controls",
      "model_module_version": "1.5.0",
      "model_name": "DescriptionStyleModel",
      "state": {
       "description_width": "initial"
      }
     },
     "9604f03bc4764a9b86d983ba4ffcfc92": {
      "model_module": "@jupyter-widgets/controls",
      "model_module_version": "1.5.0",
      "model_name": "TextModel",
      "state": {
       "description": "D",
       "layout": "IPY_MODEL_9266794f06cf4c869baff46c8f35b1a5",
       "placeholder": "",
       "style": "IPY_MODEL_57bc6aa3c2a84bf4b819294c2e11a014"
      }
     },
     "96dea9060f54463ca7097bcfc9fdfc2b": {
      "model_module": "@jupyter-widgets/controls",
      "model_module_version": "1.5.0",
      "model_name": "VBoxModel",
      "state": {
       "children": [
        "IPY_MODEL_4c9053efec744b10bbba639a8274db6d",
        "IPY_MODEL_aebad5f723c0404aae19a3efedae6c51"
       ],
       "layout": "IPY_MODEL_a023d303366a4bebb6c6ccdcfcf9e060"
      }
     },
     "96e477f3481245e1929972cb553fda68": {
      "model_module": "@jupyter-widgets/controls",
      "model_module_version": "1.5.0",
      "model_name": "DescriptionStyleModel",
      "state": {
       "description_width": "initial"
      }
     },
     "986c8f8cf06340009eb5d6e7c3b051b1": {
      "model_module": "@jupyter-widgets/controls",
      "model_module_version": "1.5.0",
      "model_name": "DescriptionStyleModel",
      "state": {
       "description_width": ""
      }
     },
     "997e458357ba4927ad5c17b85ee0eebe": {
      "model_module": "@jupyter-widgets/controls",
      "model_module_version": "1.5.0",
      "model_name": "DescriptionStyleModel",
      "state": {
       "description_width": ""
      }
     },
     "9992e8330b16464794c1164bef2f0420": {
      "model_module": "@jupyter-widgets/controls",
      "model_module_version": "1.5.0",
      "model_name": "DescriptionStyleModel",
      "state": {
       "description_width": ""
      }
     },
     "9a16b75bbe2747deafe115e39f9939ab": {
      "model_module": "@jupyter-widgets/controls",
      "model_module_version": "1.5.0",
      "model_name": "DescriptionStyleModel",
      "state": {
       "description_width": ""
      }
     },
     "9a84e4a4ca1f4ff78ea91e4008b20fbb": {
      "model_module": "@jupyter-widgets/base",
      "model_module_version": "1.2.0",
      "model_name": "LayoutModel",
      "state": {}
     },
     "9e959c860a6d40999fe72caf783fbf8b": {
      "model_module": "@jupyter-widgets/base",
      "model_module_version": "1.2.0",
      "model_name": "LayoutModel",
      "state": {}
     },
     "9fa00a3ffeeb440b90098cb0c8766413": {
      "model_module": "@jupyter-widgets/base",
      "model_module_version": "1.2.0",
      "model_name": "LayoutModel",
      "state": {
       "grid_area": "widget014",
       "width": "150px"
      }
     },
     "a023d303366a4bebb6c6ccdcfcf9e060": {
      "model_module": "@jupyter-widgets/base",
      "model_module_version": "1.2.0",
      "model_name": "LayoutModel",
      "state": {
       "flex": "1 1 1%",
       "width": "auto"
      }
     },
     "a088ea404fa04573b037f7e441ad362d": {
      "model_module": "@jupyter-widgets/base",
      "model_module_version": "1.2.0",
      "model_name": "LayoutModel",
      "state": {
       "grid_area": "widget009",
       "width": "150px"
      }
     },
     "a167a9c8a54f49f4b1f50ec4fe91e1d4": {
      "model_module": "@jupyter-widgets/controls",
      "model_module_version": "1.5.0",
      "model_name": "TextModel",
      "state": {
       "description": "Temperture",
       "layout": "IPY_MODEL_6d07b8203fe047fc8fc746d81b56e2b6",
       "placeholder": "Temperature (C)",
       "style": "IPY_MODEL_148632d9f2ae491bad986c818199c5fc",
       "value": "10"
      }
     },
     "a28a38aa87694b9999c384a58117a718": {
      "model_module": "@jupyter-widgets/controls",
      "model_module_version": "1.5.0",
      "model_name": "DescriptionStyleModel",
      "state": {
       "description_width": ""
      }
     },
     "a2f6a421107047fc9bd99ecd340d3087": {
      "model_module": "@jupyter-widgets/controls",
      "model_module_version": "1.5.0",
      "model_name": "LabelModel",
      "state": {
       "layout": "IPY_MODEL_aa39207408c34b4e9e632b0e901cead1",
       "style": "IPY_MODEL_b112af461acb4f6e9b81923828089cae"
      }
     },
     "a48b464ffd54453eb8b5b8956c7187ea": {
      "model_module": "@jupyter-widgets/base",
      "model_module_version": "1.2.0",
      "model_name": "LayoutModel",
      "state": {}
     },
     "a49f7dbb19cf4b3ab735232bca68a460": {
      "model_module": "@jupyter-widgets/controls",
      "model_module_version": "1.5.0",
      "model_name": "TextModel",
      "state": {
       "description": "Target Stress(es) (MPa):",
       "layout": "IPY_MODEL_363a0903b7474679860db8787415961d",
       "placeholder": "MPa",
       "style": "IPY_MODEL_13ac3bf963084e4f8a5828ae6b174c88",
       "value": "10"
      }
     },
     "a8d386784f3a4f7bab43047cd58f2f3d": {
      "model_module": "@jupyter-widgets/controls",
      "model_module_version": "1.5.0",
      "model_name": "DescriptionStyleModel",
      "state": {
       "description_width": ""
      }
     },
     "aa39207408c34b4e9e632b0e901cead1": {
      "model_module": "@jupyter-widgets/base",
      "model_module_version": "1.2.0",
      "model_name": "LayoutModel",
      "state": {}
     },
     "aa4db70c50a8484eb7b7c94158c4931e": {
      "model_module": "@jupyter-widgets/controls",
      "model_module_version": "1.5.0",
      "model_name": "TextModel",
      "state": {
       "description": "Acoustics blocks used",
       "layout": "IPY_MODEL_f2f354d4b9c346e69e3e5bb6d4ae1c87",
       "placeholder": "",
       "style": "IPY_MODEL_95c9b678833145d5a802fae5e3a93723",
       "value": "something"
      }
     },
     "abb19272ce504cb7a475ea3b0bc2b3b6": {
      "model_module": "@jupyter-widgets/controls",
      "model_module_version": "1.5.0",
      "model_name": "DescriptionStyleModel",
      "state": {
       "description_width": "initial"
      }
     },
     "abbf87d985bb4afbb834851715a6f33e": {
      "model_module": "@jupyter-widgets/controls",
      "model_module_version": "1.5.0",
      "model_name": "DescriptionStyleModel",
      "state": {
       "description_width": ""
      }
     },
     "ac42b10ece3b49fbb82594f9d814ca1b": {
      "model_module": "@jupyter-widgets/base",
      "model_module_version": "1.2.0",
      "model_name": "LayoutModel",
      "state": {}
     },
     "acd45e6be8a14d09ae60b925392663fd": {
      "model_module": "@jupyter-widgets/controls",
      "model_module_version": "1.5.0",
      "model_name": "TextModel",
      "state": {
       "description": "Material",
       "layout": "IPY_MODEL_2127274f2ae649e09b8404207604cf91",
       "placeholder": "Anhydrite, Westerly Granite",
       "style": "IPY_MODEL_13cafdc7fa264dd5b6574f6542847a92",
       "value": "WG"
      }
     },
     "ad3fdd845cab4548b4ebc0cf73dfc075": {
      "model_module": "@jupyter-widgets/controls",
      "model_module_version": "1.5.0",
      "model_name": "DescriptionStyleModel",
      "state": {
       "description_width": "initial"
      }
     },
     "ad56a18486154dd89536dd3bf058972e": {
      "model_module": "@jupyter-widgets/controls",
      "model_module_version": "1.5.0",
      "model_name": "GridBoxModel",
      "state": {
       "children": [
        "IPY_MODEL_632fdeb1ce9943d18e6d3d4e372b312c",
        "IPY_MODEL_b3d05a56c4f3415d8dc2d759f51b5cf3"
       ],
       "layout": "IPY_MODEL_1882b170cae1446f8a308542b2cbcc69"
      }
     },
     "ae1b480e527542d08a603feb53d17ddd": {
      "model_module": "@jupyter-widgets/controls",
      "model_module_version": "1.5.0",
      "model_name": "DescriptionStyleModel",
      "state": {
       "description_width": ""
      }
     },
     "ae7396873f504c029c0517fa788f965f": {
      "model_module": "@jupyter-widgets/controls",
      "model_module_version": "1.5.0",
      "model_name": "HBoxModel",
      "state": {
       "children": [
        "IPY_MODEL_aa4db70c50a8484eb7b7c94158c4931e",
        "IPY_MODEL_a167a9c8a54f49f4b1f50ec4fe91e1d4",
        "IPY_MODEL_78901578244b4fb1943f3d93ebbfe1be"
       ],
       "layout": "IPY_MODEL_b30071bbbb654de89e93ba35832cfc07"
      }
     },
     "aebad5f723c0404aae19a3efedae6c51": {
      "model_module": "@jupyter-widgets/controls",
      "model_module_version": "1.5.0",
      "model_name": "TextModel",
      "state": {
       "description": "Horiz. DCDT calib.:",
       "layout": "IPY_MODEL_1b93780b967044c69ec204aab5b77b9a",
       "placeholder": "mm/V",
       "style": "IPY_MODEL_d3d4f3c8cff84283961d370a27031552",
       "value": "1"
      }
     },
     "af316f763f284170bfac8324146a25e7": {
      "model_module": "@jupyter-widgets/controls",
      "model_module_version": "1.5.0",
      "model_name": "DescriptionStyleModel",
      "state": {
       "description_width": "initial"
      }
     },
     "aff46ba4933d4cd387786fce371c48aa": {
      "model_module": "@jupyter-widgets/controls",
      "model_module_version": "1.5.0",
      "model_name": "DescriptionStyleModel",
      "state": {
       "description_width": "initial"
      }
     },
     "b06f59b584f846db874b7140fe91690d": {
      "model_module": "@jupyter-widgets/controls",
      "model_module_version": "1.5.0",
      "model_name": "DescriptionStyleModel",
      "state": {
       "description_width": "initial"
      }
     },
     "b0b09826a60e4e04bebe936233c92bc3": {
      "model_module": "@jupyter-widgets/controls",
      "model_module_version": "1.5.0",
      "model_name": "DescriptionStyleModel",
      "state": {
       "description_width": ""
      }
     },
     "b112af461acb4f6e9b81923828089cae": {
      "model_module": "@jupyter-widgets/controls",
      "model_module_version": "1.5.0",
      "model_name": "DescriptionStyleModel",
      "state": {
       "description_width": ""
      }
     },
     "b30071bbbb654de89e93ba35832cfc07": {
      "model_module": "@jupyter-widgets/base",
      "model_module_version": "1.2.0",
      "model_name": "LayoutModel",
      "state": {}
     },
     "b3d05a56c4f3415d8dc2d759f51b5cf3": {
      "model_module": "@jupyter-widgets/controls",
      "model_module_version": "1.5.0",
      "model_name": "VBoxModel",
      "state": {
       "children": [
        "IPY_MODEL_9080aa0aa4a44ff880883aa1ebe093b2",
        "IPY_MODEL_c0f52b616330415f8e25b2200c0a3fd8",
        "IPY_MODEL_f999d48df3b34eaa9985f569b31c388b",
        "IPY_MODEL_a49f7dbb19cf4b3ab735232bca68a460",
        "IPY_MODEL_55df82052de24e27ad0fdb6fe218d142",
        "IPY_MODEL_2711e43fa94a441e859f13cc4028cb6f"
       ],
       "layout": "IPY_MODEL_c594d5f97f074144991d87d4183cce88"
      }
     },
     "b3f2b1b65b834bfea9305c734fc9b48d": {
      "model_module": "@jupyter-widgets/base",
      "model_module_version": "1.2.0",
      "model_name": "LayoutModel",
      "state": {}
     },
     "b646bb7054da427880e3c440c36129c0": {
      "model_module": "@jupyter-widgets/base",
      "model_module_version": "1.2.0",
      "model_name": "LayoutModel",
      "state": {
       "flex": "1 1 1%",
       "width": "auto"
      }
     },
     "b8dc9ad3916942cf9e769cfec068e6cc": {
      "model_module": "@jupyter-widgets/controls",
      "model_module_version": "1.5.0",
      "model_name": "TextModel",
      "state": {
       "description": "E-gain",
       "layout": "IPY_MODEL_36a99c23f4c048c6885b61ff950b6abb",
       "placeholder": "",
       "style": "IPY_MODEL_5e4ac6a83ec14046b3ddd4ea8503656d"
      }
     },
     "b9aa74973cc14d0fa062b290bcabd609": {
      "model_module": "@jupyter-widgets/controls",
      "model_module_version": "1.5.0",
      "model_name": "TextModel",
      "state": {
       "description": "D",
       "layout": "IPY_MODEL_f0a1e41a11cb4481b06dd16678e811fe",
       "placeholder": "",
       "style": "IPY_MODEL_d84dc53c32484edeae33464c3fa45893"
      }
     },
     "bb9a5cd2ae074a8f9133b37e46dd1a30": {
      "model_module": "@jupyter-widgets/base",
      "model_module_version": "1.2.0",
      "model_name": "LayoutModel",
      "state": {}
     },
     "bc80c9bf30b1409a8f040b4166e5bd17": {
      "model_module": "@jupyter-widgets/controls",
      "model_module_version": "1.5.0",
      "model_name": "DescriptionStyleModel",
      "state": {
       "description_width": "initial"
      }
     },
     "be5d486c693e402dbcf2ec3956ea2506": {
      "model_module": "@jupyter-widgets/controls",
      "model_module_version": "1.5.0",
      "model_name": "TextModel",
      "state": {
       "description": "Contact Area (m^2)",
       "layout": "IPY_MODEL_94c67495a5904967ae4870e2a3515e1f",
       "placeholder": "m^2",
       "style": "IPY_MODEL_e9b44062672c45408fc95cd5938bba47",
       "value": "0.001"
      }
     },
     "be6fa9a4899348409a8eabb7a43843b0": {
      "model_module": "@jupyter-widgets/controls",
      "model_module_version": "1.5.0",
      "model_name": "DescriptionStyleModel",
      "state": {
       "description_width": "initial"
      }
     },
     "be9d21f1b77d49ba9652bf09eaa53143": {
      "model_module": "@jupyter-widgets/controls",
      "model_module_version": "1.5.0",
      "model_name": "TextModel",
      "state": {
       "description": "Sample Block Thickness (no gouge)",
       "layout": "IPY_MODEL_32000f62b3e34ed18640a88601116e3a",
       "placeholder": "mm",
       "style": "IPY_MODEL_23f3b370f1f94229a877e307744094f9"
      }
     },
     "bf4e1326a9a64a28b3cffff4d2a63c4c": {
      "model_module": "@jupyter-widgets/base",
      "model_module_version": "1.2.0",
      "model_name": "LayoutModel",
      "state": {
       "flex": "1 1 1%",
       "width": "auto"
      }
     },
     "c02d9e370e294584938dd2e412374253": {
      "model_module": "@jupyter-widgets/base",
      "model_module_version": "1.2.0",
      "model_name": "LayoutModel",
      "state": {}
     },
     "c088c757ca3547e4aa0d1a4270ecd23f": {
      "model_module": "@jupyter-widgets/controls",
      "model_module_version": "1.5.0",
      "model_name": "TextModel",
      "state": {
       "description": "Datten",
       "layout": "IPY_MODEL_fedcdf671e1a45d68ca32bd7ddb9f888",
       "placeholder": "",
       "style": "IPY_MODEL_9992e8330b16464794c1164bef2f0420"
      }
     },
     "c0f52b616330415f8e25b2200c0a3fd8": {
      "model_module": "@jupyter-widgets/controls",
      "model_module_version": "1.5.0",
      "model_name": "DropdownModel",
      "state": {
       "_options_labels": [
        "44mm Solid Vert",
        "44mm Solid Vert",
        "None"
       ],
       "description": "Vert. Load Cell:",
       "index": 0,
       "layout": "IPY_MODEL_c02d9e370e294584938dd2e412374253",
       "style": "IPY_MODEL_1f2230234ea84d658b36765649cd3985"
      }
     },
     "c2880f92746c465783e6fb802094f293": {
      "model_module": "@jupyter-widgets/base",
      "model_module_version": "1.2.0",
      "model_name": "LayoutModel",
      "state": {}
     },
     "c594d5f97f074144991d87d4183cce88": {
      "model_module": "@jupyter-widgets/base",
      "model_module_version": "1.2.0",
      "model_name": "LayoutModel",
      "state": {
       "flex": "1 1 0%",
       "width": "auto"
      }
     },
     "c5c9e66eb4b9416db41b8d86eb246877": {
      "model_module": "@jupyter-widgets/controls",
      "model_module_version": "1.5.0",
      "model_name": "VBoxModel",
      "state": {
       "children": [
        "IPY_MODEL_157e3f2fe6a94814947033116a882180",
        "IPY_MODEL_020e6bde5e4a42bcb847b127d2ade7a2"
       ],
       "layout": "IPY_MODEL_b646bb7054da427880e3c440c36129c0"
      }
     },
     "c7aaf7dbc79040888d89d062713c8350": {
      "model_module": "@jupyter-widgets/base",
      "model_module_version": "1.2.0",
      "model_name": "LayoutModel",
      "state": {}
     },
     "c9099953053546608354e4481d67d7cd": {
      "model_module": "@jupyter-widgets/controls",
      "model_module_version": "1.5.0",
      "model_name": "DescriptionStyleModel",
      "state": {
       "description_width": "initial"
      }
     },
     "cb66ca5e42f647d4a36a3fb7121c936d": {
      "model_module": "@jupyter-widgets/controls",
      "model_module_version": "1.5.0",
      "model_name": "DatePickerModel",
      "state": {
       "description": "Exp. Date:",
       "disabled": false,
       "layout": "IPY_MODEL_34c346afa62d4f5cbeae7852f719f887",
       "style": "IPY_MODEL_2cf521d353cf4adc978db804dd50b51f",
       "value": {
        "date": 29,
        "month": 10,
        "year": 2021
       }
      }
     },
     "cca72e81b58d4d49b2b1d6fdb66bacd6": {
      "model_module": "@jupyter-widgets/base",
      "model_module_version": "1.2.0",
      "model_name": "LayoutModel",
      "state": {}
     },
     "cd59b14929aa468993198c8e5bb4be32": {
      "model_module": "@jupyter-widgets/controls",
      "model_module_version": "1.5.0",
      "model_name": "DescriptionStyleModel",
      "state": {
       "description_width": "initial"
      }
     },
     "ce78a96577d849b08d233eb4dfa1a1e1": {
      "model_module": "@jupyter-widgets/base",
      "model_module_version": "1.2.0",
      "model_name": "LayoutModel",
      "state": {}
     },
     "cf0b043d5b1140c1bcdc5630289aea83": {
      "model_module": "@jupyter-widgets/base",
      "model_module_version": "1.2.0",
      "model_name": "LayoutModel",
      "state": {}
     },
     "d145416679d14822816497682a05644a": {
      "model_module": "@jupyter-widgets/controls",
      "model_module_version": "1.5.0",
      "model_name": "DescriptionStyleModel",
      "state": {
       "description_width": ""
      }
     },
     "d1689d1c75e24937bbe804d20a481d00": {
      "model_module": "@jupyter-widgets/base",
      "model_module_version": "1.2.0",
      "model_name": "LayoutModel",
      "state": {}
     },
     "d17a56df873b4cdf9a36f053f77b117d": {
      "model_module": "@jupyter-widgets/base",
      "model_module_version": "1.2.0",
      "model_name": "LayoutModel",
      "state": {}
     },
     "d33312c6f4ec49289bb4bee6fb7babab": {
      "model_module": "@jupyter-widgets/base",
      "model_module_version": "1.2.0",
      "model_name": "LayoutModel",
      "state": {
       "border": "2px solid grey",
       "display": "flex",
       "flex_flow": "row",
       "grid_gap": "5px 100px",
       "padding": "10px",
       "width": "75%"
      }
     },
     "d3bcee5e32e74fbc85d1843dba4c4699": {
      "model_module": "@jupyter-widgets/controls",
      "model_module_version": "1.5.0",
      "model_name": "LabelModel",
      "state": {
       "layout": "IPY_MODEL_3777bdc8977644c091a2994836b065c3",
       "style": "IPY_MODEL_12e017c40dd440a38ec24e1734b0143c",
       "value": "Vert. Servo Settings"
      }
     },
     "d3d4f3c8cff84283961d370a27031552": {
      "model_module": "@jupyter-widgets/controls",
      "model_module_version": "1.5.0",
      "model_name": "DescriptionStyleModel",
      "state": {
       "description_width": "initial"
      }
     },
     "d4a83580bfe043edb7f6c47a38a4cba5": {
      "model_module": "@jupyter-widgets/controls",
      "model_module_version": "1.5.0",
      "model_name": "GridBoxModel",
      "state": {
       "children": [
        "IPY_MODEL_f058231b3f23473181d14ceca0f4415e",
        "IPY_MODEL_96dea9060f54463ca7097bcfc9fdfc2b",
        "IPY_MODEL_76eae220b75c4a3c93299cbab56d1528"
       ],
       "layout": "IPY_MODEL_d33312c6f4ec49289bb4bee6fb7babab"
      }
     },
     "d4ae26dd9d2642a7b70db87dd18c1698": {
      "model_module": "@jupyter-widgets/base",
      "model_module_version": "1.2.0",
      "model_name": "LayoutModel",
      "state": {}
     },
     "d52c80a777574d7796b3351b78cab6b0": {
      "model_module": "@jupyter-widgets/controls",
      "model_module_version": "1.5.0",
      "model_name": "GridBoxModel",
      "state": {
       "children": [
        "IPY_MODEL_2c1613a617bc4815831f3b7c058976f4",
        "IPY_MODEL_e4820f0912234ab1b2f790ddf2678b0a"
       ],
       "layout": "IPY_MODEL_04a49479e121470cb295fa85eeb9adcd"
      }
     },
     "d67ab6fb7c1544169e53181eabcb5cae": {
      "model_module": "@jupyter-widgets/base",
      "model_module_version": "1.2.0",
      "model_name": "LayoutModel",
      "state": {}
     },
     "d70cb8c3443645af88bcad83c111e077": {
      "model_module": "@jupyter-widgets/controls",
      "model_module_version": "1.5.0",
      "model_name": "DescriptionStyleModel",
      "state": {
       "description_width": ""
      }
     },
     "d74168dc5e034f23a67e16981e4a2f5f": {
      "model_module": "@jupyter-widgets/controls",
      "model_module_version": "1.5.0",
      "model_name": "DescriptionStyleModel",
      "state": {
       "description_width": "initial"
      }
     },
     "d84dc53c32484edeae33464c3fa45893": {
      "model_module": "@jupyter-widgets/controls",
      "model_module_version": "1.5.0",
      "model_name": "DescriptionStyleModel",
      "state": {
       "description_width": ""
      }
     },
     "da0c2b9ca289484e95f4401fc1201d49": {
      "model_module": "@jupyter-widgets/controls",
      "model_module_version": "1.5.0",
      "model_name": "LabelModel",
      "state": {
       "layout": "IPY_MODEL_f5e3581b518341adae1a309b32f11f51",
       "style": "IPY_MODEL_997e458357ba4927ad5c17b85ee0eebe",
       "value": "Volt. @ Load = 2.234"
      }
     },
     "da9e6ff39fd443febe1cd5b7075ffbfe": {
      "model_module": "@jupyter-widgets/controls",
      "model_module_version": "1.5.0",
      "model_name": "DescriptionStyleModel",
      "state": {
       "description_width": ""
      }
     },
     "dad06e295e804dd08bcda13dcf3dd825": {
      "model_module": "@jupyter-widgets/base",
      "model_module_version": "1.2.0",
      "model_name": "LayoutModel",
      "state": {}
     },
     "db1b2afd175d49babe01dc688fc2a0a0": {
      "model_module": "@jupyter-widgets/controls",
      "model_module_version": "1.5.0",
      "model_name": "ButtonModel",
      "state": {
       "description": "Make Runsheet",
       "layout": "IPY_MODEL_00bcc3004a454c79a89c6c959a42fae3",
       "style": "IPY_MODEL_def867c318d14eaab856372805b26d54"
      }
     },
     "dc1efc23767646d59e4571db09f6d31c": {
      "model_module": "@jupyter-widgets/controls",
      "model_module_version": "1.5.0",
      "model_name": "TextareaModel",
      "state": {
       "description": "Experiment Notes",
       "layout": "IPY_MODEL_204b0ac9d55c487a9a88f986e72e181a",
       "placeholder": "Experiment Notes",
       "style": "IPY_MODEL_c9099953053546608354e4481d67d7cd",
       "value": "something"
      }
     },
     "dd2aa882e500417ab3939a20bd603da8": {
      "model_module": "@jupyter-widgets/controls",
      "model_module_version": "1.5.0",
      "model_name": "TextModel",
      "state": {
       "description": "Ppa Gain (V/MPa):",
       "layout": "IPY_MODEL_cca72e81b58d4d49b2b1d6fdb66bacd6",
       "placeholder": "Ppa Gain (V/MPa)",
       "style": "IPY_MODEL_32ac822422cb4dd5a97e3ca40be94e3e",
       "value": "0.1234"
      }
     },
     "dd424433bc5f40d9b9e4fbf40f64d1b6": {
      "model_module": "@jupyter-widgets/controls",
      "model_module_version": "1.5.0",
      "model_name": "TextareaModel",
      "state": {
       "description": "Purpose/Description",
       "layout": "IPY_MODEL_03931de54c0f4732bb21063a5016aa9b",
       "placeholder": "Purpose/Description",
       "style": "IPY_MODEL_24c3f53202ae427189e938f9a4900a43",
       "value": "something"
      }
     },
     "de9576873bce420e956da6ec0659ae98": {
      "model_module": "@jupyter-widgets/controls",
      "model_module_version": "1.5.0",
      "model_name": "LabelModel",
      "state": {
       "layout": "IPY_MODEL_a48b464ffd54453eb8b5b8956c7187ea",
       "style": "IPY_MODEL_a8d386784f3a4f7bab43047cd58f2f3d",
       "value": "Horizontal Load Cell"
      }
     },
     "def867c318d14eaab856372805b26d54": {
      "model_module": "@jupyter-widgets/controls",
      "model_module_version": "1.5.0",
      "model_name": "ButtonStyleModel",
      "state": {}
     },
     "df0fd195fda3463885426843c74ceb57": {
      "model_module": "@jupyter-widgets/base",
      "model_module_version": "1.2.0",
      "model_name": "LayoutModel",
      "state": {
       "align_items": "stretch",
       "border": "2px solid grey",
       "display": "flex",
       "flex_flow": "row",
       "grid_gap": "60px 60px",
       "padding": "10px",
       "width": "75%"
      }
     },
     "e1ab64c76642457d86f1d105da2a45a5": {
      "model_module": "@jupyter-widgets/controls",
      "model_module_version": "1.5.0",
      "model_name": "LabelModel",
      "state": {
       "layout": "IPY_MODEL_90e685ba1a0c46dea5a61efc2cbc60e7",
       "style": "IPY_MODEL_9a16b75bbe2747deafe115e39f9939ab",
       "value": "Volt. @ Load = 1.00123"
      }
     },
     "e319e448ebf640d98447518ff31d2364": {
      "model_module": "@jupyter-widgets/base",
      "model_module_version": "1.2.0",
      "model_name": "LayoutModel",
      "state": {}
     },
     "e4820f0912234ab1b2f790ddf2678b0a": {
      "model_module": "@jupyter-widgets/controls",
      "model_module_version": "1.5.0",
      "model_name": "VBoxModel",
      "state": {
       "children": [
        "IPY_MODEL_acd45e6be8a14d09ae60b925392663fd",
        "IPY_MODEL_895593169d654438ba1a54360d05ac62"
       ],
       "layout": "IPY_MODEL_bf4e1326a9a64a28b3cffff4d2a63c4c"
      }
     },
     "e4f839b1f1f14bb6b4aaf497d184b8f2": {
      "model_module": "@jupyter-widgets/controls",
      "model_module_version": "1.5.0",
      "model_name": "TextModel",
      "state": {
       "description": "Feedback",
       "layout": "IPY_MODEL_74e67c8ab017463282d55f3fe6a0061d",
       "placeholder": "",
       "style": "IPY_MODEL_23e86d06695540e89bc7850c409a566d"
      }
     },
     "e4feaa9dd09044ada98f2db2cf58ad4d": {
      "model_module": "@jupyter-widgets/base",
      "model_module_version": "1.2.0",
      "model_name": "LayoutModel",
      "state": {}
     },
     "e9b44062672c45408fc95cd5938bba47": {
      "model_module": "@jupyter-widgets/controls",
      "model_module_version": "1.5.0",
      "model_name": "DescriptionStyleModel",
      "state": {
       "description_width": "initial"
      }
     },
     "eaaf387ca427446ca4719f1f66fd9cea": {
      "model_module": "@jupyter-widgets/base",
      "model_module_version": "1.2.0",
      "model_name": "LayoutModel",
      "state": {}
     },
     "ed6105650543459483fb015fe956781b": {
      "model_module": "@jupyter-widgets/controls",
      "model_module_version": "1.5.0",
      "model_name": "TextModel",
      "state": {
       "description": "I",
       "layout": "IPY_MODEL_05af57f3f3774c32b766d682886fd068",
       "placeholder": "",
       "style": "IPY_MODEL_045cab0928844950a447a60d11fd370c"
      }
     },
     "f058231b3f23473181d14ceca0f4415e": {
      "model_module": "@jupyter-widgets/controls",
      "model_module_version": "1.5.0",
      "model_name": "DropdownModel",
      "state": {
       "_options_labels": [
        "8 channel",
        "16 channel"
       ],
       "description": "Data Logger Used:",
       "index": 0,
       "layout": "IPY_MODEL_0c825069c67f4a2180f8c060304aef9c",
       "style": "IPY_MODEL_5163683efe9f4cada8e8575e15b8ba29"
      }
     },
     "f0a1e41a11cb4481b06dd16678e811fe": {
      "model_module": "@jupyter-widgets/base",
      "model_module_version": "1.2.0",
      "model_name": "LayoutModel",
      "state": {
       "grid_area": "widget011",
       "width": "150px"
      }
     },
     "f2218ee33d5d48db9d4b002ccee8f577": {
      "model_module": "@jupyter-widgets/controls",
      "model_module_version": "1.5.0",
      "model_name": "DescriptionStyleModel",
      "state": {
       "description_width": "initial"
      }
     },
     "f2224cb9b1c14391bf1fea95ff886478": {
      "model_module": "@jupyter-widgets/controls",
      "model_module_version": "1.5.0",
      "model_name": "TextModel",
      "state": {
       "description": "Vert. DCDT calib.:",
       "layout": "IPY_MODEL_67aa0afe75c84c89820e385f74d50197",
       "placeholder": "mm/V",
       "style": "IPY_MODEL_8041187e86b54af4ac0468237c003083",
       "value": "1"
      }
     },
     "f2f354d4b9c346e69e3e5bb6d4ae1c87": {
      "model_module": "@jupyter-widgets/base",
      "model_module_version": "1.2.0",
      "model_name": "LayoutModel",
      "state": {
       "flex": "1 1 1%",
       "width": "auto"
      }
     },
     "f389d29fd9cd4b238be0e0501c0967b3": {
      "model_module": "@jupyter-widgets/base",
      "model_module_version": "1.2.0",
      "model_name": "LayoutModel",
      "state": {}
     },
     "f47603eb91e347e9a0eda2dfa4a37125": {
      "model_module": "@jupyter-widgets/base",
      "model_module_version": "1.2.0",
      "model_name": "LayoutModel",
      "state": {}
     },
     "f52b2e5ba4ab41e0bc13ea84500e2236": {
      "model_module": "@jupyter-widgets/base",
      "model_module_version": "1.2.0",
      "model_name": "LayoutModel",
      "state": {
       "grid_area": "widget013",
       "width": "150px"
      }
     },
     "f578e03919af4ffc916cf69930bc7d98": {
      "model_module": "@jupyter-widgets/base",
      "model_module_version": "1.2.0",
      "model_name": "LayoutModel",
      "state": {}
     },
     "f5e1d5edf2a04c4aba6da7f1ad205b8c": {
      "model_module": "@jupyter-widgets/base",
      "model_module_version": "1.2.0",
      "model_name": "LayoutModel",
      "state": {}
     },
     "f5e3581b518341adae1a309b32f11f51": {
      "model_module": "@jupyter-widgets/base",
      "model_module_version": "1.2.0",
      "model_name": "LayoutModel",
      "state": {}
     },
     "f73ea69e7f104413bf94d328406423e1": {
      "model_module": "@jupyter-widgets/base",
      "model_module_version": "1.2.0",
      "model_name": "LayoutModel",
      "state": {}
     },
     "f7c02ea4228b402fb70d613939ccc9bb": {
      "model_module": "@jupyter-widgets/controls",
      "model_module_version": "1.5.0",
      "model_name": "DescriptionStyleModel",
      "state": {
       "description_width": "initial"
      }
     },
     "f98e864a66e341f69cd60f84d96aadb2": {
      "model_module": "@jupyter-widgets/controls",
      "model_module_version": "1.5.0",
      "model_name": "LabelModel",
      "state": {
       "layout": "IPY_MODEL_d67ab6fb7c1544169e53181eabcb5cae",
       "style": "IPY_MODEL_ae1b480e527542d08a603feb53d17ddd"
      }
     },
     "f999d48df3b34eaa9985f569b31c388b": {
      "model_module": "@jupyter-widgets/controls",
      "model_module_version": "1.5.0",
      "model_name": "TextModel",
      "state": {
       "description": "Calibration (mV/kN):",
       "layout": "IPY_MODEL_0632094e84f84e52a10880172da60a3e",
       "placeholder": "mV/kN",
       "style": "IPY_MODEL_2b213060b2e544adb1d560321875982a",
       "value": "100.123"
      }
     },
     "fe58a8384ce74d008e67e6ec4365ef29": {
      "model_module": "@jupyter-widgets/controls",
      "model_module_version": "1.5.0",
      "model_name": "DescriptionStyleModel",
      "state": {
       "description_width": ""
      }
     },
     "fedcdf671e1a45d68ca32bd7ddb9f888": {
      "model_module": "@jupyter-widgets/base",
      "model_module_version": "1.2.0",
      "model_name": "LayoutModel",
      "state": {
       "grid_area": "widget012",
       "width": "150px"
      }
     }
    },
    "version_major": 2,
    "version_minor": 0
   }
  }
 },
 "nbformat": 4,
 "nbformat_minor": 5
}
