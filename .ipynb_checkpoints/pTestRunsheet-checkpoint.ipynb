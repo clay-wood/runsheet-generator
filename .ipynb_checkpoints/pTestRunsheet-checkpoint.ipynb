{
 "cells": [
  {
   "cell_type": "code",
   "execution_count": 3,
   "id": "ab603420-bff5-430d-a23f-5c92098226a9",
   "metadata": {},
   "outputs": [],
   "source": [
    "import runsheet_display as rs"
   ]
  },
  {
   "cell_type": "code",
   "execution_count": 4,
   "id": "2e17655f-9de4-46f9-a57a-0fead58a9792",
   "metadata": {
    "tags": []
   },
   "outputs": [
    {
     "data": {
      "application/vnd.jupyter.widget-view+json": {
       "model_id": "42faf674449747328317295d674f12b4",
       "version_major": 2,
       "version_minor": 0
      },
      "text/plain": [
       "GridBox(children=(VBox(children=(Text(value='', description='Exp. Name:', placeholder='pxxxx', style=Descripti…"
      ]
     },
     "metadata": {},
     "output_type": "display_data"
    },
    {
     "data": {
      "application/vnd.jupyter.widget-view+json": {
       "model_id": "d1decf5ab86b47eb939cdfa233313a6a",
       "version_major": 2,
       "version_minor": 0
      },
      "text/plain": [
       "GridBox(children=(VBox(children=(Text(value='', description='Contact Area (m^2)', placeholder='m^2', style=Des…"
      ]
     },
     "metadata": {},
     "output_type": "display_data"
    },
    {
     "data": {
      "application/vnd.jupyter.widget-view+json": {
       "model_id": "11a4017476cd484886f6e3d636c9513b",
       "version_major": 2,
       "version_minor": 0
      },
      "text/plain": [
       "GridBox(children=(VBox(children=(Label(value='Horizontal Load Cell'), Dropdown(description='Horiz. Load Cell:'…"
      ]
     },
     "metadata": {},
     "output_type": "display_data"
    },
    {
     "data": {
      "application/vnd.jupyter.widget-view+json": {
       "model_id": "cc5aeb3cf0b14cd69d0fd42710c1c2bc",
       "version_major": 2,
       "version_minor": 0
      },
      "text/plain": [
       "RadioButtons(description='Use Vessel?', index=1, options=('yes', 'no'), value='no')"
      ]
     },
     "metadata": {},
     "output_type": "display_data"
    },
    {
     "data": {
      "application/vnd.jupyter.widget-view+json": {
       "model_id": "fe9cbca947f74d7f847e65e918a56152",
       "version_major": 2,
       "version_minor": 0
      },
      "text/plain": [
       "Output()"
      ]
     },
     "metadata": {},
     "output_type": "display_data"
    },
    {
     "data": {
      "application/vnd.jupyter.widget-view+json": {
       "model_id": "ae0a657e7d724386a48216823627c009",
       "version_major": 2,
       "version_minor": 0
      },
      "text/plain": [
       "GridBox(children=(Dropdown(description='Data Logger Used:', options=('8 channel', '16 channel'), style=Descrip…"
      ]
     },
     "metadata": {},
     "output_type": "display_data"
    },
    {
     "data": {
      "application/vnd.jupyter.widget-view+json": {
       "model_id": "36816e25bfe54149b4083f8e53187671",
       "version_major": 2,
       "version_minor": 0
      },
      "text/plain": [
       "GridBox(children=(Textarea(value='', description='Purpose/Description', layout=Layout(flex='1 1 1%', width='au…"
      ]
     },
     "metadata": {},
     "output_type": "display_data"
    },
    {
     "data": {
      "application/vnd.jupyter.widget-view+json": {
       "model_id": "fd47357e93c248ad83cc773533a555ff",
       "version_major": 2,
       "version_minor": 0
      },
      "text/plain": [
       "RadioButtons(description='Record PID?', index=1, options=('yes', 'no'), value='no')"
      ]
     },
     "metadata": {},
     "output_type": "display_data"
    },
    {
     "data": {
      "application/vnd.jupyter.widget-view+json": {
       "model_id": "52ef9fc0c39040b4a2a93e93bc3b48fb",
       "version_major": 2,
       "version_minor": 0
      },
      "text/plain": [
       "Output()"
      ]
     },
     "metadata": {},
     "output_type": "display_data"
    },
    {
     "data": {
      "application/vnd.jupyter.widget-view+json": {
       "model_id": "a9a9920718de489a8edbad855984323c",
       "version_major": 2,
       "version_minor": 0
      },
      "text/plain": [
       "Button(description='Make Runsheet', style=ButtonStyle())"
      ]
     },
     "metadata": {},
     "output_type": "display_data"
    },
    {
     "data": {
      "application/vnd.jupyter.widget-view+json": {
       "model_id": "ba187d004c10474db010eedaede3ca56",
       "version_major": 2,
       "version_minor": 0
      },
      "text/plain": [
       "Output()"
      ]
     },
     "metadata": {},
     "output_type": "display_data"
    }
   ],
   "source": [
    "entry, outputs = rs.entry_gui()\n",
    "\n",
    "rs.print_btn(outputs)"
   ]
  },
  {
   "cell_type": "code",
   "execution_count": 19,
   "id": "b2c1fc98-81ac-46ab-8434-4a71f6a5d439",
   "metadata": {},
   "outputs": [],
   "source": [
    "import ipywidgets as widgets\n",
    "import numpy as np\n",
    "\n",
    "def calc_press(gain, targ_stress, init_volt):\n",
    "    \n",
    "    targ_volt = (np.fromstring(gain.value, dtype=float, sep=',') * np.fromstring(targ_stress.value, dtype=float, sep=',')) + np.fromstring(init_volt.value, dtype=float, sep=',')\n",
    "    targ_volt = np.array2string(targ_volt, precision = 5, separator=', ')[1:-1]\n",
    "    \n",
    "    return targ_volt\n",
    "\n",
    "ves_grid_args = {'continuous_update':True, 'disabled':False}\n",
    "style = {'description_width': 'initial'}\n",
    "ves_grid = widgets.GridspecLayout(7, 3)\n",
    "\n",
    "ves_grid[0:2,:] = widgets.Text(value='DI H2O', placeholder='DI H2O', description='Pore Fluid', style=style, **ves_grid_args)\n",
    "\n",
    "ves_grid[2,0] = widgets.Label('Confining Pressure')\n",
    "\n",
    "ves_grid[3,0] = widgets.Text(value='0.1456', placeholder='0.1456 V/MPa', description='Pc Gain (V/MPa):', style=style, **ves_grid_args)\n",
    "\n",
    "ves_grid[4,0] = widgets.Text(placeholder='MPa', description='Target Stress(es) (MPa):', style=style, **ves_grid_args)\n",
    "\n",
    "ves_grid[5,0] = widgets.Text(placeholder='Volt', description='Init. Volt.:', style=style, **ves_grid_args)\n",
    "\n",
    "ves_grid[6,0] =  widgets.Label(value='Volt. @ Load = ')\n",
    "\n",
    "def pc_handle_change(change):\n",
    "    if str(change.new) == '' or str(change.new) == '--' or str(change.new) == '-':\n",
    "        ves_grid[6,0].value = 'Volt. @ Load = N/A'\n",
    "    else:\n",
    "        targ_volt = calc_press(ves_grid[3,0], ves_grid[4,0], ves_grid[5,0])\n",
    "        ves_grid[6,0].value = 'Volt. @ Load = '+ targ_volt\n",
    "\n",
    "ves_grid[5,0].observe(pc_handle_change, names='value')\n",
    "\n",
    "# pc_items = widgets.VBox(children=[vessel_title, pc_gain, pc_press, pc_ini_V, pc_load_v])\n",
    "\n",
    "# ppa_gain = widgets.Text(\n",
    "#     placeholder='Ppa Gain (V/MPa)',\n",
    "#     description='Ppa Gain (V/MPa):',\n",
    "#     continuous_update = True,\n",
    "#     disabled=False, \n",
    "#     style=style)\n",
    "\n",
    "# ppa_press = widgets.Text(\n",
    "#     placeholder='MPa',\n",
    "#     description='PpA Press. (MPa)',\n",
    "#     continuous_update = True,\n",
    "#     disabled=False, \n",
    "#     style=style)\n",
    "\n",
    "# ppa_ini_V = widgets.Text(\n",
    "#     placeholder='Volt',\n",
    "#     description='V. Init. Volt.:',\n",
    "#     continuous_update = True,\n",
    "#     disabled=False, \n",
    "#     style=style)\n",
    "\n",
    "# ppa_load_v =  widgets.Label(value='Volt. @ Load = ')\n",
    "\n",
    "# def ppa_handle_change(change):\n",
    "#     if str(change.new) == '' or str(change.new) == '--' or str(change.new) == '-':\n",
    "#         ppa_load_v.value = 'Volt. @ Load = N/A'\n",
    "#     else:\n",
    "#         targ_volt = calc_press(ppa_gain, ppa_press, ppa_ini_V)\n",
    "#         ppa_load_v.value = 'Volt. @ Load = '+ targ_volt\n",
    "\n",
    "# ppa_ini_V.observe(ppa_handle_change, names='value')\n",
    "\n",
    "# ppa_items = widgets.VBox(children=[vessel_title, ppa_gain, ppa_press, ppa_ini_V, ppa_load_v])\n",
    "\n",
    "# ppb_gain = widgets.Text(\n",
    "#     placeholder='PpB Gain (V/MPa)',\n",
    "#     description='PpB Gain (V/MPa):',\n",
    "#     continuous_update = True,\n",
    "#     disabled=False, \n",
    "#     style=style)\n",
    "\n",
    "# ppb_press = widgets.Text(\n",
    "#     placeholder='MPa',\n",
    "#     description='PpB Press. (MPa)',\n",
    "#     continuous_update = True,\n",
    "#     disabled=False, \n",
    "#     style=style)\n",
    "\n",
    "# ppb_ini_V = widgets.Text(\n",
    "#     placeholder='Volt',\n",
    "#     description='V. Init. Volt.:',\n",
    "#     continuous_update = True,\n",
    "#     disabled=False, \n",
    "#     style=style)\n",
    "\n",
    "# ppb_load_v =  widgets.Label(value='Volt. @ Load = ')\n",
    "\n",
    "# def ppb_handle_change(change):\n",
    "#     if str(change.new) == '' or str(change.new) == '--' or str(change.new) == '-':\n",
    "#         ppb_load_v.value = 'Volt. @ Load = N/A'\n",
    "#     else:\n",
    "#         targ_volt = calc_press(ppb_gain, ppb_press, ppb_ini_V)\n",
    "#         ppb_load_v.value = 'Volt. @ Load = '+ targ_volt\n",
    "\n",
    "# ppb_ini_V.observe(ppb_handle_change, names='value')\n",
    "\n",
    "# ppb_items = widgets.VBox(children=[pore_fluid, vessel_title, ppb_gain, ppb_press, ppb_ini_V, ppb_load_v])\n",
    "\n",
    "# layout_args = {'flex_flow':'row',\n",
    "#      'padding':'10px',\n",
    "#      'width':'75%',\n",
    "#      'grid_gap':'60px'}\n",
    "\n",
    "# layout2 = widgets.Layout(display='flex', **layout_args, border='2px solid royalblue')\n",
    "\n",
    "\n",
    "# horizontal = widgets.VBox(children=[h_lc_title, h_lc_picker, h_lc_calib, h_lc_stress, h_lc_ini_V, h_load_v], layout=widgets.Layout(flex='1 1 0%', width='auto'))\n",
    "# vertical = widgets.VBox(children=[v_lc_title, v_lc_picker, v_lc_calib, v_lc_stress, v_lc_ini_V, v_load_v], layout=widgets.Layout(flex='1 1 0%', width='auto'))\n",
    "\n",
    "# layout = widgets.Layout(display='flex',\n",
    "#          flex_flow='row',\n",
    "#          align_items='stretch',\n",
    "#          border='2px solid grey',\n",
    "#          padding='10px',\n",
    "#          width='75%')\n",
    "\n",
    "# hor_vert = widgets.GridBox(children=[horizontal, vertical], layout=layout)\n",
    "\n",
    "# use_vessel = widgets.RadioButtons(\n",
    "#     options=['yes', 'no'],\n",
    "#     description='Use Vessel?',\n",
    "#     value='no',\n",
    "#     disabled=False)\n",
    "\n",
    "# def vessel_input(a):\n",
    "#     pore_press=widgets.Label('')\n",
    "#     if a == 'yes':\n",
    "#         pore_press = widgets.GridBox(children=[pc_items, ppa_items, ppb_items], layout=layout2)\n",
    "#     return display(pore_press)\n",
    "\n",
    "# vessel_params = widgets.interactive_output(vessel_input, {'a': use_vessel})"
   ]
  },
  {
   "cell_type": "code",
   "execution_count": 20,
   "id": "0eb3ce7e-0bca-4e92-aaa9-f94178cf69d1",
   "metadata": {},
   "outputs": [
    {
     "data": {
      "application/vnd.jupyter.widget-view+json": {
       "model_id": "3828cc8cc588472dac9f6cb6b569a73a",
       "version_major": 2,
       "version_minor": 0
      },
      "text/plain": [
       "GridspecLayout(children=(Text(value='DI H2O', description='Pore Fluid', layout=Layout(grid_area='widget001'), …"
      ]
     },
     "metadata": {},
     "output_type": "display_data"
    }
   ],
   "source": [
    "display(ves_grid)"
   ]
  },
  {
   "cell_type": "code",
   "execution_count": null,
   "id": "7c014896-aed1-433c-b0f1-5b0d1d3ba4e7",
   "metadata": {},
   "outputs": [],
   "source": []
  }
 ],
 "metadata": {
  "kernelspec": {
   "display_name": "Python 3",
   "language": "python",
   "name": "python3"
  },
  "language_info": {
   "codemirror_mode": {
    "name": "ipython",
    "version": 3
   },
   "file_extension": ".py",
   "mimetype": "text/x-python",
   "name": "python",
   "nbconvert_exporter": "python",
   "pygments_lexer": "ipython3",
   "version": "3.9.7"
  },
  "widgets": {
   "application/vnd.jupyter.widget-state+json": {
    "state": {
     "00bd0785af6e4b9f8d187cd88d0a82ce": {
      "model_module": "@jupyter-widgets/base",
      "model_module_version": "1.2.0",
      "model_name": "LayoutModel",
      "state": {}
     },
     "00f5ea1ea28a4d91b9dc7603f0e6071e": {
      "model_module": "@jupyter-widgets/base",
      "model_module_version": "1.2.0",
      "model_name": "LayoutModel",
      "state": {
       "grid_area": "widget008"
      }
     },
     "0116409845ff41529ca9b9a89ca6d86e": {
      "model_module": "@jupyter-widgets/controls",
      "model_module_version": "1.5.0",
      "model_name": "DescriptionStyleModel",
      "state": {
       "description_width": "initial"
      }
     },
     "02a8bf4a87fb4f1eb1f64b5befb6b765": {
      "model_module": "@jupyter-widgets/controls",
      "model_module_version": "1.5.0",
      "model_name": "TextModel",
      "state": {
       "description": "Feedback",
       "layout": "IPY_MODEL_155e47fa91ed402e9075837f00343706",
       "placeholder": "",
       "style": "IPY_MODEL_620b78522d084265953aff94780d2111"
      }
     },
     "02bd4aad6bcf443bb34c90c0b29f99cc": {
      "model_module": "@jupyter-widgets/controls",
      "model_module_version": "1.5.0",
      "model_name": "DescriptionStyleModel",
      "state": {
       "description_width": ""
      }
     },
     "030c5cee28fd4cf5a3ee62d183ed08d6": {
      "model_module": "@jupyter-widgets/controls",
      "model_module_version": "1.5.0",
      "model_name": "DescriptionStyleModel",
      "state": {
       "description_width": "initial"
      }
     },
     "03bfc3da26f649d491d723734fc46087": {
      "model_module": "@jupyter-widgets/controls",
      "model_module_version": "1.5.0",
      "model_name": "LabelModel",
      "state": {
       "layout": "IPY_MODEL_501ee62f84324f12a1347ed5342e462f",
       "style": "IPY_MODEL_02bd4aad6bcf443bb34c90c0b29f99cc",
       "value": "Vertical Load Cell"
      }
     },
     "047903e08f594bc5a1c6346e30146bf3": {
      "model_module": "@jupyter-widgets/base",
      "model_module_version": "1.2.0",
      "model_name": "LayoutModel",
      "state": {}
     },
     "04b8804f6678468982f340e3eed3388d": {
      "model_module": "@jupyter-widgets/controls",
      "model_module_version": "1.5.0",
      "model_name": "DescriptionStyleModel",
      "state": {
       "description_width": "initial"
      }
     },
     "05ffbdd91cf14b2f9d6b59ea0f6aff95": {
      "model_module": "@jupyter-widgets/base",
      "model_module_version": "1.2.0",
      "model_name": "LayoutModel",
      "state": {}
     },
     "069ba5c151b44110a2fac00b623024b2": {
      "model_module": "@jupyter-widgets/controls",
      "model_module_version": "1.5.0",
      "model_name": "DescriptionStyleModel",
      "state": {
       "description_width": "initial"
      }
     },
     "06dfaf17f4f643efa32ab82b998f33a7": {
      "model_module": "@jupyter-widgets/base",
      "model_module_version": "1.2.0",
      "model_name": "LayoutModel",
      "state": {}
     },
     "07249c67bd754e88b18875e582ef514b": {
      "model_module": "@jupyter-widgets/controls",
      "model_module_version": "1.5.0",
      "model_name": "DescriptionStyleModel",
      "state": {
       "description_width": "initial"
      }
     },
     "078069b9cfd14ca991fb169b48eb1238": {
      "model_module": "@jupyter-widgets/controls",
      "model_module_version": "1.5.0",
      "model_name": "DescriptionStyleModel",
      "state": {
       "description_width": "initial"
      }
     },
     "0788a465a20e44bfbff877ac3deba237": {
      "model_module": "@jupyter-widgets/controls",
      "model_module_version": "1.5.0",
      "model_name": "DropdownModel",
      "state": {
       "_options_labels": [
        "44mm Solid Horiz",
        "44mm Solid Vert",
        "None"
       ],
       "description": "Horiz. Load Cell:",
       "index": 0,
       "layout": "IPY_MODEL_1740e3307dca40d6a291a65b79916271",
       "style": "IPY_MODEL_23e6883520b1481487ad253604d3ba94"
      }
     },
     "079fba6320c744e284a255c5b6dc9649": {
      "model_module": "@jupyter-widgets/base",
      "model_module_version": "1.2.0",
      "model_name": "LayoutModel",
      "state": {
       "grid_area": "widget014",
       "width": "150px"
      }
     },
     "07eb8b91cac841128e49afcd108222fe": {
      "model_module": "@jupyter-widgets/base",
      "model_module_version": "1.2.0",
      "model_name": "LayoutModel",
      "state": {
       "border": "2px solid grey",
       "display": "flex",
       "flex_flow": "row",
       "grid_gap": "5px 100px",
       "padding": "10px",
       "width": "75%"
      }
     },
     "080bb12b90274c3e92eb2df4d7cb8470": {
      "model_module": "@jupyter-widgets/controls",
      "model_module_version": "1.5.0",
      "model_name": "DescriptionStyleModel",
      "state": {
       "description_width": ""
      }
     },
     "0977cfbe061f4ac4a45541e413f83d25": {
      "model_module": "@jupyter-widgets/base",
      "model_module_version": "1.2.0",
      "model_name": "LayoutModel",
      "state": {}
     },
     "0a1119d0b8964727b286b80efe7205db": {
      "model_module": "@jupyter-widgets/controls",
      "model_module_version": "1.5.0",
      "model_name": "DescriptionStyleModel",
      "state": {
       "description_width": ""
      }
     },
     "0a3512c4e96045b5969be8320fc5e1e5": {
      "model_module": "@jupyter-widgets/controls",
      "model_module_version": "1.5.0",
      "model_name": "LabelModel",
      "state": {
       "layout": "IPY_MODEL_00bd0785af6e4b9f8d187cd88d0a82ce",
       "style": "IPY_MODEL_86d68afacf3c4ec597f3cda27b88aeb3"
      }
     },
     "0ad9ad1223ca490392e89da15aa26c68": {
      "model_module": "@jupyter-widgets/controls",
      "model_module_version": "1.5.0",
      "model_name": "ComboboxModel",
      "state": {
       "description": "Vert. DCDT:",
       "ensure_option": true,
       "layout": "IPY_MODEL_c0172bd0880f49d2b4d56528e0fc212f",
       "options": [
        "Trans-Tek2",
        "None"
       ],
       "placeholder": "Vert. DCDT",
       "style": "IPY_MODEL_edc8bc6cf8c349cb966a0cd23db0f837",
       "value": "Trans-Tek2"
      }
     },
     "0b609bcf209d44d9befe7c58088cfd7f": {
      "model_module": "@jupyter-widgets/controls",
      "model_module_version": "1.5.0",
      "model_name": "TextModel",
      "state": {
       "description": "Sample Block Thickness (no gouge)",
       "layout": "IPY_MODEL_e9416f3766084f98931bd7f5fecfd63a",
       "placeholder": "mm",
       "style": "IPY_MODEL_b7a83842a88f4b1fa3d8df833b36cb0b"
      }
     },
     "0b69796fc2ef4914a82c0497483e3710": {
      "model_module": "@jupyter-widgets/base",
      "model_module_version": "1.2.0",
      "model_name": "LayoutModel",
      "state": {}
     },
     "0be1dbdd542f4af58d42836a35504ec3": {
      "model_module": "@jupyter-widgets/base",
      "model_module_version": "1.2.0",
      "model_name": "LayoutModel",
      "state": {
       "flex": "1 1 1%",
       "width": "auto"
      }
     },
     "0c396248cd3c479daf554be9eb5c00e3": {
      "model_module": "@jupyter-widgets/controls",
      "model_module_version": "1.5.0",
      "model_name": "TextModel",
      "state": {
       "description": "Layer Thickness",
       "layout": "IPY_MODEL_5385d06fec084c71ac655024c4446638",
       "placeholder": "mm",
       "style": "IPY_MODEL_177d2e97ee5e4df499da255cc45b58f8"
      }
     },
     "0d3d41a9ce16405f8d791be8497f8ecf": {
      "model_module": "@jupyter-widgets/base",
      "model_module_version": "1.2.0",
      "model_name": "LayoutModel",
      "state": {}
     },
     "0dd55bed45324db08ff966c1d2582c6b": {
      "model_module": "@jupyter-widgets/controls",
      "model_module_version": "1.5.0",
      "model_name": "DescriptionStyleModel",
      "state": {
       "description_width": "initial"
      }
     },
     "0f90236accb844848ae6fc2240af0e5b": {
      "model_module": "@jupyter-widgets/controls",
      "model_module_version": "1.5.0",
      "model_name": "DescriptionStyleModel",
      "state": {
       "description_width": ""
      }
     },
     "100780c80e2c4b3d96a9ba5b121edd22": {
      "model_module": "@jupyter-widgets/base",
      "model_module_version": "1.2.0",
      "model_name": "LayoutModel",
      "state": {
       "align_items": "stretch",
       "border": "2px solid grey",
       "display": "flex",
       "flex_flow": "column",
       "padding": "10px",
       "width": "75%"
      }
     },
     "113f69b2b6714de29054119541c669eb": {
      "model_module": "@jupyter-widgets/base",
      "model_module_version": "1.2.0",
      "model_name": "LayoutModel",
      "state": {}
     },
     "116a95e7e67e4c2dbfe8064bf991851a": {
      "model_module": "@jupyter-widgets/controls",
      "model_module_version": "1.5.0",
      "model_name": "TextModel",
      "state": {
       "description": "I",
       "layout": "IPY_MODEL_8a667b96dce94fe3a7418ff3fca9313d",
       "placeholder": "",
       "style": "IPY_MODEL_caafba9a3e7d49bdabde9d33735d3041",
       "value": "1"
      }
     },
     "11a4017476cd484886f6e3d636c9513b": {
      "model_module": "@jupyter-widgets/controls",
      "model_module_version": "1.5.0",
      "model_name": "GridBoxModel",
      "state": {
       "children": [
        "IPY_MODEL_c76da47bbf3e42c0b7dbfcfff3f766aa",
        "IPY_MODEL_46bde625555f466f8e5adb30bb8b780e"
       ],
       "layout": "IPY_MODEL_72cc0a790ead41c9bfc9a62aafa5a9bf"
      }
     },
     "120c3d10d1e146bbbf918c7b5e362856": {
      "model_module": "@jupyter-widgets/base",
      "model_module_version": "1.2.0",
      "model_name": "LayoutModel",
      "state": {}
     },
     "1226dabe11764abdbe415841338d5bef": {
      "model_module": "@jupyter-widgets/controls",
      "model_module_version": "1.5.0",
      "model_name": "DescriptionStyleModel",
      "state": {
       "description_width": "initial"
      }
     },
     "122d1e87a3ef474490fa32a78071886d": {
      "model_module": "@jupyter-widgets/controls",
      "model_module_version": "1.5.0",
      "model_name": "DropdownModel",
      "state": {
       "_options_labels": [
        "8 channel",
        "16 channel"
       ],
       "description": "Data Logger Used:",
       "index": 0,
       "layout": "IPY_MODEL_820a0a60b144450fad005ee348ed9251",
       "style": "IPY_MODEL_bc1b03afc9e54a68a5a4975437243d21"
      }
     },
     "129ce0849b04413a924e33e84232f1a2": {
      "model_module": "@jupyter-widgets/base",
      "model_module_version": "1.2.0",
      "model_name": "LayoutModel",
      "state": {}
     },
     "12ce0ccdcc494a14af450cc05f674062": {
      "model_module": "@jupyter-widgets/controls",
      "model_module_version": "1.5.0",
      "model_name": "VBoxModel",
      "state": {
       "children": [
        "IPY_MODEL_34fd3184797241c3a7fe9b4497dd7852",
        "IPY_MODEL_f9eb92e017474df8bfe10c82484e95ea"
       ],
       "layout": "IPY_MODEL_b47e319299af48b197fbd68683ffbb19"
      }
     },
     "13267304fc2a4270b2d608e967261495": {
      "model_module": "@jupyter-widgets/base",
      "model_module_version": "1.2.0",
      "model_name": "LayoutModel",
      "state": {
       "flex": "1 1 0%",
       "width": "auto"
      }
     },
     "13571766930645ef9504b2faa1701d97": {
      "model_module": "@jupyter-widgets/controls",
      "model_module_version": "1.5.0",
      "model_name": "TextModel",
      "state": {
       "description": "Target Stress(es) (MPa):",
       "layout": "IPY_MODEL_488d08c0fd1f4185933e11485f76d799",
       "placeholder": "MPa",
       "style": "IPY_MODEL_9ede6a0b6bc244b6a618bd082683ad8f",
       "value": "10"
      }
     },
     "139a494a85f74d5f95101e631c74277c": {
      "model_module": "@jupyter-widgets/controls",
      "model_module_version": "1.5.0",
      "model_name": "DescriptionStyleModel",
      "state": {
       "description_width": "initial"
      }
     },
     "1404309891fb448bad4c68303cc0b0be": {
      "model_module": "@jupyter-widgets/base",
      "model_module_version": "1.2.0",
      "model_name": "LayoutModel",
      "state": {
       "flex": "1 1 1%",
       "width": "auto"
      }
     },
     "145fc9368bc3429abd845b16adf8a093": {
      "model_module": "@jupyter-widgets/controls",
      "model_module_version": "1.5.0",
      "model_name": "TextModel",
      "state": {
       "description": "Target Stress(es) (MPa):",
       "layout": "IPY_MODEL_967f205699bd4ea8a2f39d97e0149039",
       "placeholder": "MPa",
       "style": "IPY_MODEL_b344f9400bcb43038a15303ad821638f"
      }
     },
     "14aad70ad4404ae493a22c68b7ff2208": {
      "model_module": "@jupyter-widgets/controls",
      "model_module_version": "1.5.0",
      "model_name": "DescriptionStyleModel",
      "state": {
       "description_width": "initial"
      }
     },
     "155e47fa91ed402e9075837f00343706": {
      "model_module": "@jupyter-widgets/base",
      "model_module_version": "1.2.0",
      "model_name": "LayoutModel",
      "state": {
       "grid_area": "widget013",
       "width": "150px"
      }
     },
     "16e7b59ff07f44e6b92d4508903185a0": {
      "model_module": "@jupyter-widgets/controls",
      "model_module_version": "1.5.0",
      "model_name": "DescriptionStyleModel",
      "state": {
       "description_width": ""
      }
     },
     "1740e3307dca40d6a291a65b79916271": {
      "model_module": "@jupyter-widgets/base",
      "model_module_version": "1.2.0",
      "model_name": "LayoutModel",
      "state": {}
     },
     "17636b95f06048139b09201629bc6abc": {
      "model_module": "@jupyter-widgets/base",
      "model_module_version": "1.2.0",
      "model_name": "LayoutModel",
      "state": {}
     },
     "177d2e97ee5e4df499da255cc45b58f8": {
      "model_module": "@jupyter-widgets/controls",
      "model_module_version": "1.5.0",
      "model_name": "DescriptionStyleModel",
      "state": {
       "description_width": "initial"
      }
     },
     "17dc7d6c56c84c068f784d9ead1d9bc2": {
      "model_module": "@jupyter-widgets/base",
      "model_module_version": "1.2.0",
      "model_name": "LayoutModel",
      "state": {}
     },
     "17e5d7642c6f41d6a676fe53625caa3b": {
      "model_module": "@jupyter-widgets/base",
      "model_module_version": "1.2.0",
      "model_name": "LayoutModel",
      "state": {}
     },
     "186e5f1b7baf462d9b8d4fddb86b344b": {
      "model_module": "@jupyter-widgets/base",
      "model_module_version": "1.2.0",
      "model_name": "LayoutModel",
      "state": {}
     },
     "1871f36389ed45a4b3ff0fb97570db29": {
      "model_module": "@jupyter-widgets/controls",
      "model_module_version": "1.5.0",
      "model_name": "DescriptionStyleModel",
      "state": {
       "description_width": "initial"
      }
     },
     "192ea41638ba4c818efb33b8d0f06f68": {
      "model_module": "@jupyter-widgets/controls",
      "model_module_version": "1.5.0",
      "model_name": "DescriptionStyleModel",
      "state": {
       "description_width": ""
      }
     },
     "194db20f48b24288802c2da9fd4ffff2": {
      "model_module": "@jupyter-widgets/controls",
      "model_module_version": "1.5.0",
      "model_name": "TextModel",
      "state": {
       "description": "Under Load",
       "layout": "IPY_MODEL_17dc7d6c56c84c068f784d9ead1d9bc2",
       "placeholder": "mm",
       "style": "IPY_MODEL_0dd55bed45324db08ff966c1d2582c6b"
      }
     },
     "19c3cbebb0174927a640c63a0f5a27c8": {
      "model_module": "@jupyter-widgets/base",
      "model_module_version": "1.2.0",
      "model_name": "LayoutModel",
      "state": {}
     },
     "1acde97c194c4ef79a30f9a2b56d01cc": {
      "model_module": "@jupyter-widgets/controls",
      "model_module_version": "1.5.0",
      "model_name": "TextModel",
      "state": {
       "description": "Pc Gain (V/MPa):",
       "layout": "IPY_MODEL_b1d45277e6c344d5b246b9beccce4c85",
       "placeholder": "0.1456 V/MPa",
       "style": "IPY_MODEL_07249c67bd754e88b18875e582ef514b",
       "value": "0.1456"
      }
     },
     "1b74c1105dd0499ab3eb4f4a4bc43066": {
      "model_module": "@jupyter-widgets/base",
      "model_module_version": "1.2.0",
      "model_name": "LayoutModel",
      "state": {}
     },
     "1bccb604a0a64db2bd1a2c3400e5e055": {
      "model_module": "@jupyter-widgets/controls",
      "model_module_version": "1.5.0",
      "model_name": "HBoxModel",
      "state": {
       "children": [
        "IPY_MODEL_e19c5d14389e4fe9ba1fddee46c9e15b",
        "IPY_MODEL_a20c3828444d48128b383e8659968e50",
        "IPY_MODEL_9ad10baaf6f14d40b95a303ff4e3c91e"
       ],
       "layout": "IPY_MODEL_cebe155b6d734346a1b1fbabdc3c3022"
      }
     },
     "1cd8c24e8f674ed190b0eb777cf87771": {
      "model_module": "@jupyter-widgets/base",
      "model_module_version": "1.2.0",
      "model_name": "LayoutModel",
      "state": {}
     },
     "1d4fedd02aca494c9875b4cc3b2635b0": {
      "model_module": "@jupyter-widgets/controls",
      "model_module_version": "1.5.0",
      "model_name": "DescriptionStyleModel",
      "state": {
       "description_width": "initial"
      }
     },
     "1d613ca2183242bf81def5509c766a1d": {
      "model_module": "@jupyter-widgets/base",
      "model_module_version": "1.2.0",
      "model_name": "LayoutModel",
      "state": {}
     },
     "1d95e59dfc14456bbba1073a12bed704": {
      "model_module": "@jupyter-widgets/controls",
      "model_module_version": "1.5.0",
      "model_name": "TextModel",
      "state": {
       "description": "V. Init. Volt.:",
       "layout": "IPY_MODEL_1b74c1105dd0499ab3eb4f4a4bc43066",
       "placeholder": "Volt",
       "style": "IPY_MODEL_6679babbaf24454ebdcdba2f8775c817"
      }
     },
     "1dd552f7ae0c44eea6d6a2ae4cfe725e": {
      "model_module": "@jupyter-widgets/output",
      "model_module_version": "1.0.0",
      "model_name": "OutputModel",
      "state": {
       "layout": "IPY_MODEL_5a040500eed34626840d939a356f9cfa",
       "outputs": [
        {
         "name": "stdout",
         "output_type": "stream",
         "text": "printing runsheet...\n"
        },
        {
         "ename": "NameError",
         "evalue": "name 'PID_hyd' is not defined",
         "output_type": "error",
         "traceback": [
          "\u001b[0;31m---------------------------------------------------------------------------\u001b[0m",
          "\u001b[0;31mNameError\u001b[0m                                 Traceback (most recent call last)",
          "\u001b[0;32m~/Documents/research/resources/make_runsheet/runsheet_display.py\u001b[0m in \u001b[0;36mclick\u001b[0;34m(b)\u001b[0m\n\u001b[1;32m    557\u001b[0m             \u001b[0;32mif\u001b[0m \u001b[0moutputs\u001b[0m\u001b[0;34m[\u001b[0m\u001b[0;36m0\u001b[0m\u001b[0;34m]\u001b[0m\u001b[0;34m.\u001b[0m\u001b[0mvalue\u001b[0m \u001b[0;34m!=\u001b[0m \u001b[0;34m''\u001b[0m\u001b[0;34m:\u001b[0m\u001b[0;34m\u001b[0m\u001b[0;34m\u001b[0m\u001b[0m\n\u001b[1;32m    558\u001b[0m                 \u001b[0mprint\u001b[0m\u001b[0;34m(\u001b[0m\u001b[0;34m'printing runsheet...'\u001b[0m\u001b[0;34m)\u001b[0m\u001b[0;34m\u001b[0m\u001b[0;34m\u001b[0m\u001b[0m\n\u001b[0;32m--> 559\u001b[0;31m                 \u001b[0mwrite_runsheet\u001b[0m\u001b[0;34m(\u001b[0m\u001b[0moutputs\u001b[0m\u001b[0;34m)\u001b[0m\u001b[0;34m\u001b[0m\u001b[0;34m\u001b[0m\u001b[0m\n\u001b[0m\u001b[1;32m    560\u001b[0m                 \u001b[0mwebbrowser\u001b[0m\u001b[0;34m.\u001b[0m\u001b[0mopen_new\u001b[0m\u001b[0;34m(\u001b[0m\u001b[0;34mr'file:'\u001b[0m\u001b[0;34m+\u001b[0m\u001b[0mos\u001b[0m\u001b[0;34m.\u001b[0m\u001b[0mgetcwd\u001b[0m\u001b[0;34m(\u001b[0m\u001b[0;34m)\u001b[0m\u001b[0;34m+\u001b[0m\u001b[0;34m'/'\u001b[0m\u001b[0;34m+\u001b[0m\u001b[0moutputs\u001b[0m\u001b[0;34m[\u001b[0m\u001b[0;36m0\u001b[0m\u001b[0;34m]\u001b[0m\u001b[0;34m.\u001b[0m\u001b[0mvalue\u001b[0m\u001b[0;34m+\u001b[0m\u001b[0;34m'_Runsheet.pdf'\u001b[0m\u001b[0;34m)\u001b[0m\u001b[0;34m\u001b[0m\u001b[0;34m\u001b[0m\u001b[0m\n\u001b[1;32m    561\u001b[0m             \u001b[0;32melse\u001b[0m\u001b[0;34m:\u001b[0m\u001b[0;34m\u001b[0m\u001b[0;34m\u001b[0m\u001b[0m\n",
          "\u001b[0;32m~/Documents/research/resources/make_runsheet/make_runsheet.py\u001b[0m in \u001b[0;36mwrite_runsheet\u001b[0;34m(outputs, tex)\u001b[0m\n\u001b[1;32m    274\u001b[0m         \u001b[0;32mreturn\u001b[0m\u001b[0;34m\u001b[0m\u001b[0;34m\u001b[0m\u001b[0m\n\u001b[1;32m    275\u001b[0m \u001b[0;34m\u001b[0m\u001b[0m\n\u001b[0;32m--> 276\u001b[0;31m     \u001b[0ma_tex_file\u001b[0m\u001b[0;34m(\u001b[0m\u001b[0mFileName\u001b[0m\u001b[0;34m)\u001b[0m\u001b[0;34m\u001b[0m\u001b[0;34m\u001b[0m\u001b[0m\n\u001b[0m\u001b[1;32m    277\u001b[0m \u001b[0;34m\u001b[0m\u001b[0m\n\u001b[1;32m    278\u001b[0m     \u001b[0;32mfor\u001b[0m \u001b[0mi\u001b[0m \u001b[0;32min\u001b[0m \u001b[0mpageAry\u001b[0m\u001b[0;34m:\u001b[0m\u001b[0;34m\u001b[0m\u001b[0;34m\u001b[0m\u001b[0m\n",
          "\u001b[0;32m~/Documents/research/resources/make_runsheet/make_runsheet.py\u001b[0m in \u001b[0;36ma_tex_file\u001b[0;34m(title)\u001b[0m\n\u001b[1;32m    269\u001b[0m         \u001b[0mpageAry\u001b[0m\u001b[0;34m.\u001b[0m\u001b[0mappend\u001b[0m\u001b[0;34m(\u001b[0m\u001b[0msec5\u001b[0m\u001b[0;34m(\u001b[0m\u001b[0mdata_logger\u001b[0m\u001b[0;34m,\u001b[0m \u001b[0mh_dcdt\u001b[0m\u001b[0;34m,\u001b[0m \u001b[0mh_dcdt_calib\u001b[0m\u001b[0;34m,\u001b[0m \u001b[0mv_dcdt\u001b[0m\u001b[0;34m,\u001b[0m \u001b[0mv_dcdt_calib\u001b[0m\u001b[0;34m)\u001b[0m\u001b[0;34m)\u001b[0m\u001b[0;34m\u001b[0m\u001b[0;34m\u001b[0m\u001b[0m\n\u001b[1;32m    270\u001b[0m         \u001b[0mpageAry\u001b[0m\u001b[0;34m.\u001b[0m\u001b[0mappend\u001b[0m\u001b[0;34m(\u001b[0m\u001b[0msec6\u001b[0m\u001b[0;34m(\u001b[0m\u001b[0mpurpose\u001b[0m\u001b[0;34m,\u001b[0m \u001b[0mac_blocks\u001b[0m\u001b[0;34m,\u001b[0m \u001b[0mtemp\u001b[0m\u001b[0;34m,\u001b[0m \u001b[0mhumid\u001b[0m\u001b[0;34m)\u001b[0m\u001b[0;34m)\u001b[0m\u001b[0;34m\u001b[0m\u001b[0;34m\u001b[0m\u001b[0m\n\u001b[0;32m--> 271\u001b[0;31m         \u001b[0;31m# pageAry.append(sec7(PID_hyd))\u001b[0m\u001b[0;34m\u001b[0m\u001b[0;34m\u001b[0m\u001b[0m\n\u001b[0m\u001b[1;32m    272\u001b[0m         \u001b[0mpageAry\u001b[0m\u001b[0;34m.\u001b[0m\u001b[0mappend\u001b[0m\u001b[0;34m(\u001b[0m\u001b[0msec8\u001b[0m\u001b[0;34m(\u001b[0m\u001b[0mnotes\u001b[0m\u001b[0;34m)\u001b[0m\u001b[0;34m)\u001b[0m\u001b[0;34m\u001b[0m\u001b[0;34m\u001b[0m\u001b[0m\n\u001b[1;32m    273\u001b[0m \u001b[0;31m#         pageAry.append('\\n\\n\\\\end{document}')\u001b[0m\u001b[0;34m\u001b[0m\u001b[0;34m\u001b[0m\u001b[0m\n",
          "\u001b[0;31mNameError\u001b[0m: name 'PID_hyd' is not defined"
         ]
        }
       ]
      }
     },
     "1e982e859d814a89ae97bb1cd806b920": {
      "model_module": "@jupyter-widgets/controls",
      "model_module_version": "1.5.0",
      "model_name": "TextModel",
      "state": {
       "description": "Acoustics blocks used",
       "layout": "IPY_MODEL_f3cdf732a3c340ada4200898b0687ce9",
       "placeholder": "",
       "style": "IPY_MODEL_7354abb9fa214d8eaedfe2ac0bacd0d4",
       "value": "something"
      }
     },
     "1ebeb2a8772f4c7d849d7c605d9a00df": {
      "model_module": "@jupyter-widgets/base",
      "model_module_version": "1.2.0",
      "model_name": "LayoutModel",
      "state": {}
     },
     "1f78a31e39a74f2280f61d30fba6e459": {
      "model_module": "@jupyter-widgets/controls",
      "model_module_version": "1.5.0",
      "model_name": "TextModel",
      "state": {
       "description": "Vert. DCDT calib.:",
       "layout": "IPY_MODEL_120c3d10d1e146bbbf918c7b5e362856",
       "placeholder": "mm/V",
       "style": "IPY_MODEL_a2e33c85601f475fb3dfc6bbf7f81b39",
       "value": "2.1233"
      }
     },
     "1fa76d2283194b76ad81affb6ea5df0d": {
      "model_module": "@jupyter-widgets/controls",
      "model_module_version": "1.5.0",
      "model_name": "TextModel",
      "state": {
       "description": "P",
       "layout": "IPY_MODEL_9b991b9374ea4b5383ccde034bb89b72",
       "placeholder": "",
       "style": "IPY_MODEL_7a26716493474106b16e491b8b62362d"
      }
     },
     "202be5f0b66d416aa92e3d36b40b286f": {
      "model_module": "@jupyter-widgets/base",
      "model_module_version": "1.2.0",
      "model_name": "LayoutModel",
      "state": {
       "grid_area": "widget005",
       "width": "150px"
      }
     },
     "211b603d741d4a60b85f9b622568cf75": {
      "model_module": "@jupyter-widgets/controls",
      "model_module_version": "1.5.0",
      "model_name": "DescriptionStyleModel",
      "state": {
       "description_width": "initial"
      }
     },
     "212a28a54ca145ee84d6e2b24d5fd3c6": {
      "model_module": "@jupyter-widgets/base",
      "model_module_version": "1.2.0",
      "model_name": "LayoutModel",
      "state": {}
     },
     "222a02e5ed3949b9897237aaeca6eb75": {
      "model_module": "@jupyter-widgets/controls",
      "model_module_version": "1.5.0",
      "model_name": "DescriptionStyleModel",
      "state": {
       "description_width": "initial"
      }
     },
     "22e8fef7938e479babe747a846fd58b7": {
      "model_module": "@jupyter-widgets/controls",
      "model_module_version": "1.5.0",
      "model_name": "DescriptionStyleModel",
      "state": {
       "description_width": "initial"
      }
     },
     "22fd0031359e40ac8069b86c01ef538d": {
      "model_module": "@jupyter-widgets/controls",
      "model_module_version": "1.5.0",
      "model_name": "TextModel",
      "state": {
       "description": "Operator Name(s):",
       "layout": "IPY_MODEL_9d5115a4caa34396808432fde8369350",
       "placeholder": "Name(s)",
       "style": "IPY_MODEL_be8c563048944994bd5eda6b97b5c592",
       "value": "clay"
      }
     },
     "23981c63c6ba48d4bad8aa6d8794c2c7": {
      "model_module": "@jupyter-widgets/controls",
      "model_module_version": "1.5.0",
      "model_name": "DescriptionStyleModel",
      "state": {
       "description_width": "initial"
      }
     },
     "23c8e50de6834aebb58164fe893f650f": {
      "model_module": "@jupyter-widgets/controls",
      "model_module_version": "1.5.0",
      "model_name": "LabelModel",
      "state": {
       "layout": "IPY_MODEL_5f60d5be0a8f41739bd5c9b7443def78",
       "style": "IPY_MODEL_8213c9ac405e4698950de17008796d8a",
       "value": "Volt. @ Load = "
      }
     },
     "23e6883520b1481487ad253604d3ba94": {
      "model_module": "@jupyter-widgets/controls",
      "model_module_version": "1.5.0",
      "model_name": "DescriptionStyleModel",
      "state": {
       "description_width": "initial"
      }
     },
     "240f89e823f342eb8a8728b5ea4dbe0f": {
      "model_module": "@jupyter-widgets/controls",
      "model_module_version": "1.5.0",
      "model_name": "TextModel",
      "state": {
       "description": "V. Init. Volt.:",
       "layout": "IPY_MODEL_544d7871869847f190dacde9938169e0",
       "placeholder": "Volt",
       "style": "IPY_MODEL_030c5cee28fd4cf5a3ee62d183ed08d6"
      }
     },
     "2459170adfcf4b19a5b6bfc1e1a271f2": {
      "model_module": "@jupyter-widgets/base",
      "model_module_version": "1.2.0",
      "model_name": "LayoutModel",
      "state": {}
     },
     "24843528cae54d4aa31957768c810261": {
      "model_module": "@jupyter-widgets/base",
      "model_module_version": "1.2.0",
      "model_name": "LayoutModel",
      "state": {}
     },
     "2492816dcc6347a190f5ffe97065ca98": {
      "model_module": "@jupyter-widgets/controls",
      "model_module_version": "1.5.0",
      "model_name": "GridBoxModel",
      "state": {
       "children": [
        "IPY_MODEL_8825f2d791f6474587c4b179c0fd6004",
        "IPY_MODEL_930432b216dc4bcb99405e5268478ad8"
       ],
       "layout": "IPY_MODEL_98432d98164b466786a0bb01ce6fe6d4"
      }
     },
     "2496323486cf4d80b4d5cf5e65647f30": {
      "model_module": "@jupyter-widgets/controls",
      "model_module_version": "1.5.0",
      "model_name": "TextModel",
      "state": {
       "description": "Target Stress(es) (MPa):",
       "layout": "IPY_MODEL_212a28a54ca145ee84d6e2b24d5fd3c6",
       "placeholder": "MPa",
       "style": "IPY_MODEL_92c71e3db62a477898de28ea0299f4b6"
      }
     },
     "253e2d3aa43140599cd7471ef1675469": {
      "model_module": "@jupyter-widgets/controls",
      "model_module_version": "1.5.0",
      "model_name": "TextModel",
      "state": {
       "description": "Calibration (mV/kN):",
       "layout": "IPY_MODEL_ae5696efeb654689a3bf4a7fb86f4062",
       "placeholder": "mV/kN",
       "style": "IPY_MODEL_fb3e87a52073497d857c24bd65d5552a",
       "value": "100.123"
      }
     },
     "2565da6252d1463f94befc4406545837": {
      "model_module": "@jupyter-widgets/base",
      "model_module_version": "1.2.0",
      "model_name": "LayoutModel",
      "state": {}
     },
     "2662e546f55b464bbc6976730762a6ab": {
      "model_module": "@jupyter-widgets/controls",
      "model_module_version": "1.5.0",
      "model_name": "DescriptionStyleModel",
      "state": {
       "description_width": ""
      }
     },
     "2698a67c755446a6a8646868b8fead75": {
      "model_module": "@jupyter-widgets/controls",
      "model_module_version": "1.5.0",
      "model_name": "DescriptionStyleModel",
      "state": {
       "description_width": ""
      }
     },
     "279d5cda625642549912a52dcb6ef33d": {
      "model_module": "@jupyter-widgets/controls",
      "model_module_version": "1.5.0",
      "model_name": "DescriptionStyleModel",
      "state": {
       "description_width": "initial"
      }
     },
     "292fec771fa445b09792d910959267ff": {
      "model_module": "@jupyter-widgets/controls",
      "model_module_version": "1.5.0",
      "model_name": "TextModel",
      "state": {
       "description": "Contact Area (m^2)",
       "layout": "IPY_MODEL_a53a670802c04b1b9d7bda3467f124f7",
       "placeholder": "m^2",
       "style": "IPY_MODEL_1d4fedd02aca494c9875b4cc3b2635b0",
       "value": "0.001"
      }
     },
     "2987e96d2afa402891eaf561e0d71c0c": {
      "model_module": "@jupyter-widgets/controls",
      "model_module_version": "1.5.0",
      "model_name": "DescriptionStyleModel",
      "state": {
       "description_width": ""
      }
     },
     "2aebe117747d455c88573ad4ca0efb35": {
      "model_module": "@jupyter-widgets/controls",
      "model_module_version": "1.5.0",
      "model_name": "TextModel",
      "state": {
       "description": "Under Load",
       "layout": "IPY_MODEL_a73da76ef89d4c38bb22acf659b212ff",
       "placeholder": "mm",
       "style": "IPY_MODEL_211b603d741d4a60b85f9b622568cf75"
      }
     },
     "2b375b3fed8d4eb489b965b2d535e22d": {
      "model_module": "@jupyter-widgets/controls",
      "model_module_version": "1.5.0",
      "model_name": "TextModel",
      "state": {
       "description": "Sample Block Thickness (no gouge)",
       "layout": "IPY_MODEL_129ce0849b04413a924e33e84232f1a2",
       "placeholder": "mm",
       "style": "IPY_MODEL_139a494a85f74d5f95101e631c74277c"
      }
     },
     "2b38029cd3fc4e07abb6610b5e592ff9": {
      "model_module": "@jupyter-widgets/controls",
      "model_module_version": "1.5.0",
      "model_name": "TextModel",
      "state": {
       "description": "Pore Fluid",
       "layout": "IPY_MODEL_2459170adfcf4b19a5b6bfc1e1a271f2",
       "placeholder": "DI H2O",
       "style": "IPY_MODEL_dbb47d3f51b949188f2f4634c7674f86",
       "value": "DI H2O"
      }
     },
     "2b6aa6cb2fb5492487090605022bfe66": {
      "model_module": "@jupyter-widgets/controls",
      "model_module_version": "1.5.0",
      "model_name": "TextModel",
      "state": {
       "description": "Feedback",
       "layout": "IPY_MODEL_73f0381bc9904b939335e434cf512bd7",
       "placeholder": "",
       "style": "IPY_MODEL_3b1041aafa0b48bdb15618296dfa394b"
      }
     },
     "2bb8ca46124d4c2b9748d6ce29644d8d": {
      "model_module": "@jupyter-widgets/base",
      "model_module_version": "1.2.0",
      "model_name": "LayoutModel",
      "state": {}
     },
     "2bf1e8c9be7642ce91ff177ca0a21779": {
      "model_module": "@jupyter-widgets/controls",
      "model_module_version": "1.5.0",
      "model_name": "DescriptionStyleModel",
      "state": {
       "description_width": "initial"
      }
     },
     "2c390ac4ab784e7bb02d5fee29b25318": {
      "model_module": "@jupyter-widgets/base",
      "model_module_version": "1.2.0",
      "model_name": "LayoutModel",
      "state": {
       "grid_area": "widget011",
       "width": "150px"
      }
     },
     "2c449d432f434686afcdbe7c28d23fa6": {
      "model_module": "@jupyter-widgets/controls",
      "model_module_version": "1.5.0",
      "model_name": "DescriptionStyleModel",
      "state": {
       "description_width": ""
      }
     },
     "2c7304ee3aea433492902977c56f8b1b": {
      "model_module": "@jupyter-widgets/controls",
      "model_module_version": "1.5.0",
      "model_name": "DescriptionStyleModel",
      "state": {
       "description_width": ""
      }
     },
     "2c7d2e68e2504cbbbd86c3d470416a76": {
      "model_module": "@jupyter-widgets/base",
      "model_module_version": "1.2.0",
      "model_name": "LayoutModel",
      "state": {
       "flex": "1 1 0%",
       "width": "auto"
      }
     },
     "2ebc53d4ee764bb79f26fd3280d65df7": {
      "model_module": "@jupyter-widgets/base",
      "model_module_version": "1.2.0",
      "model_name": "LayoutModel",
      "state": {
       "flex": "1 1 1%",
       "width": "auto"
      }
     },
     "2eed2cead2064ee791f549c09d611c5b": {
      "model_module": "@jupyter-widgets/base",
      "model_module_version": "1.2.0",
      "model_name": "LayoutModel",
      "state": {
       "flex": "1 1 0%",
       "width": "auto"
      }
     },
     "2ef16d681ab4488db9e5c10780ed528b": {
      "model_module": "@jupyter-widgets/controls",
      "model_module_version": "1.5.0",
      "model_name": "LabelModel",
      "state": {
       "layout": "IPY_MODEL_95046ee73cc14ecca09509b0ac133c10",
       "style": "IPY_MODEL_2c7304ee3aea433492902977c56f8b1b"
      }
     },
     "2f4492af00e04115bc0c01d463dc727e": {
      "model_module": "@jupyter-widgets/controls",
      "model_module_version": "1.5.0",
      "model_name": "GridBoxModel",
      "state": {
       "children": [
        "IPY_MODEL_e4cf0e1b494b4b918379c055e79cd738",
        "IPY_MODEL_1fa76d2283194b76ad81affb6ea5df0d",
        "IPY_MODEL_a3d8fc1750114e428d913d1ae94cf67d",
        "IPY_MODEL_e2d474d8234e4301b8de3f3dad37e80d",
        "IPY_MODEL_6feaaf85165941d688e576605dd385c2",
        "IPY_MODEL_2b6aa6cb2fb5492487090605022bfe66",
        "IPY_MODEL_52c6ad8c95304fe2912b829738bff0da",
        "IPY_MODEL_7aa609c4aab14dc3a2ef1d584cb94755",
        "IPY_MODEL_5164435f718146c18ee374b569a419b6",
        "IPY_MODEL_4fee59bf85cd4bb2900e71961fab0b9c",
        "IPY_MODEL_85a8750ab4254cdd9634a5cee0656595",
        "IPY_MODEL_fb01d0d860ef4f559f8a9c39bd3971db",
        "IPY_MODEL_02a8bf4a87fb4f1eb1f64b5befb6b765",
        "IPY_MODEL_f9c5af5830df4e89830bcb1fdc54b11b"
       ],
       "layout": "IPY_MODEL_3e212a2f127049d0b8feec0f953baed0"
      }
     },
     "2f91658686bd4d90a2b89da314f24625": {
      "model_module": "@jupyter-widgets/controls",
      "model_module_version": "1.5.0",
      "model_name": "DescriptionStyleModel",
      "state": {
       "description_width": ""
      }
     },
     "3022867775914f81afe919f9d388cd31": {
      "model_module": "@jupyter-widgets/base",
      "model_module_version": "1.2.0",
      "model_name": "LayoutModel",
      "state": {
       "grid_area": "widget012",
       "width": "150px"
      }
     },
     "3068866d7a4e4f1e882de2de52dd9f67": {
      "model_module": "@jupyter-widgets/controls",
      "model_module_version": "1.5.0",
      "model_name": "DescriptionStyleModel",
      "state": {
       "description_width": ""
      }
     },
     "312427d41e0d4bb08ef5e0611185b439": {
      "model_module": "@jupyter-widgets/controls",
      "model_module_version": "1.5.0",
      "model_name": "DatePickerModel",
      "state": {
       "description": "Exp. Date:",
       "disabled": false,
       "layout": "IPY_MODEL_35508c687996486ea320579d77288a39",
       "style": "IPY_MODEL_65e3de24aebd46bf9fa0789ae9121455",
       "value": {
        "date": 29,
        "month": 10,
        "year": 2021
       }
      }
     },
     "31271314d0464ac09800e253ad21943c": {
      "model_module": "@jupyter-widgets/controls",
      "model_module_version": "1.5.0",
      "model_name": "DescriptionStyleModel",
      "state": {
       "description_width": "initial"
      }
     },
     "317d323dcef84ba69e65a6e8122b5d6d": {
      "model_module": "@jupyter-widgets/controls",
      "model_module_version": "1.5.0",
      "model_name": "DescriptionStyleModel",
      "state": {
       "description_width": ""
      }
     },
     "3196ce8e78b8431090b49c81cf2b682b": {
      "model_module": "@jupyter-widgets/controls",
      "model_module_version": "1.5.0",
      "model_name": "VBoxModel",
      "state": {
       "children": [
        "IPY_MODEL_8e2ff154dd054b3cb842dcee2238c632",
        "IPY_MODEL_72cac7f942154c068f8b3253e8283d9c"
       ],
       "layout": "IPY_MODEL_0be1dbdd542f4af58d42836a35504ec3"
      }
     },
     "3290b09d727443469f22ab090b468a4b": {
      "model_module": "@jupyter-widgets/controls",
      "model_module_version": "1.5.0",
      "model_name": "LabelModel",
      "state": {
       "layout": "IPY_MODEL_53d3f59f6c254fb8b935285891c1836b",
       "style": "IPY_MODEL_95c4eeb759e74dda9208fa8e693294c5",
       "value": "Volt. @ Load = 1.12423"
      }
     },
     "32f0c19def074a45b9b56559587dbf49": {
      "model_module": "@jupyter-widgets/base",
      "model_module_version": "1.2.0",
      "model_name": "LayoutModel",
      "state": {}
     },
     "3344a90a0c684945bdf97fecd2530db3": {
      "model_module": "@jupyter-widgets/controls",
      "model_module_version": "1.5.0",
      "model_name": "DescriptionStyleModel",
      "state": {
       "description_width": ""
      }
     },
     "34af2985ad2640b5a2041c6db64ba958": {
      "model_module": "@jupyter-widgets/base",
      "model_module_version": "1.2.0",
      "model_name": "LayoutModel",
      "state": {}
     },
     "34fd3184797241c3a7fe9b4497dd7852": {
      "model_module": "@jupyter-widgets/controls",
      "model_module_version": "1.5.0",
      "model_name": "ComboboxModel",
      "state": {
       "description": "Horiz. DCDT:",
       "ensure_option": true,
       "layout": "IPY_MODEL_d6d89acfaf7d4f0c9fb3b128b5e432be",
       "options": [
        "short rod",
        "long rod",
        "None"
       ],
       "placeholder": "Horiz. DCDT",
       "style": "IPY_MODEL_940e9d4317f740b9b7e6e4afad4a1e52",
       "value": "None"
      }
     },
     "3527de5ae69f4e748d7a325cb2323191": {
      "model_module": "@jupyter-widgets/controls",
      "model_module_version": "1.5.0",
      "model_name": "DescriptionStyleModel",
      "state": {
       "description_width": "initial"
      }
     },
     "35508c687996486ea320579d77288a39": {
      "model_module": "@jupyter-widgets/base",
      "model_module_version": "1.2.0",
      "model_name": "LayoutModel",
      "state": {}
     },
     "36320a75825d48b2aca46842b7cc4840": {
      "model_module": "@jupyter-widgets/controls",
      "model_module_version": "1.5.0",
      "model_name": "TextModel",
      "state": {
       "description": "Ppa Gain (V/MPa):",
       "layout": "IPY_MODEL_eb56db5eb0eb459c9ba7bee552ccb988",
       "placeholder": "Ppa Gain (V/MPa)",
       "style": "IPY_MODEL_6c9acb960eca4f50b041c26d753afffd"
      }
     },
     "36816e25bfe54149b4083f8e53187671": {
      "model_module": "@jupyter-widgets/controls",
      "model_module_version": "1.5.0",
      "model_name": "GridBoxModel",
      "state": {
       "children": [
        "IPY_MODEL_d3e6b1b9aba44c60b95e40bcaffc2baa",
        "IPY_MODEL_1bccb604a0a64db2bd1a2c3400e5e055",
        "IPY_MODEL_5976227adae944eaabba9ec728742ff9"
       ],
       "layout": "IPY_MODEL_8085bd0b8a804badb7123b4687d61511"
      }
     },
     "36facc60811f4dfb88b7fe3b6150a463": {
      "model_module": "@jupyter-widgets/controls",
      "model_module_version": "1.5.0",
      "model_name": "DescriptionStyleModel",
      "state": {
       "description_width": ""
      }
     },
     "3717e77ac03343b9aecd07f045dcc673": {
      "model_module": "@jupyter-widgets/base",
      "model_module_version": "1.2.0",
      "model_name": "LayoutModel",
      "state": {}
     },
     "3818a38aef634a1788e134106ee6f0ea": {
      "model_module": "@jupyter-widgets/base",
      "model_module_version": "1.2.0",
      "model_name": "LayoutModel",
      "state": {
       "flex": "1 1 1%",
       "width": "auto"
      }
     },
     "3990b555a5ed491197f9fd9438a6041f": {
      "model_module": "@jupyter-widgets/base",
      "model_module_version": "1.2.0",
      "model_name": "LayoutModel",
      "state": {}
     },
     "39ddd28a8517476490df6dcbc340247c": {
      "model_module": "@jupyter-widgets/base",
      "model_module_version": "1.2.0",
      "model_name": "LayoutModel",
      "state": {}
     },
     "3a29322206f44afc99915a2b79d75f85": {
      "model_module": "@jupyter-widgets/controls",
      "model_module_version": "1.5.0",
      "model_name": "DropdownModel",
      "state": {
       "_options_labels": [
        "8 channel",
        "16 channel"
       ],
       "description": "Data Logger Used:",
       "index": 0,
       "layout": "IPY_MODEL_d2db66f2e8a14a5db133f7714467ec5a",
       "style": "IPY_MODEL_1871f36389ed45a4b3ff0fb97570db29"
      }
     },
     "3ac628a701c641cc9990483efdd19489": {
      "model_module": "@jupyter-widgets/controls",
      "model_module_version": "1.5.0",
      "model_name": "TextModel",
      "state": {
       "description": "Horiz. DCDT calib.:",
       "layout": "IPY_MODEL_d3176c279f9a40e9a40de5ceb63c89c6",
       "placeholder": "mm/V",
       "style": "IPY_MODEL_db0213e7deee4cf5b79f348cdb74e528",
       "value": "1.2334"
      }
     },
     "3ac8128e1fe14bf9a0017608a98dc7a4": {
      "model_module": "@jupyter-widgets/base",
      "model_module_version": "1.2.0",
      "model_name": "LayoutModel",
      "state": {
       "border": "2px solid grey",
       "display": "flex",
       "flex_flow": "row",
       "grid_gap": "5px 100px",
       "padding": "10px",
       "width": "75%"
      }
     },
     "3b1041aafa0b48bdb15618296dfa394b": {
      "model_module": "@jupyter-widgets/controls",
      "model_module_version": "1.5.0",
      "model_name": "DescriptionStyleModel",
      "state": {
       "description_width": ""
      }
     },
     "3c2e456038914039bcd922c7cc9dd24c": {
      "model_module": "@jupyter-widgets/controls",
      "model_module_version": "1.5.0",
      "model_name": "DescriptionStyleModel",
      "state": {
       "description_width": ""
      }
     },
     "3cbbc7277cb24cfbb8e7cd800b2e9cfd": {
      "model_module": "@jupyter-widgets/controls",
      "model_module_version": "1.5.0",
      "model_name": "VBoxModel",
      "state": {
       "children": [
        "IPY_MODEL_51701d03b72e4f789da931c5173abf30",
        "IPY_MODEL_36320a75825d48b2aca46842b7cc4840",
        "IPY_MODEL_9695c0d03c904fef9e028a40e4ebcb8c",
        "IPY_MODEL_1d95e59dfc14456bbba1073a12bed704",
        "IPY_MODEL_c724017795d9410d8cc5042bde2ebcb1"
       ],
       "layout": "IPY_MODEL_b1f839fbace84fa2a63ac8e78955cae5"
      }
     },
     "3dad2685cec84a32b67fe85dc19bc486": {
      "model_module": "@jupyter-widgets/controls",
      "model_module_version": "1.5.0",
      "model_name": "ComboboxModel",
      "state": {
       "description": "Vert. DCDT:",
       "ensure_option": true,
       "layout": "IPY_MODEL_a66e54587bf9470792de1c3ae8e71558",
       "options": [
        "Trans-Tek2",
        "None"
       ],
       "placeholder": "Vert. DCDT",
       "style": "IPY_MODEL_04b8804f6678468982f340e3eed3388d",
       "value": "None"
      }
     },
     "3e212a2f127049d0b8feec0f953baed0": {
      "model_module": "@jupyter-widgets/base",
      "model_module_version": "1.2.0",
      "model_name": "LayoutModel",
      "state": {
       "align_content": "center",
       "align_items": "center",
       "border": "2px solid grey",
       "display": "inline_flex",
       "grid_template_areas": "\"widget001 widget001 widget008 widget008\"\n\"widget002 widget005 widget009 widget012\"\n\"widget003 widget006 widget010 widget013\"\n\"widget004 widget007 widget011 widget014\"",
       "grid_template_columns": "repeat(4, 1fr)",
       "grid_template_rows": "repeat(4, 1fr)",
       "padding": "10px",
       "width": "75%"
      }
     },
     "3e544f5b975b4db49fe6f0a151001b93": {
      "model_module": "@jupyter-widgets/controls",
      "model_module_version": "1.5.0",
      "model_name": "TextModel",
      "state": {
       "description": "Hyd. Start:",
       "layout": "IPY_MODEL_929a635437e243ceb949d635d5f974cd",
       "placeholder": "xxx.x",
       "style": "IPY_MODEL_aa6ff46252754a6d9c1dbb8e5c593d54",
       "value": "1"
      }
     },
     "3f3a056933c44bd287bb6ebe35ba1e01": {
      "model_module": "@jupyter-widgets/base",
      "model_module_version": "1.2.0",
      "model_name": "LayoutModel",
      "state": {
       "flex": "1 1 1%",
       "width": "auto"
      }
     },
     "3f4fe1e9e37143cc914beff446e5f7d2": {
      "model_module": "@jupyter-widgets/controls",
      "model_module_version": "1.5.0",
      "model_name": "LabelModel",
      "state": {
       "layout": "IPY_MODEL_5638c43d184d45febfd40d6c6d250574",
       "style": "IPY_MODEL_ad253edd58d741b7829f070fd71d2883",
       "value": "Horizontal Load Cell"
      }
     },
     "3f79b497c0e7475a957bb3d982fe5818": {
      "model_module": "@jupyter-widgets/base",
      "model_module_version": "1.2.0",
      "model_name": "LayoutModel",
      "state": {
       "grid_area": "widget004",
       "width": "150px"
      }
     },
     "405a59663d2c4f4988bbff5c23d7b9a5": {
      "model_module": "@jupyter-widgets/base",
      "model_module_version": "1.2.0",
      "model_name": "LayoutModel",
      "state": {
       "flex": "1 1 1%",
       "width": "auto"
      }
     },
     "41672d3ad19e4149aec4d36c83b3fa45": {
      "model_module": "@jupyter-widgets/base",
      "model_module_version": "1.2.0",
      "model_name": "LayoutModel",
      "state": {
       "grid_area": "widget005",
       "width": "150px"
      }
     },
     "428153ef95f94bb08db598559c42fb27": {
      "model_module": "@jupyter-widgets/controls",
      "model_module_version": "1.5.0",
      "model_name": "TextModel",
      "state": {
       "description": "Particle Size, Distribution",
       "layout": "IPY_MODEL_49f60491c941401ca17b03e7387a754a",
       "placeholder": "Size Distribution",
       "style": "IPY_MODEL_4f4594834c514ff4b06fddc21f106e68"
      }
     },
     "42faf674449747328317295d674f12b4": {
      "model_module": "@jupyter-widgets/controls",
      "model_module_version": "1.5.0",
      "model_name": "GridBoxModel",
      "state": {
       "children": [
        "IPY_MODEL_7885cbc9bb1d4d8bb056af4f4b6dc7c8",
        "IPY_MODEL_edeadde2dbd14991b3a65c149e6b2d94"
       ],
       "layout": "IPY_MODEL_6df7ad12bec2483995ab4c5c20bb0ed9"
      }
     },
     "4326794be06f4293b53cee707a5f2488": {
      "model_module": "@jupyter-widgets/base",
      "model_module_version": "1.2.0",
      "model_name": "LayoutModel",
      "state": {}
     },
     "43a026ee888d4e4cbebe283c0cadde2a": {
      "model_module": "@jupyter-widgets/controls",
      "model_module_version": "1.5.0",
      "model_name": "RadioButtonsModel",
      "state": {
       "_options_labels": [
        "yes",
        "no"
       ],
       "description": "Record PID?",
       "index": 1,
       "layout": "IPY_MODEL_a3d593ddd48342f2b99e32eb1a5a9294",
       "style": "IPY_MODEL_febbde5563ff49f4b475c8cbe311be85"
      }
     },
     "443a517fabe941ba86e5e4db8a78ea33": {
      "model_module": "@jupyter-widgets/base",
      "model_module_version": "1.2.0",
      "model_name": "LayoutModel",
      "state": {
       "grid_area": "widget004",
       "width": "150px"
      }
     },
     "44626463649f434b866c51e9da8d8b82": {
      "model_module": "@jupyter-widgets/controls",
      "model_module_version": "1.5.0",
      "model_name": "DescriptionStyleModel",
      "state": {
       "description_width": ""
      }
     },
     "446d8e8a00d04ed7acae87a2d8adf090": {
      "model_module": "@jupyter-widgets/controls",
      "model_module_version": "1.5.0",
      "model_name": "ButtonStyleModel",
      "state": {}
     },
     "4519f97b89734f9ebc79901fcfbc248c": {
      "model_module": "@jupyter-widgets/base",
      "model_module_version": "1.2.0",
      "model_name": "LayoutModel",
      "state": {}
     },
     "46140b457d2e467f819282eabeac9cf1": {
      "model_module": "@jupyter-widgets/controls",
      "model_module_version": "1.5.0",
      "model_name": "VBoxModel",
      "state": {
       "children": [
        "IPY_MODEL_ebea39cb7ab340f993deed2ecbaf51a9",
        "IPY_MODEL_86c7bb99c8344b3bbf976a42c7ae9e32",
        "IPY_MODEL_d4c75819de1947c9a728bcd1295221fb",
        "IPY_MODEL_92407719c0b1423ba9cedf117f74b941",
        "IPY_MODEL_23c8e50de6834aebb58164fe893f650f"
       ],
       "layout": "IPY_MODEL_b27910a6ebef4ec8a96203345362de0d"
      }
     },
     "46bde625555f466f8e5adb30bb8b780e": {
      "model_module": "@jupyter-widgets/controls",
      "model_module_version": "1.5.0",
      "model_name": "VBoxModel",
      "state": {
       "children": [
        "IPY_MODEL_d3c68b470ad241e687c4b0ac0a0f946a",
        "IPY_MODEL_6cb076e2aaf1499e8c10a418e41f27a7",
        "IPY_MODEL_8afa76463c5648a2ad732fd53723f573",
        "IPY_MODEL_fadd1027cbc04a5ca1f010ef7b696745",
        "IPY_MODEL_8e19ba091c334e46850b2691b24acd59",
        "IPY_MODEL_6c009972450e4add97b78ce1f17796c8"
       ],
       "layout": "IPY_MODEL_a5fa88b694a34b428da4ae0e6d97bb36"
      }
     },
     "470a199e096541e88215928c68d05112": {
      "model_module": "@jupyter-widgets/base",
      "model_module_version": "1.2.0",
      "model_name": "LayoutModel",
      "state": {
       "flex": "1 1 1%",
       "width": "auto"
      }
     },
     "480247303a3c4e65a4a3e6f3a1cc24d6": {
      "model_module": "@jupyter-widgets/controls",
      "model_module_version": "1.5.0",
      "model_name": "DescriptionStyleModel",
      "state": {
       "description_width": "initial"
      }
     },
     "488d08c0fd1f4185933e11485f76d799": {
      "model_module": "@jupyter-widgets/base",
      "model_module_version": "1.2.0",
      "model_name": "LayoutModel",
      "state": {}
     },
     "495bc7d9bb4648f2ac8bb8a2768e7e6b": {
      "model_module": "@jupyter-widgets/base",
      "model_module_version": "1.2.0",
      "model_name": "LayoutModel",
      "state": {}
     },
     "49f60491c941401ca17b03e7387a754a": {
      "model_module": "@jupyter-widgets/base",
      "model_module_version": "1.2.0",
      "model_name": "LayoutModel",
      "state": {}
     },
     "4a02b46c12f64934b392fee4dfc395fe": {
      "model_module": "@jupyter-widgets/controls",
      "model_module_version": "1.5.0",
      "model_name": "LabelModel",
      "state": {
       "layout": "IPY_MODEL_2bb8ca46124d4c2b9748d6ce29644d8d",
       "style": "IPY_MODEL_9a7b1666c99e493f9d4f794e096639d1"
      }
     },
     "4ea4de1e2b2a45fc969ea5cf5ff9f9f1": {
      "model_module": "@jupyter-widgets/controls",
      "model_module_version": "1.5.0",
      "model_name": "LabelModel",
      "state": {
       "layout": "IPY_MODEL_39ddd28a8517476490df6dcbc340247c",
       "style": "IPY_MODEL_192ea41638ba4c818efb33b8d0f06f68"
      }
     },
     "4f4594834c514ff4b06fddc21f106e68": {
      "model_module": "@jupyter-widgets/controls",
      "model_module_version": "1.5.0",
      "model_name": "DescriptionStyleModel",
      "state": {
       "description_width": "initial"
      }
     },
     "4fee59bf85cd4bb2900e71961fab0b9c": {
      "model_module": "@jupyter-widgets/controls",
      "model_module_version": "1.5.0",
      "model_name": "TextModel",
      "state": {
       "description": "I",
       "layout": "IPY_MODEL_a7c20eb7f5d64ccd9ebfe0b95d9bf6ad",
       "placeholder": "",
       "style": "IPY_MODEL_fd0b6be9d6af43d99e0824fa86649826"
      }
     },
     "501ee62f84324f12a1347ed5342e462f": {
      "model_module": "@jupyter-widgets/base",
      "model_module_version": "1.2.0",
      "model_name": "LayoutModel",
      "state": {}
     },
     "506b3238e1a0454d9d1925e1f2acc6f2": {
      "model_module": "@jupyter-widgets/base",
      "model_module_version": "1.2.0",
      "model_name": "LayoutModel",
      "state": {
       "flex": "1 1 1%",
       "width": "auto"
      }
     },
     "5164435f718146c18ee374b569a419b6": {
      "model_module": "@jupyter-widgets/controls",
      "model_module_version": "1.5.0",
      "model_name": "TextModel",
      "state": {
       "description": "P",
       "layout": "IPY_MODEL_df4f2baca02242538dae84fc80f953ac",
       "placeholder": "",
       "style": "IPY_MODEL_d05dade15bbf42a18ab533b89f40c0b3"
      }
     },
     "51701d03b72e4f789da931c5173abf30": {
      "model_module": "@jupyter-widgets/controls",
      "model_module_version": "1.5.0",
      "model_name": "LabelModel",
      "state": {
       "layout": "IPY_MODEL_17e5d7642c6f41d6a676fe53625caa3b",
       "style": "IPY_MODEL_87023e70beb54d6cb9828ef7bd80168c",
       "value": "Confining Pressure"
      }
     },
     "5176ed174dce436a855539dc44e858db": {
      "model_module": "@jupyter-widgets/controls",
      "model_module_version": "1.5.0",
      "model_name": "DescriptionStyleModel",
      "state": {
       "description_width": "initial"
      }
     },
     "51e0a97e93684e679bfd5131a79c407f": {
      "model_module": "@jupyter-widgets/controls",
      "model_module_version": "1.5.0",
      "model_name": "DescriptionStyleModel",
      "state": {
       "description_width": "initial"
      }
     },
     "52c6ad8c95304fe2912b829738bff0da": {
      "model_module": "@jupyter-widgets/controls",
      "model_module_version": "1.5.0",
      "model_name": "TextModel",
      "state": {
       "description": "E-gain",
       "layout": "IPY_MODEL_9b57a58b6d584b0d9bce1505846b2fb3",
       "placeholder": "",
       "style": "IPY_MODEL_77647baed6f14ef881c22a7c09441545"
      }
     },
     "52cc293f19434e5289665972b46370c4": {
      "model_module": "@jupyter-widgets/base",
      "model_module_version": "1.2.0",
      "model_name": "LayoutModel",
      "state": {}
     },
     "52ef9fc0c39040b4a2a93e93bc3b48fb": {
      "model_module": "@jupyter-widgets/output",
      "model_module_version": "1.0.0",
      "model_name": "OutputModel",
      "state": {
       "layout": "IPY_MODEL_9f9909b4d8bb48579eba1f7465ee38f9",
       "outputs": [
        {
         "data": {
          "application/vnd.jupyter.widget-view+json": {
           "model_id": "4ea4de1e2b2a45fc969ea5cf5ff9f9f1",
           "version_major": 2,
           "version_minor": 0
          },
          "text/plain": "Label(value='')"
         },
         "metadata": {},
         "output_type": "display_data"
        }
       ]
      }
     },
     "5385d06fec084c71ac655024c4446638": {
      "model_module": "@jupyter-widgets/base",
      "model_module_version": "1.2.0",
      "model_name": "LayoutModel",
      "state": {}
     },
     "53d3f59f6c254fb8b935285891c1836b": {
      "model_module": "@jupyter-widgets/base",
      "model_module_version": "1.2.0",
      "model_name": "LayoutModel",
      "state": {}
     },
     "5436d4169d0f4738802f17d0a8d6369a": {
      "model_module": "@jupyter-widgets/controls",
      "model_module_version": "1.5.0",
      "model_name": "VBoxModel",
      "state": {
       "children": [
        "IPY_MODEL_a2b906a72a8a4b7fb2d446f12c61413b",
        "IPY_MODEL_51701d03b72e4f789da931c5173abf30",
        "IPY_MODEL_c180eab4b7f641dba64bfe02d89bdd8a",
        "IPY_MODEL_6179c87b0bfa45059bbd41f8ba3ca799",
        "IPY_MODEL_d8bb383642d840a1bcca7411eab2683a",
        "IPY_MODEL_7b59585af7564e499de6c3a78b58b2a7"
       ],
       "layout": "IPY_MODEL_2565da6252d1463f94befc4406545837"
      }
     },
     "544d7871869847f190dacde9938169e0": {
      "model_module": "@jupyter-widgets/base",
      "model_module_version": "1.2.0",
      "model_name": "LayoutModel",
      "state": {}
     },
     "5527bef1941844baa40bd37c2dacfbe8": {
      "model_module": "@jupyter-widgets/controls",
      "model_module_version": "1.5.0",
      "model_name": "TextModel",
      "state": {
       "description": "P",
       "layout": "IPY_MODEL_6fb3df81f6e04480b50603321a8926db",
       "placeholder": "",
       "style": "IPY_MODEL_555198ee1dfa4a21895469abeb5f4099",
       "value": "1"
      }
     },
     "555198ee1dfa4a21895469abeb5f4099": {
      "model_module": "@jupyter-widgets/controls",
      "model_module_version": "1.5.0",
      "model_name": "DescriptionStyleModel",
      "state": {
       "description_width": ""
      }
     },
     "559e71a21115476db2fe5c8e4f0ddf93": {
      "model_module": "@jupyter-widgets/controls",
      "model_module_version": "1.5.0",
      "model_name": "VBoxModel",
      "state": {
       "children": [
        "IPY_MODEL_5db96e16ecd7440f8f386971f8dcbaa1",
        "IPY_MODEL_22fd0031359e40ac8069b86c01ef538d"
       ],
       "layout": "IPY_MODEL_97c5496417b9418188418f96bffbb791"
      }
     },
     "5638c43d184d45febfd40d6c6d250574": {
      "model_module": "@jupyter-widgets/base",
      "model_module_version": "1.2.0",
      "model_name": "LayoutModel",
      "state": {}
     },
     "575f87f04a8d4844b015112732a61b3c": {
      "model_module": "@jupyter-widgets/controls",
      "model_module_version": "1.5.0",
      "model_name": "DescriptionStyleModel",
      "state": {
       "description_width": "initial"
      }
     },
     "57abf72780394ef2b133c70fcc60a8d5": {
      "model_module": "@jupyter-widgets/controls",
      "model_module_version": "1.5.0",
      "model_name": "LabelModel",
      "state": {
       "layout": "IPY_MODEL_3990b555a5ed491197f9fd9438a6041f",
       "style": "IPY_MODEL_317d323dcef84ba69e65a6e8122b5d6d",
       "value": "Volt. @ Load = "
      }
     },
     "58dedf90aa8d495da4aa2016f5b1c22e": {
      "model_module": "@jupyter-widgets/controls",
      "model_module_version": "1.5.0",
      "model_name": "VBoxModel",
      "state": {
       "children": [
        "IPY_MODEL_2b38029cd3fc4e07abb6610b5e592ff9",
        "IPY_MODEL_ebea39cb7ab340f993deed2ecbaf51a9",
        "IPY_MODEL_a0f7e125c6094ec2809caf1f34b6537b",
        "IPY_MODEL_de87555968a749e6802ddb950ce29c37",
        "IPY_MODEL_8d8caa40bc0e4b7caa74e11d732e8d1c",
        "IPY_MODEL_d6e7f1fa2dbe4fdeae851b31750323fd"
       ],
       "layout": "IPY_MODEL_ba6c1e36f92f4495b32f9b5b89f0dcc2"
      }
     },
     "5976227adae944eaabba9ec728742ff9": {
      "model_module": "@jupyter-widgets/controls",
      "model_module_version": "1.5.0",
      "model_name": "TextareaModel",
      "state": {
       "description": "Experiment Notes",
       "layout": "IPY_MODEL_fa51a0aa5c654eb3b3bad86e7f3315ee",
       "placeholder": "Experiment Notes",
       "style": "IPY_MODEL_7ba784a13bfb4ad4905f75dd2355156f",
       "value": "something"
      }
     },
     "5a040500eed34626840d939a356f9cfa": {
      "model_module": "@jupyter-widgets/base",
      "model_module_version": "1.2.0",
      "model_name": "LayoutModel",
      "state": {}
     },
     "5a4bf72e09e642d69bdca0dcdba7fbf3": {
      "model_module": "@jupyter-widgets/base",
      "model_module_version": "1.2.0",
      "model_name": "LayoutModel",
      "state": {}
     },
     "5abee74b7ed242258d48e901137b335f": {
      "model_module": "@jupyter-widgets/controls",
      "model_module_version": "1.5.0",
      "model_name": "TextModel",
      "state": {
       "description": "Hyd. End:",
       "layout": "IPY_MODEL_17636b95f06048139b09201629bc6abc",
       "placeholder": "xxx.x",
       "style": "IPY_MODEL_31271314d0464ac09800e253ad21943c",
       "value": "2"
      }
     },
     "5b508a58996141afbff112300e06585b": {
      "model_module": "@jupyter-widgets/controls",
      "model_module_version": "1.5.0",
      "model_name": "DropdownModel",
      "state": {
       "_options_labels": [
        "44mm Solid Vert",
        "44mm Solid Vert",
        "None"
       ],
       "description": "Vert. Load Cell:",
       "index": 0,
       "layout": "IPY_MODEL_692ccc76a5dd49ea94256cc0d614e87a",
       "style": "IPY_MODEL_88bcc51ba62845ef9c13522b84653b6d"
      }
     },
     "5c541a42145b496e994dfe11b29e8d7c": {
      "model_module": "@jupyter-widgets/controls",
      "model_module_version": "1.5.0",
      "model_name": "DescriptionStyleModel",
      "state": {
       "description_width": ""
      }
     },
     "5db96e16ecd7440f8f386971f8dcbaa1": {
      "model_module": "@jupyter-widgets/controls",
      "model_module_version": "1.5.0",
      "model_name": "TextModel",
      "state": {
       "description": "Exp. Name:",
       "layout": "IPY_MODEL_b3abf2589c674fdf9b5c8904778503b6",
       "placeholder": "pxxxx",
       "style": "IPY_MODEL_51e0a97e93684e679bfd5131a79c407f",
       "value": "ptest"
      }
     },
     "5e2433d021704a26b7c07cac96298a64": {
      "model_module": "@jupyter-widgets/controls",
      "model_module_version": "1.5.0",
      "model_name": "LabelModel",
      "state": {
       "layout": "IPY_MODEL_186e5f1b7baf462d9b8d4fddb86b344b",
       "style": "IPY_MODEL_2662e546f55b464bbc6976730762a6ab",
       "value": "Volt. @ Load = 2.00123"
      }
     },
     "5efceff4819a4bed9b5eee56a7d86edd": {
      "model_module": "@jupyter-widgets/controls",
      "model_module_version": "1.5.0",
      "model_name": "TextModel",
      "state": {
       "description": "Material",
       "layout": "IPY_MODEL_495bc7d9bb4648f2ac8bb8a2768e7e6b",
       "placeholder": "Anhydrite, Westerly Granite",
       "style": "IPY_MODEL_14aad70ad4404ae493a22c68b7ff2208",
       "value": "WG"
      }
     },
     "5f311946f67b46839a7c2453407f94d0": {
      "model_module": "@jupyter-widgets/base",
      "model_module_version": "1.2.0",
      "model_name": "LayoutModel",
      "state": {
       "grid_area": "widget001"
      }
     },
     "5f60d5be0a8f41739bd5c9b7443def78": {
      "model_module": "@jupyter-widgets/base",
      "model_module_version": "1.2.0",
      "model_name": "LayoutModel",
      "state": {}
     },
     "5f83602e08354aaa8d3f407d86b6f984": {
      "model_module": "@jupyter-widgets/base",
      "model_module_version": "1.2.0",
      "model_name": "LayoutModel",
      "state": {}
     },
     "5f89cd2981a44e98b04e770a4891231d": {
      "model_module": "@jupyter-widgets/controls",
      "model_module_version": "1.5.0",
      "model_name": "LabelModel",
      "state": {
       "layout": "IPY_MODEL_5f83602e08354aaa8d3f407d86b6f984",
       "style": "IPY_MODEL_914d6e79afc94531b37910d8a6fe1a67"
      }
     },
     "601aca669b714241b99a556ef4ab8b7c": {
      "model_module": "@jupyter-widgets/controls",
      "model_module_version": "1.5.0",
      "model_name": "DescriptionStyleModel",
      "state": {
       "description_width": "initial"
      }
     },
     "6179c87b0bfa45059bbd41f8ba3ca799": {
      "model_module": "@jupyter-widgets/controls",
      "model_module_version": "1.5.0",
      "model_name": "TextModel",
      "state": {
       "description": "PpB Press. (MPa)",
       "layout": "IPY_MODEL_8f397b920fe54d4f9430658fdb5bc44e",
       "placeholder": "MPa",
       "style": "IPY_MODEL_9812afebbdf747518956ec94487b3bbe"
      }
     },
     "61b97634440343ffa8833347a1412a9d": {
      "model_module": "@jupyter-widgets/base",
      "model_module_version": "1.2.0",
      "model_name": "LayoutModel",
      "state": {}
     },
     "620b78522d084265953aff94780d2111": {
      "model_module": "@jupyter-widgets/controls",
      "model_module_version": "1.5.0",
      "model_name": "DescriptionStyleModel",
      "state": {
       "description_width": ""
      }
     },
     "62940baa8db249db9c8e2292e073f679": {
      "model_module": "@jupyter-widgets/base",
      "model_module_version": "1.2.0",
      "model_name": "LayoutModel",
      "state": {}
     },
     "64fd95e282104b239279d6eecadac494": {
      "model_module": "@jupyter-widgets/base",
      "model_module_version": "1.2.0",
      "model_name": "LayoutModel",
      "state": {}
     },
     "659983eefed44be586d0b3105a43fb4a": {
      "model_module": "@jupyter-widgets/base",
      "model_module_version": "1.2.0",
      "model_name": "LayoutModel",
      "state": {}
     },
     "65e3de24aebd46bf9fa0789ae9121455": {
      "model_module": "@jupyter-widgets/controls",
      "model_module_version": "1.5.0",
      "model_name": "DescriptionStyleModel",
      "state": {
       "description_width": "initial"
      }
     },
     "66279767b03941838cf26744f9d28bae": {
      "model_module": "@jupyter-widgets/base",
      "model_module_version": "1.2.0",
      "model_name": "LayoutModel",
      "state": {
       "grid_area": "widget007",
       "width": "150px"
      }
     },
     "6679babbaf24454ebdcdba2f8775c817": {
      "model_module": "@jupyter-widgets/controls",
      "model_module_version": "1.5.0",
      "model_name": "DescriptionStyleModel",
      "state": {
       "description_width": "initial"
      }
     },
     "66944b9eb54b4131901e7f8f3f728542": {
      "model_module": "@jupyter-widgets/base",
      "model_module_version": "1.2.0",
      "model_name": "LayoutModel",
      "state": {
       "align_items": "stretch",
       "border": "2px solid grey",
       "display": "flex",
       "flex_flow": "row",
       "grid_gap": "60px 60px",
       "padding": "10px",
       "width": "75%"
      }
     },
     "6838cbbf3bb7442693ba37ca6405fa2d": {
      "model_module": "@jupyter-widgets/controls",
      "model_module_version": "1.5.0",
      "model_name": "DescriptionStyleModel",
      "state": {
       "description_width": "initial"
      }
     },
     "688eb21608c747c5862277c85755c845": {
      "model_module": "@jupyter-widgets/base",
      "model_module_version": "1.2.0",
      "model_name": "LayoutModel",
      "state": {}
     },
     "692ccc76a5dd49ea94256cc0d614e87a": {
      "model_module": "@jupyter-widgets/base",
      "model_module_version": "1.2.0",
      "model_name": "LayoutModel",
      "state": {}
     },
     "696c6bd1bbaf478fbafa69855492e4eb": {
      "model_module": "@jupyter-widgets/controls",
      "model_module_version": "1.5.0",
      "model_name": "GridBoxModel",
      "state": {
       "children": [
        "IPY_MODEL_e603574dcf0f4145a238e07d1a006155",
        "IPY_MODEL_5527bef1941844baa40bd37c2dacfbe8",
        "IPY_MODEL_116a95e7e67e4c2dbfe8064bf991851a",
        "IPY_MODEL_caa71332d4744f51acd26eab1848e688",
        "IPY_MODEL_d41cd1ab901a44bda310916735111f34",
        "IPY_MODEL_af0d824088ff4dee80b4c0c40c1ed67a",
        "IPY_MODEL_6e71eeacd7354a3298bad278ef8b8ceb",
        "IPY_MODEL_d46b460384264ea088c5a6a91e508a20",
        "IPY_MODEL_e084ffffeba84cce99e19caf6ae39afb",
        "IPY_MODEL_90bd929c971246399e1be40b4796a215",
        "IPY_MODEL_8e6eb756e0d44c81be7b235ca3c0b4db",
        "IPY_MODEL_917d09fa89ce43078e062ae03c912c6f",
        "IPY_MODEL_d064b5ba14084543bc702cba3a2b1df9",
        "IPY_MODEL_9e6d33a529124d5a891b191b048dd44f"
       ],
       "layout": "IPY_MODEL_6eb72526f6cf461dadccf068309aee7c"
      }
     },
     "6976f1e6f8a141b6b9a8cef4257b79fc": {
      "model_module": "@jupyter-widgets/base",
      "model_module_version": "1.2.0",
      "model_name": "LayoutModel",
      "state": {
       "border": "2px solid royalblue",
       "display": "flex",
       "flex_flow": "row",
       "grid_gap": "60px",
       "padding": "10px",
       "width": "75%"
      }
     },
     "6992894c811649ea8e5130a120c20b27": {
      "model_module": "@jupyter-widgets/base",
      "model_module_version": "1.2.0",
      "model_name": "LayoutModel",
      "state": {
       "grid_area": "widget013",
       "width": "150px"
      }
     },
     "6a3ea97696754f34b4dd9cb711ea8d56": {
      "model_module": "@jupyter-widgets/base",
      "model_module_version": "1.2.0",
      "model_name": "LayoutModel",
      "state": {}
     },
     "6bb4ab7bcd194d818150af638f4b7ab8": {
      "model_module": "@jupyter-widgets/controls",
      "model_module_version": "1.5.0",
      "model_name": "TextModel",
      "state": {
       "description": "Pc Gain (V/MPa):",
       "layout": "IPY_MODEL_cd4983549c2c43dabbcdec62f77875df",
       "placeholder": "0.1456 V/MPa",
       "style": "IPY_MODEL_cdc4a654572c40a5bf218dbd72bdcdbc",
       "value": "0.1456"
      }
     },
     "6c009972450e4add97b78ce1f17796c8": {
      "model_module": "@jupyter-widgets/controls",
      "model_module_version": "1.5.0",
      "model_name": "LabelModel",
      "state": {
       "layout": "IPY_MODEL_e4a00f1e74444f37bd3297e3528db6c7",
       "style": "IPY_MODEL_ac596e677c68443f9a06f6cb86e3492c",
       "value": "Volt. @ Load = 2.00123"
      }
     },
     "6c8dda220c2d4661ae00f146c162198b": {
      "model_module": "@jupyter-widgets/base",
      "model_module_version": "1.2.0",
      "model_name": "LayoutModel",
      "state": {
       "align_items": "stretch",
       "border": "2px solid grey",
       "display": "flex",
       "flex_flow": "row",
       "padding": "10px",
       "width": "75%"
      }
     },
     "6c9acb960eca4f50b041c26d753afffd": {
      "model_module": "@jupyter-widgets/controls",
      "model_module_version": "1.5.0",
      "model_name": "DescriptionStyleModel",
      "state": {
       "description_width": "initial"
      }
     },
     "6cb076e2aaf1499e8c10a418e41f27a7": {
      "model_module": "@jupyter-widgets/controls",
      "model_module_version": "1.5.0",
      "model_name": "DropdownModel",
      "state": {
       "_options_labels": [
        "44mm Solid Vert",
        "44mm Solid Vert",
        "None"
       ],
       "description": "Vert. Load Cell:",
       "index": 0,
       "layout": "IPY_MODEL_62940baa8db249db9c8e2292e073f679",
       "style": "IPY_MODEL_920cf892065f4038a3a7f37c456c86bc"
      }
     },
     "6df7ad12bec2483995ab4c5c20bb0ed9": {
      "model_module": "@jupyter-widgets/base",
      "model_module_version": "1.2.0",
      "model_name": "LayoutModel",
      "state": {
       "align_items": "stretch",
       "border": "2px solid grey",
       "display": "flex",
       "flex_flow": "row",
       "grid_gap": "60px 60px",
       "padding": "10px",
       "width": "75%"
      }
     },
     "6e71eeacd7354a3298bad278ef8b8ceb": {
      "model_module": "@jupyter-widgets/controls",
      "model_module_version": "1.5.0",
      "model_name": "TextModel",
      "state": {
       "description": "E-gain",
       "layout": "IPY_MODEL_66279767b03941838cf26744f9d28bae",
       "placeholder": "",
       "style": "IPY_MODEL_f96b18e2cf8f49ac8eabe60626044294",
       "value": "1"
      }
     },
     "6e7799f724ff478191d2e1858484b95c": {
      "model_module": "@jupyter-widgets/controls",
      "model_module_version": "1.5.0",
      "model_name": "TextModel",
      "state": {
       "description": "Hyd. Start:",
       "layout": "IPY_MODEL_1ebeb2a8772f4c7d849d7c605d9a00df",
       "placeholder": "xxx.x",
       "style": "IPY_MODEL_cf9391a9357a40a2a7b1f02be281af5a",
       "value": "1"
      }
     },
     "6eb72526f6cf461dadccf068309aee7c": {
      "model_module": "@jupyter-widgets/base",
      "model_module_version": "1.2.0",
      "model_name": "LayoutModel",
      "state": {
       "align_content": "center",
       "align_items": "center",
       "border": "2px solid grey",
       "display": "inline_flex",
       "grid_template_areas": "\"widget001 widget001 widget008 widget008\"\n\"widget002 widget005 widget009 widget012\"\n\"widget003 widget006 widget010 widget013\"\n\"widget004 widget007 widget011 widget014\"",
       "grid_template_columns": "repeat(4, 1fr)",
       "grid_template_rows": "repeat(4, 1fr)",
       "padding": "10px",
       "width": "75%"
      }
     },
     "6eeb32f2c9ff497ba91016c0bc609ce0": {
      "model_module": "@jupyter-widgets/base",
      "model_module_version": "1.2.0",
      "model_name": "LayoutModel",
      "state": {
       "align_items": "stretch",
       "border": "2px solid grey",
       "display": "flex",
       "flex_flow": "row",
       "grid_gap": "60px 60px",
       "padding": "10px",
       "width": "75%"
      }
     },
     "6fb3df81f6e04480b50603321a8926db": {
      "model_module": "@jupyter-widgets/base",
      "model_module_version": "1.2.0",
      "model_name": "LayoutModel",
      "state": {
       "grid_area": "widget002",
       "width": "150px"
      }
     },
     "6feaaf85165941d688e576605dd385c2": {
      "model_module": "@jupyter-widgets/controls",
      "model_module_version": "1.5.0",
      "model_name": "TextModel",
      "state": {
       "description": "Datten",
       "layout": "IPY_MODEL_202be5f0b66d416aa92e3d36b40b286f",
       "placeholder": "",
       "style": "IPY_MODEL_2698a67c755446a6a8646868b8fead75"
      }
     },
     "6ff19544b25c4a2599af14562d017177": {
      "model_module": "@jupyter-widgets/controls",
      "model_module_version": "1.5.0",
      "model_name": "DescriptionStyleModel",
      "state": {
       "description_width": ""
      }
     },
     "700fbed0507f41db9ab409cfff223393": {
      "model_module": "@jupyter-widgets/controls",
      "model_module_version": "1.5.0",
      "model_name": "DescriptionStyleModel",
      "state": {
       "description_width": ""
      }
     },
     "70c4e825551c4f4db2f3081d4a967a08": {
      "model_module": "@jupyter-widgets/controls",
      "model_module_version": "1.5.0",
      "model_name": "TextModel",
      "state": {
       "description": "Target Stress(es) (MPa):",
       "layout": "IPY_MODEL_6a3ea97696754f34b4dd9cb711ea8d56",
       "placeholder": "MPa",
       "style": "IPY_MODEL_b4e6ee28548042ecb2742b5adf669b65",
       "value": "10"
      }
     },
     "70cf5cfda24846c5b748cd747a0cbe5f": {
      "model_module": "@jupyter-widgets/controls",
      "model_module_version": "1.5.0",
      "model_name": "TextModel",
      "state": {
       "description": "Calibration (mV/kN):",
       "layout": "IPY_MODEL_a035c12bd3db4f8dbf077fd0064af4b0",
       "placeholder": "mV/kN",
       "style": "IPY_MODEL_7ba6cdc494d945ed9ccccc392c2c6b42",
       "value": "100.123"
      }
     },
     "71588eb6a30c435a9b4042d4bbea15a3": {
      "model_module": "@jupyter-widgets/controls",
      "model_module_version": "1.5.0",
      "model_name": "DescriptionStyleModel",
      "state": {
       "description_width": "initial"
      }
     },
     "717b0384cad248c384e576ef2935b1f4": {
      "model_module": "@jupyter-widgets/controls",
      "model_module_version": "1.5.0",
      "model_name": "DescriptionStyleModel",
      "state": {
       "description_width": ""
      }
     },
     "72cac7f942154c068f8b3253e8283d9c": {
      "model_module": "@jupyter-widgets/controls",
      "model_module_version": "1.5.0",
      "model_name": "TextModel",
      "state": {
       "description": "Particle Size, Distribution",
       "layout": "IPY_MODEL_8184a2b8bf18426a9fab3e876c49d9f6",
       "placeholder": "Size Distribution",
       "style": "IPY_MODEL_deb0652462df4f9281874fb70da6bada"
      }
     },
     "72cc0a790ead41c9bfc9a62aafa5a9bf": {
      "model_module": "@jupyter-widgets/base",
      "model_module_version": "1.2.0",
      "model_name": "LayoutModel",
      "state": {
       "align_items": "stretch",
       "border": "2px solid grey",
       "display": "flex",
       "flex_flow": "row",
       "padding": "10px",
       "width": "75%"
      }
     },
     "7339c7dd9c6d4cf2a7ff73f093ccb42c": {
      "model_module": "@jupyter-widgets/controls",
      "model_module_version": "1.5.0",
      "model_name": "DescriptionStyleModel",
      "state": {
       "description_width": "initial"
      }
     },
     "7354abb9fa214d8eaedfe2ac0bacd0d4": {
      "model_module": "@jupyter-widgets/controls",
      "model_module_version": "1.5.0",
      "model_name": "DescriptionStyleModel",
      "state": {
       "description_width": "initial"
      }
     },
     "73bf1924aa484052994abdf4757373d6": {
      "model_module": "@jupyter-widgets/base",
      "model_module_version": "1.2.0",
      "model_name": "LayoutModel",
      "state": {
       "grid_area": "widget014",
       "width": "150px"
      }
     },
     "73f0381bc9904b939335e434cf512bd7": {
      "model_module": "@jupyter-widgets/base",
      "model_module_version": "1.2.0",
      "model_name": "LayoutModel",
      "state": {
       "grid_area": "widget006",
       "width": "150px"
      }
     },
     "7495fa41c8e247b891b7629bb5976e03": {
      "model_module": "@jupyter-widgets/base",
      "model_module_version": "1.2.0",
      "model_name": "LayoutModel",
      "state": {
       "grid_area": "widget008"
      }
     },
     "74d34194f0934b76aa0489aaed0fb18e": {
      "model_module": "@jupyter-widgets/controls",
      "model_module_version": "1.5.0",
      "model_name": "DescriptionStyleModel",
      "state": {
       "description_width": ""
      }
     },
     "7544f6c1140a4941a69cf44530614478": {
      "model_module": "@jupyter-widgets/base",
      "model_module_version": "1.2.0",
      "model_name": "LayoutModel",
      "state": {}
     },
     "76caac3246704a7aa5673eb3eecbfb37": {
      "model_module": "@jupyter-widgets/controls",
      "model_module_version": "1.5.0",
      "model_name": "TextModel",
      "state": {
       "description": "V. Init. Volt.:",
       "layout": "IPY_MODEL_4326794be06f4293b53cee707a5f2488",
       "placeholder": "Volt",
       "style": "IPY_MODEL_222a02e5ed3949b9897237aaeca6eb75",
       "value": "0.123"
      }
     },
     "76dc70bcb29149059ddae31d114ac28a": {
      "model_module": "@jupyter-widgets/controls",
      "model_module_version": "1.5.0",
      "model_name": "ButtonModel",
      "state": {
       "description": "Make Runsheet",
       "layout": "IPY_MODEL_db953bdc98f7411881e8c1aa8b3edd6d",
       "style": "IPY_MODEL_88fcbcc519ab4f688727941a7f153f7a"
      }
     },
     "7718a0b81fc049419d6ba545a07c4c40": {
      "model_module": "@jupyter-widgets/base",
      "model_module_version": "1.2.0",
      "model_name": "LayoutModel",
      "state": {}
     },
     "77647baed6f14ef881c22a7c09441545": {
      "model_module": "@jupyter-widgets/controls",
      "model_module_version": "1.5.0",
      "model_name": "DescriptionStyleModel",
      "state": {
       "description_width": ""
      }
     },
     "7885cbc9bb1d4d8bb056af4f4b6dc7c8": {
      "model_module": "@jupyter-widgets/controls",
      "model_module_version": "1.5.0",
      "model_name": "VBoxModel",
      "state": {
       "children": [
        "IPY_MODEL_8769c6dfda674710bb35ae9593c834a2",
        "IPY_MODEL_e105b8350e68428f91566d0f03e8e88d"
       ],
       "layout": "IPY_MODEL_7ab4601e14934036ba9da58a5aa82300"
      }
     },
     "7a26716493474106b16e491b8b62362d": {
      "model_module": "@jupyter-widgets/controls",
      "model_module_version": "1.5.0",
      "model_name": "DescriptionStyleModel",
      "state": {
       "description_width": ""
      }
     },
     "7aa609c4aab14dc3a2ef1d584cb94755": {
      "model_module": "@jupyter-widgets/controls",
      "model_module_version": "1.5.0",
      "model_name": "LabelModel",
      "state": {
       "layout": "IPY_MODEL_7495fa41c8e247b891b7629bb5976e03",
       "style": "IPY_MODEL_eecdb2d57ab1428e9dad2477943c8764",
       "value": "Vert. Servo Settings"
      }
     },
     "7ab4601e14934036ba9da58a5aa82300": {
      "model_module": "@jupyter-widgets/base",
      "model_module_version": "1.2.0",
      "model_name": "LayoutModel",
      "state": {
       "flex": "1 1 1%",
       "width": "auto"
      }
     },
     "7b59585af7564e499de6c3a78b58b2a7": {
      "model_module": "@jupyter-widgets/controls",
      "model_module_version": "1.5.0",
      "model_name": "LabelModel",
      "state": {
       "layout": "IPY_MODEL_97a89829579d4050a1cee17e82526055",
       "style": "IPY_MODEL_91f1f3d86acc4f198cea28ee03bac857",
       "value": "Volt. @ Load = "
      }
     },
     "7ba6cdc494d945ed9ccccc392c2c6b42": {
      "model_module": "@jupyter-widgets/controls",
      "model_module_version": "1.5.0",
      "model_name": "DescriptionStyleModel",
      "state": {
       "description_width": "initial"
      }
     },
     "7ba784a13bfb4ad4905f75dd2355156f": {
      "model_module": "@jupyter-widgets/controls",
      "model_module_version": "1.5.0",
      "model_name": "DescriptionStyleModel",
      "state": {
       "description_width": "initial"
      }
     },
     "7bd7cb17a8bd47ecafb8add97757e156": {
      "model_module": "@jupyter-widgets/base",
      "model_module_version": "1.2.0",
      "model_name": "LayoutModel",
      "state": {
       "grid_area": "widget001"
      }
     },
     "7cbc6b587eb247f68b0969d755811251": {
      "model_module": "@jupyter-widgets/base",
      "model_module_version": "1.2.0",
      "model_name": "LayoutModel",
      "state": {}
     },
     "8085bd0b8a804badb7123b4687d61511": {
      "model_module": "@jupyter-widgets/base",
      "model_module_version": "1.2.0",
      "model_name": "LayoutModel",
      "state": {
       "align_items": "stretch",
       "border": "2px solid grey",
       "display": "flex",
       "flex_flow": "column",
       "padding": "10px",
       "width": "75%"
      }
     },
     "812f25a9f45a4152b6224d6fa9b0ab6d": {
      "model_module": "@jupyter-widgets/controls",
      "model_module_version": "1.5.0",
      "model_name": "VBoxModel",
      "state": {
       "children": [
        "IPY_MODEL_0ad9ad1223ca490392e89da15aa26c68",
        "IPY_MODEL_1f78a31e39a74f2280f61d30fba6e459"
       ],
       "layout": "IPY_MODEL_470a199e096541e88215928c68d05112"
      }
     },
     "816aa322775f403aa53d5be8e4c6fe6e": {
      "model_module": "@jupyter-widgets/base",
      "model_module_version": "1.2.0",
      "model_name": "LayoutModel",
      "state": {}
     },
     "8184a2b8bf18426a9fab3e876c49d9f6": {
      "model_module": "@jupyter-widgets/base",
      "model_module_version": "1.2.0",
      "model_name": "LayoutModel",
      "state": {}
     },
     "820a0a60b144450fad005ee348ed9251": {
      "model_module": "@jupyter-widgets/base",
      "model_module_version": "1.2.0",
      "model_name": "LayoutModel",
      "state": {}
     },
     "8213c9ac405e4698950de17008796d8a": {
      "model_module": "@jupyter-widgets/controls",
      "model_module_version": "1.5.0",
      "model_name": "DescriptionStyleModel",
      "state": {
       "description_width": ""
      }
     },
     "8265a3a5c5904028b07b4d1b46ea334e": {
      "model_module": "@jupyter-widgets/controls",
      "model_module_version": "1.5.0",
      "model_name": "DescriptionStyleModel",
      "state": {
       "description_width": ""
      }
     },
     "835daa4071a94726abe8da3f0bbfc01b": {
      "model_module": "@jupyter-widgets/base",
      "model_module_version": "1.2.0",
      "model_name": "LayoutModel",
      "state": {}
     },
     "838054be459c4a669c5b5e6fa520f5ae": {
      "model_module": "@jupyter-widgets/controls",
      "model_module_version": "1.5.0",
      "model_name": "DescriptionStyleModel",
      "state": {
       "description_width": "initial"
      }
     },
     "85a8750ab4254cdd9634a5cee0656595": {
      "model_module": "@jupyter-widgets/controls",
      "model_module_version": "1.5.0",
      "model_name": "TextModel",
      "state": {
       "description": "D",
       "layout": "IPY_MODEL_b216859040674ca0a2d212708c710217",
       "placeholder": "",
       "style": "IPY_MODEL_700fbed0507f41db9ab409cfff223393"
      }
     },
     "85aa3a2f2e574a189fc2fd02242fe41b": {
      "model_module": "@jupyter-widgets/controls",
      "model_module_version": "1.5.0",
      "model_name": "LabelModel",
      "state": {
       "layout": "IPY_MODEL_f9c786fc28a54132ad8c4f6d2216a950",
       "style": "IPY_MODEL_f035b5b3f8714dac9019bdd934194374",
       "value": "Volt. @ Load = "
      }
     },
     "86c7bb99c8344b3bbf976a42c7ae9e32": {
      "model_module": "@jupyter-widgets/controls",
      "model_module_version": "1.5.0",
      "model_name": "TextModel",
      "state": {
       "description": "Ppa Gain (V/MPa):",
       "layout": "IPY_MODEL_dd48ae5a687d4786b3dc21956e8818de",
       "placeholder": "Ppa Gain (V/MPa)",
       "style": "IPY_MODEL_e04cc23754f645c8a2771ad0ce1d01c2"
      }
     },
     "86d68afacf3c4ec597f3cda27b88aeb3": {
      "model_module": "@jupyter-widgets/controls",
      "model_module_version": "1.5.0",
      "model_name": "DescriptionStyleModel",
      "state": {
       "description_width": ""
      }
     },
     "87023e70beb54d6cb9828ef7bd80168c": {
      "model_module": "@jupyter-widgets/controls",
      "model_module_version": "1.5.0",
      "model_name": "DescriptionStyleModel",
      "state": {
       "description_width": ""
      }
     },
     "872e718722704775ae0d0397afe15688": {
      "model_module": "@jupyter-widgets/controls",
      "model_module_version": "1.5.0",
      "model_name": "DescriptionStyleModel",
      "state": {
       "description_width": "initial"
      }
     },
     "8769c6dfda674710bb35ae9593c834a2": {
      "model_module": "@jupyter-widgets/controls",
      "model_module_version": "1.5.0",
      "model_name": "TextModel",
      "state": {
       "description": "Exp. Name:",
       "layout": "IPY_MODEL_19c3cbebb0174927a640c63a0f5a27c8",
       "placeholder": "pxxxx",
       "style": "IPY_MODEL_d7df149683d44c098f4ba5a39093825f",
       "value": "ptest"
      }
     },
     "8825f2d791f6474587c4b179c0fd6004": {
      "model_module": "@jupyter-widgets/controls",
      "model_module_version": "1.5.0",
      "model_name": "VBoxModel",
      "state": {
       "children": [
        "IPY_MODEL_cb0382d9d7c34d5ab473e2707d747396",
        "IPY_MODEL_0b609bcf209d44d9befe7c58088cfd7f",
        "IPY_MODEL_9bd449f4081e4cc4b57becd0ede775f3"
       ],
       "layout": "IPY_MODEL_405a59663d2c4f4988bbff5c23d7b9a5"
      }
     },
     "88b08f00a66040e6a5405d36fefe75ec": {
      "model_module": "@jupyter-widgets/base",
      "model_module_version": "1.2.0",
      "model_name": "LayoutModel",
      "state": {
       "grid_area": "widget009",
       "width": "150px"
      }
     },
     "88bcc51ba62845ef9c13522b84653b6d": {
      "model_module": "@jupyter-widgets/controls",
      "model_module_version": "1.5.0",
      "model_name": "DescriptionStyleModel",
      "state": {
       "description_width": "initial"
      }
     },
     "88fcbcc519ab4f688727941a7f153f7a": {
      "model_module": "@jupyter-widgets/controls",
      "model_module_version": "1.5.0",
      "model_name": "ButtonStyleModel",
      "state": {}
     },
     "8975c8f6412248d0a90910c76365b771": {
      "model_module": "@jupyter-widgets/base",
      "model_module_version": "1.2.0",
      "model_name": "LayoutModel",
      "state": {}
     },
     "89a6beb4555f4610b17c979a1a999d3d": {
      "model_module": "@jupyter-widgets/base",
      "model_module_version": "1.2.0",
      "model_name": "LayoutModel",
      "state": {}
     },
     "8a667b96dce94fe3a7418ff3fca9313d": {
      "model_module": "@jupyter-widgets/base",
      "model_module_version": "1.2.0",
      "model_name": "LayoutModel",
      "state": {
       "grid_area": "widget003",
       "width": "150px"
      }
     },
     "8afa76463c5648a2ad732fd53723f573": {
      "model_module": "@jupyter-widgets/controls",
      "model_module_version": "1.5.0",
      "model_name": "TextModel",
      "state": {
       "description": "Calibration (mV/kN):",
       "layout": "IPY_MODEL_3717e77ac03343b9aecd07f045dcc673",
       "placeholder": "mV/kN",
       "style": "IPY_MODEL_575f87f04a8d4844b015112732a61b3c",
       "value": "100.123"
      }
     },
     "8b909ff3440041be843f616a87baafff": {
      "model_module": "@jupyter-widgets/controls",
      "model_module_version": "1.5.0",
      "model_name": "DescriptionStyleModel",
      "state": {
       "description_width": ""
      }
     },
     "8c10cadcdb1f4d9e90b81ad89dd94585": {
      "model_module": "@jupyter-widgets/output",
      "model_module_version": "1.0.0",
      "model_name": "OutputModel",
      "state": {
       "layout": "IPY_MODEL_113f69b2b6714de29054119541c669eb",
       "outputs": [
        {
         "data": {
          "application/vnd.jupyter.widget-view+json": {
           "model_id": "",
           "version_major": 2,
           "version_minor": 0
          },
          "text/plain": "Label(value='')"
         },
         "metadata": {},
         "output_type": "display_data"
        }
       ]
      }
     },
     "8ca21d9deecc4e12bb8b89cd4b65f74c": {
      "model_module": "@jupyter-widgets/base",
      "model_module_version": "1.2.0",
      "model_name": "LayoutModel",
      "state": {
       "flex": "1 1 1%",
       "width": "auto"
      }
     },
     "8d8caa40bc0e4b7caa74e11d732e8d1c": {
      "model_module": "@jupyter-widgets/controls",
      "model_module_version": "1.5.0",
      "model_name": "TextModel",
      "state": {
       "description": "V. Init. Volt.:",
       "layout": "IPY_MODEL_8dc4b965a3c84fbc97f60c61f18e8bbf",
       "placeholder": "Volt",
       "style": "IPY_MODEL_c35499771f294fc585ce53030abd32a5"
      }
     },
     "8dc4b965a3c84fbc97f60c61f18e8bbf": {
      "model_module": "@jupyter-widgets/base",
      "model_module_version": "1.2.0",
      "model_name": "LayoutModel",
      "state": {}
     },
     "8e19ba091c334e46850b2691b24acd59": {
      "model_module": "@jupyter-widgets/controls",
      "model_module_version": "1.5.0",
      "model_name": "TextModel",
      "state": {
       "description": "V. Init. Volt.:",
       "layout": "IPY_MODEL_1d613ca2183242bf81def5509c766a1d",
       "placeholder": "Volt",
       "style": "IPY_MODEL_a30ad924b7c147b58b9e827323881dee",
       "value": "1"
      }
     },
     "8e2ff154dd054b3cb842dcee2238c632": {
      "model_module": "@jupyter-widgets/controls",
      "model_module_version": "1.5.0",
      "model_name": "TextModel",
      "state": {
       "description": "Material",
       "layout": "IPY_MODEL_0d3d41a9ce16405f8d791be8497f8ecf",
       "placeholder": "Anhydrite, Westerly Granite",
       "style": "IPY_MODEL_6838cbbf3bb7442693ba37ca6405fa2d",
       "value": "WG"
      }
     },
     "8e6eb756e0d44c81be7b235ca3c0b4db": {
      "model_module": "@jupyter-widgets/controls",
      "model_module_version": "1.5.0",
      "model_name": "TextModel",
      "state": {
       "description": "D",
       "layout": "IPY_MODEL_2c390ac4ab784e7bb02d5fee29b25318",
       "placeholder": "",
       "style": "IPY_MODEL_0a1119d0b8964727b286b80efe7205db",
       "value": "1"
      }
     },
     "8f397b920fe54d4f9430658fdb5bc44e": {
      "model_module": "@jupyter-widgets/base",
      "model_module_version": "1.2.0",
      "model_name": "LayoutModel",
      "state": {}
     },
     "9074db9f74ce4144b2bb31a1e3bc6915": {
      "model_module": "@jupyter-widgets/controls",
      "model_module_version": "1.5.0",
      "model_name": "LabelModel",
      "state": {
       "layout": "IPY_MODEL_1cd8c24e8f674ed190b0eb777cf87771",
       "style": "IPY_MODEL_c2fde347d514460aa9ffcdd28efb8975"
      }
     },
     "90bd929c971246399e1be40b4796a215": {
      "model_module": "@jupyter-widgets/controls",
      "model_module_version": "1.5.0",
      "model_name": "TextModel",
      "state": {
       "description": "I",
       "layout": "IPY_MODEL_fb0fb91b45ea4881a0f9dcadaa9206c2",
       "placeholder": "",
       "style": "IPY_MODEL_8265a3a5c5904028b07b4d1b46ea334e",
       "value": "1"
      }
     },
     "90e66287b37f4d559857c1220e4ebc10": {
      "model_module": "@jupyter-widgets/base",
      "model_module_version": "1.2.0",
      "model_name": "LayoutModel",
      "state": {
       "flex": "1 1 1%",
       "width": "auto"
      }
     },
     "914d6e79afc94531b37910d8a6fe1a67": {
      "model_module": "@jupyter-widgets/controls",
      "model_module_version": "1.5.0",
      "model_name": "DescriptionStyleModel",
      "state": {
       "description_width": ""
      }
     },
     "917d09fa89ce43078e062ae03c912c6f": {
      "model_module": "@jupyter-widgets/controls",
      "model_module_version": "1.5.0",
      "model_name": "TextModel",
      "state": {
       "description": "Datten",
       "layout": "IPY_MODEL_ca6fbc55072d42778ff4976853f8075c",
       "placeholder": "",
       "style": "IPY_MODEL_be038728d2c649a8b526c5582e366ef4",
       "value": "1"
      }
     },
     "91b994779865409eb27f34c9480d6baf": {
      "model_module": "@jupyter-widgets/controls",
      "model_module_version": "1.5.0",
      "model_name": "DescriptionStyleModel",
      "state": {
       "description_width": ""
      }
     },
     "91f1f3d86acc4f198cea28ee03bac857": {
      "model_module": "@jupyter-widgets/controls",
      "model_module_version": "1.5.0",
      "model_name": "DescriptionStyleModel",
      "state": {
       "description_width": ""
      }
     },
     "920cf892065f4038a3a7f37c456c86bc": {
      "model_module": "@jupyter-widgets/controls",
      "model_module_version": "1.5.0",
      "model_name": "DescriptionStyleModel",
      "state": {
       "description_width": "initial"
      }
     },
     "92407719c0b1423ba9cedf117f74b941": {
      "model_module": "@jupyter-widgets/controls",
      "model_module_version": "1.5.0",
      "model_name": "TextModel",
      "state": {
       "description": "V. Init. Volt.:",
       "layout": "IPY_MODEL_c7ebd2b066aa42a9af2c0cd3a48d865e",
       "placeholder": "Volt",
       "style": "IPY_MODEL_601aca669b714241b99a556ef4ab8b7c"
      }
     },
     "929a635437e243ceb949d635d5f974cd": {
      "model_module": "@jupyter-widgets/base",
      "model_module_version": "1.2.0",
      "model_name": "LayoutModel",
      "state": {}
     },
     "92c71e3db62a477898de28ea0299f4b6": {
      "model_module": "@jupyter-widgets/controls",
      "model_module_version": "1.5.0",
      "model_name": "DescriptionStyleModel",
      "state": {
       "description_width": "initial"
      }
     },
     "930432b216dc4bcb99405e5268478ad8": {
      "model_module": "@jupyter-widgets/controls",
      "model_module_version": "1.5.0",
      "model_name": "VBoxModel",
      "state": {
       "children": [
        "IPY_MODEL_5efceff4819a4bed9b5eee56a7d86edd",
        "IPY_MODEL_428153ef95f94bb08db598559c42fb27"
       ],
       "layout": "IPY_MODEL_3f3a056933c44bd287bb6ebe35ba1e01"
      }
     },
     "93fe457f81e9403fb67c876b9898d48d": {
      "model_module": "@jupyter-widgets/controls",
      "model_module_version": "1.5.0",
      "model_name": "DescriptionStyleModel",
      "state": {
       "description_width": "initial"
      }
     },
     "940e9d4317f740b9b7e6e4afad4a1e52": {
      "model_module": "@jupyter-widgets/controls",
      "model_module_version": "1.5.0",
      "model_name": "DescriptionStyleModel",
      "state": {
       "description_width": "initial"
      }
     },
     "94acd85bf4894c77b9f62fd3be2ef98e": {
      "model_module": "@jupyter-widgets/base",
      "model_module_version": "1.2.0",
      "model_name": "LayoutModel",
      "state": {
       "grid_area": "widget003",
       "width": "150px"
      }
     },
     "94db3c6a7de8433aa48d5ecb5d111971": {
      "model_module": "@jupyter-widgets/controls",
      "model_module_version": "1.5.0",
      "model_name": "DescriptionStyleModel",
      "state": {
       "description_width": "initial"
      }
     },
     "95046ee73cc14ecca09509b0ac133c10": {
      "model_module": "@jupyter-widgets/base",
      "model_module_version": "1.2.0",
      "model_name": "LayoutModel",
      "state": {}
     },
     "954390fdb0c44e58ae26a4ba33da8815": {
      "model_module": "@jupyter-widgets/controls",
      "model_module_version": "1.5.0",
      "model_name": "DescriptionStyleModel",
      "state": {
       "description_width": ""
      }
     },
     "95c4eeb759e74dda9208fa8e693294c5": {
      "model_module": "@jupyter-widgets/controls",
      "model_module_version": "1.5.0",
      "model_name": "DescriptionStyleModel",
      "state": {
       "description_width": ""
      }
     },
     "967f205699bd4ea8a2f39d97e0149039": {
      "model_module": "@jupyter-widgets/base",
      "model_module_version": "1.2.0",
      "model_name": "LayoutModel",
      "state": {}
     },
     "9695c0d03c904fef9e028a40e4ebcb8c": {
      "model_module": "@jupyter-widgets/controls",
      "model_module_version": "1.5.0",
      "model_name": "TextModel",
      "state": {
       "description": "PpA Press. (MPa)",
       "layout": "IPY_MODEL_0977cfbe061f4ac4a45541e413f83d25",
       "placeholder": "MPa",
       "style": "IPY_MODEL_872e718722704775ae0d0397afe15688"
      }
     },
     "96f90572cce64ce7a5623091dfa3aaf0": {
      "model_module": "@jupyter-widgets/controls",
      "model_module_version": "1.5.0",
      "model_name": "ComboboxModel",
      "state": {
       "description": "Horiz. DCDT:",
       "ensure_option": true,
       "layout": "IPY_MODEL_7cbc6b587eb247f68b0969d755811251",
       "options": [
        "short rod",
        "long rod",
        "None"
       ],
       "placeholder": "Horiz. DCDT",
       "style": "IPY_MODEL_a2460befc2964fdfb93cbe665131cc72",
       "value": "short rod"
      }
     },
     "97a89829579d4050a1cee17e82526055": {
      "model_module": "@jupyter-widgets/base",
      "model_module_version": "1.2.0",
      "model_name": "LayoutModel",
      "state": {}
     },
     "97c5496417b9418188418f96bffbb791": {
      "model_module": "@jupyter-widgets/base",
      "model_module_version": "1.2.0",
      "model_name": "LayoutModel",
      "state": {
       "flex": "1 1 1%",
       "width": "auto"
      }
     },
     "9812afebbdf747518956ec94487b3bbe": {
      "model_module": "@jupyter-widgets/controls",
      "model_module_version": "1.5.0",
      "model_name": "DescriptionStyleModel",
      "state": {
       "description_width": "initial"
      }
     },
     "98432d98164b466786a0bb01ce6fe6d4": {
      "model_module": "@jupyter-widgets/base",
      "model_module_version": "1.2.0",
      "model_name": "LayoutModel",
      "state": {
       "align_items": "stretch",
       "border": "2px solid grey",
       "display": "flex",
       "flex_flow": "row",
       "grid_gap": "60px 60px",
       "padding": "10px",
       "width": "75%"
      }
     },
     "9a7b1666c99e493f9d4f794e096639d1": {
      "model_module": "@jupyter-widgets/controls",
      "model_module_version": "1.5.0",
      "model_name": "DescriptionStyleModel",
      "state": {
       "description_width": ""
      }
     },
     "9ad10baaf6f14d40b95a303ff4e3c91e": {
      "model_module": "@jupyter-widgets/controls",
      "model_module_version": "1.5.0",
      "model_name": "TextModel",
      "state": {
       "description": "Relative Humidity",
       "layout": "IPY_MODEL_b136b73031874b38930d2850a08166a3",
       "placeholder": "Rel. Humid. (%)",
       "style": "IPY_MODEL_1226dabe11764abdbe415841338d5bef",
       "value": "something"
      }
     },
     "9b57a58b6d584b0d9bce1505846b2fb3": {
      "model_module": "@jupyter-widgets/base",
      "model_module_version": "1.2.0",
      "model_name": "LayoutModel",
      "state": {
       "grid_area": "widget007",
       "width": "150px"
      }
     },
     "9b991b9374ea4b5383ccde034bb89b72": {
      "model_module": "@jupyter-widgets/base",
      "model_module_version": "1.2.0",
      "model_name": "LayoutModel",
      "state": {
       "grid_area": "widget002",
       "width": "150px"
      }
     },
     "9bd449f4081e4cc4b57becd0ede775f3": {
      "model_module": "@jupyter-widgets/controls",
      "model_module_version": "1.5.0",
      "model_name": "TextModel",
      "state": {
       "description": "Layer Thickness",
       "layout": "IPY_MODEL_7718a0b81fc049419d6ba545a07c4c40",
       "placeholder": "mm",
       "style": "IPY_MODEL_f6f4c6b324f24bbca272c574e33039ca"
      }
     },
     "9d5115a4caa34396808432fde8369350": {
      "model_module": "@jupyter-widgets/base",
      "model_module_version": "1.2.0",
      "model_name": "LayoutModel",
      "state": {}
     },
     "9d5fb53dcae9484da23e2a800685b390": {
      "model_module": "@jupyter-widgets/base",
      "model_module_version": "1.2.0",
      "model_name": "LayoutModel",
      "state": {}
     },
     "9e6d33a529124d5a891b191b048dd44f": {
      "model_module": "@jupyter-widgets/controls",
      "model_module_version": "1.5.0",
      "model_name": "TextModel",
      "state": {
       "description": "E-gain",
       "layout": "IPY_MODEL_079fba6320c744e284a255c5b6dc9649",
       "placeholder": "",
       "style": "IPY_MODEL_6ff19544b25c4a2599af14562d017177",
       "value": "1"
      }
     },
     "9ede6a0b6bc244b6a618bd082683ad8f": {
      "model_module": "@jupyter-widgets/controls",
      "model_module_version": "1.5.0",
      "model_name": "DescriptionStyleModel",
      "state": {
       "description_width": "initial"
      }
     },
     "9f9909b4d8bb48579eba1f7465ee38f9": {
      "model_module": "@jupyter-widgets/base",
      "model_module_version": "1.2.0",
      "model_name": "LayoutModel",
      "state": {}
     },
     "a035c12bd3db4f8dbf077fd0064af4b0": {
      "model_module": "@jupyter-widgets/base",
      "model_module_version": "1.2.0",
      "model_name": "LayoutModel",
      "state": {}
     },
     "a052e446ff364174a32aff54fc30541b": {
      "model_module": "@jupyter-widgets/controls",
      "model_module_version": "1.5.0",
      "model_name": "VBoxModel",
      "state": {
       "children": [
        "IPY_MODEL_3dad2685cec84a32b67fe85dc19bc486",
        "IPY_MODEL_eba4901f3f694c3ca40eca1f7b9faf37"
       ],
       "layout": "IPY_MODEL_8ca21d9deecc4e12bb8b89cd4b65f74c"
      }
     },
     "a0f7e125c6094ec2809caf1f34b6537b": {
      "model_module": "@jupyter-widgets/controls",
      "model_module_version": "1.5.0",
      "model_name": "TextModel",
      "state": {
       "description": "PpB Gain (V/MPa):",
       "layout": "IPY_MODEL_bb9972c7e6e94e64b0a0a20e9b03d3d2",
       "placeholder": "PpB Gain (V/MPa)",
       "style": "IPY_MODEL_93fe457f81e9403fb67c876b9898d48d"
      }
     },
     "a18603a81a374ec5ada1464c496255b2": {
      "model_module": "@jupyter-widgets/base",
      "model_module_version": "1.2.0",
      "model_name": "LayoutModel",
      "state": {}
     },
     "a20c3828444d48128b383e8659968e50": {
      "model_module": "@jupyter-widgets/controls",
      "model_module_version": "1.5.0",
      "model_name": "TextModel",
      "state": {
       "description": "Temperture",
       "layout": "IPY_MODEL_1404309891fb448bad4c68303cc0b0be",
       "placeholder": "Temperature (C)",
       "style": "IPY_MODEL_22e8fef7938e479babe747a846fd58b7",
       "value": "something"
      }
     },
     "a2460befc2964fdfb93cbe665131cc72": {
      "model_module": "@jupyter-widgets/controls",
      "model_module_version": "1.5.0",
      "model_name": "DescriptionStyleModel",
      "state": {
       "description_width": "initial"
      }
     },
     "a27694b729fd4206971dad99f4896b09": {
      "model_module": "@jupyter-widgets/controls",
      "model_module_version": "1.5.0",
      "model_name": "DescriptionStyleModel",
      "state": {
       "description_width": ""
      }
     },
     "a2b906a72a8a4b7fb2d446f12c61413b": {
      "model_module": "@jupyter-widgets/controls",
      "model_module_version": "1.5.0",
      "model_name": "TextModel",
      "state": {
       "description": "Pore Fluid",
       "layout": "IPY_MODEL_cff99468642f499f862bed81eafc1426",
       "placeholder": "DI H2O",
       "style": "IPY_MODEL_e0209c33d3044989970f675ac6c212ff",
       "value": "DI H2O"
      }
     },
     "a2e33c85601f475fb3dfc6bbf7f81b39": {
      "model_module": "@jupyter-widgets/controls",
      "model_module_version": "1.5.0",
      "model_name": "DescriptionStyleModel",
      "state": {
       "description_width": "initial"
      }
     },
     "a30ad924b7c147b58b9e827323881dee": {
      "model_module": "@jupyter-widgets/controls",
      "model_module_version": "1.5.0",
      "model_name": "DescriptionStyleModel",
      "state": {
       "description_width": "initial"
      }
     },
     "a30ffdb5a72a45f78f440aad72e44e3a": {
      "model_module": "@jupyter-widgets/controls",
      "model_module_version": "1.5.0",
      "model_name": "DescriptionStyleModel",
      "state": {
       "description_width": ""
      }
     },
     "a3d593ddd48342f2b99e32eb1a5a9294": {
      "model_module": "@jupyter-widgets/base",
      "model_module_version": "1.2.0",
      "model_name": "LayoutModel",
      "state": {}
     },
     "a3d8fc1750114e428d913d1ae94cf67d": {
      "model_module": "@jupyter-widgets/controls",
      "model_module_version": "1.5.0",
      "model_name": "TextModel",
      "state": {
       "description": "I",
       "layout": "IPY_MODEL_94acd85bf4894c77b9f62fd3be2ef98e",
       "placeholder": "",
       "style": "IPY_MODEL_080bb12b90274c3e92eb2df4d7cb8470"
      }
     },
     "a3eba0221ae6459aaeb45b0c98c64441": {
      "model_module": "@jupyter-widgets/controls",
      "model_module_version": "1.5.0",
      "model_name": "DescriptionStyleModel",
      "state": {
       "description_width": ""
      }
     },
     "a406d178974847a8a8fcb820e021c23a": {
      "model_module": "@jupyter-widgets/controls",
      "model_module_version": "1.5.0",
      "model_name": "DescriptionStyleModel",
      "state": {
       "description_width": "initial"
      }
     },
     "a53a670802c04b1b9d7bda3467f124f7": {
      "model_module": "@jupyter-widgets/base",
      "model_module_version": "1.2.0",
      "model_name": "LayoutModel",
      "state": {}
     },
     "a5894fc4c98f42e4a4b708ade6aa4de8": {
      "model_module": "@jupyter-widgets/controls",
      "model_module_version": "1.5.0",
      "model_name": "TextModel",
      "state": {
       "description": "Hyd. End:",
       "layout": "IPY_MODEL_d9e5f53a067948d4b22b56f6a6cc6b17",
       "placeholder": "xxx.x",
       "style": "IPY_MODEL_bbb2ee50b7ff4454a7023ab5cd9debf1",
       "value": "2"
      }
     },
     "a5a3c878d6c74b589fc25f16a8d39bad": {
      "model_module": "@jupyter-widgets/controls",
      "model_module_version": "1.5.0",
      "model_name": "VBoxModel",
      "state": {
       "children": [
        "IPY_MODEL_bbd178746f9e4bbc9636cb3d6c5d2f18",
        "IPY_MODEL_6e7799f724ff478191d2e1858484b95c",
        "IPY_MODEL_5abee74b7ed242258d48e901137b335f"
       ],
       "layout": "IPY_MODEL_97c5496417b9418188418f96bffbb791"
      }
     },
     "a5fa88b694a34b428da4ae0e6d97bb36": {
      "model_module": "@jupyter-widgets/base",
      "model_module_version": "1.2.0",
      "model_name": "LayoutModel",
      "state": {
       "flex": "1 1 0%",
       "width": "auto"
      }
     },
     "a661a2778ac64df59051937bcddaf6fd": {
      "model_module": "@jupyter-widgets/base",
      "model_module_version": "1.2.0",
      "model_name": "LayoutModel",
      "state": {
       "flex": "1 1 1%",
       "width": "auto"
      }
     },
     "a66e54587bf9470792de1c3ae8e71558": {
      "model_module": "@jupyter-widgets/base",
      "model_module_version": "1.2.0",
      "model_name": "LayoutModel",
      "state": {}
     },
     "a6acb4ab2a4849d5900730f6d13afef6": {
      "model_module": "@jupyter-widgets/controls",
      "model_module_version": "1.5.0",
      "model_name": "LabelModel",
      "state": {
       "layout": "IPY_MODEL_bbd44fbe147c42abacbb90daa0e24b76",
       "style": "IPY_MODEL_2c449d432f434686afcdbe7c28d23fa6"
      }
     },
     "a73da76ef89d4c38bb22acf659b212ff": {
      "model_module": "@jupyter-widgets/base",
      "model_module_version": "1.2.0",
      "model_name": "LayoutModel",
      "state": {}
     },
     "a7c20eb7f5d64ccd9ebfe0b95d9bf6ad": {
      "model_module": "@jupyter-widgets/base",
      "model_module_version": "1.2.0",
      "model_name": "LayoutModel",
      "state": {
       "grid_area": "widget010",
       "width": "150px"
      }
     },
     "a9a9920718de489a8edbad855984323c": {
      "model_module": "@jupyter-widgets/controls",
      "model_module_version": "1.5.0",
      "model_name": "ButtonModel",
      "state": {
       "description": "Make Runsheet",
       "layout": "IPY_MODEL_61b97634440343ffa8833347a1412a9d",
       "style": "IPY_MODEL_446d8e8a00d04ed7acae87a2d8adf090"
      }
     },
     "aa6ff46252754a6d9c1dbb8e5c593d54": {
      "model_module": "@jupyter-widgets/controls",
      "model_module_version": "1.5.0",
      "model_name": "DescriptionStyleModel",
      "state": {
       "description_width": "initial"
      }
     },
     "ab1a02471fef45798e7475fa292e42f5": {
      "model_module": "@jupyter-widgets/base",
      "model_module_version": "1.2.0",
      "model_name": "LayoutModel",
      "state": {}
     },
     "ac596e677c68443f9a06f6cb86e3492c": {
      "model_module": "@jupyter-widgets/controls",
      "model_module_version": "1.5.0",
      "model_name": "DescriptionStyleModel",
      "state": {
       "description_width": ""
      }
     },
     "acf899a6814944e1a9b8732a649d12b3": {
      "model_module": "@jupyter-widgets/controls",
      "model_module_version": "1.5.0",
      "model_name": "DescriptionStyleModel",
      "state": {
       "description_width": ""
      }
     },
     "ad253edd58d741b7829f070fd71d2883": {
      "model_module": "@jupyter-widgets/controls",
      "model_module_version": "1.5.0",
      "model_name": "DescriptionStyleModel",
      "state": {
       "description_width": ""
      }
     },
     "adddc7044662400a8638316fd78d1b18": {
      "model_module": "@jupyter-widgets/base",
      "model_module_version": "1.2.0",
      "model_name": "LayoutModel",
      "state": {}
     },
     "adf82b9325d648809aae50a9f465e5ce": {
      "model_module": "@jupyter-widgets/controls",
      "model_module_version": "1.5.0",
      "model_name": "LabelModel",
      "state": {
       "layout": "IPY_MODEL_f8a9f73a99e54c58bc6f0495154fae25",
       "style": "IPY_MODEL_b27f6a477e704d2b96afdb598c9cfbe0",
       "value": "Horizontal Load Cell"
      }
     },
     "ae0a657e7d724386a48216823627c009": {
      "model_module": "@jupyter-widgets/controls",
      "model_module_version": "1.5.0",
      "model_name": "GridBoxModel",
      "state": {
       "children": [
        "IPY_MODEL_3a29322206f44afc99915a2b79d75f85",
        "IPY_MODEL_b4d18eb402e04e7c9d5dc1651a765ad7",
        "IPY_MODEL_812f25a9f45a4152b6224d6fa9b0ab6d"
       ],
       "layout": "IPY_MODEL_07eb8b91cac841128e49afcd108222fe"
      }
     },
     "ae5696efeb654689a3bf4a7fb86f4062": {
      "model_module": "@jupyter-widgets/base",
      "model_module_version": "1.2.0",
      "model_name": "LayoutModel",
      "state": {}
     },
     "ae9721c6bc72476cbfc565bda9452c8f": {
      "model_module": "@jupyter-widgets/controls",
      "model_module_version": "1.5.0",
      "model_name": "TextModel",
      "state": {
       "description": "V. Init. Volt.:",
       "layout": "IPY_MODEL_24843528cae54d4aa31957768c810261",
       "placeholder": "Volt",
       "style": "IPY_MODEL_5176ed174dce436a855539dc44e858db"
      }
     },
     "af0d824088ff4dee80b4c0c40c1ed67a": {
      "model_module": "@jupyter-widgets/controls",
      "model_module_version": "1.5.0",
      "model_name": "TextModel",
      "state": {
       "description": "Feedback",
       "layout": "IPY_MODEL_da7938c6402e47b18df0d1c272f6084d",
       "placeholder": "",
       "style": "IPY_MODEL_3c2e456038914039bcd922c7cc9dd24c",
       "value": "1"
      }
     },
     "afeff37258994e93a02d4d74ecd43377": {
      "model_module": "@jupyter-widgets/controls",
      "model_module_version": "1.5.0",
      "model_name": "LabelModel",
      "state": {
       "layout": "IPY_MODEL_daa855145ee7495693cfbfcda9d673de",
       "style": "IPY_MODEL_954390fdb0c44e58ae26a4ba33da8815"
      }
     },
     "b0c2056ef5e94071b36d4ca6eb0974df": {
      "model_module": "@jupyter-widgets/base",
      "model_module_version": "1.2.0",
      "model_name": "LayoutModel",
      "state": {}
     },
     "b136b73031874b38930d2850a08166a3": {
      "model_module": "@jupyter-widgets/base",
      "model_module_version": "1.2.0",
      "model_name": "LayoutModel",
      "state": {
       "flex": "1 1 1%",
       "width": "auto"
      }
     },
     "b1d45277e6c344d5b246b9beccce4c85": {
      "model_module": "@jupyter-widgets/base",
      "model_module_version": "1.2.0",
      "model_name": "LayoutModel",
      "state": {}
     },
     "b1f839fbace84fa2a63ac8e78955cae5": {
      "model_module": "@jupyter-widgets/base",
      "model_module_version": "1.2.0",
      "model_name": "LayoutModel",
      "state": {}
     },
     "b216859040674ca0a2d212708c710217": {
      "model_module": "@jupyter-widgets/base",
      "model_module_version": "1.2.0",
      "model_name": "LayoutModel",
      "state": {
       "grid_area": "widget011",
       "width": "150px"
      }
     },
     "b27910a6ebef4ec8a96203345362de0d": {
      "model_module": "@jupyter-widgets/base",
      "model_module_version": "1.2.0",
      "model_name": "LayoutModel",
      "state": {}
     },
     "b27f6a477e704d2b96afdb598c9cfbe0": {
      "model_module": "@jupyter-widgets/controls",
      "model_module_version": "1.5.0",
      "model_name": "DescriptionStyleModel",
      "state": {
       "description_width": ""
      }
     },
     "b344f9400bcb43038a15303ad821638f": {
      "model_module": "@jupyter-widgets/controls",
      "model_module_version": "1.5.0",
      "model_name": "DescriptionStyleModel",
      "state": {
       "description_width": "initial"
      }
     },
     "b3abf2589c674fdf9b5c8904778503b6": {
      "model_module": "@jupyter-widgets/base",
      "model_module_version": "1.2.0",
      "model_name": "LayoutModel",
      "state": {}
     },
     "b47e319299af48b197fbd68683ffbb19": {
      "model_module": "@jupyter-widgets/base",
      "model_module_version": "1.2.0",
      "model_name": "LayoutModel",
      "state": {
       "flex": "1 1 1%",
       "width": "auto"
      }
     },
     "b4d18eb402e04e7c9d5dc1651a765ad7": {
      "model_module": "@jupyter-widgets/controls",
      "model_module_version": "1.5.0",
      "model_name": "VBoxModel",
      "state": {
       "children": [
        "IPY_MODEL_96f90572cce64ce7a5623091dfa3aaf0",
        "IPY_MODEL_3ac628a701c641cc9990483efdd19489"
       ],
       "layout": "IPY_MODEL_90e66287b37f4d559857c1220e4ebc10"
      }
     },
     "b4df43ed490045beb845104fcf4845a6": {
      "model_module": "@jupyter-widgets/controls",
      "model_module_version": "1.5.0",
      "model_name": "DescriptionStyleModel",
      "state": {
       "description_width": "initial"
      }
     },
     "b4e6ee28548042ecb2742b5adf669b65": {
      "model_module": "@jupyter-widgets/controls",
      "model_module_version": "1.5.0",
      "model_name": "DescriptionStyleModel",
      "state": {
       "description_width": "initial"
      }
     },
     "b52eff0a589e4a88a19fef1bf280e32c": {
      "model_module": "@jupyter-widgets/output",
      "model_module_version": "1.0.0",
      "model_name": "OutputModel",
      "state": {
       "layout": "IPY_MODEL_659983eefed44be586d0b3105a43fb4a",
       "outputs": [
        {
         "data": {
          "application/vnd.jupyter.widget-view+json": {
           "model_id": "",
           "version_major": 2,
           "version_minor": 0
          },
          "text/plain": "Label(value='')"
         },
         "metadata": {},
         "output_type": "display_data"
        }
       ]
      }
     },
     "b5c8847a1f88410f8e5cd0c09a56b07a": {
      "model_module": "@jupyter-widgets/controls",
      "model_module_version": "1.5.0",
      "model_name": "VBoxModel",
      "state": {
       "children": [
        "IPY_MODEL_3f4fe1e9e37143cc914beff446e5f7d2",
        "IPY_MODEL_c25e32864ea64b5c915e90b7e6f357c2",
        "IPY_MODEL_bc5d079ac494494696a42613fbe5c957",
        "IPY_MODEL_d5c8f33f4e4d4a8190527ade9142077a",
        "IPY_MODEL_f656a062733241c2bcb26ec37c132737",
        "IPY_MODEL_3290b09d727443469f22ab090b468a4b"
       ],
       "layout": "IPY_MODEL_13267304fc2a4270b2d608e967261495"
      }
     },
     "b6b3569bb12a4fae8334d41d5643022d": {
      "model_module": "@jupyter-widgets/controls",
      "model_module_version": "1.5.0",
      "model_name": "DescriptionStyleModel",
      "state": {
       "description_width": ""
      }
     },
     "b7a83842a88f4b1fa3d8df833b36cb0b": {
      "model_module": "@jupyter-widgets/controls",
      "model_module_version": "1.5.0",
      "model_name": "DescriptionStyleModel",
      "state": {
       "description_width": "initial"
      }
     },
     "b908d5e9d4754d15a46a17fa99691821": {
      "model_module": "@jupyter-widgets/base",
      "model_module_version": "1.2.0",
      "model_name": "LayoutModel",
      "state": {}
     },
     "b98da24ba7134fdcb91779a0da9a9c96": {
      "model_module": "@jupyter-widgets/controls",
      "model_module_version": "1.5.0",
      "model_name": "TextModel",
      "state": {
       "description": "Relative Humidity",
       "layout": "IPY_MODEL_fe5dd285d5e049b183f897ff9a3a60e2",
       "placeholder": "Rel. Humid. (%)",
       "style": "IPY_MODEL_7339c7dd9c6d4cf2a7ff73f093ccb42c",
       "value": "10"
      }
     },
     "ba187d004c10474db010eedaede3ca56": {
      "model_module": "@jupyter-widgets/output",
      "model_module_version": "1.0.0",
      "model_name": "OutputModel",
      "state": {
       "layout": "IPY_MODEL_9d5fb53dcae9484da23e2a800685b390",
       "outputs": [
        {
         "name": "stdout",
         "output_type": "stream",
         "text": "printing runsheet...\n"
        },
        {
         "ename": "NameError",
         "evalue": "name 'PID_hyd' is not defined",
         "output_type": "error",
         "traceback": [
          "\u001b[0;31m---------------------------------------------------------------------------\u001b[0m",
          "\u001b[0;31mNameError\u001b[0m                                 Traceback (most recent call last)",
          "\u001b[0;32m~/Documents/research/resources/make_runsheet/runsheet_display.py\u001b[0m in \u001b[0;36mclick\u001b[0;34m(b)\u001b[0m\n\u001b[1;32m    557\u001b[0m             \u001b[0;32mif\u001b[0m \u001b[0moutputs\u001b[0m\u001b[0;34m[\u001b[0m\u001b[0;36m0\u001b[0m\u001b[0;34m]\u001b[0m\u001b[0;34m.\u001b[0m\u001b[0mvalue\u001b[0m \u001b[0;34m!=\u001b[0m \u001b[0;34m''\u001b[0m\u001b[0;34m:\u001b[0m\u001b[0;34m\u001b[0m\u001b[0;34m\u001b[0m\u001b[0m\n\u001b[1;32m    558\u001b[0m                 \u001b[0mprint\u001b[0m\u001b[0;34m(\u001b[0m\u001b[0;34m'printing runsheet...'\u001b[0m\u001b[0;34m)\u001b[0m\u001b[0;34m\u001b[0m\u001b[0;34m\u001b[0m\u001b[0m\n\u001b[0;32m--> 559\u001b[0;31m                 \u001b[0mwrite_runsheet\u001b[0m\u001b[0;34m(\u001b[0m\u001b[0moutputs\u001b[0m\u001b[0;34m)\u001b[0m\u001b[0;34m\u001b[0m\u001b[0;34m\u001b[0m\u001b[0m\n\u001b[0m\u001b[1;32m    560\u001b[0m                 \u001b[0mwebbrowser\u001b[0m\u001b[0;34m.\u001b[0m\u001b[0mopen_new\u001b[0m\u001b[0;34m(\u001b[0m\u001b[0;34mr'file:'\u001b[0m\u001b[0;34m+\u001b[0m\u001b[0mos\u001b[0m\u001b[0;34m.\u001b[0m\u001b[0mgetcwd\u001b[0m\u001b[0;34m(\u001b[0m\u001b[0;34m)\u001b[0m\u001b[0;34m+\u001b[0m\u001b[0;34m'/'\u001b[0m\u001b[0;34m+\u001b[0m\u001b[0moutputs\u001b[0m\u001b[0;34m[\u001b[0m\u001b[0;36m0\u001b[0m\u001b[0;34m]\u001b[0m\u001b[0;34m.\u001b[0m\u001b[0mvalue\u001b[0m\u001b[0;34m+\u001b[0m\u001b[0;34m'_Runsheet.pdf'\u001b[0m\u001b[0;34m)\u001b[0m\u001b[0;34m\u001b[0m\u001b[0;34m\u001b[0m\u001b[0m\n\u001b[1;32m    561\u001b[0m             \u001b[0;32melse\u001b[0m\u001b[0;34m:\u001b[0m\u001b[0;34m\u001b[0m\u001b[0;34m\u001b[0m\u001b[0m\n",
          "\u001b[0;32m~/Documents/research/resources/make_runsheet/make_runsheet.py\u001b[0m in \u001b[0;36mwrite_runsheet\u001b[0;34m(outputs, tex)\u001b[0m\n\u001b[1;32m    274\u001b[0m         \u001b[0;32mreturn\u001b[0m\u001b[0;34m\u001b[0m\u001b[0;34m\u001b[0m\u001b[0m\n\u001b[1;32m    275\u001b[0m \u001b[0;34m\u001b[0m\u001b[0m\n\u001b[0;32m--> 276\u001b[0;31m     \u001b[0ma_tex_file\u001b[0m\u001b[0;34m(\u001b[0m\u001b[0mFileName\u001b[0m\u001b[0;34m)\u001b[0m\u001b[0;34m\u001b[0m\u001b[0;34m\u001b[0m\u001b[0m\n\u001b[0m\u001b[1;32m    277\u001b[0m \u001b[0;34m\u001b[0m\u001b[0m\n\u001b[1;32m    278\u001b[0m     \u001b[0;32mfor\u001b[0m \u001b[0mi\u001b[0m \u001b[0;32min\u001b[0m \u001b[0mpageAry\u001b[0m\u001b[0;34m:\u001b[0m\u001b[0;34m\u001b[0m\u001b[0;34m\u001b[0m\u001b[0m\n",
          "\u001b[0;32m~/Documents/research/resources/make_runsheet/make_runsheet.py\u001b[0m in \u001b[0;36ma_tex_file\u001b[0;34m(title)\u001b[0m\n\u001b[1;32m    269\u001b[0m         \u001b[0mpageAry\u001b[0m\u001b[0;34m.\u001b[0m\u001b[0mappend\u001b[0m\u001b[0;34m(\u001b[0m\u001b[0msec5\u001b[0m\u001b[0;34m(\u001b[0m\u001b[0mdata_logger\u001b[0m\u001b[0;34m,\u001b[0m \u001b[0mh_dcdt\u001b[0m\u001b[0;34m,\u001b[0m \u001b[0mh_dcdt_calib\u001b[0m\u001b[0;34m,\u001b[0m \u001b[0mv_dcdt\u001b[0m\u001b[0;34m,\u001b[0m \u001b[0mv_dcdt_calib\u001b[0m\u001b[0;34m)\u001b[0m\u001b[0;34m)\u001b[0m\u001b[0;34m\u001b[0m\u001b[0;34m\u001b[0m\u001b[0m\n\u001b[1;32m    270\u001b[0m         \u001b[0mpageAry\u001b[0m\u001b[0;34m.\u001b[0m\u001b[0mappend\u001b[0m\u001b[0;34m(\u001b[0m\u001b[0msec6\u001b[0m\u001b[0;34m(\u001b[0m\u001b[0mpurpose\u001b[0m\u001b[0;34m,\u001b[0m \u001b[0mac_blocks\u001b[0m\u001b[0;34m,\u001b[0m \u001b[0mtemp\u001b[0m\u001b[0;34m,\u001b[0m \u001b[0mhumid\u001b[0m\u001b[0;34m)\u001b[0m\u001b[0;34m)\u001b[0m\u001b[0;34m\u001b[0m\u001b[0;34m\u001b[0m\u001b[0m\n\u001b[0;32m--> 271\u001b[0;31m         \u001b[0;31m# pageAry.append(sec7(PID_hyd))\u001b[0m\u001b[0;34m\u001b[0m\u001b[0;34m\u001b[0m\u001b[0m\n\u001b[0m\u001b[1;32m    272\u001b[0m         \u001b[0mpageAry\u001b[0m\u001b[0;34m.\u001b[0m\u001b[0mappend\u001b[0m\u001b[0;34m(\u001b[0m\u001b[0msec8\u001b[0m\u001b[0;34m(\u001b[0m\u001b[0mnotes\u001b[0m\u001b[0;34m)\u001b[0m\u001b[0;34m)\u001b[0m\u001b[0;34m\u001b[0m\u001b[0;34m\u001b[0m\u001b[0m\n\u001b[1;32m    273\u001b[0m \u001b[0;31m#         pageAry.append('\\n\\n\\\\end{document}')\u001b[0m\u001b[0;34m\u001b[0m\u001b[0;34m\u001b[0m\u001b[0m\n",
          "\u001b[0;31mNameError\u001b[0m: name 'PID_hyd' is not defined"
         ]
        }
       ]
      }
     },
     "ba6c1e36f92f4495b32f9b5b89f0dcc2": {
      "model_module": "@jupyter-widgets/base",
      "model_module_version": "1.2.0",
      "model_name": "LayoutModel",
      "state": {}
     },
     "bb9972c7e6e94e64b0a0a20e9b03d3d2": {
      "model_module": "@jupyter-widgets/base",
      "model_module_version": "1.2.0",
      "model_name": "LayoutModel",
      "state": {}
     },
     "bbb2ee50b7ff4454a7023ab5cd9debf1": {
      "model_module": "@jupyter-widgets/controls",
      "model_module_version": "1.5.0",
      "model_name": "DescriptionStyleModel",
      "state": {
       "description_width": "initial"
      }
     },
     "bbd178746f9e4bbc9636cb3d6c5d2f18": {
      "model_module": "@jupyter-widgets/controls",
      "model_module_version": "1.5.0",
      "model_name": "DatePickerModel",
      "state": {
       "description": "Exp. Date:",
       "disabled": false,
       "layout": "IPY_MODEL_34af2985ad2640b5a2041c6db64ba958",
       "style": "IPY_MODEL_0116409845ff41529ca9b9a89ca6d86e",
       "value": {
        "date": 29,
        "month": 10,
        "year": 2021
       }
      }
     },
     "bbd44fbe147c42abacbb90daa0e24b76": {
      "model_module": "@jupyter-widgets/base",
      "model_module_version": "1.2.0",
      "model_name": "LayoutModel",
      "state": {}
     },
     "bc1b03afc9e54a68a5a4975437243d21": {
      "model_module": "@jupyter-widgets/controls",
      "model_module_version": "1.5.0",
      "model_name": "DescriptionStyleModel",
      "state": {
       "description_width": "initial"
      }
     },
     "bc3bf412dfd745949d310420683358e3": {
      "model_module": "@jupyter-widgets/controls",
      "model_module_version": "1.5.0",
      "model_name": "HBoxModel",
      "state": {
       "children": [
        "IPY_MODEL_1e982e859d814a89ae97bb1cd806b920",
        "IPY_MODEL_fd1485f0addf4af9b184b381f29036fc",
        "IPY_MODEL_b98da24ba7134fdcb91779a0da9a9c96"
       ],
       "layout": "IPY_MODEL_b0c2056ef5e94071b36d4ca6eb0974df"
      }
     },
     "bc5d079ac494494696a42613fbe5c957": {
      "model_module": "@jupyter-widgets/controls",
      "model_module_version": "1.5.0",
      "model_name": "TextModel",
      "state": {
       "description": "Calibration (mV/kN):",
       "layout": "IPY_MODEL_05ffbdd91cf14b2f9d6b59ea0f6aff95",
       "placeholder": "mV/kN",
       "style": "IPY_MODEL_bea018f56d8c4bdbaf2d930f3d42341a",
       "value": "100.123"
      }
     },
     "bd07ae1996224ce9939f32c7bf27c8fb": {
      "model_module": "@jupyter-widgets/base",
      "model_module_version": "1.2.0",
      "model_name": "LayoutModel",
      "state": {}
     },
     "be038728d2c649a8b526c5582e366ef4": {
      "model_module": "@jupyter-widgets/controls",
      "model_module_version": "1.5.0",
      "model_name": "DescriptionStyleModel",
      "state": {
       "description_width": ""
      }
     },
     "be3c8e59164c44b7806af5e2ac1fa46c": {
      "model_module": "@jupyter-widgets/controls",
      "model_module_version": "1.5.0",
      "model_name": "VBoxModel",
      "state": {
       "children": [
        "IPY_MODEL_03bfc3da26f649d491d723734fc46087",
        "IPY_MODEL_5b508a58996141afbff112300e06585b",
        "IPY_MODEL_253e2d3aa43140599cd7471ef1675469",
        "IPY_MODEL_70c4e825551c4f4db2f3081d4a967a08",
        "IPY_MODEL_76caac3246704a7aa5673eb3eecbfb37",
        "IPY_MODEL_ee2eafbb11d5439cb0d3b7255a17cd57"
       ],
       "layout": "IPY_MODEL_2eed2cead2064ee791f549c09d611c5b"
      }
     },
     "be8c563048944994bd5eda6b97b5c592": {
      "model_module": "@jupyter-widgets/controls",
      "model_module_version": "1.5.0",
      "model_name": "DescriptionStyleModel",
      "state": {
       "description_width": "initial"
      }
     },
     "bea018f56d8c4bdbaf2d930f3d42341a": {
      "model_module": "@jupyter-widgets/controls",
      "model_module_version": "1.5.0",
      "model_name": "DescriptionStyleModel",
      "state": {
       "description_width": "initial"
      }
     },
     "c0172bd0880f49d2b4d56528e0fc212f": {
      "model_module": "@jupyter-widgets/base",
      "model_module_version": "1.2.0",
      "model_name": "LayoutModel",
      "state": {}
     },
     "c180eab4b7f641dba64bfe02d89bdd8a": {
      "model_module": "@jupyter-widgets/controls",
      "model_module_version": "1.5.0",
      "model_name": "TextModel",
      "state": {
       "description": "PpB Gain (V/MPa):",
       "layout": "IPY_MODEL_f80f3deb15c1479c80df4789d465e541",
       "placeholder": "PpB Gain (V/MPa)",
       "style": "IPY_MODEL_ddaccb4f49e74e20affe94fe5c99b90e"
      }
     },
     "c186dc0b2c9b4e4386ff2947c5500d19": {
      "model_module": "@jupyter-widgets/base",
      "model_module_version": "1.2.0",
      "model_name": "LayoutModel",
      "state": {
       "flex": "1 1 1%",
       "width": "auto"
      }
     },
     "c25e32864ea64b5c915e90b7e6f357c2": {
      "model_module": "@jupyter-widgets/controls",
      "model_module_version": "1.5.0",
      "model_name": "DropdownModel",
      "state": {
       "_options_labels": [
        "44mm Solid Horiz",
        "44mm Solid Vert",
        "None"
       ],
       "description": "Horiz. Load Cell:",
       "index": 0,
       "layout": "IPY_MODEL_b908d5e9d4754d15a46a17fa99691821",
       "style": "IPY_MODEL_ca388090e7a341529f6ff994aa0c7419"
      }
     },
     "c2fde347d514460aa9ffcdd28efb8975": {
      "model_module": "@jupyter-widgets/controls",
      "model_module_version": "1.5.0",
      "model_name": "DescriptionStyleModel",
      "state": {
       "description_width": ""
      }
     },
     "c35499771f294fc585ce53030abd32a5": {
      "model_module": "@jupyter-widgets/controls",
      "model_module_version": "1.5.0",
      "model_name": "DescriptionStyleModel",
      "state": {
       "description_width": "initial"
      }
     },
     "c724017795d9410d8cc5042bde2ebcb1": {
      "model_module": "@jupyter-widgets/controls",
      "model_module_version": "1.5.0",
      "model_name": "LabelModel",
      "state": {
       "layout": "IPY_MODEL_5a4bf72e09e642d69bdca0dcdba7fbf3",
       "style": "IPY_MODEL_91b994779865409eb27f34c9480d6baf",
       "value": "Volt. @ Load = "
      }
     },
     "c76da47bbf3e42c0b7dbfcfff3f766aa": {
      "model_module": "@jupyter-widgets/controls",
      "model_module_version": "1.5.0",
      "model_name": "VBoxModel",
      "state": {
       "children": [
        "IPY_MODEL_adf82b9325d648809aae50a9f465e5ce",
        "IPY_MODEL_0788a465a20e44bfbff877ac3deba237",
        "IPY_MODEL_70cf5cfda24846c5b748cd747a0cbe5f",
        "IPY_MODEL_13571766930645ef9504b2faa1701d97",
        "IPY_MODEL_f7c960af3eea4236984f8c630b4008bc",
        "IPY_MODEL_5e2433d021704a26b7c07cac96298a64"
       ],
       "layout": "IPY_MODEL_2c7d2e68e2504cbbbd86c3d470416a76"
      }
     },
     "c7ebd2b066aa42a9af2c0cd3a48d865e": {
      "model_module": "@jupyter-widgets/base",
      "model_module_version": "1.2.0",
      "model_name": "LayoutModel",
      "state": {}
     },
     "c9571e487b264f78a0f00fde46a7919f": {
      "model_module": "@jupyter-widgets/base",
      "model_module_version": "1.2.0",
      "model_name": "LayoutModel",
      "state": {}
     },
     "ca388090e7a341529f6ff994aa0c7419": {
      "model_module": "@jupyter-widgets/controls",
      "model_module_version": "1.5.0",
      "model_name": "DescriptionStyleModel",
      "state": {
       "description_width": "initial"
      }
     },
     "ca6fbc55072d42778ff4976853f8075c": {
      "model_module": "@jupyter-widgets/base",
      "model_module_version": "1.2.0",
      "model_name": "LayoutModel",
      "state": {
       "grid_area": "widget012",
       "width": "150px"
      }
     },
     "caa71332d4744f51acd26eab1848e688": {
      "model_module": "@jupyter-widgets/controls",
      "model_module_version": "1.5.0",
      "model_name": "TextModel",
      "state": {
       "description": "D",
       "layout": "IPY_MODEL_3f79b497c0e7475a957bb3d982fe5818",
       "placeholder": "",
       "style": "IPY_MODEL_de532d84b5f54dab97befe94c7916405",
       "value": "1"
      }
     },
     "caafba9a3e7d49bdabde9d33735d3041": {
      "model_module": "@jupyter-widgets/controls",
      "model_module_version": "1.5.0",
      "model_name": "DescriptionStyleModel",
      "state": {
       "description_width": ""
      }
     },
     "cb0382d9d7c34d5ab473e2707d747396": {
      "model_module": "@jupyter-widgets/controls",
      "model_module_version": "1.5.0",
      "model_name": "TextModel",
      "state": {
       "description": "Contact Area (m^2)",
       "layout": "IPY_MODEL_688eb21608c747c5862277c85755c845",
       "placeholder": "m^2",
       "style": "IPY_MODEL_279d5cda625642549912a52dcb6ef33d",
       "value": "0.001"
      }
     },
     "cc5aeb3cf0b14cd69d0fd42710c1c2bc": {
      "model_module": "@jupyter-widgets/controls",
      "model_module_version": "1.5.0",
      "model_name": "RadioButtonsModel",
      "state": {
       "_options_labels": [
        "yes",
        "no"
       ],
       "description": "Use Vessel?",
       "index": 1,
       "layout": "IPY_MODEL_e578e28256f34204bf9230a3f169626e",
       "style": "IPY_MODEL_0f90236accb844848ae6fc2240af0e5b"
      }
     },
     "ccafe2dbcc62463fa08c7e3ee7d2a7ac": {
      "model_module": "@jupyter-widgets/controls",
      "model_module_version": "1.5.0",
      "model_name": "VBoxModel",
      "state": {
       "children": [
        "IPY_MODEL_ebea39cb7ab340f993deed2ecbaf51a9",
        "IPY_MODEL_1acde97c194c4ef79a30f9a2b56d01cc",
        "IPY_MODEL_2496323486cf4d80b4d5cf5e65647f30",
        "IPY_MODEL_ae9721c6bc72476cbfc565bda9452c8f",
        "IPY_MODEL_57abf72780394ef2b133c70fcc60a8d5"
       ],
       "layout": "IPY_MODEL_32f0c19def074a45b9b56559587dbf49"
      }
     },
     "cd2196b400fc4bb09f73f9c396e354cf": {
      "model_module": "@jupyter-widgets/controls",
      "model_module_version": "1.5.0",
      "model_name": "GridBoxModel",
      "state": {
       "children": [
        "IPY_MODEL_f23d46b7f526494899c99946e3a4a2a1",
        "IPY_MODEL_bc3bf412dfd745949d310420683358e3",
        "IPY_MODEL_ea6f2875e409403f90b1ec42fd674501"
       ],
       "layout": "IPY_MODEL_100780c80e2c4b3d96a9ba5b121edd22"
      }
     },
     "cd4983549c2c43dabbcdec62f77875df": {
      "model_module": "@jupyter-widgets/base",
      "model_module_version": "1.2.0",
      "model_name": "LayoutModel",
      "state": {}
     },
     "cdc4a654572c40a5bf218dbd72bdcdbc": {
      "model_module": "@jupyter-widgets/controls",
      "model_module_version": "1.5.0",
      "model_name": "DescriptionStyleModel",
      "state": {
       "description_width": "initial"
      }
     },
     "cebe155b6d734346a1b1fbabdc3c3022": {
      "model_module": "@jupyter-widgets/base",
      "model_module_version": "1.2.0",
      "model_name": "LayoutModel",
      "state": {}
     },
     "cf34b0c9a5774fab8efdc7b8c62910f1": {
      "model_module": "@jupyter-widgets/controls",
      "model_module_version": "1.5.0",
      "model_name": "RadioButtonsModel",
      "state": {
       "_options_labels": [
        "yes",
        "no"
       ],
       "description": "Use Vessel?",
       "index": 1,
       "layout": "IPY_MODEL_0b69796fc2ef4914a82c0497483e3710",
       "style": "IPY_MODEL_2f91658686bd4d90a2b89da314f24625"
      }
     },
     "cf9391a9357a40a2a7b1f02be281af5a": {
      "model_module": "@jupyter-widgets/controls",
      "model_module_version": "1.5.0",
      "model_name": "DescriptionStyleModel",
      "state": {
       "description_width": "initial"
      }
     },
     "cff99468642f499f862bed81eafc1426": {
      "model_module": "@jupyter-widgets/base",
      "model_module_version": "1.2.0",
      "model_name": "LayoutModel",
      "state": {}
     },
     "d05dade15bbf42a18ab533b89f40c0b3": {
      "model_module": "@jupyter-widgets/controls",
      "model_module_version": "1.5.0",
      "model_name": "DescriptionStyleModel",
      "state": {
       "description_width": ""
      }
     },
     "d064b5ba14084543bc702cba3a2b1df9": {
      "model_module": "@jupyter-widgets/controls",
      "model_module_version": "1.5.0",
      "model_name": "TextModel",
      "state": {
       "description": "Feedback",
       "layout": "IPY_MODEL_6992894c811649ea8e5130a120c20b27",
       "placeholder": "",
       "style": "IPY_MODEL_a27694b729fd4206971dad99f4896b09",
       "value": "1"
      }
     },
     "d13b56361b404f6e90d330001ddd8ab8": {
      "model_module": "@jupyter-widgets/controls",
      "model_module_version": "1.5.0",
      "model_name": "GridBoxModel",
      "state": {
       "children": [
        "IPY_MODEL_122d1e87a3ef474490fa32a78071886d",
        "IPY_MODEL_12ce0ccdcc494a14af450cc05f674062",
        "IPY_MODEL_a052e446ff364174a32aff54fc30541b"
       ],
       "layout": "IPY_MODEL_3ac8128e1fe14bf9a0017608a98dc7a4"
      }
     },
     "d1bfbb317bc544718f7972b039a512c0": {
      "model_module": "@jupyter-widgets/controls",
      "model_module_version": "1.5.0",
      "model_name": "DescriptionStyleModel",
      "state": {
       "description_width": ""
      }
     },
     "d1decf5ab86b47eb939cdfa233313a6a": {
      "model_module": "@jupyter-widgets/controls",
      "model_module_version": "1.5.0",
      "model_name": "GridBoxModel",
      "state": {
       "children": [
        "IPY_MODEL_e98948821cfc495e96ca326e46edda0c",
        "IPY_MODEL_3196ce8e78b8431090b49c81cf2b682b"
       ],
       "layout": "IPY_MODEL_6eeb32f2c9ff497ba91016c0bc609ce0"
      }
     },
     "d280b90ebe71466c857a44f3db806d45": {
      "model_module": "@jupyter-widgets/base",
      "model_module_version": "1.2.0",
      "model_name": "LayoutModel",
      "state": {}
     },
     "d293ba60f7fd465c97ac4f55cbd5d4fa": {
      "model_module": "@jupyter-widgets/controls",
      "model_module_version": "1.5.0",
      "model_name": "DescriptionStyleModel",
      "state": {
       "description_width": "initial"
      }
     },
     "d2db66f2e8a14a5db133f7714467ec5a": {
      "model_module": "@jupyter-widgets/base",
      "model_module_version": "1.2.0",
      "model_name": "LayoutModel",
      "state": {}
     },
     "d3176c279f9a40e9a40de5ceb63c89c6": {
      "model_module": "@jupyter-widgets/base",
      "model_module_version": "1.2.0",
      "model_name": "LayoutModel",
      "state": {}
     },
     "d33b743ae2fe423c9bc07037526b2445": {
      "model_module": "@jupyter-widgets/controls",
      "model_module_version": "1.5.0",
      "model_name": "GridBoxModel",
      "state": {
       "children": [
        "IPY_MODEL_b5c8847a1f88410f8e5cd0c09a56b07a",
        "IPY_MODEL_be3c8e59164c44b7806af5e2ac1fa46c"
       ],
       "layout": "IPY_MODEL_6c8dda220c2d4661ae00f146c162198b"
      }
     },
     "d3c68b470ad241e687c4b0ac0a0f946a": {
      "model_module": "@jupyter-widgets/controls",
      "model_module_version": "1.5.0",
      "model_name": "LabelModel",
      "state": {
       "layout": "IPY_MODEL_dff70b2409814988b03c39fc1a9ef053",
       "style": "IPY_MODEL_44626463649f434b866c51e9da8d8b82",
       "value": "Vertical Load Cell"
      }
     },
     "d3e6b1b9aba44c60b95e40bcaffc2baa": {
      "model_module": "@jupyter-widgets/controls",
      "model_module_version": "1.5.0",
      "model_name": "TextareaModel",
      "state": {
       "description": "Purpose/Description",
       "layout": "IPY_MODEL_a661a2778ac64df59051937bcddaf6fd",
       "placeholder": "Purpose/Description",
       "style": "IPY_MODEL_838054be459c4a669c5b5e6fa520f5ae",
       "value": "something"
      }
     },
     "d41cd1ab901a44bda310916735111f34": {
      "model_module": "@jupyter-widgets/controls",
      "model_module_version": "1.5.0",
      "model_name": "TextModel",
      "state": {
       "description": "Datten",
       "layout": "IPY_MODEL_41672d3ad19e4149aec4d36c83b3fa45",
       "placeholder": "",
       "style": "IPY_MODEL_a30ffdb5a72a45f78f440aad72e44e3a",
       "value": "1"
      }
     },
     "d46b460384264ea088c5a6a91e508a20": {
      "model_module": "@jupyter-widgets/controls",
      "model_module_version": "1.5.0",
      "model_name": "LabelModel",
      "state": {
       "layout": "IPY_MODEL_00f5ea1ea28a4d91b9dc7603f0e6071e",
       "style": "IPY_MODEL_3344a90a0c684945bdf97fecd2530db3",
       "value": "Vert. Servo Settings"
      }
     },
     "d4c75819de1947c9a728bcd1295221fb": {
      "model_module": "@jupyter-widgets/controls",
      "model_module_version": "1.5.0",
      "model_name": "TextModel",
      "state": {
       "description": "PpA Press. (MPa)",
       "layout": "IPY_MODEL_c9571e487b264f78a0f00fde46a7919f",
       "placeholder": "MPa",
       "style": "IPY_MODEL_a406d178974847a8a8fcb820e021c23a"
      }
     },
     "d5c8f33f4e4d4a8190527ade9142077a": {
      "model_module": "@jupyter-widgets/controls",
      "model_module_version": "1.5.0",
      "model_name": "TextModel",
      "state": {
       "description": "Target Stress(es) (MPa):",
       "layout": "IPY_MODEL_adddc7044662400a8638316fd78d1b18",
       "placeholder": "MPa",
       "style": "IPY_MODEL_b4df43ed490045beb845104fcf4845a6",
       "value": "10"
      }
     },
     "d6d89acfaf7d4f0c9fb3b128b5e432be": {
      "model_module": "@jupyter-widgets/base",
      "model_module_version": "1.2.0",
      "model_name": "LayoutModel",
      "state": {}
     },
     "d6e7f1fa2dbe4fdeae851b31750323fd": {
      "model_module": "@jupyter-widgets/controls",
      "model_module_version": "1.5.0",
      "model_name": "LabelModel",
      "state": {
       "layout": "IPY_MODEL_bd07ae1996224ce9939f32c7bf27c8fb",
       "style": "IPY_MODEL_717b0384cad248c384e576ef2935b1f4",
       "value": "Volt. @ Load = "
      }
     },
     "d7df149683d44c098f4ba5a39093825f": {
      "model_module": "@jupyter-widgets/controls",
      "model_module_version": "1.5.0",
      "model_name": "DescriptionStyleModel",
      "state": {
       "description_width": "initial"
      }
     },
     "d8bb383642d840a1bcca7411eab2683a": {
      "model_module": "@jupyter-widgets/controls",
      "model_module_version": "1.5.0",
      "model_name": "TextModel",
      "state": {
       "description": "V. Init. Volt.:",
       "layout": "IPY_MODEL_835daa4071a94726abe8da3f0bbfc01b",
       "placeholder": "Volt",
       "style": "IPY_MODEL_3527de5ae69f4e748d7a325cb2323191"
      }
     },
     "d8d442e9a1c04d83a0303acc270f90c5": {
      "model_module": "@jupyter-widgets/base",
      "model_module_version": "1.2.0",
      "model_name": "LayoutModel",
      "state": {
       "flex": "1 1 1%",
       "width": "auto"
      }
     },
     "d8e70ba316a147ef8d6a351553bdc3e4": {
      "model_module": "@jupyter-widgets/controls",
      "model_module_version": "1.5.0",
      "model_name": "VBoxModel",
      "state": {
       "children": [
        "IPY_MODEL_51701d03b72e4f789da931c5173abf30",
        "IPY_MODEL_6bb4ab7bcd194d818150af638f4b7ab8",
        "IPY_MODEL_145fc9368bc3429abd845b16adf8a093",
        "IPY_MODEL_240f89e823f342eb8a8728b5ea4dbe0f",
        "IPY_MODEL_85aa3a2f2e574a189fc2fd02242fe41b"
       ],
       "layout": "IPY_MODEL_4519f97b89734f9ebc79901fcfbc248c"
      }
     },
     "d96e179272614626acbbf856db48928a": {
      "model_module": "@jupyter-widgets/controls",
      "model_module_version": "1.5.0",
      "model_name": "GridBoxModel",
      "state": {
       "children": [
        "IPY_MODEL_559e71a21115476db2fe5c8e4f0ddf93",
        "IPY_MODEL_a5a3c878d6c74b589fc25f16a8d39bad"
       ],
       "layout": "IPY_MODEL_66944b9eb54b4131901e7f8f3f728542"
      }
     },
     "d9e5f53a067948d4b22b56f6a6cc6b17": {
      "model_module": "@jupyter-widgets/base",
      "model_module_version": "1.2.0",
      "model_name": "LayoutModel",
      "state": {}
     },
     "da7938c6402e47b18df0d1c272f6084d": {
      "model_module": "@jupyter-widgets/base",
      "model_module_version": "1.2.0",
      "model_name": "LayoutModel",
      "state": {
       "grid_area": "widget006",
       "width": "150px"
      }
     },
     "daa855145ee7495693cfbfcda9d673de": {
      "model_module": "@jupyter-widgets/base",
      "model_module_version": "1.2.0",
      "model_name": "LayoutModel",
      "state": {}
     },
     "db0213e7deee4cf5b79f348cdb74e528": {
      "model_module": "@jupyter-widgets/controls",
      "model_module_version": "1.5.0",
      "model_name": "DescriptionStyleModel",
      "state": {
       "description_width": "initial"
      }
     },
     "db4b17395e5846f8b566100112350aca": {
      "model_module": "@jupyter-widgets/base",
      "model_module_version": "1.2.0",
      "model_name": "LayoutModel",
      "state": {}
     },
     "db953bdc98f7411881e8c1aa8b3edd6d": {
      "model_module": "@jupyter-widgets/base",
      "model_module_version": "1.2.0",
      "model_name": "LayoutModel",
      "state": {}
     },
     "dbb47d3f51b949188f2f4634c7674f86": {
      "model_module": "@jupyter-widgets/controls",
      "model_module_version": "1.5.0",
      "model_name": "DescriptionStyleModel",
      "state": {
       "description_width": "initial"
      }
     },
     "dd48ae5a687d4786b3dc21956e8818de": {
      "model_module": "@jupyter-widgets/base",
      "model_module_version": "1.2.0",
      "model_name": "LayoutModel",
      "state": {}
     },
     "ddaccb4f49e74e20affe94fe5c99b90e": {
      "model_module": "@jupyter-widgets/controls",
      "model_module_version": "1.5.0",
      "model_name": "DescriptionStyleModel",
      "state": {
       "description_width": "initial"
      }
     },
     "de532d84b5f54dab97befe94c7916405": {
      "model_module": "@jupyter-widgets/controls",
      "model_module_version": "1.5.0",
      "model_name": "DescriptionStyleModel",
      "state": {
       "description_width": ""
      }
     },
     "de87555968a749e6802ddb950ce29c37": {
      "model_module": "@jupyter-widgets/controls",
      "model_module_version": "1.5.0",
      "model_name": "TextModel",
      "state": {
       "description": "PpB Press. (MPa)",
       "layout": "IPY_MODEL_e0f074dd551e465dbdd5540b0f0c914f",
       "placeholder": "MPa",
       "style": "IPY_MODEL_069ba5c151b44110a2fac00b623024b2"
      }
     },
     "deb0652462df4f9281874fb70da6bada": {
      "model_module": "@jupyter-widgets/controls",
      "model_module_version": "1.5.0",
      "model_name": "DescriptionStyleModel",
      "state": {
       "description_width": "initial"
      }
     },
     "df4f2baca02242538dae84fc80f953ac": {
      "model_module": "@jupyter-widgets/base",
      "model_module_version": "1.2.0",
      "model_name": "LayoutModel",
      "state": {
       "grid_area": "widget009",
       "width": "150px"
      }
     },
     "dff70b2409814988b03c39fc1a9ef053": {
      "model_module": "@jupyter-widgets/base",
      "model_module_version": "1.2.0",
      "model_name": "LayoutModel",
      "state": {}
     },
     "e0209c33d3044989970f675ac6c212ff": {
      "model_module": "@jupyter-widgets/controls",
      "model_module_version": "1.5.0",
      "model_name": "DescriptionStyleModel",
      "state": {
       "description_width": "initial"
      }
     },
     "e04cc23754f645c8a2771ad0ce1d01c2": {
      "model_module": "@jupyter-widgets/controls",
      "model_module_version": "1.5.0",
      "model_name": "DescriptionStyleModel",
      "state": {
       "description_width": "initial"
      }
     },
     "e084ffffeba84cce99e19caf6ae39afb": {
      "model_module": "@jupyter-widgets/controls",
      "model_module_version": "1.5.0",
      "model_name": "TextModel",
      "state": {
       "description": "P",
       "layout": "IPY_MODEL_88b08f00a66040e6a5405d36fefe75ec",
       "placeholder": "",
       "style": "IPY_MODEL_5c541a42145b496e994dfe11b29e8d7c",
       "value": "1"
      }
     },
     "e0f074dd551e465dbdd5540b0f0c914f": {
      "model_module": "@jupyter-widgets/base",
      "model_module_version": "1.2.0",
      "model_name": "LayoutModel",
      "state": {}
     },
     "e105b8350e68428f91566d0f03e8e88d": {
      "model_module": "@jupyter-widgets/controls",
      "model_module_version": "1.5.0",
      "model_name": "TextModel",
      "state": {
       "description": "Operator Name(s):",
       "layout": "IPY_MODEL_816aa322775f403aa53d5be8e4c6fe6e",
       "placeholder": "Name(s)",
       "style": "IPY_MODEL_f87ea35e25594f22b5c54ee9dda0c0c5",
       "value": "clay"
      }
     },
     "e16b353fc5694eb9828f896740f98d99": {
      "model_module": "@jupyter-widgets/controls",
      "model_module_version": "1.5.0",
      "model_name": "LabelModel",
      "state": {
       "layout": "IPY_MODEL_89a6beb4555f4610b17c979a1a999d3d",
       "style": "IPY_MODEL_d1bfbb317bc544718f7972b039a512c0"
      }
     },
     "e19c5d14389e4fe9ba1fddee46c9e15b": {
      "model_module": "@jupyter-widgets/controls",
      "model_module_version": "1.5.0",
      "model_name": "TextModel",
      "state": {
       "description": "Acoustics blocks used",
       "layout": "IPY_MODEL_506b3238e1a0454d9d1925e1f2acc6f2",
       "placeholder": "",
       "style": "IPY_MODEL_2bf1e8c9be7642ce91ff177ca0a21779",
       "value": "something"
      }
     },
     "e27a22a79aeb477490106146ad49cabc": {
      "model_module": "@jupyter-widgets/controls",
      "model_module_version": "1.5.0",
      "model_name": "DescriptionStyleModel",
      "state": {
       "description_width": "initial"
      }
     },
     "e2d474d8234e4301b8de3f3dad37e80d": {
      "model_module": "@jupyter-widgets/controls",
      "model_module_version": "1.5.0",
      "model_name": "TextModel",
      "state": {
       "description": "D",
       "layout": "IPY_MODEL_443a517fabe941ba86e5e4db8a78ea33",
       "placeholder": "",
       "style": "IPY_MODEL_2987e96d2afa402891eaf561e0d71c0c"
      }
     },
     "e4a00f1e74444f37bd3297e3528db6c7": {
      "model_module": "@jupyter-widgets/base",
      "model_module_version": "1.2.0",
      "model_name": "LayoutModel",
      "state": {}
     },
     "e4ce181de3aa471fb609deab8acda8f3": {
      "model_module": "@jupyter-widgets/base",
      "model_module_version": "1.2.0",
      "model_name": "LayoutModel",
      "state": {
       "border": "2px solid royalblue",
       "display": "flex",
       "flex_flow": "row",
       "grid_gap": "60px",
       "padding": "10px",
       "width": "75%"
      }
     },
     "e4cf0e1b494b4b918379c055e79cd738": {
      "model_module": "@jupyter-widgets/controls",
      "model_module_version": "1.5.0",
      "model_name": "LabelModel",
      "state": {
       "layout": "IPY_MODEL_5f311946f67b46839a7c2453407f94d0",
       "style": "IPY_MODEL_acf899a6814944e1a9b8732a649d12b3",
       "value": "Hor. Servo Settings"
      }
     },
     "e578e28256f34204bf9230a3f169626e": {
      "model_module": "@jupyter-widgets/base",
      "model_module_version": "1.2.0",
      "model_name": "LayoutModel",
      "state": {}
     },
     "e603574dcf0f4145a238e07d1a006155": {
      "model_module": "@jupyter-widgets/controls",
      "model_module_version": "1.5.0",
      "model_name": "LabelModel",
      "state": {
       "layout": "IPY_MODEL_7bd7cb17a8bd47ecafb8add97757e156",
       "style": "IPY_MODEL_8b909ff3440041be843f616a87baafff",
       "value": "Hor. Servo Settings"
      }
     },
     "e9416f3766084f98931bd7f5fecfd63a": {
      "model_module": "@jupyter-widgets/base",
      "model_module_version": "1.2.0",
      "model_name": "LayoutModel",
      "state": {}
     },
     "e98948821cfc495e96ca326e46edda0c": {
      "model_module": "@jupyter-widgets/controls",
      "model_module_version": "1.5.0",
      "model_name": "VBoxModel",
      "state": {
       "children": [
        "IPY_MODEL_292fec771fa445b09792d910959267ff",
        "IPY_MODEL_2b375b3fed8d4eb489b965b2d535e22d",
        "IPY_MODEL_0c396248cd3c479daf554be9eb5c00e3"
       ],
       "layout": "IPY_MODEL_c186dc0b2c9b4e4386ff2947c5500d19"
      }
     },
     "ea6f2875e409403f90b1ec42fd674501": {
      "model_module": "@jupyter-widgets/controls",
      "model_module_version": "1.5.0",
      "model_name": "TextareaModel",
      "state": {
       "description": "Experiment Notes",
       "layout": "IPY_MODEL_2ebc53d4ee764bb79f26fd3280d65df7",
       "placeholder": "Experiment Notes",
       "style": "IPY_MODEL_23981c63c6ba48d4bad8aa6d8794c2c7",
       "value": "something"
      }
     },
     "eb56db5eb0eb459c9ba7bee552ccb988": {
      "model_module": "@jupyter-widgets/base",
      "model_module_version": "1.2.0",
      "model_name": "LayoutModel",
      "state": {}
     },
     "eba4901f3f694c3ca40eca1f7b9faf37": {
      "model_module": "@jupyter-widgets/controls",
      "model_module_version": "1.5.0",
      "model_name": "TextModel",
      "state": {
       "description": "Vert. DCDT calib.:",
       "layout": "IPY_MODEL_ab1a02471fef45798e7475fa292e42f5",
       "placeholder": "mm/V",
       "style": "IPY_MODEL_480247303a3c4e65a4a3e6f3a1cc24d6",
       "value": "1"
      }
     },
     "ebea39cb7ab340f993deed2ecbaf51a9": {
      "model_module": "@jupyter-widgets/controls",
      "model_module_version": "1.5.0",
      "model_name": "LabelModel",
      "state": {
       "layout": "IPY_MODEL_64fd95e282104b239279d6eecadac494",
       "style": "IPY_MODEL_b6b3569bb12a4fae8334d41d5643022d",
       "value": "Confining Pressure"
      }
     },
     "edc8bc6cf8c349cb966a0cd23db0f837": {
      "model_module": "@jupyter-widgets/controls",
      "model_module_version": "1.5.0",
      "model_name": "DescriptionStyleModel",
      "state": {
       "description_width": "initial"
      }
     },
     "edeadde2dbd14991b3a65c149e6b2d94": {
      "model_module": "@jupyter-widgets/controls",
      "model_module_version": "1.5.0",
      "model_name": "VBoxModel",
      "state": {
       "children": [
        "IPY_MODEL_312427d41e0d4bb08ef5e0611185b439",
        "IPY_MODEL_3e544f5b975b4db49fe6f0a151001b93",
        "IPY_MODEL_a5894fc4c98f42e4a4b708ade6aa4de8"
       ],
       "layout": "IPY_MODEL_7ab4601e14934036ba9da58a5aa82300"
      }
     },
     "ee18d61a81f343dabf0f4dd24ce880ee": {
      "model_module": "@jupyter-widgets/controls",
      "model_module_version": "1.5.0",
      "model_name": "DescriptionStyleModel",
      "state": {
       "description_width": "initial"
      }
     },
     "ee2eafbb11d5439cb0d3b7255a17cd57": {
      "model_module": "@jupyter-widgets/controls",
      "model_module_version": "1.5.0",
      "model_name": "LabelModel",
      "state": {
       "layout": "IPY_MODEL_d280b90ebe71466c857a44f3db806d45",
       "style": "IPY_MODEL_36facc60811f4dfb88b7fe3b6150a463",
       "value": "Volt. @ Load = 1.12423"
      }
     },
     "eecdb2d57ab1428e9dad2477943c8764": {
      "model_module": "@jupyter-widgets/controls",
      "model_module_version": "1.5.0",
      "model_name": "DescriptionStyleModel",
      "state": {
       "description_width": ""
      }
     },
     "f035b5b3f8714dac9019bdd934194374": {
      "model_module": "@jupyter-widgets/controls",
      "model_module_version": "1.5.0",
      "model_name": "DescriptionStyleModel",
      "state": {
       "description_width": ""
      }
     },
     "f23d46b7f526494899c99946e3a4a2a1": {
      "model_module": "@jupyter-widgets/controls",
      "model_module_version": "1.5.0",
      "model_name": "TextareaModel",
      "state": {
       "description": "Purpose/Description",
       "layout": "IPY_MODEL_3818a38aef634a1788e134106ee6f0ea",
       "placeholder": "Purpose/Description",
       "style": "IPY_MODEL_d293ba60f7fd465c97ac4f55cbd5d4fa",
       "value": "something"
      }
     },
     "f3cdf732a3c340ada4200898b0687ce9": {
      "model_module": "@jupyter-widgets/base",
      "model_module_version": "1.2.0",
      "model_name": "LayoutModel",
      "state": {
       "flex": "1 1 1%",
       "width": "auto"
      }
     },
     "f656a062733241c2bcb26ec37c132737": {
      "model_module": "@jupyter-widgets/controls",
      "model_module_version": "1.5.0",
      "model_name": "TextModel",
      "state": {
       "description": "H. Init. Volt.:",
       "layout": "IPY_MODEL_047903e08f594bc5a1c6346e30146bf3",
       "placeholder": "Volt",
       "style": "IPY_MODEL_078069b9cfd14ca991fb169b48eb1238",
       "value": "0.123"
      }
     },
     "f6f4c6b324f24bbca272c574e33039ca": {
      "model_module": "@jupyter-widgets/controls",
      "model_module_version": "1.5.0",
      "model_name": "DescriptionStyleModel",
      "state": {
       "description_width": "initial"
      }
     },
     "f7c960af3eea4236984f8c630b4008bc": {
      "model_module": "@jupyter-widgets/controls",
      "model_module_version": "1.5.0",
      "model_name": "TextModel",
      "state": {
       "description": "H. Init. Volt.:",
       "layout": "IPY_MODEL_8975c8f6412248d0a90910c76365b771",
       "placeholder": "Volt",
       "style": "IPY_MODEL_94db3c6a7de8433aa48d5ecb5d111971",
       "value": "1"
      }
     },
     "f80f3deb15c1479c80df4789d465e541": {
      "model_module": "@jupyter-widgets/base",
      "model_module_version": "1.2.0",
      "model_name": "LayoutModel",
      "state": {}
     },
     "f87ea35e25594f22b5c54ee9dda0c0c5": {
      "model_module": "@jupyter-widgets/controls",
      "model_module_version": "1.5.0",
      "model_name": "DescriptionStyleModel",
      "state": {
       "description_width": "initial"
      }
     },
     "f8a9f73a99e54c58bc6f0495154fae25": {
      "model_module": "@jupyter-widgets/base",
      "model_module_version": "1.2.0",
      "model_name": "LayoutModel",
      "state": {}
     },
     "f96b18e2cf8f49ac8eabe60626044294": {
      "model_module": "@jupyter-widgets/controls",
      "model_module_version": "1.5.0",
      "model_name": "DescriptionStyleModel",
      "state": {
       "description_width": ""
      }
     },
     "f9c5af5830df4e89830bcb1fdc54b11b": {
      "model_module": "@jupyter-widgets/controls",
      "model_module_version": "1.5.0",
      "model_name": "TextModel",
      "state": {
       "description": "E-gain",
       "layout": "IPY_MODEL_73bf1924aa484052994abdf4757373d6",
       "placeholder": "",
       "style": "IPY_MODEL_74d34194f0934b76aa0489aaed0fb18e"
      }
     },
     "f9c786fc28a54132ad8c4f6d2216a950": {
      "model_module": "@jupyter-widgets/base",
      "model_module_version": "1.2.0",
      "model_name": "LayoutModel",
      "state": {}
     },
     "f9eb92e017474df8bfe10c82484e95ea": {
      "model_module": "@jupyter-widgets/controls",
      "model_module_version": "1.5.0",
      "model_name": "TextModel",
      "state": {
       "description": "Horiz. DCDT calib.:",
       "layout": "IPY_MODEL_7544f6c1140a4941a69cf44530614478",
       "placeholder": "mm/V",
       "style": "IPY_MODEL_71588eb6a30c435a9b4042d4bbea15a3",
       "value": "1"
      }
     },
     "fa51a0aa5c654eb3b3bad86e7f3315ee": {
      "model_module": "@jupyter-widgets/base",
      "model_module_version": "1.2.0",
      "model_name": "LayoutModel",
      "state": {
       "flex": "1 1 1%",
       "width": "auto"
      }
     },
     "fadd1027cbc04a5ca1f010ef7b696745": {
      "model_module": "@jupyter-widgets/controls",
      "model_module_version": "1.5.0",
      "model_name": "TextModel",
      "state": {
       "description": "Target Stress(es) (MPa):",
       "layout": "IPY_MODEL_06dfaf17f4f643efa32ab82b998f33a7",
       "placeholder": "MPa",
       "style": "IPY_MODEL_e27a22a79aeb477490106146ad49cabc",
       "value": "10"
      }
     },
     "fb01d0d860ef4f559f8a9c39bd3971db": {
      "model_module": "@jupyter-widgets/controls",
      "model_module_version": "1.5.0",
      "model_name": "TextModel",
      "state": {
       "description": "Datten",
       "layout": "IPY_MODEL_3022867775914f81afe919f9d388cd31",
       "placeholder": "",
       "style": "IPY_MODEL_3068866d7a4e4f1e882de2de52dd9f67"
      }
     },
     "fb0fb91b45ea4881a0f9dcadaa9206c2": {
      "model_module": "@jupyter-widgets/base",
      "model_module_version": "1.2.0",
      "model_name": "LayoutModel",
      "state": {
       "grid_area": "widget010",
       "width": "150px"
      }
     },
     "fb3e87a52073497d857c24bd65d5552a": {
      "model_module": "@jupyter-widgets/controls",
      "model_module_version": "1.5.0",
      "model_name": "DescriptionStyleModel",
      "state": {
       "description_width": "initial"
      }
     },
     "fb4cb986987a4449bcd7cf4fef7d3429": {
      "model_module": "@jupyter-widgets/controls",
      "model_module_version": "1.5.0",
      "model_name": "LabelModel",
      "state": {
       "layout": "IPY_MODEL_db4b17395e5846f8b566100112350aca",
       "style": "IPY_MODEL_a3eba0221ae6459aaeb45b0c98c64441"
      }
     },
     "fd0b6be9d6af43d99e0824fa86649826": {
      "model_module": "@jupyter-widgets/controls",
      "model_module_version": "1.5.0",
      "model_name": "DescriptionStyleModel",
      "state": {
       "description_width": ""
      }
     },
     "fd1485f0addf4af9b184b381f29036fc": {
      "model_module": "@jupyter-widgets/controls",
      "model_module_version": "1.5.0",
      "model_name": "TextModel",
      "state": {
       "description": "Temperture",
       "layout": "IPY_MODEL_d8d442e9a1c04d83a0303acc270f90c5",
       "placeholder": "Temperature (C)",
       "style": "IPY_MODEL_ee18d61a81f343dabf0f4dd24ce880ee",
       "value": "10"
      }
     },
     "fd47357e93c248ad83cc773533a555ff": {
      "model_module": "@jupyter-widgets/controls",
      "model_module_version": "1.5.0",
      "model_name": "RadioButtonsModel",
      "state": {
       "_options_labels": [
        "yes",
        "no"
       ],
       "description": "Record PID?",
       "index": 1,
       "layout": "IPY_MODEL_a18603a81a374ec5ada1464c496255b2",
       "style": "IPY_MODEL_16e7b59ff07f44e6b92d4508903185a0"
      }
     },
     "fe5dd285d5e049b183f897ff9a3a60e2": {
      "model_module": "@jupyter-widgets/base",
      "model_module_version": "1.2.0",
      "model_name": "LayoutModel",
      "state": {
       "flex": "1 1 1%",
       "width": "auto"
      }
     },
     "fe9cbca947f74d7f847e65e918a56152": {
      "model_module": "@jupyter-widgets/output",
      "model_module_version": "1.0.0",
      "model_name": "OutputModel",
      "state": {
       "layout": "IPY_MODEL_52cc293f19434e5289665972b46370c4",
       "outputs": [
        {
         "data": {
          "application/vnd.jupyter.widget-view+json": {
           "model_id": "e16b353fc5694eb9828f896740f98d99",
           "version_major": 2,
           "version_minor": 0
          },
          "text/plain": "Label(value='')"
         },
         "metadata": {},
         "output_type": "display_data"
        }
       ]
      }
     },
     "febbde5563ff49f4b475c8cbe311be85": {
      "model_module": "@jupyter-widgets/controls",
      "model_module_version": "1.5.0",
      "model_name": "DescriptionStyleModel",
      "state": {
       "description_width": ""
      }
     }
    },
    "version_major": 2,
    "version_minor": 0
   }
  }
 },
 "nbformat": 4,
 "nbformat_minor": 5
}
