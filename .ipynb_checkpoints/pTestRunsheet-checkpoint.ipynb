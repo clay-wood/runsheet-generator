{
 "cells": [
  {
   "cell_type": "code",
   "execution_count": 1,
   "id": "ab603420-bff5-430d-a23f-5c92098226a9",
   "metadata": {},
   "outputs": [],
   "source": [
    "import runsheet_display as rs"
   ]
  },
  {
   "cell_type": "code",
   "execution_count": 2,
   "id": "2e17655f-9de4-46f9-a57a-0fead58a9792",
   "metadata": {
    "tags": []
   },
   "outputs": [
    {
     "data": {
      "application/vnd.jupyter.widget-view+json": {
       "model_id": "3dcbfbbdf8e24834979993c8ef921e83",
       "version_major": 2,
       "version_minor": 0
      },
      "text/plain": [
       "GridBox(children=(VBox(children=(Text(value='', description='Exp. Name:', placeholder='pxxxx', style=Descripti…"
      ]
     },
     "metadata": {},
     "output_type": "display_data"
    },
    {
     "data": {
      "application/vnd.jupyter.widget-view+json": {
       "model_id": "b83daf5777704ec5a207e5b7a915afb8",
       "version_major": 2,
       "version_minor": 0
      },
      "text/plain": [
       "GridBox(children=(VBox(children=(Text(value='', description='Contact Area (m^2)', placeholder='m^2', style=Des…"
      ]
     },
     "metadata": {},
     "output_type": "display_data"
    },
    {
     "data": {
      "application/vnd.jupyter.widget-view+json": {
       "model_id": "a24d15e5daa64a5397d038cccdf9956a",
       "version_major": 2,
       "version_minor": 0
      },
      "text/plain": [
       "GridBox(children=(VBox(children=(Label(value='Horizontal Load Cell'), Dropdown(description='Horiz. Load Cell:'…"
      ]
     },
     "metadata": {},
     "output_type": "display_data"
    },
    {
     "data": {
      "application/vnd.jupyter.widget-view+json": {
       "model_id": "f4673f4d608246c98cc3978e66af4bee",
       "version_major": 2,
       "version_minor": 0
      },
      "text/plain": [
       "RadioButtons(description='Use Vessel?', index=1, options=('yes', 'no'), value='no')"
      ]
     },
     "metadata": {},
     "output_type": "display_data"
    },
    {
     "data": {
      "application/vnd.jupyter.widget-view+json": {
       "model_id": "6a2e7e8f5f9540f4b7112f9919802243",
       "version_major": 2,
       "version_minor": 0
      },
      "text/plain": [
       "Output()"
      ]
     },
     "metadata": {},
     "output_type": "display_data"
    },
    {
     "data": {
      "application/vnd.jupyter.widget-view+json": {
       "model_id": "bdc30d2d43b348ea9766d5f4dd3b0aaf",
       "version_major": 2,
       "version_minor": 0
      },
      "text/plain": [
       "GridBox(children=(Dropdown(description='Data Logger Used:', options=('8 channel', '16 channel'), style=Descrip…"
      ]
     },
     "metadata": {},
     "output_type": "display_data"
    },
    {
     "data": {
      "application/vnd.jupyter.widget-view+json": {
       "model_id": "3c8436a629374908b5a1e7c8d4bf9867",
       "version_major": 2,
       "version_minor": 0
      },
      "text/plain": [
       "GridBox(children=(Textarea(value='', description='Purpose/Description', layout=Layout(flex='1 1 1%', width='au…"
      ]
     },
     "metadata": {},
     "output_type": "display_data"
    },
    {
     "data": {
      "application/vnd.jupyter.widget-view+json": {
       "model_id": "e6c77a7c70764ba9bab7816aea343dc9",
       "version_major": 2,
       "version_minor": 0
      },
      "text/plain": [
       "RadioButtons(description='Record PID?', index=1, options=('yes', 'no'), value='no')"
      ]
     },
     "metadata": {},
     "output_type": "display_data"
    },
    {
     "data": {
      "application/vnd.jupyter.widget-view+json": {
       "model_id": "0ed7b9702bbb41f2aad17530022c69f4",
       "version_major": 2,
       "version_minor": 0
      },
      "text/plain": [
       "Output()"
      ]
     },
     "metadata": {},
     "output_type": "display_data"
    },
    {
     "data": {
      "application/vnd.jupyter.widget-view+json": {
       "model_id": "77a2222ccbbe49738c1c288f31c29a11",
       "version_major": 2,
       "version_minor": 0
      },
      "text/plain": [
       "Button(description='Make Runsheet', style=ButtonStyle())"
      ]
     },
     "metadata": {},
     "output_type": "display_data"
    },
    {
     "data": {
      "application/vnd.jupyter.widget-view+json": {
       "model_id": "941b07d593c6485eba442fd70b109fae",
       "version_major": 2,
       "version_minor": 0
      },
      "text/plain": [
       "Output()"
      ]
     },
     "metadata": {},
     "output_type": "display_data"
    }
   ],
   "source": [
    "entry, outputs = rs.entry_gui()\n",
    "\n",
    "rs.print_btn(outputs)"
   ]
  },
  {
   "cell_type": "code",
   "execution_count": null,
   "id": "69716851-7904-4486-907e-b4a75922a75f",
   "metadata": {},
   "outputs": [],
   "source": []
  }
 ],
 "metadata": {
  "kernelspec": {
   "display_name": "Python 3",
   "language": "python",
   "name": "python3"
  },
  "language_info": {
   "codemirror_mode": {
    "name": "ipython",
    "version": 3
   },
   "file_extension": ".py",
   "mimetype": "text/x-python",
   "name": "python",
   "nbconvert_exporter": "python",
   "pygments_lexer": "ipython3",
   "version": "3.9.5"
  },
  "widgets": {
   "application/vnd.jupyter.widget-state+json": {
    "state": {
     "005801506b5f4e25b616850c2e6ff88b": {
      "model_module": "@jupyter-widgets/controls",
      "model_module_version": "1.5.0",
      "model_name": "DescriptionStyleModel",
      "state": {
       "description_width": ""
      }
     },
     "0132bf600ed749629980f1368e7d5b23": {
      "model_module": "@jupyter-widgets/controls",
      "model_module_version": "1.5.0",
      "model_name": "TextModel",
      "state": {
       "description": "Target Stress(es) (MPa):",
       "layout": "IPY_MODEL_73c23641aa234948b82f1540b9519c40",
       "placeholder": "MPa",
       "style": "IPY_MODEL_ae0d31c50a6b45f582d64a1e5375777a",
       "value": "5, 10, 20, 1, 13"
      }
     },
     "01dea436de76409f9235495c62e65778": {
      "model_module": "@jupyter-widgets/base",
      "model_module_version": "1.2.0",
      "model_name": "LayoutModel",
      "state": {}
     },
     "021e6e17ebcb4029bfaf537c24ac05a2": {
      "model_module": "@jupyter-widgets/base",
      "model_module_version": "1.2.0",
      "model_name": "LayoutModel",
      "state": {}
     },
     "026d311f0d084af3b994868eab437b02": {
      "model_module": "@jupyter-widgets/controls",
      "model_module_version": "1.5.0",
      "model_name": "DescriptionStyleModel",
      "state": {
       "description_width": "initial"
      }
     },
     "0298f34e992941769f5eb2998138aa22": {
      "model_module": "@jupyter-widgets/controls",
      "model_module_version": "1.5.0",
      "model_name": "TextModel",
      "state": {
       "description": "Pore Fluid",
       "layout": "IPY_MODEL_01dea436de76409f9235495c62e65778",
       "placeholder": "DI H2O",
       "style": "IPY_MODEL_ba82d446bf1c457ea5228039fe7f5495",
       "value": "DI H2O"
      }
     },
     "034285063fea4e368565118e1f7b91d8": {
      "model_module": "@jupyter-widgets/controls",
      "model_module_version": "1.5.0",
      "model_name": "DescriptionStyleModel",
      "state": {
       "description_width": ""
      }
     },
     "0377f0ab7a354f708fdbb0349f64d4be": {
      "model_module": "@jupyter-widgets/base",
      "model_module_version": "1.2.0",
      "model_name": "LayoutModel",
      "state": {}
     },
     "03a852a0c7144e6fa4363c25ee9def67": {
      "model_module": "@jupyter-widgets/controls",
      "model_module_version": "1.5.0",
      "model_name": "DescriptionStyleModel",
      "state": {
       "description_width": "initial"
      }
     },
     "0467d79ccc964f9a974224504907c832": {
      "model_module": "@jupyter-widgets/controls",
      "model_module_version": "1.5.0",
      "model_name": "DescriptionStyleModel",
      "state": {
       "description_width": ""
      }
     },
     "056bbf84e41341d788377468f2e9bd7c": {
      "model_module": "@jupyter-widgets/base",
      "model_module_version": "1.2.0",
      "model_name": "LayoutModel",
      "state": {
       "flex": "1 1 1%",
       "width": "auto"
      }
     },
     "05aa881e5b154795ba29a544003a989e": {
      "model_module": "@jupyter-widgets/controls",
      "model_module_version": "1.5.0",
      "model_name": "DescriptionStyleModel",
      "state": {
       "description_width": "initial"
      }
     },
     "05dc61708f504a91847dabba6d371468": {
      "model_module": "@jupyter-widgets/base",
      "model_module_version": "1.2.0",
      "model_name": "LayoutModel",
      "state": {}
     },
     "064022002353467b816b446d4f7f187c": {
      "model_module": "@jupyter-widgets/controls",
      "model_module_version": "1.5.0",
      "model_name": "VBoxModel",
      "state": {
       "children": [
        "IPY_MODEL_93a121d6eddd4246a1b4710a9142a6ad",
        "IPY_MODEL_cbd53333c74d4d5d98d6e1e11a33f3b4"
       ],
       "layout": "IPY_MODEL_a031822abe304f379b75b60ff61e69c9"
      }
     },
     "06a6194878394e46a1d034ab9f6bb606": {
      "model_module": "@jupyter-widgets/base",
      "model_module_version": "1.2.0",
      "model_name": "LayoutModel",
      "state": {}
     },
     "06f1905836db43cc986a0fba2ebe16ae": {
      "model_module": "@jupyter-widgets/base",
      "model_module_version": "1.2.0",
      "model_name": "LayoutModel",
      "state": {
       "flex": "1 1 1%",
       "width": "auto"
      }
     },
     "07246926b6bf4c97b57f8cca6be9a89d": {
      "model_module": "@jupyter-widgets/controls",
      "model_module_version": "1.5.0",
      "model_name": "DescriptionStyleModel",
      "state": {
       "description_width": "initial"
      }
     },
     "0785f2e89d2640289d86f543b8658579": {
      "model_module": "@jupyter-widgets/base",
      "model_module_version": "1.2.0",
      "model_name": "LayoutModel",
      "state": {}
     },
     "08a068819fdc4a9a9dcca999a184cc86": {
      "model_module": "@jupyter-widgets/controls",
      "model_module_version": "1.5.0",
      "model_name": "DescriptionStyleModel",
      "state": {
       "description_width": ""
      }
     },
     "09eef0a73cfb4809b341921d60b329f1": {
      "model_module": "@jupyter-widgets/controls",
      "model_module_version": "1.5.0",
      "model_name": "DescriptionStyleModel",
      "state": {
       "description_width": ""
      }
     },
     "0b1f2601469e4da2b83f604b75d66677": {
      "model_module": "@jupyter-widgets/controls",
      "model_module_version": "1.5.0",
      "model_name": "VBoxModel",
      "state": {
       "children": [
        "IPY_MODEL_0e5dc657b0974d77999fa12241c0cb02",
        "IPY_MODEL_b902ff2409694575b9503732cd01b555",
        "IPY_MODEL_4c6bd5a5642d402bb6b1502c35a089b4"
       ],
       "layout": "IPY_MODEL_a031822abe304f379b75b60ff61e69c9"
      }
     },
     "0b25c72c838b4d27b8a2715b527ecca9": {
      "model_module": "@jupyter-widgets/controls",
      "model_module_version": "1.5.0",
      "model_name": "DescriptionStyleModel",
      "state": {
       "description_width": ""
      }
     },
     "0d4be64276b2469598d178a52c2b8b65": {
      "model_module": "@jupyter-widgets/base",
      "model_module_version": "1.2.0",
      "model_name": "LayoutModel",
      "state": {}
     },
     "0ddfb106481f472280961a72173e3b70": {
      "model_module": "@jupyter-widgets/controls",
      "model_module_version": "1.5.0",
      "model_name": "DescriptionStyleModel",
      "state": {
       "description_width": "initial"
      }
     },
     "0e5dc657b0974d77999fa12241c0cb02": {
      "model_module": "@jupyter-widgets/controls",
      "model_module_version": "1.5.0",
      "model_name": "DatePickerModel",
      "state": {
       "description": "Exp. Date:",
       "disabled": false,
       "layout": "IPY_MODEL_1b11986529904cb8bfa307370bb4aa8f",
       "style": "IPY_MODEL_150c627067f64b348b8bea11d6b18517",
       "value": {
        "date": 18,
        "month": 4,
        "year": 2021
       }
      }
     },
     "0ed7b9702bbb41f2aad17530022c69f4": {
      "model_module": "@jupyter-widgets/output",
      "model_module_version": "1.0.0",
      "model_name": "OutputModel",
      "state": {
       "layout": "IPY_MODEL_23392cd5bc634e56b8dbd4772fb53852",
       "outputs": [
        {
         "data": {
          "application/vnd.jupyter.widget-view+json": {
           "model_id": "a338341aa6cd41beb57b263beba53238",
           "version_major": 2,
           "version_minor": 0
          },
          "text/plain": "Label(value='')"
         },
         "metadata": {},
         "output_type": "display_data"
        }
       ]
      }
     },
     "0f06b4c44c554625b03b3c43b88f13f1": {
      "model_module": "@jupyter-widgets/controls",
      "model_module_version": "1.5.0",
      "model_name": "TextModel",
      "state": {
       "description": "Calibration (mV/kN):",
       "layout": "IPY_MODEL_c365260ff71c44ecb5a03add59de698a",
       "placeholder": "mV/kN",
       "style": "IPY_MODEL_c45b78fa16724e9aa925f3baa5c561a7",
       "value": "119"
      }
     },
     "10dbdf9fb9974398a059c3cbcc60f7c7": {
      "model_module": "@jupyter-widgets/base",
      "model_module_version": "1.2.0",
      "model_name": "LayoutModel",
      "state": {}
     },
     "13acc922685b471681d87d511c3463fe": {
      "model_module": "@jupyter-widgets/base",
      "model_module_version": "1.2.0",
      "model_name": "LayoutModel",
      "state": {
       "flex": "1 1 1%",
       "width": "auto"
      }
     },
     "1489fa915772497d9894a61c79708c6c": {
      "model_module": "@jupyter-widgets/base",
      "model_module_version": "1.2.0",
      "model_name": "LayoutModel",
      "state": {}
     },
     "14f67e91fa9448d8aa75d47b1f51e474": {
      "model_module": "@jupyter-widgets/controls",
      "model_module_version": "1.5.0",
      "model_name": "DescriptionStyleModel",
      "state": {
       "description_width": "initial"
      }
     },
     "150c627067f64b348b8bea11d6b18517": {
      "model_module": "@jupyter-widgets/controls",
      "model_module_version": "1.5.0",
      "model_name": "DescriptionStyleModel",
      "state": {
       "description_width": "initial"
      }
     },
     "161bae7c8edd4c7ea2fa4413fa0f9617": {
      "model_module": "@jupyter-widgets/controls",
      "model_module_version": "1.5.0",
      "model_name": "TextModel",
      "state": {
       "description": "PpB Press. (MPa)",
       "layout": "IPY_MODEL_ff2b5ef344184f9f859054b62304ba4b",
       "placeholder": "MPa",
       "style": "IPY_MODEL_93ddad0d462a4481abe92fa30be45445"
      }
     },
     "166012524b9f4f478c5a07efa9c7b671": {
      "model_module": "@jupyter-widgets/controls",
      "model_module_version": "1.5.0",
      "model_name": "DescriptionStyleModel",
      "state": {
       "description_width": ""
      }
     },
     "167f6233d91b423a9c1ad00a28f93b0f": {
      "model_module": "@jupyter-widgets/base",
      "model_module_version": "1.2.0",
      "model_name": "LayoutModel",
      "state": {
       "flex": "1 1 1%",
       "width": "auto"
      }
     },
     "16f14921c25c45959cba5c60044ce360": {
      "model_module": "@jupyter-widgets/controls",
      "model_module_version": "1.5.0",
      "model_name": "LabelModel",
      "state": {
       "layout": "IPY_MODEL_fdd8e50c67354170bacbd912033a7763",
       "style": "IPY_MODEL_09eef0a73cfb4809b341921d60b329f1",
       "value": "Vert. Servo Settings"
      }
     },
     "16f5a37e375742f28373e7577b5e9422": {
      "model_module": "@jupyter-widgets/controls",
      "model_module_version": "1.5.0",
      "model_name": "TextModel",
      "state": {
       "description": "V. Init. Volt.:",
       "layout": "IPY_MODEL_3e737ce58c4f4ebfac1b853591b97637",
       "placeholder": "Volt",
       "style": "IPY_MODEL_2e005cb815694845984527bc58f638ee",
       "value": "--"
      }
     },
     "18258c2702a84514aa68a737bb76547e": {
      "model_module": "@jupyter-widgets/base",
      "model_module_version": "1.2.0",
      "model_name": "LayoutModel",
      "state": {
       "flex": "1 1 1%",
       "width": "auto"
      }
     },
     "1b11986529904cb8bfa307370bb4aa8f": {
      "model_module": "@jupyter-widgets/base",
      "model_module_version": "1.2.0",
      "model_name": "LayoutModel",
      "state": {}
     },
     "1b2933fd5a304ab0aea21ea5c54ffe6e": {
      "model_module": "@jupyter-widgets/base",
      "model_module_version": "1.2.0",
      "model_name": "LayoutModel",
      "state": {}
     },
     "1b6bf44e13754dd8802bb951f6606166": {
      "model_module": "@jupyter-widgets/base",
      "model_module_version": "1.2.0",
      "model_name": "LayoutModel",
      "state": {}
     },
     "1e263d4aa91541509cccadc1e9c6be9b": {
      "model_module": "@jupyter-widgets/controls",
      "model_module_version": "1.5.0",
      "model_name": "TextModel",
      "state": {
       "description": "V. Init. Volt.:",
       "layout": "IPY_MODEL_4a7b9aed76d142769eef6be15c39dab7",
       "placeholder": "Volt",
       "style": "IPY_MODEL_50e9cc080c1346d797352fe9dd8e7c7f",
       "value": "--"
      }
     },
     "1fa6340cc2ee4413b76c9446d4161bee": {
      "model_module": "@jupyter-widgets/controls",
      "model_module_version": "1.5.0",
      "model_name": "DescriptionStyleModel",
      "state": {
       "description_width": ""
      }
     },
     "22195919571644adb51e10d50ed74b2f": {
      "model_module": "@jupyter-widgets/base",
      "model_module_version": "1.2.0",
      "model_name": "LayoutModel",
      "state": {}
     },
     "22715a7eb1964cf3a6c58a333ff879a0": {
      "model_module": "@jupyter-widgets/controls",
      "model_module_version": "1.5.0",
      "model_name": "TextModel",
      "state": {
       "description": "P",
       "layout": "IPY_MODEL_86a71b2b505c4b26a56aa617dd763a4e",
       "placeholder": "",
       "style": "IPY_MODEL_291c8dab03d64424aac06a851a87955a"
      }
     },
     "228305e974f1405385c67f5ae737d4dd": {
      "model_module": "@jupyter-widgets/base",
      "model_module_version": "1.2.0",
      "model_name": "LayoutModel",
      "state": {
       "flex": "1 1 1%",
       "width": "auto"
      }
     },
     "22cb527a5bc943339c78ce3bfc35cfeb": {
      "model_module": "@jupyter-widgets/controls",
      "model_module_version": "1.5.0",
      "model_name": "TextModel",
      "state": {
       "description": "I",
       "layout": "IPY_MODEL_056bbf84e41341d788377468f2e9bd7c",
       "placeholder": "",
       "style": "IPY_MODEL_bd1fff3b524b48b089a0eda85f08731a"
      }
     },
     "23288f84373542c68caff37ab6cca20d": {
      "model_module": "@jupyter-widgets/controls",
      "model_module_version": "1.5.0",
      "model_name": "HBoxModel",
      "state": {
       "children": [
        "IPY_MODEL_39407214efc54ed88432e853ff0d670f",
        "IPY_MODEL_e92568bf9add4eaa9041a3520904e8b4"
       ],
       "layout": "IPY_MODEL_b6f26b9eaec14fabbf7fbd3a89cae823"
      }
     },
     "23392cd5bc634e56b8dbd4772fb53852": {
      "model_module": "@jupyter-widgets/base",
      "model_module_version": "1.2.0",
      "model_name": "LayoutModel",
      "state": {}
     },
     "23a36303b7c64935bfdf5c0ffeb84308": {
      "model_module": "@jupyter-widgets/controls",
      "model_module_version": "1.5.0",
      "model_name": "DescriptionStyleModel",
      "state": {
       "description_width": ""
      }
     },
     "245817d012474c0daff75ec70b289325": {
      "model_module": "@jupyter-widgets/controls",
      "model_module_version": "1.5.0",
      "model_name": "DescriptionStyleModel",
      "state": {
       "description_width": "initial"
      }
     },
     "24ef3fc607844533a168b559775a6a1c": {
      "model_module": "@jupyter-widgets/controls",
      "model_module_version": "1.5.0",
      "model_name": "GridBoxModel",
      "state": {
       "children": [
        "IPY_MODEL_4a84f681fb3a46378b5d53b59ea0dc2c",
        "IPY_MODEL_5e9929aa19b94b0e8c07b61ab6e0b302",
        "IPY_MODEL_cf60b996dc6c4c9dadd194d36a98b01c"
       ],
       "layout": "IPY_MODEL_7b8c0feea6d342a49ea34b341cb49d93"
      }
     },
     "252a16145311404e9d021b315ef60d38": {
      "model_module": "@jupyter-widgets/base",
      "model_module_version": "1.2.0",
      "model_name": "LayoutModel",
      "state": {
       "flex": "1 1 1%",
       "width": "auto"
      }
     },
     "25697db02a9248e5ab25fde8f67b62fd": {
      "model_module": "@jupyter-widgets/base",
      "model_module_version": "1.2.0",
      "model_name": "LayoutModel",
      "state": {}
     },
     "2607880ccaa04ad2a9e394921db7ac73": {
      "model_module": "@jupyter-widgets/controls",
      "model_module_version": "1.5.0",
      "model_name": "DescriptionStyleModel",
      "state": {
       "description_width": "initial"
      }
     },
     "27752cf0d1504687a61b48b98571089e": {
      "model_module": "@jupyter-widgets/controls",
      "model_module_version": "1.5.0",
      "model_name": "TextModel",
      "state": {
       "description": "PpA Press. (MPa)",
       "layout": "IPY_MODEL_1b6bf44e13754dd8802bb951f6606166",
       "placeholder": "MPa",
       "style": "IPY_MODEL_50de1b216d134f85843f35ec494da6c4"
      }
     },
     "277b28268cce44f3973d7b7ec30d4b2e": {
      "model_module": "@jupyter-widgets/base",
      "model_module_version": "1.2.0",
      "model_name": "LayoutModel",
      "state": {}
     },
     "291c8dab03d64424aac06a851a87955a": {
      "model_module": "@jupyter-widgets/controls",
      "model_module_version": "1.5.0",
      "model_name": "DescriptionStyleModel",
      "state": {
       "description_width": ""
      }
     },
     "2a1f4a53eb63448b9d1aaf95a5d6b2b1": {
      "model_module": "@jupyter-widgets/controls",
      "model_module_version": "1.5.0",
      "model_name": "LabelModel",
      "state": {
       "layout": "IPY_MODEL_af344f59c7ea4859bb6e0bd183f15f54",
       "style": "IPY_MODEL_a251d1520aa94cf38eec1e05990f1267",
       "value": "Volt. @ Load = N/A"
      }
     },
     "2c335c91886742c4a520d59ccbec383c": {
      "model_module": "@jupyter-widgets/controls",
      "model_module_version": "1.5.0",
      "model_name": "DescriptionStyleModel",
      "state": {
       "description_width": "initial"
      }
     },
     "2c61c645c8b24ede9dc2d0f9de1bf523": {
      "model_module": "@jupyter-widgets/controls",
      "model_module_version": "1.5.0",
      "model_name": "TextModel",
      "state": {
       "description": "Feedback",
       "layout": "IPY_MODEL_fffc297080684e5e86db9ec37548148c",
       "placeholder": "",
       "style": "IPY_MODEL_ebb30dfe732244d0bd18621819b3acaf"
      }
     },
     "2e005cb815694845984527bc58f638ee": {
      "model_module": "@jupyter-widgets/controls",
      "model_module_version": "1.5.0",
      "model_name": "DescriptionStyleModel",
      "state": {
       "description_width": "initial"
      }
     },
     "2ef79fa5a51e417da5dca7f9436d47a8": {
      "model_module": "@jupyter-widgets/base",
      "model_module_version": "1.2.0",
      "model_name": "LayoutModel",
      "state": {}
     },
     "3209a1cb4b9f4b6886a2c80f922b6450": {
      "model_module": "@jupyter-widgets/base",
      "model_module_version": "1.2.0",
      "model_name": "LayoutModel",
      "state": {}
     },
     "33c9982ca9bb4053bb5c16b29f1fd986": {
      "model_module": "@jupyter-widgets/base",
      "model_module_version": "1.2.0",
      "model_name": "LayoutModel",
      "state": {
       "flex": "1 1 1%",
       "width": "auto"
      }
     },
     "3521bdd15e7746e99eeec0dbb84c047e": {
      "model_module": "@jupyter-widgets/base",
      "model_module_version": "1.2.0",
      "model_name": "LayoutModel",
      "state": {
       "align_items": "stretch",
       "border": "2px solid grey",
       "display": "flex",
       "flex_flow": "column",
       "padding": "10px",
       "width": "75%"
      }
     },
     "3907ddb1a25d4979b4b09f12201447af": {
      "model_module": "@jupyter-widgets/controls",
      "model_module_version": "1.5.0",
      "model_name": "DescriptionStyleModel",
      "state": {
       "description_width": "initial"
      }
     },
     "39407214efc54ed88432e853ff0d670f": {
      "model_module": "@jupyter-widgets/controls",
      "model_module_version": "1.5.0",
      "model_name": "VBoxModel",
      "state": {
       "children": [
        "IPY_MODEL_16f14921c25c45959cba5c60044ce360",
        "IPY_MODEL_22715a7eb1964cf3a6c58a333ff879a0",
        "IPY_MODEL_50af860f975d49b59f8e0cdeb77e1fef",
        "IPY_MODEL_3a381ffc3f4b47afb6e19bd62664bd26"
       ],
       "layout": "IPY_MODEL_22195919571644adb51e10d50ed74b2f"
      }
     },
     "39e714fbf1e84617aea4d76617215f15": {
      "model_module": "@jupyter-widgets/controls",
      "model_module_version": "1.5.0",
      "model_name": "TextModel",
      "state": {
       "description": "D",
       "layout": "IPY_MODEL_442a21bed87a4be7b701a63a8de87552",
       "placeholder": "",
       "style": "IPY_MODEL_166012524b9f4f478c5a07efa9c7b671"
      }
     },
     "3a381ffc3f4b47afb6e19bd62664bd26": {
      "model_module": "@jupyter-widgets/controls",
      "model_module_version": "1.5.0",
      "model_name": "TextModel",
      "state": {
       "description": "D",
       "layout": "IPY_MODEL_9d7d960a6ccd4af6a53c76e47de29887",
       "placeholder": "",
       "style": "IPY_MODEL_034285063fea4e368565118e1f7b91d8"
      }
     },
     "3c8436a629374908b5a1e7c8d4bf9867": {
      "model_module": "@jupyter-widgets/controls",
      "model_module_version": "1.5.0",
      "model_name": "GridBoxModel",
      "state": {
       "children": [
        "IPY_MODEL_e8fecc2ffe5849b4a8422b33dc719532",
        "IPY_MODEL_48cbfc5472f84c05aea93bd1e0524f6c",
        "IPY_MODEL_9efff955c6ba4971ad9a2e4053bcea8a"
       ],
       "layout": "IPY_MODEL_3521bdd15e7746e99eeec0dbb84c047e"
      }
     },
     "3d57f7ccfe9b4f718d9b5fb409f2c200": {
      "model_module": "@jupyter-widgets/base",
      "model_module_version": "1.2.0",
      "model_name": "LayoutModel",
      "state": {
       "flex": "1 1 0%",
       "width": "auto"
      }
     },
     "3dcbfbbdf8e24834979993c8ef921e83": {
      "model_module": "@jupyter-widgets/controls",
      "model_module_version": "1.5.0",
      "model_name": "GridBoxModel",
      "state": {
       "children": [
        "IPY_MODEL_064022002353467b816b446d4f7f187c",
        "IPY_MODEL_0b1f2601469e4da2b83f604b75d66677"
       ],
       "layout": "IPY_MODEL_6afdf44d5f1f4007a059fbe8539f7ab6"
      }
     },
     "3e29883b616540d58622947d866373ac": {
      "model_module": "@jupyter-widgets/controls",
      "model_module_version": "1.5.0",
      "model_name": "TextModel",
      "state": {
       "description": "Layer Thickness",
       "layout": "IPY_MODEL_7cbf7111b01b4a48a1e2a3d47c02a3d4",
       "placeholder": "mm",
       "style": "IPY_MODEL_c5a854ed50da41c296cc8f61e6f34ace",
       "value": "--"
      }
     },
     "3e737ce58c4f4ebfac1b853591b97637": {
      "model_module": "@jupyter-widgets/base",
      "model_module_version": "1.2.0",
      "model_name": "LayoutModel",
      "state": {}
     },
     "3f0590a5c3ed44ea8bf1fc3781fa2d53": {
      "model_module": "@jupyter-widgets/base",
      "model_module_version": "1.2.0",
      "model_name": "LayoutModel",
      "state": {}
     },
     "4279323a73124ec580351f92c0d42633": {
      "model_module": "@jupyter-widgets/controls",
      "model_module_version": "1.5.0",
      "model_name": "LabelModel",
      "state": {
       "layout": "IPY_MODEL_1489fa915772497d9894a61c79708c6c",
       "style": "IPY_MODEL_0b25c72c838b4d27b8a2715b527ecca9",
       "value": "Horizontal Load Cell"
      }
     },
     "42dc739f44b84927840e9009b12fb2fe": {
      "model_module": "@jupyter-widgets/controls",
      "model_module_version": "1.5.0",
      "model_name": "DescriptionStyleModel",
      "state": {
       "description_width": "initial"
      }
     },
     "43aae22722e14af29a8111503fcd036f": {
      "model_module": "@jupyter-widgets/controls",
      "model_module_version": "1.5.0",
      "model_name": "LabelModel",
      "state": {
       "layout": "IPY_MODEL_1b2933fd5a304ab0aea21ea5c54ffe6e",
       "style": "IPY_MODEL_7f4a51dc0334443f9cae6b3dc577fa6f",
       "value": "Vertical Load Cell"
      }
     },
     "442a21bed87a4be7b701a63a8de87552": {
      "model_module": "@jupyter-widgets/base",
      "model_module_version": "1.2.0",
      "model_name": "LayoutModel",
      "state": {
       "flex": "1 1 1%",
       "width": "auto"
      }
     },
     "4483163266a94325bb5000268a528931": {
      "model_module": "@jupyter-widgets/controls",
      "model_module_version": "1.5.0",
      "model_name": "DescriptionStyleModel",
      "state": {
       "description_width": "initial"
      }
     },
     "45353a9162404d869728ff83d513f6a4": {
      "model_module": "@jupyter-widgets/base",
      "model_module_version": "1.2.0",
      "model_name": "LayoutModel",
      "state": {}
     },
     "45e9b2714ee848d6a27b7d960672b2ee": {
      "model_module": "@jupyter-widgets/controls",
      "model_module_version": "1.5.0",
      "model_name": "DescriptionStyleModel",
      "state": {
       "description_width": ""
      }
     },
     "467efe51b341458289c0af416f87d13d": {
      "model_module": "@jupyter-widgets/controls",
      "model_module_version": "1.5.0",
      "model_name": "VBoxModel",
      "state": {
       "children": [
        "IPY_MODEL_9425f6fde639458db1e7e733cffa9be1",
        "IPY_MODEL_db5bfc7b13ec44bab270d7fddadd4086"
       ],
       "layout": "IPY_MODEL_4e1eaafe0d7c455687029eee43d9bfd8"
      }
     },
     "46bf3bca11164d389c6854036c941ced": {
      "model_module": "@jupyter-widgets/base",
      "model_module_version": "1.2.0",
      "model_name": "LayoutModel",
      "state": {}
     },
     "47435b9e1d3e428db310376ed0af6874": {
      "model_module": "@jupyter-widgets/base",
      "model_module_version": "1.2.0",
      "model_name": "LayoutModel",
      "state": {}
     },
     "47e6c0119bda4a9aba97ad5f8c3dcca5": {
      "model_module": "@jupyter-widgets/base",
      "model_module_version": "1.2.0",
      "model_name": "LayoutModel",
      "state": {}
     },
     "484a5e4eb79140e398976d393af605ad": {
      "model_module": "@jupyter-widgets/controls",
      "model_module_version": "1.5.0",
      "model_name": "ComboboxModel",
      "state": {
       "description": "Vert. DCDT:",
       "ensure_option": true,
       "layout": "IPY_MODEL_e544bae616f1400c87b540c1137dbb84",
       "options": [
        "Trans-Tek2",
        "None"
       ],
       "placeholder": "Vert. DCDT",
       "style": "IPY_MODEL_03a852a0c7144e6fa4363c25ee9def67",
       "value": "Trans-Tek2"
      }
     },
     "48cbfc5472f84c05aea93bd1e0524f6c": {
      "model_module": "@jupyter-widgets/controls",
      "model_module_version": "1.5.0",
      "model_name": "HBoxModel",
      "state": {
       "children": [
        "IPY_MODEL_9772c03c14e5496888ddc4d0187d1b15",
        "IPY_MODEL_c9f1e6fcc5db42479d2258604a1eac25",
        "IPY_MODEL_938e776e1bb844f985a28d7337e32ffb"
       ],
       "layout": "IPY_MODEL_4fc8a32df38741db818b3844d84f37ba"
      }
     },
     "49c925ac0ade4dbea8082bc73701c0c7": {
      "model_module": "@jupyter-widgets/controls",
      "model_module_version": "1.5.0",
      "model_name": "DescriptionStyleModel",
      "state": {
       "description_width": "initial"
      }
     },
     "4a7b9aed76d142769eef6be15c39dab7": {
      "model_module": "@jupyter-widgets/base",
      "model_module_version": "1.2.0",
      "model_name": "LayoutModel",
      "state": {}
     },
     "4a84f681fb3a46378b5d53b59ea0dc2c": {
      "model_module": "@jupyter-widgets/controls",
      "model_module_version": "1.5.0",
      "model_name": "VBoxModel",
      "state": {
       "children": [
        "IPY_MODEL_ae49c6c6c8894e2498dd246c0e805d14",
        "IPY_MODEL_4e30f949b43d4d538705f6f85657b033",
        "IPY_MODEL_0132bf600ed749629980f1368e7d5b23",
        "IPY_MODEL_9fcb370f3faa4da4ab61ae98e7e2473a",
        "IPY_MODEL_ed7ab08f771946608f2f4fd552251119"
       ],
       "layout": "IPY_MODEL_3209a1cb4b9f4b6886a2c80f922b6450"
      }
     },
     "4a8c9dcbcc5145a796c18db63860a4ad": {
      "model_module": "@jupyter-widgets/base",
      "model_module_version": "1.2.0",
      "model_name": "LayoutModel",
      "state": {}
     },
     "4aab247c82ac4339affc4167d64c4508": {
      "model_module": "@jupyter-widgets/controls",
      "model_module_version": "1.5.0",
      "model_name": "TextModel",
      "state": {
       "description": "E-gain",
       "layout": "IPY_MODEL_f0ce3e3225ee4deab35c3c541670b846",
       "placeholder": "",
       "style": "IPY_MODEL_b915d849e2764f79bbbded610b0435bd"
      }
     },
     "4c6bd5a5642d402bb6b1502c35a089b4": {
      "model_module": "@jupyter-widgets/controls",
      "model_module_version": "1.5.0",
      "model_name": "TextModel",
      "state": {
       "description": "Hyd. End:",
       "layout": "IPY_MODEL_05dc61708f504a91847dabba6d371468",
       "placeholder": "xxx.x",
       "style": "IPY_MODEL_68e68beed2d143609421faf9f64c8f95",
       "value": "xx"
      }
     },
     "4c6d30ead17946379c6a24909079884e": {
      "model_module": "@jupyter-widgets/base",
      "model_module_version": "1.2.0",
      "model_name": "LayoutModel",
      "state": {
       "flex": "1 1 1%",
       "width": "auto"
      }
     },
     "4dcaa240e6de41f4bfece785ce74b54d": {
      "model_module": "@jupyter-widgets/base",
      "model_module_version": "1.2.0",
      "model_name": "LayoutModel",
      "state": {
       "flex": "1 1 1%",
       "width": "auto"
      }
     },
     "4e1eaafe0d7c455687029eee43d9bfd8": {
      "model_module": "@jupyter-widgets/base",
      "model_module_version": "1.2.0",
      "model_name": "LayoutModel",
      "state": {
       "flex": "1 1 1%",
       "width": "auto"
      }
     },
     "4e1f3b46052d4f33a11f88338330a014": {
      "model_module": "@jupyter-widgets/controls",
      "model_module_version": "1.5.0",
      "model_name": "DescriptionStyleModel",
      "state": {
       "description_width": "initial"
      }
     },
     "4e30f949b43d4d538705f6f85657b033": {
      "model_module": "@jupyter-widgets/controls",
      "model_module_version": "1.5.0",
      "model_name": "TextModel",
      "state": {
       "description": "Pc Gain (V/MPa):",
       "layout": "IPY_MODEL_46bf3bca11164d389c6854036c941ced",
       "placeholder": "0.1456 V/MPa",
       "style": "IPY_MODEL_50e5eb4e0e5d47868e9948a4afb3c5d8",
       "value": "0.1456"
      }
     },
     "4fc8a32df38741db818b3844d84f37ba": {
      "model_module": "@jupyter-widgets/base",
      "model_module_version": "1.2.0",
      "model_name": "LayoutModel",
      "state": {}
     },
     "50525229e212432888f842bf36a5c329": {
      "model_module": "@jupyter-widgets/controls",
      "model_module_version": "1.5.0",
      "model_name": "DescriptionStyleModel",
      "state": {
       "description_width": "initial"
      }
     },
     "50af860f975d49b59f8e0cdeb77e1fef": {
      "model_module": "@jupyter-widgets/controls",
      "model_module_version": "1.5.0",
      "model_name": "TextModel",
      "state": {
       "description": "I",
       "layout": "IPY_MODEL_7b93148a67954e02ad87ab6f4d8c6453",
       "placeholder": "",
       "style": "IPY_MODEL_f78b09da9cea43d4977b1591fc77ae42"
      }
     },
     "50de1b216d134f85843f35ec494da6c4": {
      "model_module": "@jupyter-widgets/controls",
      "model_module_version": "1.5.0",
      "model_name": "DescriptionStyleModel",
      "state": {
       "description_width": "initial"
      }
     },
     "50e5eb4e0e5d47868e9948a4afb3c5d8": {
      "model_module": "@jupyter-widgets/controls",
      "model_module_version": "1.5.0",
      "model_name": "DescriptionStyleModel",
      "state": {
       "description_width": "initial"
      }
     },
     "50e9cc080c1346d797352fe9dd8e7c7f": {
      "model_module": "@jupyter-widgets/controls",
      "model_module_version": "1.5.0",
      "model_name": "DescriptionStyleModel",
      "state": {
       "description_width": "initial"
      }
     },
     "517706bf2f964354bc54890f04509cc6": {
      "model_module": "@jupyter-widgets/base",
      "model_module_version": "1.2.0",
      "model_name": "LayoutModel",
      "state": {
       "align_items": "stretch",
       "border": "2px solid grey",
       "display": "flex",
       "flex_flow": "row",
       "padding": "10px",
       "width": "75%"
      }
     },
     "540eaacb4932422e9fbd623148e45de6": {
      "model_module": "@jupyter-widgets/base",
      "model_module_version": "1.2.0",
      "model_name": "LayoutModel",
      "state": {
       "flex": "1 1 1%",
       "width": "auto"
      }
     },
     "5533fcb9c77e4eb8a2c84c105a38941e": {
      "model_module": "@jupyter-widgets/base",
      "model_module_version": "1.2.0",
      "model_name": "LayoutModel",
      "state": {
       "align_items": "stretch",
       "border": "2px solid grey",
       "display": "flex",
       "flex_flow": "row",
       "padding": "10px",
       "width": "75%"
      }
     },
     "56958af06ec34031b40a655b42ac4ffd": {
      "model_module": "@jupyter-widgets/output",
      "model_module_version": "1.0.0",
      "model_name": "OutputModel",
      "state": {
       "layout": "IPY_MODEL_60873adbb9c1419a8216a2ffeac2453c",
       "outputs": [
        {
         "data": {
          "application/vnd.jupyter.widget-view+json": {
           "model_id": "bda380621bcc4264a6c3a96905bfc87d",
           "version_major": 2,
           "version_minor": 0
          },
          "text/plain": "GridBox(children=(VBox(children=(Label(value='Confining Pressure'), Text(value='0.1456', description='Pc Gain …"
         },
         "metadata": {},
         "output_type": "display_data"
        }
       ]
      }
     },
     "5dda34d8f6be4c5089c747c61376bf04": {
      "model_module": "@jupyter-widgets/controls",
      "model_module_version": "1.5.0",
      "model_name": "TextModel",
      "state": {
       "description": "PpB Gain (V/MPa):",
       "layout": "IPY_MODEL_3f0590a5c3ed44ea8bf1fc3781fa2d53",
       "placeholder": "PpB Gain (V/MPa)",
       "style": "IPY_MODEL_14f67e91fa9448d8aa75d47b1f51e474",
       "value": "None"
      }
     },
     "5e9929aa19b94b0e8c07b61ab6e0b302": {
      "model_module": "@jupyter-widgets/controls",
      "model_module_version": "1.5.0",
      "model_name": "VBoxModel",
      "state": {
       "children": [
        "IPY_MODEL_ae49c6c6c8894e2498dd246c0e805d14",
        "IPY_MODEL_94abcc27c28f45b18e863443fd33d3d1",
        "IPY_MODEL_27752cf0d1504687a61b48b98571089e",
        "IPY_MODEL_16f5a37e375742f28373e7577b5e9422",
        "IPY_MODEL_2a1f4a53eb63448b9d1aaf95a5d6b2b1"
       ],
       "layout": "IPY_MODEL_8a1af202d34e4f9e955c4c838e3b6f80"
      }
     },
     "5ffe400a97fb440abb0a22b681bcdab1": {
      "model_module": "@jupyter-widgets/base",
      "model_module_version": "1.2.0",
      "model_name": "LayoutModel",
      "state": {}
     },
     "60873adbb9c1419a8216a2ffeac2453c": {
      "model_module": "@jupyter-widgets/base",
      "model_module_version": "1.2.0",
      "model_name": "LayoutModel",
      "state": {}
     },
     "612a7ae654ae4d2585b0d27ccfcc0608": {
      "model_module": "@jupyter-widgets/base",
      "model_module_version": "1.2.0",
      "model_name": "LayoutModel",
      "state": {
       "border": "2px solid grey",
       "display": "flex",
       "flex_flow": "row",
       "grid_gap": "5px 100px",
       "padding": "10px",
       "width": "75%"
      }
     },
     "624d478c03ec46f28606d761f60b8e18": {
      "model_module": "@jupyter-widgets/controls",
      "model_module_version": "1.5.0",
      "model_name": "LabelModel",
      "state": {
       "layout": "IPY_MODEL_8545e0b3e6a645529a746ed9d1ca5c69",
       "style": "IPY_MODEL_68bf6cde13614f48a8b418f39065c57f",
       "value": "Volt. @ Load = 0.4618, 2.818 , 5.436 "
      }
     },
     "641d4ff210ec4be78f21da38192efb3e": {
      "model_module": "@jupyter-widgets/base",
      "model_module_version": "1.2.0",
      "model_name": "LayoutModel",
      "state": {}
     },
     "648d4cbfb7fc4c4ba77a31d5fc116083": {
      "model_module": "@jupyter-widgets/controls",
      "model_module_version": "1.5.0",
      "model_name": "VBoxModel",
      "state": {
       "children": [
        "IPY_MODEL_e12061341fb4428eafceebebcfa037c2",
        "IPY_MODEL_688a6f5292af47e089761688e02a8c04",
        "IPY_MODEL_3e29883b616540d58622947d866373ac"
       ],
       "layout": "IPY_MODEL_a997483de7a147959f22d48ff2edfbe6"
      }
     },
     "657c979cf9494428b512d1d32a383c3d": {
      "model_module": "@jupyter-widgets/controls",
      "model_module_version": "1.5.0",
      "model_name": "DescriptionStyleModel",
      "state": {
       "description_width": ""
      }
     },
     "674e284ffc904fb58000c4a9d7da62d5": {
      "model_module": "@jupyter-widgets/controls",
      "model_module_version": "1.5.0",
      "model_name": "DescriptionStyleModel",
      "state": {
       "description_width": "initial"
      }
     },
     "6824862a5e3248afb5a4191f17426ca6": {
      "model_module": "@jupyter-widgets/base",
      "model_module_version": "1.2.0",
      "model_name": "LayoutModel",
      "state": {}
     },
     "688a6f5292af47e089761688e02a8c04": {
      "model_module": "@jupyter-widgets/controls",
      "model_module_version": "1.5.0",
      "model_name": "TextModel",
      "state": {
       "description": "Sample Block Thickness (no gouge)",
       "layout": "IPY_MODEL_6ee6a25cd6474c238913154c6473c041",
       "placeholder": "mm",
       "style": "IPY_MODEL_49c925ac0ade4dbea8082bc73701c0c7",
       "value": "--"
      }
     },
     "689f0171af134d07859dc16c9b52215f": {
      "model_module": "@jupyter-widgets/controls",
      "model_module_version": "1.5.0",
      "model_name": "LabelModel",
      "state": {
       "layout": "IPY_MODEL_167f6233d91b423a9c1ad00a28f93b0f",
       "style": "IPY_MODEL_45e9b2714ee848d6a27b7d960672b2ee"
      }
     },
     "68bf6cde13614f48a8b418f39065c57f": {
      "model_module": "@jupyter-widgets/controls",
      "model_module_version": "1.5.0",
      "model_name": "DescriptionStyleModel",
      "state": {
       "description_width": ""
      }
     },
     "68e68beed2d143609421faf9f64c8f95": {
      "model_module": "@jupyter-widgets/controls",
      "model_module_version": "1.5.0",
      "model_name": "DescriptionStyleModel",
      "state": {
       "description_width": "initial"
      }
     },
     "68ec131d24c34867925e46563a5e6bb1": {
      "model_module": "@jupyter-widgets/base",
      "model_module_version": "1.2.0",
      "model_name": "LayoutModel",
      "state": {}
     },
     "6a2e7e8f5f9540f4b7112f9919802243": {
      "model_module": "@jupyter-widgets/output",
      "model_module_version": "1.0.0",
      "model_name": "OutputModel",
      "state": {
       "layout": "IPY_MODEL_bea2f0ad3e9345f4befb9e8b82192299",
       "outputs": [
        {
         "data": {
          "application/vnd.jupyter.widget-view+json": {
           "model_id": "24ef3fc607844533a168b559775a6a1c",
           "version_major": 2,
           "version_minor": 0
          },
          "text/plain": "GridBox(children=(VBox(children=(Label(value='Confining Pressure'), Text(value='0.1456', description='Pc Gain …"
         },
         "metadata": {},
         "output_type": "display_data"
        }
       ]
      }
     },
     "6afdf44d5f1f4007a059fbe8539f7ab6": {
      "model_module": "@jupyter-widgets/base",
      "model_module_version": "1.2.0",
      "model_name": "LayoutModel",
      "state": {
       "align_items": "stretch",
       "border": "2px solid grey",
       "display": "flex",
       "flex_flow": "row",
       "grid_gap": "60px 60px",
       "padding": "10px",
       "width": "75%"
      }
     },
     "6cf50f22afe041dbb7b79ec039d7b1fa": {
      "model_module": "@jupyter-widgets/controls",
      "model_module_version": "1.5.0",
      "model_name": "LabelModel",
      "state": {
       "layout": "IPY_MODEL_06a6194878394e46a1d034ab9f6bb606",
       "style": "IPY_MODEL_7e4d696127c749d0a2c53408f4e5c0ed",
       "value": "Volt. @ Load = N/A"
      }
     },
     "6de590b12ab840619e7bf300c95c3480": {
      "model_module": "@jupyter-widgets/controls",
      "model_module_version": "1.5.0",
      "model_name": "TextModel",
      "state": {
       "description": "Under Load",
       "layout": "IPY_MODEL_cfb6ba00cfb74cde9ed52062cddd07be",
       "placeholder": "mm",
       "style": "IPY_MODEL_4483163266a94325bb5000268a528931"
      }
     },
     "6e3f9641b77e4c22826e6ed724e28e98": {
      "model_module": "@jupyter-widgets/base",
      "model_module_version": "1.2.0",
      "model_name": "LayoutModel",
      "state": {}
     },
     "6ee6a25cd6474c238913154c6473c041": {
      "model_module": "@jupyter-widgets/base",
      "model_module_version": "1.2.0",
      "model_name": "LayoutModel",
      "state": {}
     },
     "72aee8534cef4774aea507d2bf226216": {
      "model_module": "@jupyter-widgets/controls",
      "model_module_version": "1.5.0",
      "model_name": "VBoxModel",
      "state": {
       "children": [
        "IPY_MODEL_b59717512f044e4993fa47404dc69fec",
        "IPY_MODEL_b1c5103ba95f48e0938f23312afb798d",
        "IPY_MODEL_22cb527a5bc943339c78ce3bfc35cfeb",
        "IPY_MODEL_39e714fbf1e84617aea4d76617215f15"
       ],
       "layout": "IPY_MODEL_a31d3d8c73dc45b8a0454bb3eff50d63"
      }
     },
     "73c23641aa234948b82f1540b9519c40": {
      "model_module": "@jupyter-widgets/base",
      "model_module_version": "1.2.0",
      "model_name": "LayoutModel",
      "state": {}
     },
     "77a2222ccbbe49738c1c288f31c29a11": {
      "model_module": "@jupyter-widgets/controls",
      "model_module_version": "1.5.0",
      "model_name": "ButtonModel",
      "state": {
       "description": "Make Runsheet",
       "layout": "IPY_MODEL_787e97a612ad4f67bba97edd1aeb3415",
       "style": "IPY_MODEL_c8fc592550884e139678e572646ae8d9"
      }
     },
     "787e97a612ad4f67bba97edd1aeb3415": {
      "model_module": "@jupyter-widgets/base",
      "model_module_version": "1.2.0",
      "model_name": "LayoutModel",
      "state": {}
     },
     "7b8c0feea6d342a49ea34b341cb49d93": {
      "model_module": "@jupyter-widgets/base",
      "model_module_version": "1.2.0",
      "model_name": "LayoutModel",
      "state": {
       "border": "2px solid royalblue",
       "display": "flex",
       "flex_flow": "row",
       "grid_gap": "60px",
       "padding": "10px",
       "width": "75%"
      }
     },
     "7b93148a67954e02ad87ab6f4d8c6453": {
      "model_module": "@jupyter-widgets/base",
      "model_module_version": "1.2.0",
      "model_name": "LayoutModel",
      "state": {
       "flex": "1 1 1%",
       "width": "auto"
      }
     },
     "7c0cd39745e24aa496c7ce0182f92f2f": {
      "model_module": "@jupyter-widgets/controls",
      "model_module_version": "1.5.0",
      "model_name": "TextModel",
      "state": {
       "description": "H. Init. Volt.:",
       "layout": "IPY_MODEL_4a8c9dcbcc5145a796c18db63860a4ad",
       "placeholder": "Volt",
       "style": "IPY_MODEL_e294904d68ce4ddd981e61e23f1200b0",
       "value": "0.2"
      }
     },
     "7cbf7111b01b4a48a1e2a3d47c02a3d4": {
      "model_module": "@jupyter-widgets/base",
      "model_module_version": "1.2.0",
      "model_name": "LayoutModel",
      "state": {}
     },
     "7e4d696127c749d0a2c53408f4e5c0ed": {
      "model_module": "@jupyter-widgets/controls",
      "model_module_version": "1.5.0",
      "model_name": "DescriptionStyleModel",
      "state": {
       "description_width": ""
      }
     },
     "7eb7cf169e22466f84c20d01c7964111": {
      "model_module": "@jupyter-widgets/base",
      "model_module_version": "1.2.0",
      "model_name": "LayoutModel",
      "state": {}
     },
     "7f4a51dc0334443f9cae6b3dc577fa6f": {
      "model_module": "@jupyter-widgets/controls",
      "model_module_version": "1.5.0",
      "model_name": "DescriptionStyleModel",
      "state": {
       "description_width": ""
      }
     },
     "7fc52405ccd2410080926b361f7774b3": {
      "model_module": "@jupyter-widgets/controls",
      "model_module_version": "1.5.0",
      "model_name": "VBoxModel",
      "state": {
       "children": [
        "IPY_MODEL_43aae22722e14af29a8111503fcd036f",
        "IPY_MODEL_a8589dbc4e9f4f3fbee3ae0e2470e9a4",
        "IPY_MODEL_9d1a9336b46e455384b8d24ddda81932",
        "IPY_MODEL_925ded1a87764a81a531b39b5b52db3e",
        "IPY_MODEL_1e263d4aa91541509cccadc1e9c6be9b",
        "IPY_MODEL_d69a107d132148bfa05ca2606ab9fda8"
       ],
       "layout": "IPY_MODEL_ffce1fc100b04f7a8e86b60c5353bb50"
      }
     },
     "7fcda6c91c7e44da885242fe75415c86": {
      "model_module": "@jupyter-widgets/controls",
      "model_module_version": "1.5.0",
      "model_name": "DescriptionStyleModel",
      "state": {
       "description_width": "initial"
      }
     },
     "84279f9012e74ee2b33838d9e72dbf42": {
      "model_module": "@jupyter-widgets/base",
      "model_module_version": "1.2.0",
      "model_name": "LayoutModel",
      "state": {}
     },
     "8545e0b3e6a645529a746ed9d1ca5c69": {
      "model_module": "@jupyter-widgets/base",
      "model_module_version": "1.2.0",
      "model_name": "LayoutModel",
      "state": {}
     },
     "86a71b2b505c4b26a56aa617dd763a4e": {
      "model_module": "@jupyter-widgets/base",
      "model_module_version": "1.2.0",
      "model_name": "LayoutModel",
      "state": {
       "flex": "1 1 1%",
       "width": "auto"
      }
     },
     "8760cc729230409482adb80345ed9946": {
      "model_module": "@jupyter-widgets/controls",
      "model_module_version": "1.5.0",
      "model_name": "TextModel",
      "state": {
       "description": "Material",
       "layout": "IPY_MODEL_45353a9162404d869728ff83d513f6a4",
       "placeholder": "Anhydrite, Westerly Granite",
       "style": "IPY_MODEL_4e1f3b46052d4f33a11f88338330a014",
       "value": "WG"
      }
     },
     "889dc68e7b194dd589b9ca1bac05dc88": {
      "model_module": "@jupyter-widgets/base",
      "model_module_version": "1.2.0",
      "model_name": "LayoutModel",
      "state": {}
     },
     "8a1af202d34e4f9e955c4c838e3b6f80": {
      "model_module": "@jupyter-widgets/base",
      "model_module_version": "1.2.0",
      "model_name": "LayoutModel",
      "state": {}
     },
     "8ebec7c4894c42b697239a2f2d32bf59": {
      "model_module": "@jupyter-widgets/controls",
      "model_module_version": "1.5.0",
      "model_name": "DescriptionStyleModel",
      "state": {
       "description_width": "initial"
      }
     },
     "914c8bae35344fe382bc0357e2c307c7": {
      "model_module": "@jupyter-widgets/controls",
      "model_module_version": "1.5.0",
      "model_name": "DescriptionStyleModel",
      "state": {
       "description_width": ""
      }
     },
     "925ded1a87764a81a531b39b5b52db3e": {
      "model_module": "@jupyter-widgets/controls",
      "model_module_version": "1.5.0",
      "model_name": "TextModel",
      "state": {
       "description": "Target Stress(es) (MPa):",
       "layout": "IPY_MODEL_b24c0a410b7f41d181a98ede5f2fac69",
       "placeholder": "MPa",
       "style": "IPY_MODEL_674e284ffc904fb58000c4a9d7da62d5"
      }
     },
     "93571e94be5545fe8634f20995870454": {
      "model_module": "@jupyter-widgets/controls",
      "model_module_version": "1.5.0",
      "model_name": "DescriptionStyleModel",
      "state": {
       "description_width": "initial"
      }
     },
     "93805dd10ca34da49c7e419963b637d2": {
      "model_module": "@jupyter-widgets/base",
      "model_module_version": "1.2.0",
      "model_name": "LayoutModel",
      "state": {}
     },
     "938e776e1bb844f985a28d7337e32ffb": {
      "model_module": "@jupyter-widgets/controls",
      "model_module_version": "1.5.0",
      "model_name": "TextModel",
      "state": {
       "description": "Relative Humidity",
       "layout": "IPY_MODEL_ee11ea48219044d8b3bf5d78a4e0986f",
       "placeholder": "Rel. Humid. (%)",
       "style": "IPY_MODEL_05aa881e5b154795ba29a544003a989e"
      }
     },
     "93a121d6eddd4246a1b4710a9142a6ad": {
      "model_module": "@jupyter-widgets/controls",
      "model_module_version": "1.5.0",
      "model_name": "TextModel",
      "state": {
       "description": "Exp. Name:",
       "layout": "IPY_MODEL_6824862a5e3248afb5a4191f17426ca6",
       "placeholder": "pxxxx",
       "style": "IPY_MODEL_8ebec7c4894c42b697239a2f2d32bf59",
       "value": "pTest"
      }
     },
     "93ddad0d462a4481abe92fa30be45445": {
      "model_module": "@jupyter-widgets/controls",
      "model_module_version": "1.5.0",
      "model_name": "DescriptionStyleModel",
      "state": {
       "description_width": "initial"
      }
     },
     "941b07d593c6485eba442fd70b109fae": {
      "model_module": "@jupyter-widgets/output",
      "model_module_version": "1.0.0",
      "model_name": "OutputModel",
      "state": {
       "layout": "IPY_MODEL_93805dd10ca34da49c7e419963b637d2",
       "outputs": [
        {
         "name": "stdout",
         "output_type": "stream",
         "text": "printing runsheet...\n"
        }
       ]
      }
     },
     "9425f6fde639458db1e7e733cffa9be1": {
      "model_module": "@jupyter-widgets/controls",
      "model_module_version": "1.5.0",
      "model_name": "ComboboxModel",
      "state": {
       "description": "Horiz. DCDT:",
       "ensure_option": true,
       "layout": "IPY_MODEL_da32a8f3243b430985a4183ede92cb09",
       "options": [
        "short rod",
        "long rod",
        "None"
       ],
       "placeholder": "Horiz. DCDT",
       "style": "IPY_MODEL_50525229e212432888f842bf36a5c329",
       "value": "short rod"
      }
     },
     "94abcc27c28f45b18e863443fd33d3d1": {
      "model_module": "@jupyter-widgets/controls",
      "model_module_version": "1.5.0",
      "model_name": "TextModel",
      "state": {
       "description": "Ppa Gain (V/MPa):",
       "layout": "IPY_MODEL_0d4be64276b2469598d178a52c2b8b65",
       "placeholder": "Ppa Gain (V/MPa)",
       "style": "IPY_MODEL_026d311f0d084af3b994868eab437b02",
       "value": "None"
      }
     },
     "9772c03c14e5496888ddc4d0187d1b15": {
      "model_module": "@jupyter-widgets/controls",
      "model_module_version": "1.5.0",
      "model_name": "TextModel",
      "state": {
       "description": "Acoustics blocks used",
       "layout": "IPY_MODEL_252a16145311404e9d021b315ef60d38",
       "placeholder": "",
       "style": "IPY_MODEL_3907ddb1a25d4979b4b09f12201447af"
      }
     },
     "99728fdbde794d4bb35b8db81e48a325": {
      "model_module": "@jupyter-widgets/base",
      "model_module_version": "1.2.0",
      "model_name": "LayoutModel",
      "state": {}
     },
     "9d1a9336b46e455384b8d24ddda81932": {
      "model_module": "@jupyter-widgets/controls",
      "model_module_version": "1.5.0",
      "model_name": "TextModel",
      "state": {
       "description": "Calibration (mV/kN):",
       "layout": "IPY_MODEL_889dc68e7b194dd589b9ca1bac05dc88",
       "placeholder": "mV/kN",
       "style": "IPY_MODEL_dd5565cfc16c4da7adbef1ac21cf6238"
      }
     },
     "9d7d960a6ccd4af6a53c76e47de29887": {
      "model_module": "@jupyter-widgets/base",
      "model_module_version": "1.2.0",
      "model_name": "LayoutModel",
      "state": {
       "flex": "1 1 1%",
       "width": "auto"
      }
     },
     "9de1bc859ac64ddebb300fca3a101b0c": {
      "model_module": "@jupyter-widgets/controls",
      "model_module_version": "1.5.0",
      "model_name": "LabelModel",
      "state": {
       "layout": "IPY_MODEL_47e6c0119bda4a9aba97ad5f8c3dcca5",
       "style": "IPY_MODEL_ec52b56492324348889a193d328c961b"
      }
     },
     "9efff955c6ba4971ad9a2e4053bcea8a": {
      "model_module": "@jupyter-widgets/controls",
      "model_module_version": "1.5.0",
      "model_name": "TextareaModel",
      "state": {
       "description": "Experiment Notes",
       "layout": "IPY_MODEL_33c9982ca9bb4053bb5c16b29f1fd986",
       "placeholder": "Experiment Notes",
       "style": "IPY_MODEL_7fcda6c91c7e44da885242fe75415c86",
       "value": "200 testing\n\n1000 testing"
      }
     },
     "9f66bda39e554d3da0a4690734a3f2bf": {
      "model_module": "@jupyter-widgets/controls",
      "model_module_version": "1.5.0",
      "model_name": "DescriptionStyleModel",
      "state": {
       "description_width": "initial"
      }
     },
     "9fcb370f3faa4da4ab61ae98e7e2473a": {
      "model_module": "@jupyter-widgets/controls",
      "model_module_version": "1.5.0",
      "model_name": "TextModel",
      "state": {
       "description": "V. Init. Volt.:",
       "layout": "IPY_MODEL_bcf5b72b42424d5586e52b89e9f28455",
       "placeholder": "Volt",
       "style": "IPY_MODEL_07246926b6bf4c97b57f8cca6be9a89d",
       "value": "0.1"
      }
     },
     "a031822abe304f379b75b60ff61e69c9": {
      "model_module": "@jupyter-widgets/base",
      "model_module_version": "1.2.0",
      "model_name": "LayoutModel",
      "state": {
       "flex": "1 1 1%",
       "width": "auto"
      }
     },
     "a20262f2aff44f3ca1a7027f535c34cc": {
      "model_module": "@jupyter-widgets/controls",
      "model_module_version": "1.5.0",
      "model_name": "VBoxModel",
      "state": {
       "children": [
        "IPY_MODEL_4279323a73124ec580351f92c0d42633",
        "IPY_MODEL_ff543d8cc0da40d986c895d331b643c9",
        "IPY_MODEL_0f06b4c44c554625b03b3c43b88f13f1",
        "IPY_MODEL_d5a733e2af854497a5a03f46ae07f216",
        "IPY_MODEL_7c0cd39745e24aa496c7ce0182f92f2f",
        "IPY_MODEL_624d478c03ec46f28606d761f60b8e18"
       ],
       "layout": "IPY_MODEL_3d57f7ccfe9b4f718d9b5fb409f2c200"
      }
     },
     "a24d15e5daa64a5397d038cccdf9956a": {
      "model_module": "@jupyter-widgets/controls",
      "model_module_version": "1.5.0",
      "model_name": "GridBoxModel",
      "state": {
       "children": [
        "IPY_MODEL_a20262f2aff44f3ca1a7027f535c34cc",
        "IPY_MODEL_7fc52405ccd2410080926b361f7774b3"
       ],
       "layout": "IPY_MODEL_5533fcb9c77e4eb8a2c84c105a38941e"
      }
     },
     "a251d1520aa94cf38eec1e05990f1267": {
      "model_module": "@jupyter-widgets/controls",
      "model_module_version": "1.5.0",
      "model_name": "DescriptionStyleModel",
      "state": {
       "description_width": ""
      }
     },
     "a2f29e1178cd47dab5f02888f9f6dec0": {
      "model_module": "@jupyter-widgets/controls",
      "model_module_version": "1.5.0",
      "model_name": "DescriptionStyleModel",
      "state": {
       "description_width": ""
      }
     },
     "a31d3d8c73dc45b8a0454bb3eff50d63": {
      "model_module": "@jupyter-widgets/base",
      "model_module_version": "1.2.0",
      "model_name": "LayoutModel",
      "state": {}
     },
     "a338341aa6cd41beb57b263beba53238": {
      "model_module": "@jupyter-widgets/controls",
      "model_module_version": "1.5.0",
      "model_name": "LabelModel",
      "state": {
       "layout": "IPY_MODEL_c9220ea05a2a4fc5b847be2b8545fcc9",
       "style": "IPY_MODEL_c546a01a52904bd497ca0f59910a1cb0"
      }
     },
     "a8589dbc4e9f4f3fbee3ae0e2470e9a4": {
      "model_module": "@jupyter-widgets/controls",
      "model_module_version": "1.5.0",
      "model_name": "DropdownModel",
      "state": {
       "_options_labels": [
        "44mm Solid Vert",
        "44mm Solid Vert",
        "None"
       ],
       "description": "Vert. Load Cell:",
       "index": 2,
       "layout": "IPY_MODEL_021e6e17ebcb4029bfaf537c24ac05a2",
       "style": "IPY_MODEL_bfd228da57634931b64ace40b2df8cfe"
      }
     },
     "a8635bd3c36545999db57500cc4cc019": {
      "model_module": "@jupyter-widgets/controls",
      "model_module_version": "1.5.0",
      "model_name": "LabelModel",
      "state": {
       "layout": "IPY_MODEL_f42ce786312a4ac88bab5454b176ca00",
       "style": "IPY_MODEL_f262e44513ab4421be89cc23d185138e"
      }
     },
     "a997483de7a147959f22d48ff2edfbe6": {
      "model_module": "@jupyter-widgets/base",
      "model_module_version": "1.2.0",
      "model_name": "LayoutModel",
      "state": {
       "flex": "1 1 1%",
       "width": "auto"
      }
     },
     "ace34e1c8be84fd983baba381f51044e": {
      "model_module": "@jupyter-widgets/controls",
      "model_module_version": "1.5.0",
      "model_name": "DescriptionStyleModel",
      "state": {
       "description_width": ""
      }
     },
     "ae0d31c50a6b45f582d64a1e5375777a": {
      "model_module": "@jupyter-widgets/controls",
      "model_module_version": "1.5.0",
      "model_name": "DescriptionStyleModel",
      "state": {
       "description_width": "initial"
      }
     },
     "ae49c6c6c8894e2498dd246c0e805d14": {
      "model_module": "@jupyter-widgets/controls",
      "model_module_version": "1.5.0",
      "model_name": "LabelModel",
      "state": {
       "layout": "IPY_MODEL_84279f9012e74ee2b33838d9e72dbf42",
       "style": "IPY_MODEL_657c979cf9494428b512d1d32a383c3d",
       "value": "Confining Pressure"
      }
     },
     "af344f59c7ea4859bb6e0bd183f15f54": {
      "model_module": "@jupyter-widgets/base",
      "model_module_version": "1.2.0",
      "model_name": "LayoutModel",
      "state": {}
     },
     "b0b9ae5aa7064c6c9620be63f3f0380c": {
      "model_module": "@jupyter-widgets/base",
      "model_module_version": "1.2.0",
      "model_name": "LayoutModel",
      "state": {}
     },
     "b1c5103ba95f48e0938f23312afb798d": {
      "model_module": "@jupyter-widgets/controls",
      "model_module_version": "1.5.0",
      "model_name": "TextModel",
      "state": {
       "description": "P",
       "layout": "IPY_MODEL_228305e974f1405385c67f5ae737d4dd",
       "placeholder": "",
       "style": "IPY_MODEL_1fa6340cc2ee4413b76c9446d4161bee"
      }
     },
     "b24c0a410b7f41d181a98ede5f2fac69": {
      "model_module": "@jupyter-widgets/base",
      "model_module_version": "1.2.0",
      "model_name": "LayoutModel",
      "state": {}
     },
     "b2b12f8551ee46f787e3dd0987bc4ca3": {
      "model_module": "@jupyter-widgets/controls",
      "model_module_version": "1.5.0",
      "model_name": "TextModel",
      "state": {
       "description": "Datten",
       "layout": "IPY_MODEL_4c6d30ead17946379c6a24909079884e",
       "placeholder": "",
       "style": "IPY_MODEL_dd794786bb844e308f480e8317ee1eb4"
      }
     },
     "b2c42f2d071d46ba83976ac483fa5d9f": {
      "model_module": "@jupyter-widgets/controls",
      "model_module_version": "1.5.0",
      "model_name": "DescriptionStyleModel",
      "state": {
       "description_width": "initial"
      }
     },
     "b59717512f044e4993fa47404dc69fec": {
      "model_module": "@jupyter-widgets/controls",
      "model_module_version": "1.5.0",
      "model_name": "LabelModel",
      "state": {
       "layout": "IPY_MODEL_bb437fbd7ed2441fb4fba5e92d55766d",
       "style": "IPY_MODEL_005801506b5f4e25b616850c2e6ff88b",
       "value": "Hor. Servo Settings"
      }
     },
     "b6f26b9eaec14fabbf7fbd3a89cae823": {
      "model_module": "@jupyter-widgets/base",
      "model_module_version": "1.2.0",
      "model_name": "LayoutModel",
      "state": {}
     },
     "b83daf5777704ec5a207e5b7a915afb8": {
      "model_module": "@jupyter-widgets/controls",
      "model_module_version": "1.5.0",
      "model_name": "GridBoxModel",
      "state": {
       "children": [
        "IPY_MODEL_648d4cbfb7fc4c4ba77a31d5fc116083",
        "IPY_MODEL_f16e34bcbdf7487ea9e63999b8c7ddf8"
       ],
       "layout": "IPY_MODEL_dc8270aba1164744a415661e2e93a217"
      }
     },
     "b8ef286d98b04fe08dddfeb445e5a4e3": {
      "model_module": "@jupyter-widgets/base",
      "model_module_version": "1.2.0",
      "model_name": "LayoutModel",
      "state": {}
     },
     "b902ff2409694575b9503732cd01b555": {
      "model_module": "@jupyter-widgets/controls",
      "model_module_version": "1.5.0",
      "model_name": "TextModel",
      "state": {
       "description": "Hyd. Start:",
       "layout": "IPY_MODEL_25697db02a9248e5ab25fde8f67b62fd",
       "placeholder": "xxx.x",
       "style": "IPY_MODEL_42dc739f44b84927840e9009b12fb2fe",
       "value": "x"
      }
     },
     "b915d849e2764f79bbbded610b0435bd": {
      "model_module": "@jupyter-widgets/controls",
      "model_module_version": "1.5.0",
      "model_name": "DescriptionStyleModel",
      "state": {
       "description_width": ""
      }
     },
     "ba82d446bf1c457ea5228039fe7f5495": {
      "model_module": "@jupyter-widgets/controls",
      "model_module_version": "1.5.0",
      "model_name": "DescriptionStyleModel",
      "state": {
       "description_width": "initial"
      }
     },
     "bacdb4b2edfa4b3aa94045ccbe813401": {
      "model_module": "@jupyter-widgets/base",
      "model_module_version": "1.2.0",
      "model_name": "LayoutModel",
      "state": {}
     },
     "bb437fbd7ed2441fb4fba5e92d55766d": {
      "model_module": "@jupyter-widgets/base",
      "model_module_version": "1.2.0",
      "model_name": "LayoutModel",
      "state": {
       "flex": "1 1 1%",
       "width": "auto"
      }
     },
     "bcf5b72b42424d5586e52b89e9f28455": {
      "model_module": "@jupyter-widgets/base",
      "model_module_version": "1.2.0",
      "model_name": "LayoutModel",
      "state": {}
     },
     "bd1fff3b524b48b089a0eda85f08731a": {
      "model_module": "@jupyter-widgets/controls",
      "model_module_version": "1.5.0",
      "model_name": "DescriptionStyleModel",
      "state": {
       "description_width": ""
      }
     },
     "bd3e4f71a3104740af44a2ea70358c0e": {
      "model_module": "@jupyter-widgets/controls",
      "model_module_version": "1.5.0",
      "model_name": "DescriptionStyleModel",
      "state": {
       "description_width": "initial"
      }
     },
     "bda380621bcc4264a6c3a96905bfc87d": {
      "model_module": "@jupyter-widgets/controls",
      "model_module_version": "1.5.0",
      "model_name": "GridBoxModel",
      "state": {
       "children": [
        "IPY_MODEL_4a84f681fb3a46378b5d53b59ea0dc2c",
        "IPY_MODEL_5e9929aa19b94b0e8c07b61ab6e0b302",
        "IPY_MODEL_cf60b996dc6c4c9dadd194d36a98b01c"
       ],
       "layout": "IPY_MODEL_7b8c0feea6d342a49ea34b341cb49d93"
      }
     },
     "bdc30d2d43b348ea9766d5f4dd3b0aaf": {
      "model_module": "@jupyter-widgets/controls",
      "model_module_version": "1.5.0",
      "model_name": "GridBoxModel",
      "state": {
       "children": [
        "IPY_MODEL_ee818d18b4e74d25a4e37e2623a0cbc0",
        "IPY_MODEL_467efe51b341458289c0af416f87d13d",
        "IPY_MODEL_cec273a48a9a4c5aa5367589f1d017b9"
       ],
       "layout": "IPY_MODEL_612a7ae654ae4d2585b0d27ccfcc0608"
      }
     },
     "bea2f0ad3e9345f4befb9e8b82192299": {
      "model_module": "@jupyter-widgets/base",
      "model_module_version": "1.2.0",
      "model_name": "LayoutModel",
      "state": {}
     },
     "bfd228da57634931b64ace40b2df8cfe": {
      "model_module": "@jupyter-widgets/controls",
      "model_module_version": "1.5.0",
      "model_name": "DescriptionStyleModel",
      "state": {
       "description_width": "initial"
      }
     },
     "c177f5a639d848778c2a93bb2c608bde": {
      "model_module": "@jupyter-widgets/base",
      "model_module_version": "1.2.0",
      "model_name": "LayoutModel",
      "state": {}
     },
     "c32b10a5eda94db8863c1a320c3101e7": {
      "model_module": "@jupyter-widgets/controls",
      "model_module_version": "1.5.0",
      "model_name": "TextModel",
      "state": {
       "description": "Feedback",
       "layout": "IPY_MODEL_ca1bb34aeae1457796f31eb3139b3749",
       "placeholder": "",
       "style": "IPY_MODEL_ace34e1c8be84fd983baba381f51044e"
      }
     },
     "c365260ff71c44ecb5a03add59de698a": {
      "model_module": "@jupyter-widgets/base",
      "model_module_version": "1.2.0",
      "model_name": "LayoutModel",
      "state": {}
     },
     "c45b78fa16724e9aa925f3baa5c561a7": {
      "model_module": "@jupyter-widgets/controls",
      "model_module_version": "1.5.0",
      "model_name": "DescriptionStyleModel",
      "state": {
       "description_width": "initial"
      }
     },
     "c546a01a52904bd497ca0f59910a1cb0": {
      "model_module": "@jupyter-widgets/controls",
      "model_module_version": "1.5.0",
      "model_name": "DescriptionStyleModel",
      "state": {
       "description_width": ""
      }
     },
     "c5a854ed50da41c296cc8f61e6f34ace": {
      "model_module": "@jupyter-widgets/controls",
      "model_module_version": "1.5.0",
      "model_name": "DescriptionStyleModel",
      "state": {
       "description_width": "initial"
      }
     },
     "c8fc592550884e139678e572646ae8d9": {
      "model_module": "@jupyter-widgets/controls",
      "model_module_version": "1.5.0",
      "model_name": "ButtonStyleModel",
      "state": {}
     },
     "c9220ea05a2a4fc5b847be2b8545fcc9": {
      "model_module": "@jupyter-widgets/base",
      "model_module_version": "1.2.0",
      "model_name": "LayoutModel",
      "state": {}
     },
     "c9f1e6fcc5db42479d2258604a1eac25": {
      "model_module": "@jupyter-widgets/controls",
      "model_module_version": "1.5.0",
      "model_name": "TextModel",
      "state": {
       "description": "Temperture",
       "layout": "IPY_MODEL_13acc922685b471681d87d511c3463fe",
       "placeholder": "Temperature (C)",
       "style": "IPY_MODEL_2607880ccaa04ad2a9e394921db7ac73"
      }
     },
     "ca1bb34aeae1457796f31eb3139b3749": {
      "model_module": "@jupyter-widgets/base",
      "model_module_version": "1.2.0",
      "model_name": "LayoutModel",
      "state": {
       "flex": "1 1 1%",
       "width": "auto"
      }
     },
     "ca82c113413e4307a10289c833bdd756": {
      "model_module": "@jupyter-widgets/controls",
      "model_module_version": "1.5.0",
      "model_name": "HBoxModel",
      "state": {
       "children": [
        "IPY_MODEL_72aee8534cef4774aea507d2bf226216",
        "IPY_MODEL_e8a8860cd1594bbbbc32b50bd09fa78c"
       ],
       "layout": "IPY_MODEL_6e3f9641b77e4c22826e6ed724e28e98"
      }
     },
     "cbd53333c74d4d5d98d6e1e11a33f3b4": {
      "model_module": "@jupyter-widgets/controls",
      "model_module_version": "1.5.0",
      "model_name": "TextModel",
      "state": {
       "description": "Operator Name(s):",
       "layout": "IPY_MODEL_b0b9ae5aa7064c6c9620be63f3f0380c",
       "placeholder": "Name(s)",
       "style": "IPY_MODEL_d27e2a5834d5457da9b62415c581e853",
       "value": "Clay"
      }
     },
     "cbd7203804fe4039bc2612114324b49d": {
      "model_module": "@jupyter-widgets/controls",
      "model_module_version": "1.5.0",
      "model_name": "DescriptionStyleModel",
      "state": {
       "description_width": "initial"
      }
     },
     "ce80d8174afe4fd599e9830454d60667": {
      "model_module": "@jupyter-widgets/controls",
      "model_module_version": "1.5.0",
      "model_name": "LabelModel",
      "state": {
       "layout": "IPY_MODEL_bacdb4b2edfa4b3aa94045ccbe813401",
       "style": "IPY_MODEL_d5179901c1a54e9f960a9ce32ceca429"
      }
     },
     "cec273a48a9a4c5aa5367589f1d017b9": {
      "model_module": "@jupyter-widgets/controls",
      "model_module_version": "1.5.0",
      "model_name": "VBoxModel",
      "state": {
       "children": [
        "IPY_MODEL_484a5e4eb79140e398976d393af605ad",
        "IPY_MODEL_d5273255ab89487fab7b9e01c7cda765"
       ],
       "layout": "IPY_MODEL_06f1905836db43cc986a0fba2ebe16ae"
      }
     },
     "cf60b996dc6c4c9dadd194d36a98b01c": {
      "model_module": "@jupyter-widgets/controls",
      "model_module_version": "1.5.0",
      "model_name": "VBoxModel",
      "state": {
       "children": [
        "IPY_MODEL_0298f34e992941769f5eb2998138aa22",
        "IPY_MODEL_ae49c6c6c8894e2498dd246c0e805d14",
        "IPY_MODEL_5dda34d8f6be4c5089c747c61376bf04",
        "IPY_MODEL_161bae7c8edd4c7ea2fa4413fa0f9617",
        "IPY_MODEL_d32c0c16a32b4a0f82bf94bc4b135f1c",
        "IPY_MODEL_6cf50f22afe041dbb7b79ec039d7b1fa"
       ],
       "layout": "IPY_MODEL_d7933c4da33240ef89391b57d27d82dd"
      }
     },
     "cfb6ba00cfb74cde9ed52062cddd07be": {
      "model_module": "@jupyter-widgets/base",
      "model_module_version": "1.2.0",
      "model_name": "LayoutModel",
      "state": {}
     },
     "cfc868fd54124119b7aa9bfa85191aa7": {
      "model_module": "@jupyter-widgets/controls",
      "model_module_version": "1.5.0",
      "model_name": "TextModel",
      "state": {
       "description": "E-gain",
       "layout": "IPY_MODEL_18258c2702a84514aa68a737bb76547e",
       "placeholder": "",
       "style": "IPY_MODEL_23a36303b7c64935bfdf5c0ffeb84308"
      }
     },
     "d27e2a5834d5457da9b62415c581e853": {
      "model_module": "@jupyter-widgets/controls",
      "model_module_version": "1.5.0",
      "model_name": "DescriptionStyleModel",
      "state": {
       "description_width": "initial"
      }
     },
     "d32c0c16a32b4a0f82bf94bc4b135f1c": {
      "model_module": "@jupyter-widgets/controls",
      "model_module_version": "1.5.0",
      "model_name": "TextModel",
      "state": {
       "description": "V. Init. Volt.:",
       "layout": "IPY_MODEL_10dbdf9fb9974398a059c3cbcc60f7c7",
       "placeholder": "Volt",
       "style": "IPY_MODEL_245817d012474c0daff75ec70b289325",
       "value": "--"
      }
     },
     "d45ded3a69774bf8a13e6651080983e4": {
      "model_module": "@jupyter-widgets/controls",
      "model_module_version": "1.5.0",
      "model_name": "DescriptionStyleModel",
      "state": {
       "description_width": "initial"
      }
     },
     "d5179901c1a54e9f960a9ce32ceca429": {
      "model_module": "@jupyter-widgets/controls",
      "model_module_version": "1.5.0",
      "model_name": "DescriptionStyleModel",
      "state": {
       "description_width": ""
      }
     },
     "d5273255ab89487fab7b9e01c7cda765": {
      "model_module": "@jupyter-widgets/controls",
      "model_module_version": "1.5.0",
      "model_name": "TextModel",
      "state": {
       "description": "Vert. DCDT calib.:",
       "layout": "IPY_MODEL_dc9dc969760149d7af1920df7f005d8e",
       "placeholder": "mm/V",
       "style": "IPY_MODEL_0ddfb106481f472280961a72173e3b70",
       "value": "2.3"
      }
     },
     "d5a733e2af854497a5a03f46ae07f216": {
      "model_module": "@jupyter-widgets/controls",
      "model_module_version": "1.5.0",
      "model_name": "TextModel",
      "state": {
       "description": "Target Stress(es) (MPa):",
       "layout": "IPY_MODEL_c177f5a639d848778c2a93bb2c608bde",
       "placeholder": "MPa",
       "style": "IPY_MODEL_2c335c91886742c4a520d59ccbec383c",
       "value": "1, 10, 20"
      }
     },
     "d627e6b77ed7485799943a49786ee000": {
      "model_module": "@jupyter-widgets/controls",
      "model_module_version": "1.5.0",
      "model_name": "DescriptionStyleModel",
      "state": {
       "description_width": ""
      }
     },
     "d69a107d132148bfa05ca2606ab9fda8": {
      "model_module": "@jupyter-widgets/controls",
      "model_module_version": "1.5.0",
      "model_name": "LabelModel",
      "state": {
       "layout": "IPY_MODEL_277b28268cce44f3973d7b7ec30d4b2e",
       "style": "IPY_MODEL_a2f29e1178cd47dab5f02888f9f6dec0",
       "value": "Volt. @ Load = N/A"
      }
     },
     "d7933c4da33240ef89391b57d27d82dd": {
      "model_module": "@jupyter-widgets/base",
      "model_module_version": "1.2.0",
      "model_name": "LayoutModel",
      "state": {}
     },
     "da32a8f3243b430985a4183ede92cb09": {
      "model_module": "@jupyter-widgets/base",
      "model_module_version": "1.2.0",
      "model_name": "LayoutModel",
      "state": {}
     },
     "db5bfc7b13ec44bab270d7fddadd4086": {
      "model_module": "@jupyter-widgets/controls",
      "model_module_version": "1.5.0",
      "model_name": "TextModel",
      "state": {
       "description": "Horiz. DCDT calib.:",
       "layout": "IPY_MODEL_0785f2e89d2640289d86f543b8658579",
       "placeholder": "mm/V",
       "style": "IPY_MODEL_b2c42f2d071d46ba83976ac483fa5d9f",
       "value": "0.64"
      }
     },
     "dc7a69a814ba44819c7112f08065d8c4": {
      "model_module": "@jupyter-widgets/base",
      "model_module_version": "1.2.0",
      "model_name": "LayoutModel",
      "state": {}
     },
     "dc8270aba1164744a415661e2e93a217": {
      "model_module": "@jupyter-widgets/base",
      "model_module_version": "1.2.0",
      "model_name": "LayoutModel",
      "state": {
       "align_items": "stretch",
       "border": "2px solid grey",
       "display": "flex",
       "flex_flow": "row",
       "grid_gap": "60px 60px",
       "padding": "10px",
       "width": "75%"
      }
     },
     "dc9dc969760149d7af1920df7f005d8e": {
      "model_module": "@jupyter-widgets/base",
      "model_module_version": "1.2.0",
      "model_name": "LayoutModel",
      "state": {}
     },
     "dd5565cfc16c4da7adbef1ac21cf6238": {
      "model_module": "@jupyter-widgets/controls",
      "model_module_version": "1.5.0",
      "model_name": "DescriptionStyleModel",
      "state": {
       "description_width": "initial"
      }
     },
     "dd794786bb844e308f480e8317ee1eb4": {
      "model_module": "@jupyter-widgets/controls",
      "model_module_version": "1.5.0",
      "model_name": "DescriptionStyleModel",
      "state": {
       "description_width": ""
      }
     },
     "dde66860c4a74c17a35f5d06d765c992": {
      "model_module": "@jupyter-widgets/controls",
      "model_module_version": "1.5.0",
      "model_name": "TextModel",
      "state": {
       "description": "Datten",
       "layout": "IPY_MODEL_540eaacb4932422e9fbd623148e45de6",
       "placeholder": "",
       "style": "IPY_MODEL_f8c689dfb8cc4b2fbcd45378e7e9ad8c"
      }
     },
     "e12061341fb4428eafceebebcfa037c2": {
      "model_module": "@jupyter-widgets/controls",
      "model_module_version": "1.5.0",
      "model_name": "TextModel",
      "state": {
       "description": "Contact Area (m^2)",
       "layout": "IPY_MODEL_7eb7cf169e22466f84c20d01c7964111",
       "placeholder": "m^2",
       "style": "IPY_MODEL_d45ded3a69774bf8a13e6651080983e4",
       "value": "0.0022"
      }
     },
     "e294904d68ce4ddd981e61e23f1200b0": {
      "model_module": "@jupyter-widgets/controls",
      "model_module_version": "1.5.0",
      "model_name": "DescriptionStyleModel",
      "state": {
       "description_width": "initial"
      }
     },
     "e544bae616f1400c87b540c1137dbb84": {
      "model_module": "@jupyter-widgets/base",
      "model_module_version": "1.2.0",
      "model_name": "LayoutModel",
      "state": {}
     },
     "e6c77a7c70764ba9bab7816aea343dc9": {
      "model_module": "@jupyter-widgets/controls",
      "model_module_version": "1.5.0",
      "model_name": "RadioButtonsModel",
      "state": {
       "_options_labels": [
        "yes",
        "no"
       ],
       "description": "Record PID?",
       "index": 1,
       "layout": "IPY_MODEL_0377f0ab7a354f708fdbb0349f64d4be",
       "style": "IPY_MODEL_0467d79ccc964f9a974224504907c832"
      }
     },
     "e8a8860cd1594bbbbc32b50bd09fa78c": {
      "model_module": "@jupyter-widgets/controls",
      "model_module_version": "1.5.0",
      "model_name": "VBoxModel",
      "state": {
       "children": [
        "IPY_MODEL_689f0171af134d07859dc16c9b52215f",
        "IPY_MODEL_b2b12f8551ee46f787e3dd0987bc4ca3",
        "IPY_MODEL_c32b10a5eda94db8863c1a320c3101e7",
        "IPY_MODEL_4aab247c82ac4339affc4167d64c4508"
       ],
       "layout": "IPY_MODEL_5ffe400a97fb440abb0a22b681bcdab1"
      }
     },
     "e8fecc2ffe5849b4a8422b33dc719532": {
      "model_module": "@jupyter-widgets/controls",
      "model_module_version": "1.5.0",
      "model_name": "TextareaModel",
      "state": {
       "description": "Purpose/Description",
       "layout": "IPY_MODEL_ff132cc0b30441a9aef1c5337f5dfe6e",
       "placeholder": "Purpose/Description",
       "style": "IPY_MODEL_9f66bda39e554d3da0a4690734a3f2bf",
       "value": "testing"
      }
     },
     "e90d7e931392497da6a34b02cd65a4db": {
      "model_module": "@jupyter-widgets/controls",
      "model_module_version": "1.5.0",
      "model_name": "LabelModel",
      "state": {
       "layout": "IPY_MODEL_99728fdbde794d4bb35b8db81e48a325",
       "style": "IPY_MODEL_914c8bae35344fe382bc0357e2c307c7"
      }
     },
     "e92568bf9add4eaa9041a3520904e8b4": {
      "model_module": "@jupyter-widgets/controls",
      "model_module_version": "1.5.0",
      "model_name": "VBoxModel",
      "state": {
       "children": [
        "IPY_MODEL_689f0171af134d07859dc16c9b52215f",
        "IPY_MODEL_dde66860c4a74c17a35f5d06d765c992",
        "IPY_MODEL_2c61c645c8b24ede9dc2d0f9de1bf523",
        "IPY_MODEL_cfc868fd54124119b7aa9bfa85191aa7"
       ],
       "layout": "IPY_MODEL_2ef79fa5a51e417da5dca7f9436d47a8"
      }
     },
     "ebb30dfe732244d0bd18621819b3acaf": {
      "model_module": "@jupyter-widgets/controls",
      "model_module_version": "1.5.0",
      "model_name": "DescriptionStyleModel",
      "state": {
       "description_width": ""
      }
     },
     "ec52b56492324348889a193d328c961b": {
      "model_module": "@jupyter-widgets/controls",
      "model_module_version": "1.5.0",
      "model_name": "DescriptionStyleModel",
      "state": {
       "description_width": ""
      }
     },
     "ed7ab08f771946608f2f4fd552251119": {
      "model_module": "@jupyter-widgets/controls",
      "model_module_version": "1.5.0",
      "model_name": "LabelModel",
      "state": {
       "layout": "IPY_MODEL_b8ef286d98b04fe08dddfeb445e5a4e3",
       "style": "IPY_MODEL_d627e6b77ed7485799943a49786ee000",
       "value": "Volt. @ Load = 0.828 , 1.556 , 3.012 , 0.2456, 1.9928"
      }
     },
     "ee11ea48219044d8b3bf5d78a4e0986f": {
      "model_module": "@jupyter-widgets/base",
      "model_module_version": "1.2.0",
      "model_name": "LayoutModel",
      "state": {
       "flex": "1 1 1%",
       "width": "auto"
      }
     },
     "ee818d18b4e74d25a4e37e2623a0cbc0": {
      "model_module": "@jupyter-widgets/controls",
      "model_module_version": "1.5.0",
      "model_name": "DropdownModel",
      "state": {
       "_options_labels": [
        "8 channel",
        "16 channel"
       ],
       "description": "Data Logger Used:",
       "index": 1,
       "layout": "IPY_MODEL_dc7a69a814ba44819c7112f08065d8c4",
       "style": "IPY_MODEL_bd3e4f71a3104740af44a2ea70358c0e"
      }
     },
     "f0ce3e3225ee4deab35c3c541670b846": {
      "model_module": "@jupyter-widgets/base",
      "model_module_version": "1.2.0",
      "model_name": "LayoutModel",
      "state": {
       "flex": "1 1 1%",
       "width": "auto"
      }
     },
     "f16e34bcbdf7487ea9e63999b8c7ddf8": {
      "model_module": "@jupyter-widgets/controls",
      "model_module_version": "1.5.0",
      "model_name": "VBoxModel",
      "state": {
       "children": [
        "IPY_MODEL_8760cc729230409482adb80345ed9946",
        "IPY_MODEL_f47f993f0e4d43f3b85abb56843f6e97"
       ],
       "layout": "IPY_MODEL_4dcaa240e6de41f4bfece785ce74b54d"
      }
     },
     "f262e44513ab4421be89cc23d185138e": {
      "model_module": "@jupyter-widgets/controls",
      "model_module_version": "1.5.0",
      "model_name": "DescriptionStyleModel",
      "state": {
       "description_width": ""
      }
     },
     "f42ce786312a4ac88bab5454b176ca00": {
      "model_module": "@jupyter-widgets/base",
      "model_module_version": "1.2.0",
      "model_name": "LayoutModel",
      "state": {}
     },
     "f4673f4d608246c98cc3978e66af4bee": {
      "model_module": "@jupyter-widgets/controls",
      "model_module_version": "1.5.0",
      "model_name": "RadioButtonsModel",
      "state": {
       "_options_labels": [
        "yes",
        "no"
       ],
       "description": "Use Vessel?",
       "index": 0,
       "layout": "IPY_MODEL_68ec131d24c34867925e46563a5e6bb1",
       "style": "IPY_MODEL_08a068819fdc4a9a9dcca999a184cc86"
      }
     },
     "f47f993f0e4d43f3b85abb56843f6e97": {
      "model_module": "@jupyter-widgets/controls",
      "model_module_version": "1.5.0",
      "model_name": "TextModel",
      "state": {
       "description": "Particle Size, Distribution",
       "layout": "IPY_MODEL_641d4ff210ec4be78f21da38192efb3e",
       "placeholder": "Size Distribution",
       "style": "IPY_MODEL_93571e94be5545fe8634f20995870454",
       "value": "--"
      }
     },
     "f78b09da9cea43d4977b1591fc77ae42": {
      "model_module": "@jupyter-widgets/controls",
      "model_module_version": "1.5.0",
      "model_name": "DescriptionStyleModel",
      "state": {
       "description_width": ""
      }
     },
     "f8c689dfb8cc4b2fbcd45378e7e9ad8c": {
      "model_module": "@jupyter-widgets/controls",
      "model_module_version": "1.5.0",
      "model_name": "DescriptionStyleModel",
      "state": {
       "description_width": ""
      }
     },
     "fdd8e50c67354170bacbd912033a7763": {
      "model_module": "@jupyter-widgets/base",
      "model_module_version": "1.2.0",
      "model_name": "LayoutModel",
      "state": {
       "flex": "1 1 1%",
       "width": "auto"
      }
     },
     "ff132cc0b30441a9aef1c5337f5dfe6e": {
      "model_module": "@jupyter-widgets/base",
      "model_module_version": "1.2.0",
      "model_name": "LayoutModel",
      "state": {
       "flex": "1 1 1%",
       "width": "auto"
      }
     },
     "ff2b5ef344184f9f859054b62304ba4b": {
      "model_module": "@jupyter-widgets/base",
      "model_module_version": "1.2.0",
      "model_name": "LayoutModel",
      "state": {}
     },
     "ff543d8cc0da40d986c895d331b643c9": {
      "model_module": "@jupyter-widgets/controls",
      "model_module_version": "1.5.0",
      "model_name": "DropdownModel",
      "state": {
       "_options_labels": [
        "44mm Solid Horiz",
        "44mm Solid Vert",
        "None"
       ],
       "description": "Horiz. Load Cell:",
       "index": 0,
       "layout": "IPY_MODEL_47435b9e1d3e428db310376ed0af6874",
       "style": "IPY_MODEL_cbd7203804fe4039bc2612114324b49d"
      }
     },
     "ffce1fc100b04f7a8e86b60c5353bb50": {
      "model_module": "@jupyter-widgets/base",
      "model_module_version": "1.2.0",
      "model_name": "LayoutModel",
      "state": {
       "flex": "1 1 0%",
       "width": "auto"
      }
     },
     "fffc297080684e5e86db9ec37548148c": {
      "model_module": "@jupyter-widgets/base",
      "model_module_version": "1.2.0",
      "model_name": "LayoutModel",
      "state": {
       "flex": "1 1 1%",
       "width": "auto"
      }
     }
    },
    "version_major": 2,
    "version_minor": 0
   }
  }
 },
 "nbformat": 4,
 "nbformat_minor": 5
}
