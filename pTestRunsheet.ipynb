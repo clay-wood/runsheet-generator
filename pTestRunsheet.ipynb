{
 "cells": [
  {
   "cell_type": "code",
   "execution_count": 1,
   "id": "ab603420-bff5-430d-a23f-5c92098226a9",
   "metadata": {},
   "outputs": [],
   "source": [
    "import runsheet_display as rs"
   ]
  },
  {
   "cell_type": "code",
   "execution_count": 2,
   "id": "2e17655f-9de4-46f9-a57a-0fead58a9792",
   "metadata": {
    "tags": []
   },
   "outputs": [
    {
     "data": {
      "application/vnd.jupyter.widget-view+json": {
       "model_id": "1208a27f74e8463e8588033ae7dfb13b",
       "version_major": 2,
       "version_minor": 0
      },
      "text/plain": [
       "GridBox(children=(VBox(children=(Text(value='', description='Exp. Name:', placeholder='pxxxx', style=Descripti…"
      ]
     },
     "metadata": {},
     "output_type": "display_data"
    },
    {
     "data": {
      "application/vnd.jupyter.widget-view+json": {
       "model_id": "96019f36f1ed44e498142741a8cddc27",
       "version_major": 2,
       "version_minor": 0
      },
      "text/plain": [
       "GridBox(children=(VBox(children=(Text(value='', description='Contact Area (m^2)', placeholder='m^2', style=Des…"
      ]
     },
     "metadata": {},
     "output_type": "display_data"
    },
    {
     "data": {
      "application/vnd.jupyter.widget-view+json": {
       "model_id": "e360ee79293b4d9c84e8a0458688bd27",
       "version_major": 2,
       "version_minor": 0
      },
      "text/plain": [
       "GridBox(children=(VBox(children=(Label(value='Horizontal Load Cell'), Dropdown(description='Horiz. Load Cell:'…"
      ]
     },
     "metadata": {},
     "output_type": "display_data"
    },
    {
     "data": {
      "application/vnd.jupyter.widget-view+json": {
       "model_id": "316fcfa7638846329449259b8685e1f8",
       "version_major": 2,
       "version_minor": 0
      },
      "text/plain": [
       "RadioButtons(description='Use Vessel?', index=1, options=('yes', 'no'), value='no')"
      ]
     },
     "metadata": {},
     "output_type": "display_data"
    },
    {
     "data": {
      "application/vnd.jupyter.widget-view+json": {
       "model_id": "211a5b5d550b423b99a7d31f194df084",
       "version_major": 2,
       "version_minor": 0
      },
      "text/plain": [
       "Output()"
      ]
     },
     "metadata": {},
     "output_type": "display_data"
    },
    {
     "data": {
      "application/vnd.jupyter.widget-view+json": {
       "model_id": "8afaba31a3ad4b31b2c6aa00acf89823",
       "version_major": 2,
       "version_minor": 0
      },
      "text/plain": [
       "GridBox(children=(Dropdown(description='Data Logger Used:', options=('8 channel', '16 channel'), style=Descrip…"
      ]
     },
     "metadata": {},
     "output_type": "display_data"
    },
    {
     "data": {
      "application/vnd.jupyter.widget-view+json": {
       "model_id": "019f722018ba40a392cc8d7489489aa3",
       "version_major": 2,
       "version_minor": 0
      },
      "text/plain": [
       "GridBox(children=(Textarea(value='', description='Purpose/Description', layout=Layout(flex='1 1 1%', width='au…"
      ]
     },
     "metadata": {},
     "output_type": "display_data"
    },
    {
     "data": {
      "application/vnd.jupyter.widget-view+json": {
       "model_id": "20fb8adec66340e6bd8dc63b41a7e674",
       "version_major": 2,
       "version_minor": 0
      },
      "text/plain": [
       "Button(description='Make Runsheet', style=ButtonStyle())"
      ]
     },
     "metadata": {},
     "output_type": "display_data"
    },
    {
     "data": {
      "application/vnd.jupyter.widget-view+json": {
       "model_id": "62c4f7d1f5b94e49a5f4fa303bcd0fd0",
       "version_major": 2,
       "version_minor": 0
      },
      "text/plain": [
       "Output()"
      ]
     },
     "metadata": {},
     "output_type": "display_data"
    }
   ],
   "source": [
    "entry, outputs = rs.entry_gui()\n",
    "\n",
    "rs.print_btn(outputs)"
   ]
  }
 ],
 "metadata": {
  "kernelspec": {
   "display_name": "Python 3",
   "language": "python",
   "name": "python3"
  },
  "language_info": {
   "codemirror_mode": {
    "name": "ipython",
    "version": 3
   },
   "file_extension": ".py",
   "mimetype": "text/x-python",
   "name": "python",
   "nbconvert_exporter": "python",
   "pygments_lexer": "ipython3",
   "version": "3.9.5"
  },
  "widgets": {
   "application/vnd.jupyter.widget-state+json": {
    "state": {
     "0020b9bd0d38471c92308e0091948d2e": {
      "model_module": "@jupyter-widgets/controls",
      "model_module_version": "1.5.0",
      "model_name": "TextareaModel",
      "state": {
       "description": "Experiment Notes",
       "layout": "IPY_MODEL_985806578e4c4673ada912d03d751592",
       "placeholder": "Experiment Notes",
       "style": "IPY_MODEL_1d4a820467b345f19caa0823f76c6809"
      }
     },
     "019f722018ba40a392cc8d7489489aa3": {
      "model_module": "@jupyter-widgets/controls",
      "model_module_version": "1.5.0",
      "model_name": "GridBoxModel",
      "state": {
       "children": [
        "IPY_MODEL_2ba1044225de438abaa9a7a92fb7f1f7",
        "IPY_MODEL_bf738f04496a45ad949d1752abc0f1d6",
        "IPY_MODEL_0020b9bd0d38471c92308e0091948d2e"
       ],
       "layout": "IPY_MODEL_a648200534b644958f4de75497ec3e97"
      }
     },
     "039b31078ad543788055509e5cc6f785": {
      "model_module": "@jupyter-widgets/base",
      "model_module_version": "1.2.0",
      "model_name": "LayoutModel",
      "state": {}
     },
     "05104ad29db44e1d952468bef3f78b15": {
      "model_module": "@jupyter-widgets/base",
      "model_module_version": "1.2.0",
      "model_name": "LayoutModel",
      "state": {
       "flex": "1 1 1%",
       "width": "auto"
      }
     },
     "05dca127e4344c43bcd62ab5e91505b3": {
      "model_module": "@jupyter-widgets/controls",
      "model_module_version": "1.5.0",
      "model_name": "DescriptionStyleModel",
      "state": {
       "description_width": "initial"
      }
     },
     "0842e24c212446d19d5bcb817dd5f008": {
      "model_module": "@jupyter-widgets/controls",
      "model_module_version": "1.5.0",
      "model_name": "VBoxModel",
      "state": {
       "children": [
        "IPY_MODEL_4a4201ed8cad481b98749960175bf938",
        "IPY_MODEL_d18cc276b2d649c5a7f1c6dd2caa0478",
        "IPY_MODEL_699c7e5e5a0644dabecf83d6406df117",
        "IPY_MODEL_4532b8cabfd84333bae8cfbf50082210",
        "IPY_MODEL_4cd1b60f2eb5488b80ef9b47e59e3bed",
        "IPY_MODEL_c9ea90bb4f42443790dfbc647962f7e0"
       ],
       "layout": "IPY_MODEL_5d615970670f4c2f940e78464d4b9b43"
      }
     },
     "0a2ec052d0384fa1b96ca60743fd44d3": {
      "model_module": "@jupyter-widgets/controls",
      "model_module_version": "1.5.0",
      "model_name": "TextModel",
      "state": {
       "description": "Particle Size, Distribution",
       "layout": "IPY_MODEL_189a1e00e0b34d6c9279f061e6c99500",
       "placeholder": "Size Distribution",
       "style": "IPY_MODEL_05dca127e4344c43bcd62ab5e91505b3"
      }
     },
     "0ccdc7fa580f428d8cf552b7c925b751": {
      "model_module": "@jupyter-widgets/controls",
      "model_module_version": "1.5.0",
      "model_name": "VBoxModel",
      "state": {
       "children": [
        "IPY_MODEL_53fc893c859247318f007a44736c4583",
        "IPY_MODEL_ef6c246ec78b43d5a696ad902e490fb1",
        "IPY_MODEL_3cd7f570a67c4f449d0cce5faf6ad72f"
       ],
       "layout": "IPY_MODEL_05104ad29db44e1d952468bef3f78b15"
      }
     },
     "0e7a3e26d63e41f5ae609d27349e799a": {
      "model_module": "@jupyter-widgets/controls",
      "model_module_version": "1.5.0",
      "model_name": "TextModel",
      "state": {
       "description": "PpB Press. (MPa)",
       "layout": "IPY_MODEL_ff8caef8ceab44e1964e5e963170df7d",
       "placeholder": "MPa",
       "style": "IPY_MODEL_2ec814de325a406db6c0864fc43f0055"
      }
     },
     "0e821b0b93b9407ebd08c8f945e326a5": {
      "model_module": "@jupyter-widgets/base",
      "model_module_version": "1.2.0",
      "model_name": "LayoutModel",
      "state": {}
     },
     "1104147ec5aa424eb63e739da7d00fcd": {
      "model_module": "@jupyter-widgets/controls",
      "model_module_version": "1.5.0",
      "model_name": "ComboboxModel",
      "state": {
       "description": "Horiz. DCDT:",
       "ensure_option": true,
       "layout": "IPY_MODEL_acb2be6084c04161b8e6790794d52f7b",
       "options": [
        "short rod",
        "long rod",
        "None"
       ],
       "placeholder": "Horiz. DCDT",
       "style": "IPY_MODEL_b7f1b17b715d45298c62aba772c59815"
      }
     },
     "1208a27f74e8463e8588033ae7dfb13b": {
      "model_module": "@jupyter-widgets/controls",
      "model_module_version": "1.5.0",
      "model_name": "GridBoxModel",
      "state": {
       "children": [
        "IPY_MODEL_19c4bee731c6401283176dd4c20dcb33",
        "IPY_MODEL_0ccdc7fa580f428d8cf552b7c925b751"
       ],
       "layout": "IPY_MODEL_5ee266cf81cf46c6a9c7482671786083"
      }
     },
     "13f56c4b72be4fa9856124e4f1c736c7": {
      "model_module": "@jupyter-widgets/controls",
      "model_module_version": "1.5.0",
      "model_name": "DescriptionStyleModel",
      "state": {
       "description_width": "initial"
      }
     },
     "147121d2d3f84a278bafeabca6d822ef": {
      "model_module": "@jupyter-widgets/controls",
      "model_module_version": "1.5.0",
      "model_name": "LabelModel",
      "state": {
       "layout": "IPY_MODEL_abe4c85c766c43f78c0adb1ea5466e0c",
       "style": "IPY_MODEL_3ca962f40ac34b3db26180dd2dc4a41c",
       "value": "Volt. @ Load = "
      }
     },
     "16032234b2d346d193d324a8f55d184f": {
      "model_module": "@jupyter-widgets/controls",
      "model_module_version": "1.5.0",
      "model_name": "TextModel",
      "state": {
       "description": "Horiz. DCDT calib.:",
       "layout": "IPY_MODEL_23d72ad4afd0400b976e620b016e1176",
       "placeholder": "mm/V",
       "style": "IPY_MODEL_1a2e2fd9e813471bb8d875aa65a17201"
      }
     },
     "166266d619424b30908decd1e128185d": {
      "model_module": "@jupyter-widgets/controls",
      "model_module_version": "1.5.0",
      "model_name": "LabelModel",
      "state": {
       "layout": "IPY_MODEL_299084f9d23643eb8c2eaa28f3f55476",
       "style": "IPY_MODEL_5c408c5faa944265b6a2551a6fe60d65",
       "value": "Volt. @ Load = "
      }
     },
     "187bfc00d6624ae4baecf73a2c3c0844": {
      "model_module": "@jupyter-widgets/base",
      "model_module_version": "1.2.0",
      "model_name": "LayoutModel",
      "state": {}
     },
     "189a1e00e0b34d6c9279f061e6c99500": {
      "model_module": "@jupyter-widgets/base",
      "model_module_version": "1.2.0",
      "model_name": "LayoutModel",
      "state": {}
     },
     "193034a36bba4ac0aadc7136331b410b": {
      "model_module": "@jupyter-widgets/base",
      "model_module_version": "1.2.0",
      "model_name": "LayoutModel",
      "state": {}
     },
     "19c4bee731c6401283176dd4c20dcb33": {
      "model_module": "@jupyter-widgets/controls",
      "model_module_version": "1.5.0",
      "model_name": "VBoxModel",
      "state": {
       "children": [
        "IPY_MODEL_c708920a43204701a07b4a752dc02ec5",
        "IPY_MODEL_fc35a5d32b53463eacd9c7726fb656f9"
       ],
       "layout": "IPY_MODEL_05104ad29db44e1d952468bef3f78b15"
      }
     },
     "1a2e2fd9e813471bb8d875aa65a17201": {
      "model_module": "@jupyter-widgets/controls",
      "model_module_version": "1.5.0",
      "model_name": "DescriptionStyleModel",
      "state": {
       "description_width": "initial"
      }
     },
     "1bcfd0f7352a4da79a9f70dd5625b092": {
      "model_module": "@jupyter-widgets/base",
      "model_module_version": "1.2.0",
      "model_name": "LayoutModel",
      "state": {}
     },
     "1c8e74e5229f4586b252ac05842153d3": {
      "model_module": "@jupyter-widgets/controls",
      "model_module_version": "1.5.0",
      "model_name": "DescriptionStyleModel",
      "state": {
       "description_width": "initial"
      }
     },
     "1d4a820467b345f19caa0823f76c6809": {
      "model_module": "@jupyter-widgets/controls",
      "model_module_version": "1.5.0",
      "model_name": "DescriptionStyleModel",
      "state": {
       "description_width": "initial"
      }
     },
     "1ee408e2dd184545888287f5b3dbfca6": {
      "model_module": "@jupyter-widgets/base",
      "model_module_version": "1.2.0",
      "model_name": "LayoutModel",
      "state": {
       "flex": "1 1 1%",
       "width": "auto"
      }
     },
     "20fb8adec66340e6bd8dc63b41a7e674": {
      "model_module": "@jupyter-widgets/controls",
      "model_module_version": "1.5.0",
      "model_name": "ButtonModel",
      "state": {
       "description": "Make Runsheet",
       "layout": "IPY_MODEL_597bec6f91b04a36b9ea52a8e1a2839d",
       "style": "IPY_MODEL_d7a01e7219444081be2d8171fb040deb"
      }
     },
     "211a5b5d550b423b99a7d31f194df084": {
      "model_module": "@jupyter-widgets/output",
      "model_module_version": "1.0.0",
      "model_name": "OutputModel",
      "state": {
       "layout": "IPY_MODEL_9968109f05c547e999040091ff6adb31",
       "outputs": [
        {
         "data": {
          "application/vnd.jupyter.widget-view+json": {
           "model_id": "d990b658066c4fe18156288e12d5a4aa",
           "version_major": 2,
           "version_minor": 0
          },
          "text/plain": "Label(value='')"
         },
         "metadata": {},
         "output_type": "display_data"
        }
       ]
      }
     },
     "224ee6058f7e4735bbcd59e0ceb08972": {
      "model_module": "@jupyter-widgets/base",
      "model_module_version": "1.2.0",
      "model_name": "LayoutModel",
      "state": {}
     },
     "23242f5b72874ba69c8d64e12b7ba4b9": {
      "model_module": "@jupyter-widgets/controls",
      "model_module_version": "1.5.0",
      "model_name": "DescriptionStyleModel",
      "state": {
       "description_width": "initial"
      }
     },
     "23d72ad4afd0400b976e620b016e1176": {
      "model_module": "@jupyter-widgets/base",
      "model_module_version": "1.2.0",
      "model_name": "LayoutModel",
      "state": {}
     },
     "2481e5332b934092ad787058c0cdcb00": {
      "model_module": "@jupyter-widgets/controls",
      "model_module_version": "1.5.0",
      "model_name": "DescriptionStyleModel",
      "state": {
       "description_width": ""
      }
     },
     "249500608b904c208def1e912c80ca0d": {
      "model_module": "@jupyter-widgets/base",
      "model_module_version": "1.2.0",
      "model_name": "LayoutModel",
      "state": {}
     },
     "25d5ea8caf934c05bcf4174ba8629a54": {
      "model_module": "@jupyter-widgets/controls",
      "model_module_version": "1.5.0",
      "model_name": "TextModel",
      "state": {
       "description": "Material",
       "layout": "IPY_MODEL_7f8775367fba4f97ad43488191c9791c",
       "placeholder": "Anhydrite, Westerly Granite",
       "style": "IPY_MODEL_1c8e74e5229f4586b252ac05842153d3"
      }
     },
     "25d90e724da646b7819082ac2fe4f759": {
      "model_module": "@jupyter-widgets/controls",
      "model_module_version": "1.5.0",
      "model_name": "TextModel",
      "state": {
       "description": "Target Stress(es) (MPa):",
       "layout": "IPY_MODEL_8fb50c2c0a5c4bb988ec6cda15a9a32f",
       "placeholder": "MPa",
       "style": "IPY_MODEL_91c48575f19a4d0291bff1939ef6edfd"
      }
     },
     "2693760ca45f4299b7a73684dcebb91f": {
      "model_module": "@jupyter-widgets/base",
      "model_module_version": "1.2.0",
      "model_name": "LayoutModel",
      "state": {
       "flex": "1 1 1%",
       "width": "auto"
      }
     },
     "2922a0dacbd74f459ae0a58838f1fbd5": {
      "model_module": "@jupyter-widgets/base",
      "model_module_version": "1.2.0",
      "model_name": "LayoutModel",
      "state": {}
     },
     "299084f9d23643eb8c2eaa28f3f55476": {
      "model_module": "@jupyter-widgets/base",
      "model_module_version": "1.2.0",
      "model_name": "LayoutModel",
      "state": {}
     },
     "29eb118cb3094b08b6349ec013b15ba6": {
      "model_module": "@jupyter-widgets/controls",
      "model_module_version": "1.5.0",
      "model_name": "DescriptionStyleModel",
      "state": {
       "description_width": "initial"
      }
     },
     "2ba1044225de438abaa9a7a92fb7f1f7": {
      "model_module": "@jupyter-widgets/controls",
      "model_module_version": "1.5.0",
      "model_name": "TextareaModel",
      "state": {
       "description": "Purpose/Description",
       "layout": "IPY_MODEL_f881440fa2f841e4a3c5afcadbf05eb3",
       "placeholder": "Purpose/Description",
       "style": "IPY_MODEL_464c573a10c54aae90a457254906425a"
      }
     },
     "2ec814de325a406db6c0864fc43f0055": {
      "model_module": "@jupyter-widgets/controls",
      "model_module_version": "1.5.0",
      "model_name": "DescriptionStyleModel",
      "state": {
       "description_width": "initial"
      }
     },
     "308838ec907b44df88c8547c7f62428b": {
      "model_module": "@jupyter-widgets/controls",
      "model_module_version": "1.5.0",
      "model_name": "TextModel",
      "state": {
       "description": "V. Init. Volt.:",
       "layout": "IPY_MODEL_039b31078ad543788055509e5cc6f785",
       "placeholder": "Volt",
       "style": "IPY_MODEL_a248769c71254da2b46e3a96b0f943e2"
      }
     },
     "316fcfa7638846329449259b8685e1f8": {
      "model_module": "@jupyter-widgets/controls",
      "model_module_version": "1.5.0",
      "model_name": "RadioButtonsModel",
      "state": {
       "_options_labels": [
        "yes",
        "no"
       ],
       "description": "Use Vessel?",
       "index": 1,
       "layout": "IPY_MODEL_90cb9ba5119e498085c7fa1608e73421",
       "style": "IPY_MODEL_5eaa8ec48e494897b9db7d543256929d"
      }
     },
     "31f2e01bcf4b41d9936695243415c85d": {
      "model_module": "@jupyter-widgets/controls",
      "model_module_version": "1.5.0",
      "model_name": "DescriptionStyleModel",
      "state": {
       "description_width": "initial"
      }
     },
     "3368630057094af7bcbfa7f24382594d": {
      "model_module": "@jupyter-widgets/controls",
      "model_module_version": "1.5.0",
      "model_name": "DescriptionStyleModel",
      "state": {
       "description_width": ""
      }
     },
     "3407742441cb49b1bfac5d3bc49c44df": {
      "model_module": "@jupyter-widgets/base",
      "model_module_version": "1.2.0",
      "model_name": "LayoutModel",
      "state": {}
     },
     "37b8a4872f994d7381c60424f527819d": {
      "model_module": "@jupyter-widgets/controls",
      "model_module_version": "1.5.0",
      "model_name": "DescriptionStyleModel",
      "state": {
       "description_width": "initial"
      }
     },
     "397b41d54a4242cbbe08dfb8033e079a": {
      "model_module": "@jupyter-widgets/controls",
      "model_module_version": "1.5.0",
      "model_name": "TextModel",
      "state": {
       "description": "V. Init. Volt.:",
       "layout": "IPY_MODEL_53194fe3edce4653b14b872c245489a4",
       "placeholder": "Volt",
       "style": "IPY_MODEL_4f584c0669a8442ebd0f1e98ed37ca16"
      }
     },
     "3ca962f40ac34b3db26180dd2dc4a41c": {
      "model_module": "@jupyter-widgets/controls",
      "model_module_version": "1.5.0",
      "model_name": "DescriptionStyleModel",
      "state": {
       "description_width": ""
      }
     },
     "3cd7f570a67c4f449d0cce5faf6ad72f": {
      "model_module": "@jupyter-widgets/controls",
      "model_module_version": "1.5.0",
      "model_name": "TextModel",
      "state": {
       "description": "Hyd. End:",
       "layout": "IPY_MODEL_d2982e9f7853495aa0a53c7cb85d279a",
       "placeholder": "xxx.x",
       "style": "IPY_MODEL_23242f5b72874ba69c8d64e12b7ba4b9"
      }
     },
     "3edc277aa27742c58c3b1ba826147064": {
      "model_module": "@jupyter-widgets/base",
      "model_module_version": "1.2.0",
      "model_name": "LayoutModel",
      "state": {}
     },
     "40613fc6777d4fafa26aadd70cf7f2e1": {
      "model_module": "@jupyter-widgets/base",
      "model_module_version": "1.2.0",
      "model_name": "LayoutModel",
      "state": {
       "flex": "1 1 1%",
       "width": "auto"
      }
     },
     "4140a656d9de484782e800f77290b067": {
      "model_module": "@jupyter-widgets/controls",
      "model_module_version": "1.5.0",
      "model_name": "TextModel",
      "state": {
       "description": "Sample Block Thickness (no gouge)",
       "layout": "IPY_MODEL_531c463950cf4f35ac9e1ab382a96be5",
       "placeholder": "mm",
       "style": "IPY_MODEL_ec900616579c4560bb19839291491248"
      }
     },
     "415ed6fc46c94b96a77c7200cf34c620": {
      "model_module": "@jupyter-widgets/base",
      "model_module_version": "1.2.0",
      "model_name": "LayoutModel",
      "state": {}
     },
     "41a3095f4a3d4b80b5a7bdb8b7203493": {
      "model_module": "@jupyter-widgets/controls",
      "model_module_version": "1.5.0",
      "model_name": "DescriptionStyleModel",
      "state": {
       "description_width": ""
      }
     },
     "425fb549801a4ca1b5f8e35f1327d7f6": {
      "model_module": "@jupyter-widgets/base",
      "model_module_version": "1.2.0",
      "model_name": "LayoutModel",
      "state": {}
     },
     "435d9e8cdc1748fc919fada539780360": {
      "model_module": "@jupyter-widgets/controls",
      "model_module_version": "1.5.0",
      "model_name": "DropdownModel",
      "state": {
       "_options_labels": [
        "8 channel",
        "16 channel"
       ],
       "description": "Data Logger Used:",
       "index": 0,
       "layout": "IPY_MODEL_bc45003b0fa44afd9ecbd3f3f5520ae9",
       "style": "IPY_MODEL_f843b28685864e2d8f8ead8910fdfb1a"
      }
     },
     "43bbe5d1a9ec4d1a83b9b39223876395": {
      "model_module": "@jupyter-widgets/base",
      "model_module_version": "1.2.0",
      "model_name": "LayoutModel",
      "state": {}
     },
     "4532b8cabfd84333bae8cfbf50082210": {
      "model_module": "@jupyter-widgets/controls",
      "model_module_version": "1.5.0",
      "model_name": "TextModel",
      "state": {
       "description": "Target Stress(es) (MPa):",
       "layout": "IPY_MODEL_55c7233260744039b3a787201b629c60",
       "placeholder": "MPa",
       "style": "IPY_MODEL_f3c87d2db4004563869b5984d0a92d31"
      }
     },
     "464c573a10c54aae90a457254906425a": {
      "model_module": "@jupyter-widgets/controls",
      "model_module_version": "1.5.0",
      "model_name": "DescriptionStyleModel",
      "state": {
       "description_width": "initial"
      }
     },
     "49447263057d4ebe96d81c613b14d29c": {
      "model_module": "@jupyter-widgets/controls",
      "model_module_version": "1.5.0",
      "model_name": "TextModel",
      "state": {
       "description": "Ppa Gain (V/MPa):",
       "layout": "IPY_MODEL_932f03546d484d77845291684dc5d999",
       "placeholder": "Ppa Gain (V/MPa)",
       "style": "IPY_MODEL_db715aaa3ed64c93959520d77e56154c"
      }
     },
     "4a4201ed8cad481b98749960175bf938": {
      "model_module": "@jupyter-widgets/controls",
      "model_module_version": "1.5.0",
      "model_name": "LabelModel",
      "state": {
       "layout": "IPY_MODEL_bfa087eb7e3345689b3b1b10c7d7b77e",
       "style": "IPY_MODEL_8ba1e260890d460f92d9c2b341e1b0cf",
       "value": "Vertical Load Cell"
      }
     },
     "4a8845c7a3194491a4689c85f4cc0c20": {
      "model_module": "@jupyter-widgets/base",
      "model_module_version": "1.2.0",
      "model_name": "LayoutModel",
      "state": {}
     },
     "4cd1b60f2eb5488b80ef9b47e59e3bed": {
      "model_module": "@jupyter-widgets/controls",
      "model_module_version": "1.5.0",
      "model_name": "TextModel",
      "state": {
       "description": "V. Init. Volt.:",
       "layout": "IPY_MODEL_f368100dce4d48de8ea8d22bc04bdb83",
       "placeholder": "Volt",
       "style": "IPY_MODEL_fc6b527ba9e64678a764bb4869e13c43"
      }
     },
     "4f584c0669a8442ebd0f1e98ed37ca16": {
      "model_module": "@jupyter-widgets/controls",
      "model_module_version": "1.5.0",
      "model_name": "DescriptionStyleModel",
      "state": {
       "description_width": "initial"
      }
     },
     "526f495b34a74155a4be89b0775cadbf": {
      "model_module": "@jupyter-widgets/controls",
      "model_module_version": "1.5.0",
      "model_name": "ComboboxModel",
      "state": {
       "description": "Vert. DCDT:",
       "ensure_option": true,
       "layout": "IPY_MODEL_f9fdd176828844469fdda9694fdb3130",
       "options": [
        "Trans-Tek2",
        "None"
       ],
       "placeholder": "Vert. DCDT",
       "style": "IPY_MODEL_7dc1ce0a3dfe43b3b834c6d5d97f3282"
      }
     },
     "52960f1132484ba4895893201de403d5": {
      "model_module": "@jupyter-widgets/controls",
      "model_module_version": "1.5.0",
      "model_name": "DescriptionStyleModel",
      "state": {
       "description_width": ""
      }
     },
     "53194fe3edce4653b14b872c245489a4": {
      "model_module": "@jupyter-widgets/base",
      "model_module_version": "1.2.0",
      "model_name": "LayoutModel",
      "state": {}
     },
     "531c463950cf4f35ac9e1ab382a96be5": {
      "model_module": "@jupyter-widgets/base",
      "model_module_version": "1.2.0",
      "model_name": "LayoutModel",
      "state": {}
     },
     "53fc893c859247318f007a44736c4583": {
      "model_module": "@jupyter-widgets/controls",
      "model_module_version": "1.5.0",
      "model_name": "DatePickerModel",
      "state": {
       "description": "Exp. Date:",
       "disabled": false,
       "layout": "IPY_MODEL_fcbbe84adc3540c3afa416010b84397b",
       "style": "IPY_MODEL_f85baaf09d5a428da7e613039fb40d04"
      }
     },
     "55780a83145f415eaffa10842499cd62": {
      "model_module": "@jupyter-widgets/controls",
      "model_module_version": "1.5.0",
      "model_name": "TextModel",
      "state": {
       "description": "PpB Gain (V/MPa):",
       "layout": "IPY_MODEL_b2f559de813e453696ba3e1e12097ce4",
       "placeholder": "PpB Gain (V/MPa)",
       "style": "IPY_MODEL_b22da8b03d594f209498898f9f38cd43"
      }
     },
     "55c7233260744039b3a787201b629c60": {
      "model_module": "@jupyter-widgets/base",
      "model_module_version": "1.2.0",
      "model_name": "LayoutModel",
      "state": {}
     },
     "564e3f4f3add4ce0940f117e4282a6f9": {
      "model_module": "@jupyter-widgets/base",
      "model_module_version": "1.2.0",
      "model_name": "LayoutModel",
      "state": {}
     },
     "59051911206c4845855422cd76597a4d": {
      "model_module": "@jupyter-widgets/base",
      "model_module_version": "1.2.0",
      "model_name": "LayoutModel",
      "state": {
       "flex": "1 1 0%",
       "width": "auto"
      }
     },
     "597bec6f91b04a36b9ea52a8e1a2839d": {
      "model_module": "@jupyter-widgets/base",
      "model_module_version": "1.2.0",
      "model_name": "LayoutModel",
      "state": {}
     },
     "5c408c5faa944265b6a2551a6fe60d65": {
      "model_module": "@jupyter-widgets/controls",
      "model_module_version": "1.5.0",
      "model_name": "DescriptionStyleModel",
      "state": {
       "description_width": ""
      }
     },
     "5d615970670f4c2f940e78464d4b9b43": {
      "model_module": "@jupyter-widgets/base",
      "model_module_version": "1.2.0",
      "model_name": "LayoutModel",
      "state": {
       "flex": "1 1 0%",
       "width": "auto"
      }
     },
     "5e9ae327efc74c3aac5f7cdd6b7a1c5f": {
      "model_module": "@jupyter-widgets/controls",
      "model_module_version": "1.5.0",
      "model_name": "DescriptionStyleModel",
      "state": {
       "description_width": "initial"
      }
     },
     "5eaa8ec48e494897b9db7d543256929d": {
      "model_module": "@jupyter-widgets/controls",
      "model_module_version": "1.5.0",
      "model_name": "DescriptionStyleModel",
      "state": {
       "description_width": ""
      }
     },
     "5ee266cf81cf46c6a9c7482671786083": {
      "model_module": "@jupyter-widgets/base",
      "model_module_version": "1.2.0",
      "model_name": "LayoutModel",
      "state": {
       "align_items": "stretch",
       "border": "2px solid grey",
       "display": "flex",
       "flex_flow": "row",
       "grid_gap": "60px 60px",
       "padding": "10px",
       "width": "75%"
      }
     },
     "6221df8752634831b1c741c60ed2e4a0": {
      "model_module": "@jupyter-widgets/base",
      "model_module_version": "1.2.0",
      "model_name": "LayoutModel",
      "state": {
       "flex": "1 1 1%",
       "width": "auto"
      }
     },
     "62c4f7d1f5b94e49a5f4fa303bcd0fd0": {
      "model_module": "@jupyter-widgets/output",
      "model_module_version": "1.0.0",
      "model_name": "OutputModel",
      "state": {
       "layout": "IPY_MODEL_249500608b904c208def1e912c80ca0d"
      }
     },
     "63370c7d3bd14742b8c5007fabf42ece": {
      "model_module": "@jupyter-widgets/controls",
      "model_module_version": "1.5.0",
      "model_name": "LabelModel",
      "state": {
       "layout": "IPY_MODEL_913e78ed736e4184a180899c8e28bf7a",
       "style": "IPY_MODEL_2481e5332b934092ad787058c0cdcb00",
       "value": "Volt. @ Load = "
      }
     },
     "699c7e5e5a0644dabecf83d6406df117": {
      "model_module": "@jupyter-widgets/controls",
      "model_module_version": "1.5.0",
      "model_name": "TextModel",
      "state": {
       "description": "Calibration (mV/kN):",
       "layout": "IPY_MODEL_3407742441cb49b1bfac5d3bc49c44df",
       "placeholder": "mV/kN",
       "style": "IPY_MODEL_31f2e01bcf4b41d9936695243415c85d"
      }
     },
     "6b20876091a34aa79e1b1654be5cdd1d": {
      "model_module": "@jupyter-widgets/base",
      "model_module_version": "1.2.0",
      "model_name": "LayoutModel",
      "state": {
       "border": "2px solid grey",
       "display": "flex",
       "flex_flow": "row",
       "grid_gap": "5px 100px",
       "padding": "10px",
       "width": "75%"
      }
     },
     "6d5cff7e539a4d108743be292576810c": {
      "model_module": "@jupyter-widgets/base",
      "model_module_version": "1.2.0",
      "model_name": "LayoutModel",
      "state": {}
     },
     "6dcd911dbcf64679a111bafd05e7c6f3": {
      "model_module": "@jupyter-widgets/controls",
      "model_module_version": "1.5.0",
      "model_name": "TextModel",
      "state": {
       "description": "Contact Area (m^2)",
       "layout": "IPY_MODEL_3edc277aa27742c58c3b1ba826147064",
       "placeholder": "m^2",
       "style": "IPY_MODEL_fa767a8c4b464f13871b1e7d79e3b960"
      }
     },
     "746ed9ce1ae34a0d8f0a95b26e92df57": {
      "model_module": "@jupyter-widgets/controls",
      "model_module_version": "1.5.0",
      "model_name": "VBoxModel",
      "state": {
       "children": [
        "IPY_MODEL_6dcd911dbcf64679a111bafd05e7c6f3",
        "IPY_MODEL_4140a656d9de484782e800f77290b067",
        "IPY_MODEL_b691b277d72641e79a85726b2db44f2d"
       ],
       "layout": "IPY_MODEL_d39f352a5af14f7db03f02f52db1e571"
      }
     },
     "75715fd2cc824eb3a377c516c5bc83f7": {
      "model_module": "@jupyter-widgets/controls",
      "model_module_version": "1.5.0",
      "model_name": "TextModel",
      "state": {
       "description": "H. Init. Volt.:",
       "layout": "IPY_MODEL_d0ba117b8075406694637b879a5d3dce",
       "placeholder": "Volt",
       "style": "IPY_MODEL_caacb9a9c7894c0cbf852de0764a64ea"
      }
     },
     "761bc0fb38f64387984fb3a08c47c64f": {
      "model_module": "@jupyter-widgets/controls",
      "model_module_version": "1.5.0",
      "model_name": "DescriptionStyleModel",
      "state": {
       "description_width": "initial"
      }
     },
     "76470529c7a94157b699298123c09742": {
      "model_module": "@jupyter-widgets/base",
      "model_module_version": "1.2.0",
      "model_name": "LayoutModel",
      "state": {}
     },
     "7782ee9cae2741f4b7108253e7913104": {
      "model_module": "@jupyter-widgets/base",
      "model_module_version": "1.2.0",
      "model_name": "LayoutModel",
      "state": {
       "flex": "1 1 1%",
       "width": "auto"
      }
     },
     "7dc1ce0a3dfe43b3b834c6d5d97f3282": {
      "model_module": "@jupyter-widgets/controls",
      "model_module_version": "1.5.0",
      "model_name": "DescriptionStyleModel",
      "state": {
       "description_width": "initial"
      }
     },
     "7f8775367fba4f97ad43488191c9791c": {
      "model_module": "@jupyter-widgets/base",
      "model_module_version": "1.2.0",
      "model_name": "LayoutModel",
      "state": {}
     },
     "7ff501613c08403d9856a01295b905ef": {
      "model_module": "@jupyter-widgets/controls",
      "model_module_version": "1.5.0",
      "model_name": "DescriptionStyleModel",
      "state": {
       "description_width": "initial"
      }
     },
     "80c8a83092b74eb7a1e387a9ebc49120": {
      "model_module": "@jupyter-widgets/controls",
      "model_module_version": "1.5.0",
      "model_name": "TextModel",
      "state": {
       "description": "Under Load",
       "layout": "IPY_MODEL_ce7130ea718d400e85b1cf31b129cfeb",
       "placeholder": "mm",
       "style": "IPY_MODEL_761bc0fb38f64387984fb3a08c47c64f"
      }
     },
     "871e28b8b40447ec966029de7025380e": {
      "model_module": "@jupyter-widgets/base",
      "model_module_version": "1.2.0",
      "model_name": "LayoutModel",
      "state": {}
     },
     "88c476076af8471f8db54ed9c64a872a": {
      "model_module": "@jupyter-widgets/base",
      "model_module_version": "1.2.0",
      "model_name": "LayoutModel",
      "state": {}
     },
     "8afaba31a3ad4b31b2c6aa00acf89823": {
      "model_module": "@jupyter-widgets/controls",
      "model_module_version": "1.5.0",
      "model_name": "GridBoxModel",
      "state": {
       "children": [
        "IPY_MODEL_435d9e8cdc1748fc919fada539780360",
        "IPY_MODEL_9a8edce7dfa044b2858d1f7b5a120458",
        "IPY_MODEL_e3dd4e0b9a674883bd431a1a7d99fa7a"
       ],
       "layout": "IPY_MODEL_6b20876091a34aa79e1b1654be5cdd1d"
      }
     },
     "8ba1e260890d460f92d9c2b341e1b0cf": {
      "model_module": "@jupyter-widgets/controls",
      "model_module_version": "1.5.0",
      "model_name": "DescriptionStyleModel",
      "state": {
       "description_width": ""
      }
     },
     "8d43915623d646ed96015a5ac9a7f8dd": {
      "model_module": "@jupyter-widgets/controls",
      "model_module_version": "1.5.0",
      "model_name": "TextModel",
      "state": {
       "description": "V. Init. Volt.:",
       "layout": "IPY_MODEL_187bfc00d6624ae4baecf73a2c3c0844",
       "placeholder": "Volt",
       "style": "IPY_MODEL_e9c21080a6b44f36b44a9b04c1e79b3e"
      }
     },
     "8e1e3859273d4d72b0b4d28335cec3d2": {
      "model_module": "@jupyter-widgets/base",
      "model_module_version": "1.2.0",
      "model_name": "LayoutModel",
      "state": {
       "border": "2px solid royalblue",
       "display": "flex",
       "flex_flow": "row",
       "grid_gap": "60px",
       "padding": "10px",
       "width": "75%"
      }
     },
     "8f3abf7614904074a878774ddd037dfa": {
      "model_module": "@jupyter-widgets/base",
      "model_module_version": "1.2.0",
      "model_name": "LayoutModel",
      "state": {}
     },
     "8fb50c2c0a5c4bb988ec6cda15a9a32f": {
      "model_module": "@jupyter-widgets/base",
      "model_module_version": "1.2.0",
      "model_name": "LayoutModel",
      "state": {}
     },
     "90cb9ba5119e498085c7fa1608e73421": {
      "model_module": "@jupyter-widgets/base",
      "model_module_version": "1.2.0",
      "model_name": "LayoutModel",
      "state": {}
     },
     "913e78ed736e4184a180899c8e28bf7a": {
      "model_module": "@jupyter-widgets/base",
      "model_module_version": "1.2.0",
      "model_name": "LayoutModel",
      "state": {}
     },
     "91c48575f19a4d0291bff1939ef6edfd": {
      "model_module": "@jupyter-widgets/controls",
      "model_module_version": "1.5.0",
      "model_name": "DescriptionStyleModel",
      "state": {
       "description_width": "initial"
      }
     },
     "932f03546d484d77845291684dc5d999": {
      "model_module": "@jupyter-widgets/base",
      "model_module_version": "1.2.0",
      "model_name": "LayoutModel",
      "state": {}
     },
     "953ac003938b4603a262b7f94793cb28": {
      "model_module": "@jupyter-widgets/controls",
      "model_module_version": "1.5.0",
      "model_name": "TextModel",
      "state": {
       "description": "Target Stress(es) (MPa):",
       "layout": "IPY_MODEL_e086621ab3904275953e4b4dc3853621",
       "placeholder": "MPa",
       "style": "IPY_MODEL_7ff501613c08403d9856a01295b905ef"
      }
     },
     "95992dd0eea64e808105efd00d2754e9": {
      "model_module": "@jupyter-widgets/controls",
      "model_module_version": "1.5.0",
      "model_name": "VBoxModel",
      "state": {
       "children": [
        "IPY_MODEL_ddec119ef99f42e4910afcc36f0637ea",
        "IPY_MODEL_d080d0dd135545feb8b1803df72b6bd1",
        "IPY_MODEL_55780a83145f415eaffa10842499cd62",
        "IPY_MODEL_0e7a3e26d63e41f5ae609d27349e799a",
        "IPY_MODEL_8d43915623d646ed96015a5ac9a7f8dd",
        "IPY_MODEL_f64267b3b95f4f4fb9485a29d0fc2b1c"
       ],
       "layout": "IPY_MODEL_0e821b0b93b9407ebd08c8f945e326a5"
      }
     },
     "96019f36f1ed44e498142741a8cddc27": {
      "model_module": "@jupyter-widgets/controls",
      "model_module_version": "1.5.0",
      "model_name": "GridBoxModel",
      "state": {
       "children": [
        "IPY_MODEL_746ed9ce1ae34a0d8f0a95b26e92df57",
        "IPY_MODEL_d0bca1c8200249df8d1da2c62a60f262"
       ],
       "layout": "IPY_MODEL_a97ebaa719024157b0c9a1997ef2881f"
      }
     },
     "96dceb4d065f4cd3b4f0d9c8414b4884": {
      "model_module": "@jupyter-widgets/controls",
      "model_module_version": "1.5.0",
      "model_name": "DescriptionStyleModel",
      "state": {
       "description_width": "initial"
      }
     },
     "985806578e4c4673ada912d03d751592": {
      "model_module": "@jupyter-widgets/base",
      "model_module_version": "1.2.0",
      "model_name": "LayoutModel",
      "state": {
       "flex": "1 1 1%",
       "width": "auto"
      }
     },
     "9968109f05c547e999040091ff6adb31": {
      "model_module": "@jupyter-widgets/base",
      "model_module_version": "1.2.0",
      "model_name": "LayoutModel",
      "state": {}
     },
     "9a8edce7dfa044b2858d1f7b5a120458": {
      "model_module": "@jupyter-widgets/controls",
      "model_module_version": "1.5.0",
      "model_name": "VBoxModel",
      "state": {
       "children": [
        "IPY_MODEL_1104147ec5aa424eb63e739da7d00fcd",
        "IPY_MODEL_16032234b2d346d193d324a8f55d184f"
       ],
       "layout": "IPY_MODEL_40613fc6777d4fafa26aadd70cf7f2e1"
      }
     },
     "9c8ef0c0cadd4f8aa07e26b6d1aad64c": {
      "model_module": "@jupyter-widgets/base",
      "model_module_version": "1.2.0",
      "model_name": "LayoutModel",
      "state": {}
     },
     "9fff15c8f27145799946a31e57381b07": {
      "model_module": "@jupyter-widgets/controls",
      "model_module_version": "1.5.0",
      "model_name": "DescriptionStyleModel",
      "state": {
       "description_width": "initial"
      }
     },
     "a13758278e8b437fb1c9bc04a055561d": {
      "model_module": "@jupyter-widgets/controls",
      "model_module_version": "1.5.0",
      "model_name": "LabelModel",
      "state": {
       "layout": "IPY_MODEL_9c8ef0c0cadd4f8aa07e26b6d1aad64c",
       "style": "IPY_MODEL_3368630057094af7bcbfa7f24382594d",
       "value": "Horizontal Load Cell"
      }
     },
     "a248769c71254da2b46e3a96b0f943e2": {
      "model_module": "@jupyter-widgets/controls",
      "model_module_version": "1.5.0",
      "model_name": "DescriptionStyleModel",
      "state": {
       "description_width": "initial"
      }
     },
     "a6110aef14e14abe87654f481f566b2c": {
      "model_module": "@jupyter-widgets/base",
      "model_module_version": "1.2.0",
      "model_name": "LayoutModel",
      "state": {
       "flex": "1 1 1%",
       "width": "auto"
      }
     },
     "a648200534b644958f4de75497ec3e97": {
      "model_module": "@jupyter-widgets/base",
      "model_module_version": "1.2.0",
      "model_name": "LayoutModel",
      "state": {
       "align_items": "stretch",
       "border": "2px solid grey",
       "display": "flex",
       "flex_flow": "column",
       "padding": "10px",
       "width": "75%"
      }
     },
     "a97ebaa719024157b0c9a1997ef2881f": {
      "model_module": "@jupyter-widgets/base",
      "model_module_version": "1.2.0",
      "model_name": "LayoutModel",
      "state": {
       "align_items": "stretch",
       "border": "2px solid grey",
       "display": "flex",
       "flex_flow": "row",
       "grid_gap": "60px 60px",
       "padding": "10px",
       "width": "75%"
      }
     },
     "abe4c85c766c43f78c0adb1ea5466e0c": {
      "model_module": "@jupyter-widgets/base",
      "model_module_version": "1.2.0",
      "model_name": "LayoutModel",
      "state": {}
     },
     "acb2be6084c04161b8e6790794d52f7b": {
      "model_module": "@jupyter-widgets/base",
      "model_module_version": "1.2.0",
      "model_name": "LayoutModel",
      "state": {}
     },
     "b0228a175aa849ecbb6466b2abaa6fe8": {
      "model_module": "@jupyter-widgets/base",
      "model_module_version": "1.2.0",
      "model_name": "LayoutModel",
      "state": {}
     },
     "b149f1a86506460dade61eefe30dce9a": {
      "model_module": "@jupyter-widgets/base",
      "model_module_version": "1.2.0",
      "model_name": "LayoutModel",
      "state": {}
     },
     "b22da8b03d594f209498898f9f38cd43": {
      "model_module": "@jupyter-widgets/controls",
      "model_module_version": "1.5.0",
      "model_name": "DescriptionStyleModel",
      "state": {
       "description_width": "initial"
      }
     },
     "b295777b75ef4925bf3c9713b9531e95": {
      "model_module": "@jupyter-widgets/controls",
      "model_module_version": "1.5.0",
      "model_name": "DescriptionStyleModel",
      "state": {
       "description_width": "initial"
      }
     },
     "b2f559de813e453696ba3e1e12097ce4": {
      "model_module": "@jupyter-widgets/base",
      "model_module_version": "1.2.0",
      "model_name": "LayoutModel",
      "state": {}
     },
     "b691b277d72641e79a85726b2db44f2d": {
      "model_module": "@jupyter-widgets/controls",
      "model_module_version": "1.5.0",
      "model_name": "TextModel",
      "state": {
       "description": "Layer Thickness",
       "layout": "IPY_MODEL_b0228a175aa849ecbb6466b2abaa6fe8",
       "placeholder": "mm",
       "style": "IPY_MODEL_cbb601bf088a4941ad6b04b8dba17c26"
      }
     },
     "b7f1b17b715d45298c62aba772c59815": {
      "model_module": "@jupyter-widgets/controls",
      "model_module_version": "1.5.0",
      "model_name": "DescriptionStyleModel",
      "state": {
       "description_width": "initial"
      }
     },
     "bc45003b0fa44afd9ecbd3f3f5520ae9": {
      "model_module": "@jupyter-widgets/base",
      "model_module_version": "1.2.0",
      "model_name": "LayoutModel",
      "state": {}
     },
     "bf738f04496a45ad949d1752abc0f1d6": {
      "model_module": "@jupyter-widgets/controls",
      "model_module_version": "1.5.0",
      "model_name": "HBoxModel",
      "state": {
       "children": [
        "IPY_MODEL_e90c84ac0b1e48288937b16fa670a192",
        "IPY_MODEL_de28ecec9b2e471fb84ddcd98eee6784",
        "IPY_MODEL_e859acdab80b4a64b746d37e7cfaeef1"
       ],
       "layout": "IPY_MODEL_88c476076af8471f8db54ed9c64a872a"
      }
     },
     "bf8e74135ee645d5a35c251b3fba6059": {
      "model_module": "@jupyter-widgets/controls",
      "model_module_version": "1.5.0",
      "model_name": "DropdownModel",
      "state": {
       "_options_labels": [
        "44mm Solid Horiz",
        "44mm Solid Vert",
        "None"
       ],
       "description": "Horiz. Load Cell:",
       "index": 0,
       "layout": "IPY_MODEL_415ed6fc46c94b96a77c7200cf34c620",
       "style": "IPY_MODEL_d41be4372d914111a4fdc8ad3d54f98c"
      }
     },
     "bfa087eb7e3345689b3b1b10c7d7b77e": {
      "model_module": "@jupyter-widgets/base",
      "model_module_version": "1.2.0",
      "model_name": "LayoutModel",
      "state": {}
     },
     "c077c5eb367d4ffca996b7782acabff5": {
      "model_module": "@jupyter-widgets/base",
      "model_module_version": "1.2.0",
      "model_name": "LayoutModel",
      "state": {
       "align_items": "stretch",
       "border": "2px solid grey",
       "display": "flex",
       "flex_flow": "row",
       "padding": "10px",
       "width": "75%"
      }
     },
     "c106e087dfd04d06b7334cfa99d2d9d0": {
      "model_module": "@jupyter-widgets/controls",
      "model_module_version": "1.5.0",
      "model_name": "VBoxModel",
      "state": {
       "children": [
        "IPY_MODEL_d080d0dd135545feb8b1803df72b6bd1",
        "IPY_MODEL_49447263057d4ebe96d81c613b14d29c",
        "IPY_MODEL_e62fb99e4f3d4a3f8cc29507fc548f7e",
        "IPY_MODEL_308838ec907b44df88c8547c7f62428b",
        "IPY_MODEL_63370c7d3bd14742b8c5007fabf42ece"
       ],
       "layout": "IPY_MODEL_6d5cff7e539a4d108743be292576810c"
      }
     },
     "c157202277ac43e196792b1775ef160c": {
      "model_module": "@jupyter-widgets/controls",
      "model_module_version": "1.5.0",
      "model_name": "DescriptionStyleModel",
      "state": {
       "description_width": "initial"
      }
     },
     "c56de44b5b1c4789bf6e7b2c5ac7285c": {
      "model_module": "@jupyter-widgets/controls",
      "model_module_version": "1.5.0",
      "model_name": "DescriptionStyleModel",
      "state": {
       "description_width": "initial"
      }
     },
     "c708920a43204701a07b4a752dc02ec5": {
      "model_module": "@jupyter-widgets/controls",
      "model_module_version": "1.5.0",
      "model_name": "TextModel",
      "state": {
       "description": "Exp. Name:",
       "layout": "IPY_MODEL_fa6132de31e94071b8e895fa55f71e07",
       "placeholder": "pxxxx",
       "style": "IPY_MODEL_13f56c4b72be4fa9856124e4f1c736c7"
      }
     },
     "c9ea90bb4f42443790dfbc647962f7e0": {
      "model_module": "@jupyter-widgets/controls",
      "model_module_version": "1.5.0",
      "model_name": "LabelModel",
      "state": {
       "layout": "IPY_MODEL_b149f1a86506460dade61eefe30dce9a",
       "style": "IPY_MODEL_f96c20418c6445e7b27f5e39579eaefb",
       "value": "Volt. @ Load = "
      }
     },
     "caacb9a9c7894c0cbf852de0764a64ea": {
      "model_module": "@jupyter-widgets/controls",
      "model_module_version": "1.5.0",
      "model_name": "DescriptionStyleModel",
      "state": {
       "description_width": "initial"
      }
     },
     "cbb601bf088a4941ad6b04b8dba17c26": {
      "model_module": "@jupyter-widgets/controls",
      "model_module_version": "1.5.0",
      "model_name": "DescriptionStyleModel",
      "state": {
       "description_width": "initial"
      }
     },
     "cc618d5844c04ec09876fb6148b2fd85": {
      "model_module": "@jupyter-widgets/controls",
      "model_module_version": "1.5.0",
      "model_name": "DescriptionStyleModel",
      "state": {
       "description_width": "initial"
      }
     },
     "ce7130ea718d400e85b1cf31b129cfeb": {
      "model_module": "@jupyter-widgets/base",
      "model_module_version": "1.2.0",
      "model_name": "LayoutModel",
      "state": {}
     },
     "d080d0dd135545feb8b1803df72b6bd1": {
      "model_module": "@jupyter-widgets/controls",
      "model_module_version": "1.5.0",
      "model_name": "LabelModel",
      "state": {
       "layout": "IPY_MODEL_43bbe5d1a9ec4d1a83b9b39223876395",
       "style": "IPY_MODEL_41a3095f4a3d4b80b5a7bdb8b7203493",
       "value": "Confining Pressure"
      }
     },
     "d0ba117b8075406694637b879a5d3dce": {
      "model_module": "@jupyter-widgets/base",
      "model_module_version": "1.2.0",
      "model_name": "LayoutModel",
      "state": {}
     },
     "d0bca1c8200249df8d1da2c62a60f262": {
      "model_module": "@jupyter-widgets/controls",
      "model_module_version": "1.5.0",
      "model_name": "VBoxModel",
      "state": {
       "children": [
        "IPY_MODEL_25d5ea8caf934c05bcf4174ba8629a54",
        "IPY_MODEL_0a2ec052d0384fa1b96ca60743fd44d3"
       ],
       "layout": "IPY_MODEL_6221df8752634831b1c741c60ed2e4a0"
      }
     },
     "d18cc276b2d649c5a7f1c6dd2caa0478": {
      "model_module": "@jupyter-widgets/controls",
      "model_module_version": "1.5.0",
      "model_name": "DropdownModel",
      "state": {
       "_options_labels": [
        "44mm Solid Vert",
        "44mm Solid Vert",
        "None"
       ],
       "description": "Vert. Load Cell:",
       "index": 0,
       "layout": "IPY_MODEL_76470529c7a94157b699298123c09742",
       "style": "IPY_MODEL_5e9ae327efc74c3aac5f7cdd6b7a1c5f"
      }
     },
     "d2982e9f7853495aa0a53c7cb85d279a": {
      "model_module": "@jupyter-widgets/base",
      "model_module_version": "1.2.0",
      "model_name": "LayoutModel",
      "state": {}
     },
     "d38ff1a9400340a7afec9d23c87aac00": {
      "model_module": "@jupyter-widgets/controls",
      "model_module_version": "1.5.0",
      "model_name": "DescriptionStyleModel",
      "state": {
       "description_width": ""
      }
     },
     "d39f352a5af14f7db03f02f52db1e571": {
      "model_module": "@jupyter-widgets/base",
      "model_module_version": "1.2.0",
      "model_name": "LayoutModel",
      "state": {
       "flex": "1 1 1%",
       "width": "auto"
      }
     },
     "d41be4372d914111a4fdc8ad3d54f98c": {
      "model_module": "@jupyter-widgets/controls",
      "model_module_version": "1.5.0",
      "model_name": "DescriptionStyleModel",
      "state": {
       "description_width": "initial"
      }
     },
     "d7656d72910b42859403bc5c3b2ed3b5": {
      "model_module": "@jupyter-widgets/controls",
      "model_module_version": "1.5.0",
      "model_name": "DescriptionStyleModel",
      "state": {
       "description_width": "initial"
      }
     },
     "d7a01e7219444081be2d8171fb040deb": {
      "model_module": "@jupyter-widgets/controls",
      "model_module_version": "1.5.0",
      "model_name": "ButtonStyleModel",
      "state": {}
     },
     "d990b658066c4fe18156288e12d5a4aa": {
      "model_module": "@jupyter-widgets/controls",
      "model_module_version": "1.5.0",
      "model_name": "LabelModel",
      "state": {
       "layout": "IPY_MODEL_f3802c5c0af043cab792e079f761f159",
       "style": "IPY_MODEL_52960f1132484ba4895893201de403d5"
      }
     },
     "db715aaa3ed64c93959520d77e56154c": {
      "model_module": "@jupyter-widgets/controls",
      "model_module_version": "1.5.0",
      "model_name": "DescriptionStyleModel",
      "state": {
       "description_width": "initial"
      }
     },
     "ddec119ef99f42e4910afcc36f0637ea": {
      "model_module": "@jupyter-widgets/controls",
      "model_module_version": "1.5.0",
      "model_name": "TextModel",
      "state": {
       "description": "Pore Fluid",
       "layout": "IPY_MODEL_2922a0dacbd74f459ae0a58838f1fbd5",
       "placeholder": "DI H2O",
       "style": "IPY_MODEL_b295777b75ef4925bf3c9713b9531e95",
       "value": "DI H2O"
      }
     },
     "de28ecec9b2e471fb84ddcd98eee6784": {
      "model_module": "@jupyter-widgets/controls",
      "model_module_version": "1.5.0",
      "model_name": "TextModel",
      "state": {
       "description": "Temperture",
       "layout": "IPY_MODEL_1ee408e2dd184545888287f5b3dbfca6",
       "placeholder": "Temperature (C)",
       "style": "IPY_MODEL_96dceb4d065f4cd3b4f0d9c8414b4884"
      }
     },
     "e086621ab3904275953e4b4dc3853621": {
      "model_module": "@jupyter-widgets/base",
      "model_module_version": "1.2.0",
      "model_name": "LayoutModel",
      "state": {}
     },
     "e1a88ef8f1444e4ba3b985140b0a0f04": {
      "model_module": "@jupyter-widgets/controls",
      "model_module_version": "1.5.0",
      "model_name": "VBoxModel",
      "state": {
       "children": [
        "IPY_MODEL_d080d0dd135545feb8b1803df72b6bd1",
        "IPY_MODEL_e4b186c1a4194c53bc80556a6c7ae0b6",
        "IPY_MODEL_953ac003938b4603a262b7f94793cb28",
        "IPY_MODEL_397b41d54a4242cbbe08dfb8033e079a",
        "IPY_MODEL_166266d619424b30908decd1e128185d"
       ],
       "layout": "IPY_MODEL_4a8845c7a3194491a4689c85f4cc0c20"
      }
     },
     "e360ee79293b4d9c84e8a0458688bd27": {
      "model_module": "@jupyter-widgets/controls",
      "model_module_version": "1.5.0",
      "model_name": "GridBoxModel",
      "state": {
       "children": [
        "IPY_MODEL_efd6e83d2f9d49a98780bdab40562666",
        "IPY_MODEL_0842e24c212446d19d5bcb817dd5f008"
       ],
       "layout": "IPY_MODEL_c077c5eb367d4ffca996b7782acabff5"
      }
     },
     "e3dd4e0b9a674883bd431a1a7d99fa7a": {
      "model_module": "@jupyter-widgets/controls",
      "model_module_version": "1.5.0",
      "model_name": "VBoxModel",
      "state": {
       "children": [
        "IPY_MODEL_526f495b34a74155a4be89b0775cadbf",
        "IPY_MODEL_fdf6a29ef2694ec5ab7462de07fb420e"
       ],
       "layout": "IPY_MODEL_a6110aef14e14abe87654f481f566b2c"
      }
     },
     "e4b186c1a4194c53bc80556a6c7ae0b6": {
      "model_module": "@jupyter-widgets/controls",
      "model_module_version": "1.5.0",
      "model_name": "TextModel",
      "state": {
       "description": "Pc Gain (V/MPa):",
       "layout": "IPY_MODEL_564e3f4f3add4ce0940f117e4282a6f9",
       "placeholder": "0.1456 V/MPa",
       "style": "IPY_MODEL_9fff15c8f27145799946a31e57381b07",
       "value": "0.1456"
      }
     },
     "e62fb99e4f3d4a3f8cc29507fc548f7e": {
      "model_module": "@jupyter-widgets/controls",
      "model_module_version": "1.5.0",
      "model_name": "TextModel",
      "state": {
       "description": "PpA Press. (MPa)",
       "layout": "IPY_MODEL_224ee6058f7e4735bbcd59e0ceb08972",
       "placeholder": "MPa",
       "style": "IPY_MODEL_ea48a87bc7ac4c01ac2e9ab0dc3a0495"
      }
     },
     "e859acdab80b4a64b746d37e7cfaeef1": {
      "model_module": "@jupyter-widgets/controls",
      "model_module_version": "1.5.0",
      "model_name": "TextModel",
      "state": {
       "description": "Relative Humidity",
       "layout": "IPY_MODEL_7782ee9cae2741f4b7108253e7913104",
       "placeholder": "Rel. Humid. (%)",
       "style": "IPY_MODEL_c157202277ac43e196792b1775ef160c"
      }
     },
     "e90c84ac0b1e48288937b16fa670a192": {
      "model_module": "@jupyter-widgets/controls",
      "model_module_version": "1.5.0",
      "model_name": "TextModel",
      "state": {
       "description": "Acoustics blocks used",
       "layout": "IPY_MODEL_2693760ca45f4299b7a73684dcebb91f",
       "placeholder": "",
       "style": "IPY_MODEL_cc618d5844c04ec09876fb6148b2fd85"
      }
     },
     "e9c21080a6b44f36b44a9b04c1e79b3e": {
      "model_module": "@jupyter-widgets/controls",
      "model_module_version": "1.5.0",
      "model_name": "DescriptionStyleModel",
      "state": {
       "description_width": "initial"
      }
     },
     "ea48a87bc7ac4c01ac2e9ab0dc3a0495": {
      "model_module": "@jupyter-widgets/controls",
      "model_module_version": "1.5.0",
      "model_name": "DescriptionStyleModel",
      "state": {
       "description_width": "initial"
      }
     },
     "eb0f57b130b7480089d4ee7bb4c265a0": {
      "model_module": "@jupyter-widgets/controls",
      "model_module_version": "1.5.0",
      "model_name": "TextModel",
      "state": {
       "description": "Calibration (mV/kN):",
       "layout": "IPY_MODEL_425fb549801a4ca1b5f8e35f1327d7f6",
       "placeholder": "mV/kN",
       "style": "IPY_MODEL_37b8a4872f994d7381c60424f527819d"
      }
     },
     "ec900616579c4560bb19839291491248": {
      "model_module": "@jupyter-widgets/controls",
      "model_module_version": "1.5.0",
      "model_name": "DescriptionStyleModel",
      "state": {
       "description_width": "initial"
      }
     },
     "ef6c246ec78b43d5a696ad902e490fb1": {
      "model_module": "@jupyter-widgets/controls",
      "model_module_version": "1.5.0",
      "model_name": "TextModel",
      "state": {
       "description": "Hyd. Start:",
       "layout": "IPY_MODEL_193034a36bba4ac0aadc7136331b410b",
       "placeholder": "xxx.x",
       "style": "IPY_MODEL_c56de44b5b1c4789bf6e7b2c5ac7285c"
      }
     },
     "efd6e83d2f9d49a98780bdab40562666": {
      "model_module": "@jupyter-widgets/controls",
      "model_module_version": "1.5.0",
      "model_name": "VBoxModel",
      "state": {
       "children": [
        "IPY_MODEL_a13758278e8b437fb1c9bc04a055561d",
        "IPY_MODEL_bf8e74135ee645d5a35c251b3fba6059",
        "IPY_MODEL_eb0f57b130b7480089d4ee7bb4c265a0",
        "IPY_MODEL_25d90e724da646b7819082ac2fe4f759",
        "IPY_MODEL_75715fd2cc824eb3a377c516c5bc83f7",
        "IPY_MODEL_147121d2d3f84a278bafeabca6d822ef"
       ],
       "layout": "IPY_MODEL_59051911206c4845855422cd76597a4d"
      }
     },
     "f368100dce4d48de8ea8d22bc04bdb83": {
      "model_module": "@jupyter-widgets/base",
      "model_module_version": "1.2.0",
      "model_name": "LayoutModel",
      "state": {}
     },
     "f3802c5c0af043cab792e079f761f159": {
      "model_module": "@jupyter-widgets/base",
      "model_module_version": "1.2.0",
      "model_name": "LayoutModel",
      "state": {}
     },
     "f3c87d2db4004563869b5984d0a92d31": {
      "model_module": "@jupyter-widgets/controls",
      "model_module_version": "1.5.0",
      "model_name": "DescriptionStyleModel",
      "state": {
       "description_width": "initial"
      }
     },
     "f64267b3b95f4f4fb9485a29d0fc2b1c": {
      "model_module": "@jupyter-widgets/controls",
      "model_module_version": "1.5.0",
      "model_name": "LabelModel",
      "state": {
       "layout": "IPY_MODEL_1bcfd0f7352a4da79a9f70dd5625b092",
       "style": "IPY_MODEL_d38ff1a9400340a7afec9d23c87aac00",
       "value": "Volt. @ Load = "
      }
     },
     "f843b28685864e2d8f8ead8910fdfb1a": {
      "model_module": "@jupyter-widgets/controls",
      "model_module_version": "1.5.0",
      "model_name": "DescriptionStyleModel",
      "state": {
       "description_width": "initial"
      }
     },
     "f85baaf09d5a428da7e613039fb40d04": {
      "model_module": "@jupyter-widgets/controls",
      "model_module_version": "1.5.0",
      "model_name": "DescriptionStyleModel",
      "state": {
       "description_width": "initial"
      }
     },
     "f881440fa2f841e4a3c5afcadbf05eb3": {
      "model_module": "@jupyter-widgets/base",
      "model_module_version": "1.2.0",
      "model_name": "LayoutModel",
      "state": {
       "flex": "1 1 1%",
       "width": "auto"
      }
     },
     "f96c20418c6445e7b27f5e39579eaefb": {
      "model_module": "@jupyter-widgets/controls",
      "model_module_version": "1.5.0",
      "model_name": "DescriptionStyleModel",
      "state": {
       "description_width": ""
      }
     },
     "f9fdd176828844469fdda9694fdb3130": {
      "model_module": "@jupyter-widgets/base",
      "model_module_version": "1.2.0",
      "model_name": "LayoutModel",
      "state": {}
     },
     "fa6132de31e94071b8e895fa55f71e07": {
      "model_module": "@jupyter-widgets/base",
      "model_module_version": "1.2.0",
      "model_name": "LayoutModel",
      "state": {}
     },
     "fa767a8c4b464f13871b1e7d79e3b960": {
      "model_module": "@jupyter-widgets/controls",
      "model_module_version": "1.5.0",
      "model_name": "DescriptionStyleModel",
      "state": {
       "description_width": "initial"
      }
     },
     "fc35a5d32b53463eacd9c7726fb656f9": {
      "model_module": "@jupyter-widgets/controls",
      "model_module_version": "1.5.0",
      "model_name": "TextModel",
      "state": {
       "description": "Operator Name(s):",
       "layout": "IPY_MODEL_8f3abf7614904074a878774ddd037dfa",
       "placeholder": "Name(s)",
       "style": "IPY_MODEL_29eb118cb3094b08b6349ec013b15ba6"
      }
     },
     "fc6b527ba9e64678a764bb4869e13c43": {
      "model_module": "@jupyter-widgets/controls",
      "model_module_version": "1.5.0",
      "model_name": "DescriptionStyleModel",
      "state": {
       "description_width": "initial"
      }
     },
     "fcbbe84adc3540c3afa416010b84397b": {
      "model_module": "@jupyter-widgets/base",
      "model_module_version": "1.2.0",
      "model_name": "LayoutModel",
      "state": {}
     },
     "fdf6a29ef2694ec5ab7462de07fb420e": {
      "model_module": "@jupyter-widgets/controls",
      "model_module_version": "1.5.0",
      "model_name": "TextModel",
      "state": {
       "description": "Vert. DCDT calib.:",
       "layout": "IPY_MODEL_871e28b8b40447ec966029de7025380e",
       "placeholder": "mm/V",
       "style": "IPY_MODEL_d7656d72910b42859403bc5c3b2ed3b5"
      }
     },
     "ff8caef8ceab44e1964e5e963170df7d": {
      "model_module": "@jupyter-widgets/base",
      "model_module_version": "1.2.0",
      "model_name": "LayoutModel",
      "state": {}
     }
    },
    "version_major": 2,
    "version_minor": 0
   }
  }
 },
 "nbformat": 4,
 "nbformat_minor": 5
}
