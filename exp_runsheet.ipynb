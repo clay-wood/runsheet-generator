{
 "cells": [
  {
   "cell_type": "code",
   "execution_count": 1,
   "metadata": {},
   "outputs": [],
   "source": [
    "### DEPENDENCIES: os, numpy, pandas ###\n",
    "### make_runsheet, calibrations.csv MUST LIVE IN THE SAME DIRECTORY ###\n",
    "\n",
    "\n",
    "import make_runsheet as mr"
   ]
  },
  {
   "cell_type": "code",
   "execution_count": 2,
   "metadata": {},
   "outputs": [],
   "source": [
    "### EXPERIMENT NAME  WILL CREATE A NEW FILE ###\n",
    "\n",
    "\n",
    "Preamble= {\n",
    "\n",
    "'ExpName': 'pxxxx',\n",
    "\n",
    "'Date': '24 Nov. 2020',\n",
    "\n",
    "'Operator': 'Wood, Affinito, Marty',\n",
    "\n",
    "'HydStart': '3687.5',\n",
    "\n",
    "'HydEnd': '3694.7'}"
   ]
  },
  {
   "cell_type": "code",
   "execution_count": 3,
   "metadata": {},
   "outputs": [],
   "source": [
    "### LEAVE INPUTS BLANK IF NOT RELEVANT ###\n",
    "\n",
    "\n",
    "Block_material = {\n",
    "\n",
    "'Sample Block Thickness': '', \n",
    "'Layer Thickness': '',\n",
    "'@sample': '',\n",
    "'Under Load': '', \n",
    "'Material': 'WG, Saw-cut \\& 600-grit.', \n",
    "'Size Dist': '', \n",
    "'Area': '0.0022292545'\n",
    "    \n",
    "}"
   ]
  },
  {
   "cell_type": "code",
   "execution_count": 4,
   "metadata": {},
   "outputs": [],
   "source": [
    "### INSERT 'None' INTO HorizLC OR VertLC IF PARTICULAR LOAD CELL IS NOT USED ###\n",
    "### LEAVE STRESS INPUTS BLANK IF NOT USED ###\n",
    "\n",
    "\n",
    "Load_Cells = {\n",
    "    \n",
    "'HorizLC': '44mm Solid Horiz',\n",
    "'H_gain': 'High', \n",
    "'H_Stress': '1, 7, 10, 20', \n",
    "'H_init_V': '0.2158', \n",
    "\n",
    "'VertLC': '44mm Solid Horiz',\n",
    "'V_gain': 'High', \n",
    "'V_Stress': '', \n",
    "'V_init_V': '0.2158', \n",
    "    \n",
    "}"
   ]
  },
  {
   "cell_type": "code",
   "execution_count": 5,
   "metadata": {},
   "outputs": [],
   "source": [
    "### SET 'UseVessel' TO 'YES' IF VESSEL IS USED IN EXPERIMENT ###\n",
    "### SET 'UseVessel' TO 'NO' IF VESSEL IS NOT USED IN EXPERIMENT, NO OTHER INPUTS NECESSARY ###\n",
    "\n",
    "\n",
    "Vessel = {\n",
    "\n",
    "'UseVessel': 'yes',\n",
    "    \n",
    "'PoreFluid': 'DI H2O',\n",
    "\n",
    "'Pc_press': '6',\n",
    "'Pc_init_V': '-0.1222',\n",
    "\n",
    "'PpA_gain': 'high',\n",
    "'PpA_press': '5.0, 4.5, 4.25, 3.0, 2.5, 2.25',\n",
    "'PpA_init_V': '-0.308',\n",
    "\n",
    "'PpB_gain': 'high',\n",
    "'PpB_press': '3.0, 3.5, 3.75, 1.0, 1.5, 1.75',\n",
    "'PpB_init_V': '-0.363',\n",
    "}"
   ]
  },
  {
   "cell_type": "code",
   "execution_count": 6,
   "metadata": {},
   "outputs": [],
   "source": [
    "### DCDT CALIBRATIONS AND GAINS CAN BE FOUND IN 'calibrations.csv' ###\n",
    "\n",
    "\n",
    "DCDTs = {\n",
    "\n",
    "'DataLogger': '16',\n",
    "'CtrlFile': 'No',\n",
    "\n",
    "'H_DCDT_rod': 'short',\n",
    "'H_DCDT_gain': 'high',\n",
    "\n",
    "'V_DCDT': 'Trans-Tek 2',\n",
    "'V_DCDT_gain': 'high',\n",
    "}"
   ]
  },
  {
   "cell_type": "code",
   "execution_count": 7,
   "metadata": {},
   "outputs": [],
   "source": [
    "### EXPERIMENT INFORMATION AND ACOUSTIC BLOCKS USED ###\n",
    "\n",
    "\n",
    "ExpInfo = {\n",
    "\n",
    "'Purpose': '''\n",
    "Permeability test of saw-cut sample roughened with 600-grit. \\\\\\\\ Compre this sample to sample sent to Andy Rathbun at Chevron for profilometry before DAET/PP osc. experiment. \n",
    "''',\n",
    "\n",
    "'AcBlocks': '''\n",
    "SDS L-block v2\n",
    "'''\n",
    "}"
   ]
  },
  {
   "cell_type": "code",
   "execution_count": 8,
   "metadata": {},
   "outputs": [],
   "source": [
    "### EXPERIMENT NOTES. SET TO 'None' IF YOU PREFER TO WRITE BY HAND ###\n",
    "\n",
    "\n",
    "notes = [\n",
    "'''\n",
    "230 NS @ 1MPa\n",
    "\n",
    "2750 NS $\\\\nearrow$ 7MPa\n",
    "\n",
    "3400 Pc $\\\\nearrow$ 6MPa\n",
    "\n",
    "4200 empty/refill Ppa/b\n",
    "\n",
    "5200 begin saturation, Ppa = 1.5 MPa\n",
    "\n",
    "10000 $\\\\nearrow$ 10 Hz, adjust Ppa PID\n",
    "\n",
    "10000 $\\\\nearrow$ 10 Hz, Ppa $\\\\nearrow$ 5 MPa, Ppb $\\\\nearrow$ 3 MPa\n",
    "\n",
    "31000 open Ppa valve, start flow\n",
    "\n",
    "41050 Ppa $\\\\searrow$ 4.5 MPa, Ppb $\\\\nearrow$ 3.5 MPa, open Ppa valve\n",
    "\n",
    "52700 Ppa $\\\\searrow$ 4.25 MPa, Ppb $\\\\nearrow$ 3.75 MPa, open Ppa valve\n",
    "\n",
    "62550 NS $\\\\nearrow$ 10 MPa\n",
    "\n",
    "62800 $\\\\nearrow$ 10 Hz, Ppa $\\\\searrow$ 3 MPa, Ppb $\\\\searrow$ 1 MPa, open Ppa valve\n",
    "\n",
    "68000 Ppa $\\\\searrow$ 2.5 MPa, Ppb $\\\\nearrow$ 1.5 MPa, open Ppa valve\n",
    "\n",
    "72800 Ppa $\\\\searrow$ 2.25 MPa, Ppb $\\\\nearrow$ 1.75 MPa, open Ppa valve\n",
    "\n",
    "77100 NS $\\\\nearrow$ 20 MPa, Ppa $\\\\nearrow$ 3 MPa, Ppb $\\\\searrow$ 1 MPa, open Ppa valve\n",
    "\n",
    "89000 Ppa $\\\\searrow$ 2.5 MPa, Ppb $\\\\nearrow$ 1.5 MPa, open Ppa valve\n",
    "\n",
    "99700 Ppa $\\\\searrow$ 2.25 MPa, Ppb $\\\\nearrow$ 1.75 MPa, open Ppa valve\n",
    "\n",
    "109300 $\\\\searrow$ 1Hz. Ppa, Ppb, Pc $\\\\searrow$ 0 MPa. NS $\\\\searrow$ 1 MPa. \n",
    "\n",
    "110530 NS $\\\\searrow$ 0 MPa.\n",
    "'''];"
   ]
  },
  {
   "cell_type": "code",
   "execution_count": 9,
   "metadata": {},
   "outputs": [],
   "source": [
    "### DO NOT CHANGE THIS SECTION ###\n",
    "### LAST INPUT VARIABLE tex='yes'/'no' KEEPS/REMOVES THE 'pxxx_Runsheet.tex' FILE ###\n",
    "\n",
    "\n",
    "mr.write_runsheet(Preamble, Block_material, Load_Cells, Vessel, DCDTs, ExpInfo, notes, tex='no')"
   ]
  },
  {
   "cell_type": "code",
   "execution_count": null,
   "metadata": {},
   "outputs": [],
   "source": []
  }
 ],
 "metadata": {
  "kernelspec": {
   "display_name": "Python 3",
   "language": "python",
   "name": "python3"
  },
  "language_info": {
   "codemirror_mode": {
    "name": "ipython",
    "version": 3
   },
   "file_extension": ".py",
   "mimetype": "text/x-python",
   "name": "python",
   "nbconvert_exporter": "python",
   "pygments_lexer": "ipython3",
   "version": "3.7.3"
  }
 },
 "nbformat": 4,
 "nbformat_minor": 4
}
