{
 "cells": [
  {
   "cell_type": "code",
   "execution_count": 1,
   "id": "ab603420-bff5-430d-a23f-5c92098226a9",
   "metadata": {},
   "outputs": [],
   "source": [
    "import runsheet_display as rs"
   ]
  },
  {
   "cell_type": "code",
   "execution_count": 2,
   "id": "2e17655f-9de4-46f9-a57a-0fead58a9792",
   "metadata": {
    "tags": []
   },
   "outputs": [
    {
     "data": {
      "application/vnd.jupyter.widget-view+json": {
       "model_id": "dcd8df968e21454d853ed6de5698df6a",
       "version_major": 2,
       "version_minor": 0
      },
      "text/plain": [
       "GridBox(children=(VBox(children=(Text(value='', description='Exp. Name:', placeholder='pxxxx', style=Descripti…"
      ]
     },
     "metadata": {},
     "output_type": "display_data"
    },
    {
     "data": {
      "application/vnd.jupyter.widget-view+json": {
       "model_id": "e2759ca1ae9d496eb3b4d998224e12e6",
       "version_major": 2,
       "version_minor": 0
      },
      "text/plain": [
       "GridBox(children=(VBox(children=(Text(value='', description='Contact Area (m^2)', placeholder='m^2', style=Des…"
      ]
     },
     "metadata": {},
     "output_type": "display_data"
    },
    {
     "data": {
      "application/vnd.jupyter.widget-view+json": {
       "model_id": "574824b9934441ba859d98f3bccf9559",
       "version_major": 2,
       "version_minor": 0
      },
      "text/plain": [
       "GridBox(children=(VBox(children=(Label(value='Horizontal Load Cell'), Dropdown(description='Horiz. Load Cell:'…"
      ]
     },
     "metadata": {},
     "output_type": "display_data"
    },
    {
     "data": {
      "application/vnd.jupyter.widget-view+json": {
       "model_id": "441fb34f2b2241aabb1b1fcbcc5083fd",
       "version_major": 2,
       "version_minor": 0
      },
      "text/plain": [
       "RadioButtons(description='Use Vessel?', index=1, options=('yes', 'no'), value='no')"
      ]
     },
     "metadata": {},
     "output_type": "display_data"
    },
    {
     "data": {
      "application/vnd.jupyter.widget-view+json": {
       "model_id": "e46ba5beb22247fc832dff72b48856f5",
       "version_major": 2,
       "version_minor": 0
      },
      "text/plain": [
       "Output()"
      ]
     },
     "metadata": {},
     "output_type": "display_data"
    },
    {
     "data": {
      "application/vnd.jupyter.widget-view+json": {
       "model_id": "123e61e42bc9484995616cdae0c5e907",
       "version_major": 2,
       "version_minor": 0
      },
      "text/plain": [
       "GridBox(children=(Dropdown(description='Data Logger Used:', options=('8 channel', '16 channel'), style=Descrip…"
      ]
     },
     "metadata": {},
     "output_type": "display_data"
    },
    {
     "data": {
      "application/vnd.jupyter.widget-view+json": {
       "model_id": "c6aed7c586a844fa9ec8fd06a01071d6",
       "version_major": 2,
       "version_minor": 0
      },
      "text/plain": [
       "GridBox(children=(Textarea(value='', description='Purpose/Description', layout=Layout(flex='1 1 1%', width='au…"
      ]
     },
     "metadata": {},
     "output_type": "display_data"
    },
    {
     "data": {
      "application/vnd.jupyter.widget-view+json": {
       "model_id": "9c2e67690e9d4348b207fc8c16ba7bb5",
       "version_major": 2,
       "version_minor": 0
      },
      "text/plain": [
       "RadioButtons(description='Record PID?', index=1, options=('yes', 'no'), value='no')"
      ]
     },
     "metadata": {},
     "output_type": "display_data"
    },
    {
     "data": {
      "application/vnd.jupyter.widget-view+json": {
       "model_id": "b5c61de8af014bd7af823c59af3a997e",
       "version_major": 2,
       "version_minor": 0
      },
      "text/plain": [
       "Output()"
      ]
     },
     "metadata": {},
     "output_type": "display_data"
    },
    {
     "data": {
      "application/vnd.jupyter.widget-view+json": {
       "model_id": "1e8536055d7b4a8584389772421073c8",
       "version_major": 2,
       "version_minor": 0
      },
      "text/plain": [
       "Button(description='Make Runsheet', style=ButtonStyle())"
      ]
     },
     "metadata": {},
     "output_type": "display_data"
    },
    {
     "data": {
      "application/vnd.jupyter.widget-view+json": {
       "model_id": "134892dea7a54fa1ba2f4a4a9bdd55d0",
       "version_major": 2,
       "version_minor": 0
      },
      "text/plain": [
       "Output()"
      ]
     },
     "metadata": {},
     "output_type": "display_data"
    }
   ],
   "source": [
    "entry, outputs = rs.entry_gui()\n",
    "\n",
    "rs.print_btn(outputs)"
   ]
  },
  {
   "cell_type": "code",
   "execution_count": null,
   "id": "69716851-7904-4486-907e-b4a75922a75f",
   "metadata": {},
   "outputs": [],
   "source": []
  }
 ],
 "metadata": {
  "kernelspec": {
   "display_name": "Python 3",
   "language": "python",
   "name": "python3"
  },
  "language_info": {
   "codemirror_mode": {
    "name": "ipython",
    "version": 3
   },
   "file_extension": ".py",
   "mimetype": "text/x-python",
   "name": "python",
   "nbconvert_exporter": "python",
   "pygments_lexer": "ipython3",
   "version": "3.9.5"
  },
  "widgets": {
   "application/vnd.jupyter.widget-state+json": {
    "state": {
     "0291a3a3f8ce499698e7a77895e305cc": {
      "model_module": "@jupyter-widgets/controls",
      "model_module_version": "1.5.0",
      "model_name": "TextModel",
      "state": {
       "description": "D",
       "layout": "IPY_MODEL_3ec59e73ad5944cd9283d2e004a88d88",
       "placeholder": "",
       "style": "IPY_MODEL_152fe4249cfa451fbb39a9635313e832"
      }
     },
     "042a93897b3d42a38caf34fd77c5a122": {
      "model_module": "@jupyter-widgets/controls",
      "model_module_version": "1.5.0",
      "model_name": "LabelModel",
      "state": {
       "layout": "IPY_MODEL_6f9204a63ca14de99aea26639d2fef5d",
       "style": "IPY_MODEL_89f91322067741bca8693145880b767c"
      }
     },
     "0476172bdd134e72a34798e9f714a4e4": {
      "model_module": "@jupyter-widgets/base",
      "model_module_version": "1.2.0",
      "model_name": "LayoutModel",
      "state": {
       "flex": "1 1 1%",
       "width": "auto"
      }
     },
     "056e02d05fe84c5e99dbb89d67878aa8": {
      "model_module": "@jupyter-widgets/controls",
      "model_module_version": "1.5.0",
      "model_name": "TextModel",
      "state": {
       "description": "D",
       "layout": "IPY_MODEL_437b50e7e808432f9e111d4f8fd16f95",
       "placeholder": "",
       "style": "IPY_MODEL_5936342be5f845df92182d08a1b13d13"
      }
     },
     "05cb797060014532947907f4c78b4efd": {
      "model_module": "@jupyter-widgets/controls",
      "model_module_version": "1.5.0",
      "model_name": "LabelModel",
      "state": {
       "layout": "IPY_MODEL_eaa61ee391af4ff3b3255f9df5460c84",
       "style": "IPY_MODEL_68d48c2bfea14c7abd414f3af8708288",
       "value": "Volt. @ Load = "
      }
     },
     "067652240ac0418693a8dc72b7ef7d54": {
      "model_module": "@jupyter-widgets/base",
      "model_module_version": "1.2.0",
      "model_name": "LayoutModel",
      "state": {}
     },
     "06a47a3ac85649d09292ff8b3d180c9d": {
      "model_module": "@jupyter-widgets/controls",
      "model_module_version": "1.5.0",
      "model_name": "TextModel",
      "state": {
       "description": "Ppa Gain (V/MPa):",
       "layout": "IPY_MODEL_1feb6f7d271d407d8cb4b272c99a5692",
       "placeholder": "Ppa Gain (V/MPa)",
       "style": "IPY_MODEL_a9c69310de3e4f41a4053fc0a97b98e3"
      }
     },
     "0774cf13c3db4d1e8141b3c3411d9af9": {
      "model_module": "@jupyter-widgets/controls",
      "model_module_version": "1.5.0",
      "model_name": "LabelModel",
      "state": {
       "layout": "IPY_MODEL_8dace837d94642aab9fe3c5c963eb107",
       "style": "IPY_MODEL_5c196f61647049a7ad576d64263ab962",
       "value": "Volt. @ Load = "
      }
     },
     "07b43a50883e4f9c89f76123c6301f75": {
      "model_module": "@jupyter-widgets/controls",
      "model_module_version": "1.5.0",
      "model_name": "LabelModel",
      "state": {
       "layout": "IPY_MODEL_650bd4634f6f4789a5ca37479b3bb009",
       "style": "IPY_MODEL_5c538ed022a04e2a88d90c3ecc8309b5"
      }
     },
     "084613f77a8a4a7d837862878c82b30e": {
      "model_module": "@jupyter-widgets/controls",
      "model_module_version": "1.5.0",
      "model_name": "GridBoxModel",
      "state": {
       "children": [
        "IPY_MODEL_5cd275ef2ee34d7b8fb4a477d7b73cb5",
        "IPY_MODEL_3d36b02916ee4e6b8a1cd57aac366e75"
       ],
       "layout": "IPY_MODEL_ffa8ac28039a446a8d63f404985a709c"
      }
     },
     "084c6d827c8842c18f7d3cbcacbd62ed": {
      "model_module": "@jupyter-widgets/base",
      "model_module_version": "1.2.0",
      "model_name": "LayoutModel",
      "state": {
       "flex": "1 1 1%",
       "width": "auto"
      }
     },
     "08f97d0cfdfd42b58e5cca2fbe85d54d": {
      "model_module": "@jupyter-widgets/base",
      "model_module_version": "1.2.0",
      "model_name": "LayoutModel",
      "state": {}
     },
     "09a4bd9903954c09a862b32524499603": {
      "model_module": "@jupyter-widgets/base",
      "model_module_version": "1.2.0",
      "model_name": "LayoutModel",
      "state": {}
     },
     "09e69be63dd74149ac236afbd907ec1c": {
      "model_module": "@jupyter-widgets/controls",
      "model_module_version": "1.5.0",
      "model_name": "DescriptionStyleModel",
      "state": {
       "description_width": ""
      }
     },
     "0ad5d07a1de344b0af916ec9d29781a0": {
      "model_module": "@jupyter-widgets/base",
      "model_module_version": "1.2.0",
      "model_name": "LayoutModel",
      "state": {}
     },
     "0b800448ecde484192fa52244cc983e0": {
      "model_module": "@jupyter-widgets/controls",
      "model_module_version": "1.5.0",
      "model_name": "DescriptionStyleModel",
      "state": {
       "description_width": "initial"
      }
     },
     "0e5f42c4319647bf884a66b9d66be1ac": {
      "model_module": "@jupyter-widgets/base",
      "model_module_version": "1.2.0",
      "model_name": "LayoutModel",
      "state": {
       "align_items": "stretch",
       "border": "2px solid grey",
       "display": "flex",
       "flex_flow": "row",
       "grid_gap": "60px 60px",
       "padding": "10px",
       "width": "75%"
      }
     },
     "0f38b176e9b443f697a2b9dc5061b0b0": {
      "model_module": "@jupyter-widgets/base",
      "model_module_version": "1.2.0",
      "model_name": "LayoutModel",
      "state": {}
     },
     "0f81fb04097e4c769f1ce193a3f7ecfa": {
      "model_module": "@jupyter-widgets/base",
      "model_module_version": "1.2.0",
      "model_name": "LayoutModel",
      "state": {}
     },
     "0f92d1e2e5bc4b8b810aa4343006134b": {
      "model_module": "@jupyter-widgets/base",
      "model_module_version": "1.2.0",
      "model_name": "LayoutModel",
      "state": {}
     },
     "101777b931b24e60bf7a8e609dc389c8": {
      "model_module": "@jupyter-widgets/base",
      "model_module_version": "1.2.0",
      "model_name": "LayoutModel",
      "state": {
       "flex": "1 1 1%",
       "width": "auto"
      }
     },
     "104c635405264dd3829347d17be34bb3": {
      "model_module": "@jupyter-widgets/controls",
      "model_module_version": "1.5.0",
      "model_name": "TextModel",
      "state": {
       "description": "E-gain",
       "layout": "IPY_MODEL_67bd543c8e0e4fdd8d0394fd763029e8",
       "placeholder": "",
       "style": "IPY_MODEL_7edf71d1880244ffb3204f1718a8d0c3"
      }
     },
     "123e61e42bc9484995616cdae0c5e907": {
      "model_module": "@jupyter-widgets/controls",
      "model_module_version": "1.5.0",
      "model_name": "GridBoxModel",
      "state": {
       "children": [
        "IPY_MODEL_e8326fc664584a558901c7cb7e227500",
        "IPY_MODEL_f84377c75a8e473997faf6108e1b05e5",
        "IPY_MODEL_d084bd680b144717bb00f26b84f08fbb"
       ],
       "layout": "IPY_MODEL_69f95326334643fe95fac5ea906d5a0a"
      }
     },
     "134892dea7a54fa1ba2f4a4a9bdd55d0": {
      "model_module": "@jupyter-widgets/output",
      "model_module_version": "1.0.0",
      "model_name": "OutputModel",
      "state": {
       "layout": "IPY_MODEL_56a4b9d66b2f4dba93bd605e6d7b2a4d"
      }
     },
     "152a9efc870d4d09ac26386c55563ef7": {
      "model_module": "@jupyter-widgets/controls",
      "model_module_version": "1.5.0",
      "model_name": "ComboboxModel",
      "state": {
       "description": "Vert. DCDT:",
       "ensure_option": true,
       "layout": "IPY_MODEL_0f38b176e9b443f697a2b9dc5061b0b0",
       "options": [
        "Trans-Tek2",
        "None"
       ],
       "placeholder": "Vert. DCDT",
       "style": "IPY_MODEL_9a5e2631593644adb9bdd882d5c861dd"
      }
     },
     "152fe4249cfa451fbb39a9635313e832": {
      "model_module": "@jupyter-widgets/controls",
      "model_module_version": "1.5.0",
      "model_name": "DescriptionStyleModel",
      "state": {
       "description_width": ""
      }
     },
     "16618d51db9346fb8e532a14b7f96688": {
      "model_module": "@jupyter-widgets/base",
      "model_module_version": "1.2.0",
      "model_name": "LayoutModel",
      "state": {
       "flex": "1 1 1%",
       "width": "auto"
      }
     },
     "1671c893afd04eb9aa33e714dcfd7ff8": {
      "model_module": "@jupyter-widgets/base",
      "model_module_version": "1.2.0",
      "model_name": "LayoutModel",
      "state": {
       "flex": "1 1 1%",
       "width": "auto"
      }
     },
     "16ef63a29a9c42638b1cc29d563280d2": {
      "model_module": "@jupyter-widgets/base",
      "model_module_version": "1.2.0",
      "model_name": "LayoutModel",
      "state": {}
     },
     "17419e5df0c84d3eb5bb2931c0e8b265": {
      "model_module": "@jupyter-widgets/controls",
      "model_module_version": "1.5.0",
      "model_name": "TextModel",
      "state": {
       "description": "Target Stress(es) (MPa):",
       "layout": "IPY_MODEL_af4590cb33a846799d441a7752dfae25",
       "placeholder": "MPa",
       "style": "IPY_MODEL_65ea2c8b2dfa4a049a49a615c69cdc10"
      }
     },
     "1797645d157546c2b1fbbb524abf0b40": {
      "model_module": "@jupyter-widgets/controls",
      "model_module_version": "1.5.0",
      "model_name": "DescriptionStyleModel",
      "state": {
       "description_width": "initial"
      }
     },
     "18ce08c63e6343abae5e341e5f9ea71d": {
      "model_module": "@jupyter-widgets/controls",
      "model_module_version": "1.5.0",
      "model_name": "DescriptionStyleModel",
      "state": {
       "description_width": ""
      }
     },
     "1914b1fb1ae347af8b582f8da9a36058": {
      "model_module": "@jupyter-widgets/controls",
      "model_module_version": "1.5.0",
      "model_name": "DescriptionStyleModel",
      "state": {
       "description_width": ""
      }
     },
     "19b0b8a819294ebc9e169e993d2a1c80": {
      "model_module": "@jupyter-widgets/controls",
      "model_module_version": "1.5.0",
      "model_name": "TextModel",
      "state": {
       "description": "V. Init. Volt.:",
       "layout": "IPY_MODEL_2472319243ee44edaef312a0618dffde",
       "placeholder": "Volt",
       "style": "IPY_MODEL_ae4b850fab5d49ef93c91719f16175f5"
      }
     },
     "1e8536055d7b4a8584389772421073c8": {
      "model_module": "@jupyter-widgets/controls",
      "model_module_version": "1.5.0",
      "model_name": "ButtonModel",
      "state": {
       "description": "Make Runsheet",
       "layout": "IPY_MODEL_d568ed17997143339d987e253ade5b73",
       "style": "IPY_MODEL_e9aedcc8f49e47d887ca75792719297b"
      }
     },
     "1feb6f7d271d407d8cb4b272c99a5692": {
      "model_module": "@jupyter-widgets/base",
      "model_module_version": "1.2.0",
      "model_name": "LayoutModel",
      "state": {}
     },
     "1ff24cd8571749b8a224be9db236d013": {
      "model_module": "@jupyter-widgets/controls",
      "model_module_version": "1.5.0",
      "model_name": "LabelModel",
      "state": {
       "layout": "IPY_MODEL_bbdc78e53f084a42bd735691ab16793b",
       "style": "IPY_MODEL_51db63e0625246e8b5435dd12a6ad0fa"
      }
     },
     "20820af8fcef4c09b1ed9734cd5e7b69": {
      "model_module": "@jupyter-widgets/base",
      "model_module_version": "1.2.0",
      "model_name": "LayoutModel",
      "state": {}
     },
     "20ff3cfcce7e42e4b1ece44c41a265e7": {
      "model_module": "@jupyter-widgets/controls",
      "model_module_version": "1.5.0",
      "model_name": "LabelModel",
      "state": {
       "layout": "IPY_MODEL_101777b931b24e60bf7a8e609dc389c8",
       "style": "IPY_MODEL_ecc0a5c9bdda45d490c31f72a57e9c79"
      }
     },
     "2152e89bec17492a9ae3209804f66de8": {
      "model_module": "@jupyter-widgets/controls",
      "model_module_version": "1.5.0",
      "model_name": "VBoxModel",
      "state": {
       "children": [
        "IPY_MODEL_429c7c3cf2f94e3dbe2fec08e0fe4544",
        "IPY_MODEL_b1d9aa9204e84cfe9dbbc5359bd0dec4",
        "IPY_MODEL_e2c8e32a565749839548165250cbf644",
        "IPY_MODEL_e219e507af274d7184ffa8475411118c",
        "IPY_MODEL_48817e6b7ddd41f695a54026b2a51c2f",
        "IPY_MODEL_2f3da7a8e6fc447686aa01d8ac909edd"
       ],
       "layout": "IPY_MODEL_8f19c367cc1646d79ee6b62a47874373"
      }
     },
     "22379feb29424fd7b11144b4e7c2d7bd": {
      "model_module": "@jupyter-widgets/base",
      "model_module_version": "1.2.0",
      "model_name": "LayoutModel",
      "state": {}
     },
     "225997504fab402e87f9d995f66582d6": {
      "model_module": "@jupyter-widgets/base",
      "model_module_version": "1.2.0",
      "model_name": "LayoutModel",
      "state": {}
     },
     "227e446d7292400b9ac43a10a82202d7": {
      "model_module": "@jupyter-widgets/base",
      "model_module_version": "1.2.0",
      "model_name": "LayoutModel",
      "state": {}
     },
     "240b6c3849c04680bdd7c709534d408e": {
      "model_module": "@jupyter-widgets/controls",
      "model_module_version": "1.5.0",
      "model_name": "DescriptionStyleModel",
      "state": {
       "description_width": "initial"
      }
     },
     "24287a6377164538a2e203a1f13bdeff": {
      "model_module": "@jupyter-widgets/controls",
      "model_module_version": "1.5.0",
      "model_name": "DescriptionStyleModel",
      "state": {
       "description_width": "initial"
      }
     },
     "2472319243ee44edaef312a0618dffde": {
      "model_module": "@jupyter-widgets/base",
      "model_module_version": "1.2.0",
      "model_name": "LayoutModel",
      "state": {}
     },
     "2512867edcfe4701be4278d75d598e3f": {
      "model_module": "@jupyter-widgets/base",
      "model_module_version": "1.2.0",
      "model_name": "LayoutModel",
      "state": {}
     },
     "251b76dd0cd64adfb39ec3d301808caf": {
      "model_module": "@jupyter-widgets/base",
      "model_module_version": "1.2.0",
      "model_name": "LayoutModel",
      "state": {
       "align_items": "stretch",
       "border": "2px solid grey",
       "display": "flex",
       "flex_flow": "column",
       "padding": "10px",
       "width": "75%"
      }
     },
     "262e910331984c3785483f4381ce245f": {
      "model_module": "@jupyter-widgets/controls",
      "model_module_version": "1.5.0",
      "model_name": "VBoxModel",
      "state": {
       "children": [
        "IPY_MODEL_20ff3cfcce7e42e4b1ece44c41a265e7",
        "IPY_MODEL_c69d9f8075bf4fe58ea927746ee8bde2",
        "IPY_MODEL_e51c6f977c5d4264bbcd2d1e14f3e14f",
        "IPY_MODEL_a6218c04f3514a1fb2adb1f346960c09"
       ],
       "layout": "IPY_MODEL_7ad5a7142246403b8da1b10a1e8c3e32"
      }
     },
     "263a2c1f0d244d6eb883a3a0a882aec7": {
      "model_module": "@jupyter-widgets/base",
      "model_module_version": "1.2.0",
      "model_name": "LayoutModel",
      "state": {
       "align_items": "stretch",
       "border": "2px solid grey",
       "display": "flex",
       "flex_flow": "row",
       "padding": "10px",
       "width": "75%"
      }
     },
     "265e8e83a26a49a58603a49e4e2d6ad8": {
      "model_module": "@jupyter-widgets/base",
      "model_module_version": "1.2.0",
      "model_name": "LayoutModel",
      "state": {
       "flex": "1 1 1%",
       "width": "auto"
      }
     },
     "283cc476a5d54d2697fd59d27f010552": {
      "model_module": "@jupyter-widgets/controls",
      "model_module_version": "1.5.0",
      "model_name": "VBoxModel",
      "state": {
       "children": [
        "IPY_MODEL_799e70d7f35248afb6bcdc2e3e9a2343",
        "IPY_MODEL_c3c9f960cad1462b817bba749bcb6172",
        "IPY_MODEL_903ac3bfccda4c25b26ae3113166e7f6",
        "IPY_MODEL_4dad468900304e288fabcc750e9baa7b",
        "IPY_MODEL_351b2e5d394648c1a4ab8f59dbc9b95d",
        "IPY_MODEL_0774cf13c3db4d1e8141b3c3411d9af9"
       ],
       "layout": "IPY_MODEL_cade6d19e82d43ce8158704286d22241"
      }
     },
     "2872b1d3295348a1b93a343b4348a5d5": {
      "model_module": "@jupyter-widgets/base",
      "model_module_version": "1.2.0",
      "model_name": "LayoutModel",
      "state": {}
     },
     "2912a78995214a84b8154e1ba3a34825": {
      "model_module": "@jupyter-widgets/controls",
      "model_module_version": "1.5.0",
      "model_name": "LabelModel",
      "state": {
       "layout": "IPY_MODEL_f48ef9e643b34b0dbe2278f235979ccc",
       "style": "IPY_MODEL_7a383b634e354e02a20e1617a161426d"
      }
     },
     "2967ae966a08456486e24d690ed8c1c0": {
      "model_module": "@jupyter-widgets/controls",
      "model_module_version": "1.5.0",
      "model_name": "VBoxModel",
      "state": {
       "children": [
        "IPY_MODEL_abbdfe6dae34413d8a4d0c4c19527dbd",
        "IPY_MODEL_2adaa3fd57104eeea8938a33c98e8d90"
       ],
       "layout": "IPY_MODEL_d966ba8c92f746b88e9414534ef40dea"
      }
     },
     "29790bdb7f8548a4b6ed76f998cd1aa2": {
      "model_module": "@jupyter-widgets/base",
      "model_module_version": "1.2.0",
      "model_name": "LayoutModel",
      "state": {
       "align_items": "stretch",
       "border": "2px solid grey",
       "display": "flex",
       "flex_flow": "row",
       "grid_gap": "60px 60px",
       "padding": "10px",
       "width": "75%"
      }
     },
     "29a00885dea046acba5e0b71edae0438": {
      "model_module": "@jupyter-widgets/controls",
      "model_module_version": "1.5.0",
      "model_name": "DescriptionStyleModel",
      "state": {
       "description_width": "initial"
      }
     },
     "2a2881b950864e2092fb505f79a80328": {
      "model_module": "@jupyter-widgets/controls",
      "model_module_version": "1.5.0",
      "model_name": "TextareaModel",
      "state": {
       "description": "Experiment Notes",
       "layout": "IPY_MODEL_d781d17f1a17457cb0bb7643f8da3e93",
       "placeholder": "Experiment Notes",
       "style": "IPY_MODEL_3132e1e9e53d48e4a1baf7b0d753235c"
      }
     },
     "2ac1c0e6bf5e40f2b983de46fffee205": {
      "model_module": "@jupyter-widgets/controls",
      "model_module_version": "1.5.0",
      "model_name": "DescriptionStyleModel",
      "state": {
       "description_width": ""
      }
     },
     "2adaa3fd57104eeea8938a33c98e8d90": {
      "model_module": "@jupyter-widgets/controls",
      "model_module_version": "1.5.0",
      "model_name": "TextModel",
      "state": {
       "description": "Particle Size, Distribution",
       "layout": "IPY_MODEL_2872b1d3295348a1b93a343b4348a5d5",
       "placeholder": "Size Distribution",
       "style": "IPY_MODEL_e8e3fe804679454a866a5eaa2e037e10"
      }
     },
     "2bcb519c7f484b48886782423c5415dd": {
      "model_module": "@jupyter-widgets/controls",
      "model_module_version": "1.5.0",
      "model_name": "VBoxModel",
      "state": {
       "children": [
        "IPY_MODEL_85aed7181c04481c95c044737d19e866",
        "IPY_MODEL_c68386c411b44e6690e1859f0ff00f0f",
        "IPY_MODEL_5db61dba55f24599bee01e4563dac778"
       ],
       "layout": "IPY_MODEL_265e8e83a26a49a58603a49e4e2d6ad8"
      }
     },
     "2cdf2f7357cd40a2b2873502e7aa1456": {
      "model_module": "@jupyter-widgets/base",
      "model_module_version": "1.2.0",
      "model_name": "LayoutModel",
      "state": {}
     },
     "2e024f501449416591f5b46849186a98": {
      "model_module": "@jupyter-widgets/base",
      "model_module_version": "1.2.0",
      "model_name": "LayoutModel",
      "state": {
       "flex": "1 1 1%",
       "width": "auto"
      }
     },
     "2f3da7a8e6fc447686aa01d8ac909edd": {
      "model_module": "@jupyter-widgets/controls",
      "model_module_version": "1.5.0",
      "model_name": "LabelModel",
      "state": {
       "layout": "IPY_MODEL_0ad5d07a1de344b0af916ec9d29781a0",
       "style": "IPY_MODEL_c27b059315294e54b2f6b5954c4f19e1",
       "value": "Volt. @ Load = "
      }
     },
     "312df1428245422a81f8dec7729f8114": {
      "model_module": "@jupyter-widgets/base",
      "model_module_version": "1.2.0",
      "model_name": "LayoutModel",
      "state": {
       "flex": "1 1 1%",
       "width": "auto"
      }
     },
     "3132e1e9e53d48e4a1baf7b0d753235c": {
      "model_module": "@jupyter-widgets/controls",
      "model_module_version": "1.5.0",
      "model_name": "DescriptionStyleModel",
      "state": {
       "description_width": "initial"
      }
     },
     "339e54bfe4cf4101bc11d6617fcecd32": {
      "model_module": "@jupyter-widgets/controls",
      "model_module_version": "1.5.0",
      "model_name": "DescriptionStyleModel",
      "state": {
       "description_width": ""
      }
     },
     "34e71349c3fb42528a42c1a665d7f763": {
      "model_module": "@jupyter-widgets/controls",
      "model_module_version": "1.5.0",
      "model_name": "DescriptionStyleModel",
      "state": {
       "description_width": ""
      }
     },
     "351b2e5d394648c1a4ab8f59dbc9b95d": {
      "model_module": "@jupyter-widgets/controls",
      "model_module_version": "1.5.0",
      "model_name": "TextModel",
      "state": {
       "description": "H. Init. Volt.:",
       "layout": "IPY_MODEL_98c5925321d144b8afe3cb8b8532be3c",
       "placeholder": "Volt",
       "style": "IPY_MODEL_3bb2051702ef4a20802d6cf5019fb3b9"
      }
     },
     "360f55051ec24dbf9af34041773f6514": {
      "model_module": "@jupyter-widgets/controls",
      "model_module_version": "1.5.0",
      "model_name": "TextModel",
      "state": {
       "description": "Relative Humidity",
       "layout": "IPY_MODEL_53f91ec3e2904a3ba6e4b372712cdf18",
       "placeholder": "Rel. Humid. (%)",
       "style": "IPY_MODEL_6284ab6a50c44471916f69a50a2ed61b"
      }
     },
     "376b114d5b864db0a4ca620437370766": {
      "model_module": "@jupyter-widgets/controls",
      "model_module_version": "1.5.0",
      "model_name": "TextModel",
      "state": {
       "description": "Horiz. DCDT calib.:",
       "layout": "IPY_MODEL_5cbc7677eb2943fb988e90380c6ff56e",
       "placeholder": "mm/V",
       "style": "IPY_MODEL_240b6c3849c04680bdd7c709534d408e"
      }
     },
     "39ae30e337b141fbaacf5a9211461ce9": {
      "model_module": "@jupyter-widgets/controls",
      "model_module_version": "1.5.0",
      "model_name": "LabelModel",
      "state": {
       "layout": "IPY_MODEL_0f92d1e2e5bc4b8b810aa4343006134b",
       "style": "IPY_MODEL_a16771b702ec475a96b253c16073e330",
       "value": "Confining Pressure"
      }
     },
     "3b50611fea544055973df5809693282b": {
      "model_module": "@jupyter-widgets/controls",
      "model_module_version": "1.5.0",
      "model_name": "DescriptionStyleModel",
      "state": {
       "description_width": ""
      }
     },
     "3bb2051702ef4a20802d6cf5019fb3b9": {
      "model_module": "@jupyter-widgets/controls",
      "model_module_version": "1.5.0",
      "model_name": "DescriptionStyleModel",
      "state": {
       "description_width": "initial"
      }
     },
     "3cc1434f34f342008673f255f2066c59": {
      "model_module": "@jupyter-widgets/controls",
      "model_module_version": "1.5.0",
      "model_name": "TextModel",
      "state": {
       "description": "I",
       "layout": "IPY_MODEL_77f7536faea94d519465881dce37ec2b",
       "placeholder": "",
       "style": "IPY_MODEL_339e54bfe4cf4101bc11d6617fcecd32"
      }
     },
     "3cd2c90bdda44cad97a3dfa059abc099": {
      "model_module": "@jupyter-widgets/base",
      "model_module_version": "1.2.0",
      "model_name": "LayoutModel",
      "state": {}
     },
     "3d36b02916ee4e6b8a1cd57aac366e75": {
      "model_module": "@jupyter-widgets/controls",
      "model_module_version": "1.5.0",
      "model_name": "HBoxModel",
      "state": {
       "children": [
        "IPY_MODEL_71725c67b1e0467eb4c585f49c2d9e0f",
        "IPY_MODEL_8eacadbee0344b3ab7e11709906f65a5"
       ],
       "layout": "IPY_MODEL_227e446d7292400b9ac43a10a82202d7"
      }
     },
     "3ec59e73ad5944cd9283d2e004a88d88": {
      "model_module": "@jupyter-widgets/base",
      "model_module_version": "1.2.0",
      "model_name": "LayoutModel",
      "state": {
       "flex": "1 1 1%",
       "width": "auto"
      }
     },
     "3ef65ae7ae6e4a0aa6092d0ae4ee4a81": {
      "model_module": "@jupyter-widgets/base",
      "model_module_version": "1.2.0",
      "model_name": "LayoutModel",
      "state": {}
     },
     "3f1bf0a7a9d84b549336a73dcb3d5bca": {
      "model_module": "@jupyter-widgets/controls",
      "model_module_version": "1.5.0",
      "model_name": "DescriptionStyleModel",
      "state": {
       "description_width": ""
      }
     },
     "40940d294424465da701715d0b388d4a": {
      "model_module": "@jupyter-widgets/controls",
      "model_module_version": "1.5.0",
      "model_name": "DescriptionStyleModel",
      "state": {
       "description_width": "initial"
      }
     },
     "429c7c3cf2f94e3dbe2fec08e0fe4544": {
      "model_module": "@jupyter-widgets/controls",
      "model_module_version": "1.5.0",
      "model_name": "LabelModel",
      "state": {
       "layout": "IPY_MODEL_601ac7a510634c7b8d4a6b4bcbfe0ec0",
       "style": "IPY_MODEL_e8b67603fbd84cd8935669b2f47b4e7c",
       "value": "Vertical Load Cell"
      }
     },
     "42cc0b9cc0f343eba89fa0a164e6c879": {
      "model_module": "@jupyter-widgets/controls",
      "model_module_version": "1.5.0",
      "model_name": "DescriptionStyleModel",
      "state": {
       "description_width": "initial"
      }
     },
     "437b50e7e808432f9e111d4f8fd16f95": {
      "model_module": "@jupyter-widgets/base",
      "model_module_version": "1.2.0",
      "model_name": "LayoutModel",
      "state": {
       "flex": "1 1 1%",
       "width": "auto"
      }
     },
     "4381029e82864f1dafd3c7b4654d9e1f": {
      "model_module": "@jupyter-widgets/controls",
      "model_module_version": "1.5.0",
      "model_name": "DescriptionStyleModel",
      "state": {
       "description_width": "initial"
      }
     },
     "441fb34f2b2241aabb1b1fcbcc5083fd": {
      "model_module": "@jupyter-widgets/controls",
      "model_module_version": "1.5.0",
      "model_name": "RadioButtonsModel",
      "state": {
       "_options_labels": [
        "yes",
        "no"
       ],
       "description": "Use Vessel?",
       "index": 1,
       "layout": "IPY_MODEL_09a4bd9903954c09a862b32524499603",
       "style": "IPY_MODEL_09e69be63dd74149ac236afbd907ec1c"
      }
     },
     "48817e6b7ddd41f695a54026b2a51c2f": {
      "model_module": "@jupyter-widgets/controls",
      "model_module_version": "1.5.0",
      "model_name": "TextModel",
      "state": {
       "description": "V. Init. Volt.:",
       "layout": "IPY_MODEL_bfb19e9517884af4a6356522771240ef",
       "placeholder": "Volt",
       "style": "IPY_MODEL_fd9ebe96e46745b4b1ac3146f4ca9120"
      }
     },
     "48d0c2f2f90543de8a670fdfb67347d0": {
      "model_module": "@jupyter-widgets/base",
      "model_module_version": "1.2.0",
      "model_name": "LayoutModel",
      "state": {}
     },
     "49864bd9669c4b388ab635016e977d57": {
      "model_module": "@jupyter-widgets/controls",
      "model_module_version": "1.5.0",
      "model_name": "DescriptionStyleModel",
      "state": {
       "description_width": "initial"
      }
     },
     "4a2d9811e4044d21aefc6359aaada760": {
      "model_module": "@jupyter-widgets/base",
      "model_module_version": "1.2.0",
      "model_name": "LayoutModel",
      "state": {}
     },
     "4c93658660584c149c3e1ce05848cec9": {
      "model_module": "@jupyter-widgets/controls",
      "model_module_version": "1.5.0",
      "model_name": "DescriptionStyleModel",
      "state": {
       "description_width": "initial"
      }
     },
     "4dad468900304e288fabcc750e9baa7b": {
      "model_module": "@jupyter-widgets/controls",
      "model_module_version": "1.5.0",
      "model_name": "TextModel",
      "state": {
       "description": "Target Stress(es) (MPa):",
       "layout": "IPY_MODEL_67a8182d6624408886ed0c05e1d383db",
       "placeholder": "MPa",
       "style": "IPY_MODEL_40940d294424465da701715d0b388d4a"
      }
     },
     "4e0564a941674a448e0fc996807db34a": {
      "model_module": "@jupyter-widgets/base",
      "model_module_version": "1.2.0",
      "model_name": "LayoutModel",
      "state": {}
     },
     "4f9c71d94e014888b969eb2fecd4c3f2": {
      "model_module": "@jupyter-widgets/controls",
      "model_module_version": "1.5.0",
      "model_name": "TextModel",
      "state": {
       "description": "Under Load",
       "layout": "IPY_MODEL_c08b254d9c6c4770a3e547742914da3b",
       "placeholder": "mm",
       "style": "IPY_MODEL_ccd32d7506df4971a2e503a301eb2a36"
      }
     },
     "5102a69308054307a74ceb839e975d10": {
      "model_module": "@jupyter-widgets/controls",
      "model_module_version": "1.5.0",
      "model_name": "DescriptionStyleModel",
      "state": {
       "description_width": ""
      }
     },
     "51db63e0625246e8b5435dd12a6ad0fa": {
      "model_module": "@jupyter-widgets/controls",
      "model_module_version": "1.5.0",
      "model_name": "DescriptionStyleModel",
      "state": {
       "description_width": ""
      }
     },
     "53f91ec3e2904a3ba6e4b372712cdf18": {
      "model_module": "@jupyter-widgets/base",
      "model_module_version": "1.2.0",
      "model_name": "LayoutModel",
      "state": {
       "flex": "1 1 1%",
       "width": "auto"
      }
     },
     "5585f183cc5440b7a4fc9bdf4de42625": {
      "model_module": "@jupyter-widgets/controls",
      "model_module_version": "1.5.0",
      "model_name": "DescriptionStyleModel",
      "state": {
       "description_width": ""
      }
     },
     "56a4b9d66b2f4dba93bd605e6d7b2a4d": {
      "model_module": "@jupyter-widgets/base",
      "model_module_version": "1.2.0",
      "model_name": "LayoutModel",
      "state": {}
     },
     "574824b9934441ba859d98f3bccf9559": {
      "model_module": "@jupyter-widgets/controls",
      "model_module_version": "1.5.0",
      "model_name": "GridBoxModel",
      "state": {
       "children": [
        "IPY_MODEL_283cc476a5d54d2697fd59d27f010552",
        "IPY_MODEL_2152e89bec17492a9ae3209804f66de8"
       ],
       "layout": "IPY_MODEL_263a2c1f0d244d6eb883a3a0a882aec7"
      }
     },
     "58a3a9bffcb148c2b6d7bdfa0b71325f": {
      "model_module": "@jupyter-widgets/controls",
      "model_module_version": "1.5.0",
      "model_name": "DescriptionStyleModel",
      "state": {
       "description_width": "initial"
      }
     },
     "5936342be5f845df92182d08a1b13d13": {
      "model_module": "@jupyter-widgets/controls",
      "model_module_version": "1.5.0",
      "model_name": "DescriptionStyleModel",
      "state": {
       "description_width": ""
      }
     },
     "5afe41c495844364b36653567f50ce07": {
      "model_module": "@jupyter-widgets/controls",
      "model_module_version": "1.5.0",
      "model_name": "DescriptionStyleModel",
      "state": {
       "description_width": ""
      }
     },
     "5c196f61647049a7ad576d64263ab962": {
      "model_module": "@jupyter-widgets/controls",
      "model_module_version": "1.5.0",
      "model_name": "DescriptionStyleModel",
      "state": {
       "description_width": ""
      }
     },
     "5c538ed022a04e2a88d90c3ecc8309b5": {
      "model_module": "@jupyter-widgets/controls",
      "model_module_version": "1.5.0",
      "model_name": "DescriptionStyleModel",
      "state": {
       "description_width": ""
      }
     },
     "5cadb0dbff054ba6ba5a8c6a51a906c7": {
      "model_module": "@jupyter-widgets/controls",
      "model_module_version": "1.5.0",
      "model_name": "DescriptionStyleModel",
      "state": {
       "description_width": ""
      }
     },
     "5cbc7677eb2943fb988e90380c6ff56e": {
      "model_module": "@jupyter-widgets/base",
      "model_module_version": "1.2.0",
      "model_name": "LayoutModel",
      "state": {}
     },
     "5cd275ef2ee34d7b8fb4a477d7b73cb5": {
      "model_module": "@jupyter-widgets/controls",
      "model_module_version": "1.5.0",
      "model_name": "HBoxModel",
      "state": {
       "children": [
        "IPY_MODEL_fb815d8cb56e487f928d017f5c9329ba",
        "IPY_MODEL_262e910331984c3785483f4381ce245f"
       ],
       "layout": "IPY_MODEL_6db9d8cc3420447ea56796b7c48c15c1"
      }
     },
     "5db61dba55f24599bee01e4563dac778": {
      "model_module": "@jupyter-widgets/controls",
      "model_module_version": "1.5.0",
      "model_name": "TextModel",
      "state": {
       "description": "Layer Thickness",
       "layout": "IPY_MODEL_e77067d216d84a729a4ade8e9182c6db",
       "placeholder": "mm",
       "style": "IPY_MODEL_b9b77abfbb46409dbdb5bc52bbc9efcc"
      }
     },
     "5f20e6e026da4de2a6eec1e731e1ea81": {
      "model_module": "@jupyter-widgets/controls",
      "model_module_version": "1.5.0",
      "model_name": "DescriptionStyleModel",
      "state": {
       "description_width": "initial"
      }
     },
     "601ac7a510634c7b8d4a6b4bcbfe0ec0": {
      "model_module": "@jupyter-widgets/base",
      "model_module_version": "1.2.0",
      "model_name": "LayoutModel",
      "state": {}
     },
     "6284ab6a50c44471916f69a50a2ed61b": {
      "model_module": "@jupyter-widgets/controls",
      "model_module_version": "1.5.0",
      "model_name": "DescriptionStyleModel",
      "state": {
       "description_width": "initial"
      }
     },
     "62dc8ebc7a5a4cc3867198b5f1cd87ee": {
      "model_module": "@jupyter-widgets/base",
      "model_module_version": "1.2.0",
      "model_name": "LayoutModel",
      "state": {}
     },
     "63031edc4c5947beabbda18761fe789c": {
      "model_module": "@jupyter-widgets/base",
      "model_module_version": "1.2.0",
      "model_name": "LayoutModel",
      "state": {}
     },
     "64263851a3a149d9983e24840d02b9b1": {
      "model_module": "@jupyter-widgets/controls",
      "model_module_version": "1.5.0",
      "model_name": "TextModel",
      "state": {
       "description": "PpA Press. (MPa)",
       "layout": "IPY_MODEL_22379feb29424fd7b11144b4e7c2d7bd",
       "placeholder": "MPa",
       "style": "IPY_MODEL_7c80d55c2476480db06ff2d77a039d66"
      }
     },
     "644c362fcbbc479a9a0fd0f748315e69": {
      "model_module": "@jupyter-widgets/base",
      "model_module_version": "1.2.0",
      "model_name": "LayoutModel",
      "state": {}
     },
     "647e5226fdbb4095961debbd40c62390": {
      "model_module": "@jupyter-widgets/controls",
      "model_module_version": "1.5.0",
      "model_name": "TextModel",
      "state": {
       "description": "Operator Name(s):",
       "layout": "IPY_MODEL_9c588d189052473c8a12ea93dc4a426e",
       "placeholder": "Name(s)",
       "style": "IPY_MODEL_42cc0b9cc0f343eba89fa0a164e6c879"
      }
     },
     "650bd4634f6f4789a5ca37479b3bb009": {
      "model_module": "@jupyter-widgets/base",
      "model_module_version": "1.2.0",
      "model_name": "LayoutModel",
      "state": {}
     },
     "65ea2c8b2dfa4a049a49a615c69cdc10": {
      "model_module": "@jupyter-widgets/controls",
      "model_module_version": "1.5.0",
      "model_name": "DescriptionStyleModel",
      "state": {
       "description_width": "initial"
      }
     },
     "66271c2be978432c93b07396279542af": {
      "model_module": "@jupyter-widgets/controls",
      "model_module_version": "1.5.0",
      "model_name": "DescriptionStyleModel",
      "state": {
       "description_width": "initial"
      }
     },
     "6695aa895bfc4f7393c6713bdc965a62": {
      "model_module": "@jupyter-widgets/controls",
      "model_module_version": "1.5.0",
      "model_name": "TextModel",
      "state": {
       "description": "Vert. DCDT calib.:",
       "layout": "IPY_MODEL_71626b89b2ad4ddf9937762ee69254fa",
       "placeholder": "mm/V",
       "style": "IPY_MODEL_e279d3604dc4429f84d549ad15ce8b4e"
      }
     },
     "67a8182d6624408886ed0c05e1d383db": {
      "model_module": "@jupyter-widgets/base",
      "model_module_version": "1.2.0",
      "model_name": "LayoutModel",
      "state": {}
     },
     "67bd543c8e0e4fdd8d0394fd763029e8": {
      "model_module": "@jupyter-widgets/base",
      "model_module_version": "1.2.0",
      "model_name": "LayoutModel",
      "state": {
       "flex": "1 1 1%",
       "width": "auto"
      }
     },
     "683b3c387295455e80470aeb25fe429b": {
      "model_module": "@jupyter-widgets/controls",
      "model_module_version": "1.5.0",
      "model_name": "TextModel",
      "state": {
       "description": "Temperture",
       "layout": "IPY_MODEL_0476172bdd134e72a34798e9f714a4e4",
       "placeholder": "Temperature (C)",
       "style": "IPY_MODEL_69fe1c98fd9045f98a32102dd0695417"
      }
     },
     "68b5685f4fab475a8121accb81374db6": {
      "model_module": "@jupyter-widgets/controls",
      "model_module_version": "1.5.0",
      "model_name": "DescriptionStyleModel",
      "state": {
       "description_width": "initial"
      }
     },
     "68d48c2bfea14c7abd414f3af8708288": {
      "model_module": "@jupyter-widgets/controls",
      "model_module_version": "1.5.0",
      "model_name": "DescriptionStyleModel",
      "state": {
       "description_width": ""
      }
     },
     "695213214b5b4b7d9f155157f7ccadfe": {
      "model_module": "@jupyter-widgets/controls",
      "model_module_version": "1.5.0",
      "model_name": "VBoxModel",
      "state": {
       "children": [
        "IPY_MODEL_39ae30e337b141fbaacf5a9211461ce9",
        "IPY_MODEL_fbbf906880e74f1398b1b5894b96dadf",
        "IPY_MODEL_17419e5df0c84d3eb5bb2931c0e8b265",
        "IPY_MODEL_19b0b8a819294ebc9e169e993d2a1c80",
        "IPY_MODEL_fb53aec67ae041a5a438a775f3201520"
       ],
       "layout": "IPY_MODEL_2512867edcfe4701be4278d75d598e3f"
      }
     },
     "69f95326334643fe95fac5ea906d5a0a": {
      "model_module": "@jupyter-widgets/base",
      "model_module_version": "1.2.0",
      "model_name": "LayoutModel",
      "state": {
       "border": "2px solid grey",
       "display": "flex",
       "flex_flow": "row",
       "grid_gap": "5px 100px",
       "padding": "10px",
       "width": "75%"
      }
     },
     "69fe1c98fd9045f98a32102dd0695417": {
      "model_module": "@jupyter-widgets/controls",
      "model_module_version": "1.5.0",
      "model_name": "DescriptionStyleModel",
      "state": {
       "description_width": "initial"
      }
     },
     "6db9d8cc3420447ea56796b7c48c15c1": {
      "model_module": "@jupyter-widgets/base",
      "model_module_version": "1.2.0",
      "model_name": "LayoutModel",
      "state": {}
     },
     "6e91bf5e02484a63aaa446f50662edd5": {
      "model_module": "@jupyter-widgets/base",
      "model_module_version": "1.2.0",
      "model_name": "LayoutModel",
      "state": {}
     },
     "6f4ede198a1546d39a6d6726be01779b": {
      "model_module": "@jupyter-widgets/base",
      "model_module_version": "1.2.0",
      "model_name": "LayoutModel",
      "state": {}
     },
     "6f603f8f01a947e083dbfea93a923991": {
      "model_module": "@jupyter-widgets/base",
      "model_module_version": "1.2.0",
      "model_name": "LayoutModel",
      "state": {}
     },
     "6f9204a63ca14de99aea26639d2fef5d": {
      "model_module": "@jupyter-widgets/base",
      "model_module_version": "1.2.0",
      "model_name": "LayoutModel",
      "state": {}
     },
     "70990c7aa02746a6bcdf743814bfc4b4": {
      "model_module": "@jupyter-widgets/controls",
      "model_module_version": "1.5.0",
      "model_name": "GridBoxModel",
      "state": {
       "children": [
        "IPY_MODEL_5cd275ef2ee34d7b8fb4a477d7b73cb5",
        "IPY_MODEL_3d36b02916ee4e6b8a1cd57aac366e75"
       ],
       "layout": "IPY_MODEL_ffa8ac28039a446a8d63f404985a709c"
      }
     },
     "7115f0f46b6d470f98249e634eaadbfa": {
      "model_module": "@jupyter-widgets/controls",
      "model_module_version": "1.5.0",
      "model_name": "LabelModel",
      "state": {
       "layout": "IPY_MODEL_77d4850558e040e29a71e411a76c0de0",
       "style": "IPY_MODEL_18ce08c63e6343abae5e341e5f9ea71d"
      }
     },
     "714dd2c2b2fc4c999ad80de4772b5ad5": {
      "model_module": "@jupyter-widgets/controls",
      "model_module_version": "1.5.0",
      "model_name": "VBoxModel",
      "state": {
       "children": [
        "IPY_MODEL_39ae30e337b141fbaacf5a9211461ce9",
        "IPY_MODEL_06a47a3ac85649d09292ff8b3d180c9d",
        "IPY_MODEL_64263851a3a149d9983e24840d02b9b1",
        "IPY_MODEL_a9307c4c6221435ebed688e292b62f51",
        "IPY_MODEL_05cb797060014532947907f4c78b4efd"
       ],
       "layout": "IPY_MODEL_63031edc4c5947beabbda18761fe789c"
      }
     },
     "71626b89b2ad4ddf9937762ee69254fa": {
      "model_module": "@jupyter-widgets/base",
      "model_module_version": "1.2.0",
      "model_name": "LayoutModel",
      "state": {}
     },
     "71725c67b1e0467eb4c585f49c2d9e0f": {
      "model_module": "@jupyter-widgets/controls",
      "model_module_version": "1.5.0",
      "model_name": "VBoxModel",
      "state": {
       "children": [
        "IPY_MODEL_92d3c0651a69409eb91c28dd815fe4c7",
        "IPY_MODEL_fcab1432b7124b62aad021a4a5fb69b4",
        "IPY_MODEL_3cc1434f34f342008673f255f2066c59",
        "IPY_MODEL_0291a3a3f8ce499698e7a77895e305cc"
       ],
       "layout": "IPY_MODEL_3ef65ae7ae6e4a0aa6092d0ae4ee4a81"
      }
     },
     "73a8f95b8bd847fa90fe3682ab4494d9": {
      "model_module": "@jupyter-widgets/base",
      "model_module_version": "1.2.0",
      "model_name": "LayoutModel",
      "state": {}
     },
     "746ed93a90f447d78735e5ae7754cc7a": {
      "model_module": "@jupyter-widgets/controls",
      "model_module_version": "1.5.0",
      "model_name": "DescriptionStyleModel",
      "state": {
       "description_width": "initial"
      }
     },
     "749bc6877f984c4c99720214d7211d57": {
      "model_module": "@jupyter-widgets/controls",
      "model_module_version": "1.5.0",
      "model_name": "DescriptionStyleModel",
      "state": {
       "description_width": ""
      }
     },
     "7670557dc5544c41a73cccf6119574cf": {
      "model_module": "@jupyter-widgets/controls",
      "model_module_version": "1.5.0",
      "model_name": "LabelModel",
      "state": {
       "layout": "IPY_MODEL_4e0564a941674a448e0fc996807db34a",
       "style": "IPY_MODEL_3f1bf0a7a9d84b549336a73dcb3d5bca",
       "value": "Volt. @ Load = "
      }
     },
     "77d4850558e040e29a71e411a76c0de0": {
      "model_module": "@jupyter-widgets/base",
      "model_module_version": "1.2.0",
      "model_name": "LayoutModel",
      "state": {}
     },
     "77f7536faea94d519465881dce37ec2b": {
      "model_module": "@jupyter-widgets/base",
      "model_module_version": "1.2.0",
      "model_name": "LayoutModel",
      "state": {
       "flex": "1 1 1%",
       "width": "auto"
      }
     },
     "78615c06cae04dc289889cf00e0bdd0b": {
      "model_module": "@jupyter-widgets/base",
      "model_module_version": "1.2.0",
      "model_name": "LayoutModel",
      "state": {
       "flex": "1 1 1%",
       "width": "auto"
      }
     },
     "78ce7377afd44133b56b9fb5a9fc0141": {
      "model_module": "@jupyter-widgets/controls",
      "model_module_version": "1.5.0",
      "model_name": "TextareaModel",
      "state": {
       "description": "Purpose/Description",
       "layout": "IPY_MODEL_2e024f501449416591f5b46849186a98",
       "placeholder": "Purpose/Description",
       "style": "IPY_MODEL_4381029e82864f1dafd3c7b4654d9e1f"
      }
     },
     "799e70d7f35248afb6bcdc2e3e9a2343": {
      "model_module": "@jupyter-widgets/controls",
      "model_module_version": "1.5.0",
      "model_name": "LabelModel",
      "state": {
       "layout": "IPY_MODEL_067652240ac0418693a8dc72b7ef7d54",
       "style": "IPY_MODEL_749bc6877f984c4c99720214d7211d57",
       "value": "Horizontal Load Cell"
      }
     },
     "79ecdefc1db24b379cea3b3ac3899c1a": {
      "model_module": "@jupyter-widgets/controls",
      "model_module_version": "1.5.0",
      "model_name": "DescriptionStyleModel",
      "state": {
       "description_width": ""
      }
     },
     "7a383b634e354e02a20e1617a161426d": {
      "model_module": "@jupyter-widgets/controls",
      "model_module_version": "1.5.0",
      "model_name": "DescriptionStyleModel",
      "state": {
       "description_width": ""
      }
     },
     "7ac86895fd424eef9e8ab920ee51181d": {
      "model_module": "@jupyter-widgets/base",
      "model_module_version": "1.2.0",
      "model_name": "LayoutModel",
      "state": {}
     },
     "7ad5a7142246403b8da1b10a1e8c3e32": {
      "model_module": "@jupyter-widgets/base",
      "model_module_version": "1.2.0",
      "model_name": "LayoutModel",
      "state": {}
     },
     "7c80d55c2476480db06ff2d77a039d66": {
      "model_module": "@jupyter-widgets/controls",
      "model_module_version": "1.5.0",
      "model_name": "DescriptionStyleModel",
      "state": {
       "description_width": "initial"
      }
     },
     "7da76ef935744681a33734cdc70ee16f": {
      "model_module": "@jupyter-widgets/controls",
      "model_module_version": "1.5.0",
      "model_name": "TextModel",
      "state": {
       "description": "P",
       "layout": "IPY_MODEL_f377410545904f0faa1fac113c97b53b",
       "placeholder": "",
       "style": "IPY_MODEL_79ecdefc1db24b379cea3b3ac3899c1a"
      }
     },
     "7edf71d1880244ffb3204f1718a8d0c3": {
      "model_module": "@jupyter-widgets/controls",
      "model_module_version": "1.5.0",
      "model_name": "DescriptionStyleModel",
      "state": {
       "description_width": ""
      }
     },
     "81eea81c48c843d09e61487b6f1d7459": {
      "model_module": "@jupyter-widgets/controls",
      "model_module_version": "1.5.0",
      "model_name": "LabelModel",
      "state": {
       "layout": "IPY_MODEL_0f81fb04097e4c769f1ce193a3f7ecfa",
       "style": "IPY_MODEL_5102a69308054307a74ceb839e975d10"
      }
     },
     "833d0c822523474180dc9b7c47be4e61": {
      "model_module": "@jupyter-widgets/base",
      "model_module_version": "1.2.0",
      "model_name": "LayoutModel",
      "state": {
       "flex": "1 1 1%",
       "width": "auto"
      }
     },
     "835e29b843c64388a0173291083b5632": {
      "model_module": "@jupyter-widgets/base",
      "model_module_version": "1.2.0",
      "model_name": "LayoutModel",
      "state": {
       "flex": "1 1 1%",
       "width": "auto"
      }
     },
     "858428a5e14d4bad9f5d9fae24d92157": {
      "model_module": "@jupyter-widgets/base",
      "model_module_version": "1.2.0",
      "model_name": "LayoutModel",
      "state": {}
     },
     "85aed7181c04481c95c044737d19e866": {
      "model_module": "@jupyter-widgets/controls",
      "model_module_version": "1.5.0",
      "model_name": "TextModel",
      "state": {
       "description": "Contact Area (m^2)",
       "layout": "IPY_MODEL_6e91bf5e02484a63aaa446f50662edd5",
       "placeholder": "m^2",
       "style": "IPY_MODEL_d45570fbd77b4fb794d945ec301cb47f"
      }
     },
     "8600175f56b3444989bca4d619f48ee9": {
      "model_module": "@jupyter-widgets/controls",
      "model_module_version": "1.5.0",
      "model_name": "DescriptionStyleModel",
      "state": {
       "description_width": ""
      }
     },
     "8773f03c31244632a234c9e963c69ca0": {
      "model_module": "@jupyter-widgets/controls",
      "model_module_version": "1.5.0",
      "model_name": "DescriptionStyleModel",
      "state": {
       "description_width": "initial"
      }
     },
     "87b329cdde474e8fb8f345940cd43887": {
      "model_module": "@jupyter-widgets/base",
      "model_module_version": "1.2.0",
      "model_name": "LayoutModel",
      "state": {}
     },
     "88907fa9288f4822b7eb0b19a464ce9a": {
      "model_module": "@jupyter-widgets/controls",
      "model_module_version": "1.5.0",
      "model_name": "DescriptionStyleModel",
      "state": {
       "description_width": ""
      }
     },
     "890c4b70e8c64e5f8d0428e67de2f477": {
      "model_module": "@jupyter-widgets/base",
      "model_module_version": "1.2.0",
      "model_name": "LayoutModel",
      "state": {}
     },
     "89f91322067741bca8693145880b767c": {
      "model_module": "@jupyter-widgets/controls",
      "model_module_version": "1.5.0",
      "model_name": "DescriptionStyleModel",
      "state": {
       "description_width": ""
      }
     },
     "89faa2cedb0c4c04b98a16e82fb992e5": {
      "model_module": "@jupyter-widgets/base",
      "model_module_version": "1.2.0",
      "model_name": "LayoutModel",
      "state": {
       "flex": "1 1 1%",
       "width": "auto"
      }
     },
     "8a54d945202742dca6e54b920e70e5c2": {
      "model_module": "@jupyter-widgets/controls",
      "model_module_version": "1.5.0",
      "model_name": "TextModel",
      "state": {
       "description": "V. Init. Volt.:",
       "layout": "IPY_MODEL_62dc8ebc7a5a4cc3867198b5f1cd87ee",
       "placeholder": "Volt",
       "style": "IPY_MODEL_746ed93a90f447d78735e5ae7754cc7a"
      }
     },
     "8d205b93c4b24f8f8bb3a2d05f2fe777": {
      "model_module": "@jupyter-widgets/controls",
      "model_module_version": "1.5.0",
      "model_name": "DescriptionStyleModel",
      "state": {
       "description_width": "initial"
      }
     },
     "8dace837d94642aab9fe3c5c963eb107": {
      "model_module": "@jupyter-widgets/base",
      "model_module_version": "1.2.0",
      "model_name": "LayoutModel",
      "state": {}
     },
     "8eacadbee0344b3ab7e11709906f65a5": {
      "model_module": "@jupyter-widgets/controls",
      "model_module_version": "1.5.0",
      "model_name": "VBoxModel",
      "state": {
       "children": [
        "IPY_MODEL_20ff3cfcce7e42e4b1ece44c41a265e7",
        "IPY_MODEL_e6e80223f4fc4ee497ad2fdab9647612",
        "IPY_MODEL_f3dfbbfc38004669bc4fb74f63afe123",
        "IPY_MODEL_104c635405264dd3829347d17be34bb3"
       ],
       "layout": "IPY_MODEL_ab21efbd21aa49e184b212908459b10b"
      }
     },
     "8ef23ee13fef49d9a13e50bd68f79bf1": {
      "model_module": "@jupyter-widgets/controls",
      "model_module_version": "1.5.0",
      "model_name": "DescriptionStyleModel",
      "state": {
       "description_width": ""
      }
     },
     "8f19c367cc1646d79ee6b62a47874373": {
      "model_module": "@jupyter-widgets/base",
      "model_module_version": "1.2.0",
      "model_name": "LayoutModel",
      "state": {
       "flex": "1 1 0%",
       "width": "auto"
      }
     },
     "8f1c38dd21d84bb296854416d266fdd9": {
      "model_module": "@jupyter-widgets/base",
      "model_module_version": "1.2.0",
      "model_name": "LayoutModel",
      "state": {}
     },
     "901b7cd20ea24b5d87425758fc723d53": {
      "model_module": "@jupyter-widgets/controls",
      "model_module_version": "1.5.0",
      "model_name": "DatePickerModel",
      "state": {
       "description": "Exp. Date:",
       "disabled": false,
       "layout": "IPY_MODEL_08f97d0cfdfd42b58e5cca2fbe85d54d",
       "style": "IPY_MODEL_b62dc958bab645d0a45de75191237a25"
      }
     },
     "903ac3bfccda4c25b26ae3113166e7f6": {
      "model_module": "@jupyter-widgets/controls",
      "model_module_version": "1.5.0",
      "model_name": "TextModel",
      "state": {
       "description": "Calibration (mV/kN):",
       "layout": "IPY_MODEL_858428a5e14d4bad9f5d9fae24d92157",
       "placeholder": "mV/kN",
       "style": "IPY_MODEL_9109c081c96040fb8a2af9280b31179d"
      }
     },
     "9109c081c96040fb8a2af9280b31179d": {
      "model_module": "@jupyter-widgets/controls",
      "model_module_version": "1.5.0",
      "model_name": "DescriptionStyleModel",
      "state": {
       "description_width": "initial"
      }
     },
     "92d3c0651a69409eb91c28dd815fe4c7": {
      "model_module": "@jupyter-widgets/controls",
      "model_module_version": "1.5.0",
      "model_name": "LabelModel",
      "state": {
       "layout": "IPY_MODEL_89faa2cedb0c4c04b98a16e82fb992e5",
       "style": "IPY_MODEL_8600175f56b3444989bca4d619f48ee9",
       "value": "Vert. Servo Settings"
      }
     },
     "963fc1414aee4e559af89eeecc1dadfe": {
      "model_module": "@jupyter-widgets/controls",
      "model_module_version": "1.5.0",
      "model_name": "DescriptionStyleModel",
      "state": {
       "description_width": "initial"
      }
     },
     "971bc8aea9c644a7a594dc00f8da2cf6": {
      "model_module": "@jupyter-widgets/controls",
      "model_module_version": "1.5.0",
      "model_name": "TextModel",
      "state": {
       "description": "PpB Press. (MPa)",
       "layout": "IPY_MODEL_a0366707f93742be9a8490613e563984",
       "placeholder": "MPa",
       "style": "IPY_MODEL_29a00885dea046acba5e0b71edae0438"
      }
     },
     "98c5925321d144b8afe3cb8b8532be3c": {
      "model_module": "@jupyter-widgets/base",
      "model_module_version": "1.2.0",
      "model_name": "LayoutModel",
      "state": {}
     },
     "997c00a64fcf49409470034bd7b51d75": {
      "model_module": "@jupyter-widgets/controls",
      "model_module_version": "1.5.0",
      "model_name": "LabelModel",
      "state": {
       "layout": "IPY_MODEL_73a8f95b8bd847fa90fe3682ab4494d9",
       "style": "IPY_MODEL_5afe41c495844364b36653567f50ce07"
      }
     },
     "9a5e2631593644adb9bdd882d5c861dd": {
      "model_module": "@jupyter-widgets/controls",
      "model_module_version": "1.5.0",
      "model_name": "DescriptionStyleModel",
      "state": {
       "description_width": "initial"
      }
     },
     "9c2e67690e9d4348b207fc8c16ba7bb5": {
      "model_module": "@jupyter-widgets/controls",
      "model_module_version": "1.5.0",
      "model_name": "RadioButtonsModel",
      "state": {
       "_options_labels": [
        "yes",
        "no"
       ],
       "description": "Record PID?",
       "index": 1,
       "layout": "IPY_MODEL_ed9a429406b94bd6bc5f9c4a8104a151",
       "style": "IPY_MODEL_a4c01afa86c24503a84d9321e45b9393"
      }
     },
     "9c588d189052473c8a12ea93dc4a426e": {
      "model_module": "@jupyter-widgets/base",
      "model_module_version": "1.2.0",
      "model_name": "LayoutModel",
      "state": {}
     },
     "a0366707f93742be9a8490613e563984": {
      "model_module": "@jupyter-widgets/base",
      "model_module_version": "1.2.0",
      "model_name": "LayoutModel",
      "state": {}
     },
     "a16771b702ec475a96b253c16073e330": {
      "model_module": "@jupyter-widgets/controls",
      "model_module_version": "1.5.0",
      "model_name": "DescriptionStyleModel",
      "state": {
       "description_width": ""
      }
     },
     "a4c01afa86c24503a84d9321e45b9393": {
      "model_module": "@jupyter-widgets/controls",
      "model_module_version": "1.5.0",
      "model_name": "DescriptionStyleModel",
      "state": {
       "description_width": ""
      }
     },
     "a4cf3d3eae1b4ec3bde610949b4099ce": {
      "model_module": "@jupyter-widgets/base",
      "model_module_version": "1.2.0",
      "model_name": "LayoutModel",
      "state": {}
     },
     "a5b1096c0e1048d4a15dfe35c4a2a402": {
      "model_module": "@jupyter-widgets/controls",
      "model_module_version": "1.5.0",
      "model_name": "VBoxModel",
      "state": {
       "children": [
        "IPY_MODEL_f1724740c1b349ee865596dc9d33f0e3",
        "IPY_MODEL_647e5226fdbb4095961debbd40c62390"
       ],
       "layout": "IPY_MODEL_16618d51db9346fb8e532a14b7f96688"
      }
     },
     "a6218c04f3514a1fb2adb1f346960c09": {
      "model_module": "@jupyter-widgets/controls",
      "model_module_version": "1.5.0",
      "model_name": "TextModel",
      "state": {
       "description": "E-gain",
       "layout": "IPY_MODEL_312df1428245422a81f8dec7729f8114",
       "placeholder": "",
       "style": "IPY_MODEL_f5839b18c8be49979eeea2181df89bcf"
      }
     },
     "a8119ca451304d0dbb2587cbfc3fc89c": {
      "model_module": "@jupyter-widgets/controls",
      "model_module_version": "1.5.0",
      "model_name": "TextModel",
      "state": {
       "description": "Pore Fluid",
       "layout": "IPY_MODEL_6f603f8f01a947e083dbfea93a923991",
       "placeholder": "DI H2O",
       "style": "IPY_MODEL_66271c2be978432c93b07396279542af",
       "value": "DI H2O"
      }
     },
     "a8a942dddd3b4f06baad54d8bf1bd52c": {
      "model_module": "@jupyter-widgets/base",
      "model_module_version": "1.2.0",
      "model_name": "LayoutModel",
      "state": {}
     },
     "a9307c4c6221435ebed688e292b62f51": {
      "model_module": "@jupyter-widgets/controls",
      "model_module_version": "1.5.0",
      "model_name": "TextModel",
      "state": {
       "description": "V. Init. Volt.:",
       "layout": "IPY_MODEL_f60f2f8520154c319ae442da316893e8",
       "placeholder": "Volt",
       "style": "IPY_MODEL_5f20e6e026da4de2a6eec1e731e1ea81"
      }
     },
     "a9c69310de3e4f41a4053fc0a97b98e3": {
      "model_module": "@jupyter-widgets/controls",
      "model_module_version": "1.5.0",
      "model_name": "DescriptionStyleModel",
      "state": {
       "description_width": "initial"
      }
     },
     "aac1fd30b07e4277bb31b46cfdd81795": {
      "model_module": "@jupyter-widgets/base",
      "model_module_version": "1.2.0",
      "model_name": "LayoutModel",
      "state": {}
     },
     "ab21efbd21aa49e184b212908459b10b": {
      "model_module": "@jupyter-widgets/base",
      "model_module_version": "1.2.0",
      "model_name": "LayoutModel",
      "state": {}
     },
     "ab5bb393e38c4189a004496a12d8d951": {
      "model_module": "@jupyter-widgets/base",
      "model_module_version": "1.2.0",
      "model_name": "LayoutModel",
      "state": {
       "flex": "1 1 1%",
       "width": "auto"
      }
     },
     "abbdfe6dae34413d8a4d0c4c19527dbd": {
      "model_module": "@jupyter-widgets/controls",
      "model_module_version": "1.5.0",
      "model_name": "TextModel",
      "state": {
       "description": "Material",
       "layout": "IPY_MODEL_87b329cdde474e8fb8f345940cd43887",
       "placeholder": "Anhydrite, Westerly Granite",
       "style": "IPY_MODEL_0b800448ecde484192fa52244cc983e0"
      }
     },
     "ad93b027fbd14249b2474c6bf3d5b9ba": {
      "model_module": "@jupyter-widgets/base",
      "model_module_version": "1.2.0",
      "model_name": "LayoutModel",
      "state": {
       "flex": "1 1 1%",
       "width": "auto"
      }
     },
     "ae4b850fab5d49ef93c91719f16175f5": {
      "model_module": "@jupyter-widgets/controls",
      "model_module_version": "1.5.0",
      "model_name": "DescriptionStyleModel",
      "state": {
       "description_width": "initial"
      }
     },
     "ae7718ccb1cd452192f8faa05b64c743": {
      "model_module": "@jupyter-widgets/base",
      "model_module_version": "1.2.0",
      "model_name": "LayoutModel",
      "state": {}
     },
     "af4590cb33a846799d441a7752dfae25": {
      "model_module": "@jupyter-widgets/base",
      "model_module_version": "1.2.0",
      "model_name": "LayoutModel",
      "state": {}
     },
     "b1d9aa9204e84cfe9dbbc5359bd0dec4": {
      "model_module": "@jupyter-widgets/controls",
      "model_module_version": "1.5.0",
      "model_name": "DropdownModel",
      "state": {
       "_options_labels": [
        "44mm Solid Vert",
        "44mm Solid Vert",
        "None"
       ],
       "description": "Vert. Load Cell:",
       "index": 0,
       "layout": "IPY_MODEL_225997504fab402e87f9d995f66582d6",
       "style": "IPY_MODEL_68b5685f4fab475a8121accb81374db6"
      }
     },
     "b318463fa73f471eb583d3f602b42bf6": {
      "model_module": "@jupyter-widgets/controls",
      "model_module_version": "1.5.0",
      "model_name": "DescriptionStyleModel",
      "state": {
       "description_width": ""
      }
     },
     "b5c61de8af014bd7af823c59af3a997e": {
      "model_module": "@jupyter-widgets/output",
      "model_module_version": "1.0.0",
      "model_name": "OutputModel",
      "state": {
       "layout": "IPY_MODEL_ae7718ccb1cd452192f8faa05b64c743",
       "outputs": [
        {
         "data": {
          "application/vnd.jupyter.widget-view+json": {
           "model_id": "7115f0f46b6d470f98249e634eaadbfa",
           "version_major": 2,
           "version_minor": 0
          },
          "text/plain": "Label(value='')"
         },
         "metadata": {},
         "output_type": "display_data"
        }
       ]
      }
     },
     "b62dc958bab645d0a45de75191237a25": {
      "model_module": "@jupyter-widgets/controls",
      "model_module_version": "1.5.0",
      "model_name": "DescriptionStyleModel",
      "state": {
       "description_width": "initial"
      }
     },
     "b727573f2d7e40538543bbeec9e36913": {
      "model_module": "@jupyter-widgets/base",
      "model_module_version": "1.2.0",
      "model_name": "LayoutModel",
      "state": {}
     },
     "b853e398e8634e6286cec7033b68d916": {
      "model_module": "@jupyter-widgets/controls",
      "model_module_version": "1.5.0",
      "model_name": "TextModel",
      "state": {
       "description": "Hyd. Start:",
       "layout": "IPY_MODEL_a4cf3d3eae1b4ec3bde610949b4099ce",
       "placeholder": "xxx.x",
       "style": "IPY_MODEL_24287a6377164538a2e203a1f13bdeff"
      }
     },
     "b9b77abfbb46409dbdb5bc52bbc9efcc": {
      "model_module": "@jupyter-widgets/controls",
      "model_module_version": "1.5.0",
      "model_name": "DescriptionStyleModel",
      "state": {
       "description_width": "initial"
      }
     },
     "bbdc78e53f084a42bd735691ab16793b": {
      "model_module": "@jupyter-widgets/base",
      "model_module_version": "1.2.0",
      "model_name": "LayoutModel",
      "state": {}
     },
     "bcfdd03f2b8a466bafaee61a89e6dbd1": {
      "model_module": "@jupyter-widgets/base",
      "model_module_version": "1.2.0",
      "model_name": "LayoutModel",
      "state": {}
     },
     "becd5cb059864ecc98e3730cdcf7b834": {
      "model_module": "@jupyter-widgets/controls",
      "model_module_version": "1.5.0",
      "model_name": "DescriptionStyleModel",
      "state": {
       "description_width": "initial"
      }
     },
     "bf297d973ea643c6ad48218ed6dd6e08": {
      "model_module": "@jupyter-widgets/controls",
      "model_module_version": "1.5.0",
      "model_name": "DescriptionStyleModel",
      "state": {
       "description_width": "initial"
      }
     },
     "bfb19e9517884af4a6356522771240ef": {
      "model_module": "@jupyter-widgets/base",
      "model_module_version": "1.2.0",
      "model_name": "LayoutModel",
      "state": {}
     },
     "c08b254d9c6c4770a3e547742914da3b": {
      "model_module": "@jupyter-widgets/base",
      "model_module_version": "1.2.0",
      "model_name": "LayoutModel",
      "state": {}
     },
     "c2597df51c0341ea942ab4d97b72f2b4": {
      "model_module": "@jupyter-widgets/controls",
      "model_module_version": "1.5.0",
      "model_name": "DescriptionStyleModel",
      "state": {
       "description_width": ""
      }
     },
     "c27b059315294e54b2f6b5954c4f19e1": {
      "model_module": "@jupyter-widgets/controls",
      "model_module_version": "1.5.0",
      "model_name": "DescriptionStyleModel",
      "state": {
       "description_width": ""
      }
     },
     "c3c9f960cad1462b817bba749bcb6172": {
      "model_module": "@jupyter-widgets/controls",
      "model_module_version": "1.5.0",
      "model_name": "DropdownModel",
      "state": {
       "_options_labels": [
        "44mm Solid Horiz",
        "44mm Solid Vert",
        "None"
       ],
       "description": "Horiz. Load Cell:",
       "index": 0,
       "layout": "IPY_MODEL_8f1c38dd21d84bb296854416d266fdd9",
       "style": "IPY_MODEL_becd5cb059864ecc98e3730cdcf7b834"
      }
     },
     "c56da2e2f5d8415389def1d7ff4bb950": {
      "model_module": "@jupyter-widgets/base",
      "model_module_version": "1.2.0",
      "model_name": "LayoutModel",
      "state": {
       "flex": "1 1 1%",
       "width": "auto"
      }
     },
     "c68386c411b44e6690e1859f0ff00f0f": {
      "model_module": "@jupyter-widgets/controls",
      "model_module_version": "1.5.0",
      "model_name": "TextModel",
      "state": {
       "description": "Sample Block Thickness (no gouge)",
       "layout": "IPY_MODEL_aac1fd30b07e4277bb31b46cfdd81795",
       "placeholder": "mm",
       "style": "IPY_MODEL_58a3a9bffcb148c2b6d7bdfa0b71325f"
      }
     },
     "c69d9f8075bf4fe58ea927746ee8bde2": {
      "model_module": "@jupyter-widgets/controls",
      "model_module_version": "1.5.0",
      "model_name": "TextModel",
      "state": {
       "description": "Datten",
       "layout": "IPY_MODEL_084c6d827c8842c18f7d3cbcacbd62ed",
       "placeholder": "",
       "style": "IPY_MODEL_3b50611fea544055973df5809693282b"
      }
     },
     "c6aed7c586a844fa9ec8fd06a01071d6": {
      "model_module": "@jupyter-widgets/controls",
      "model_module_version": "1.5.0",
      "model_name": "GridBoxModel",
      "state": {
       "children": [
        "IPY_MODEL_78ce7377afd44133b56b9fb5a9fc0141",
        "IPY_MODEL_fa18817a4e75464a8bc6fc228286aadb",
        "IPY_MODEL_2a2881b950864e2092fb505f79a80328"
       ],
       "layout": "IPY_MODEL_251b76dd0cd64adfb39ec3d301808caf"
      }
     },
     "cade6d19e82d43ce8158704286d22241": {
      "model_module": "@jupyter-widgets/base",
      "model_module_version": "1.2.0",
      "model_name": "LayoutModel",
      "state": {
       "flex": "1 1 0%",
       "width": "auto"
      }
     },
     "cb4eb39ee0aa432bbcaee6d5f75fbd9b": {
      "model_module": "@jupyter-widgets/controls",
      "model_module_version": "1.5.0",
      "model_name": "VBoxModel",
      "state": {
       "children": [
        "IPY_MODEL_901b7cd20ea24b5d87425758fc723d53",
        "IPY_MODEL_b853e398e8634e6286cec7033b68d916",
        "IPY_MODEL_d2ad81c9dc2f498fa3dcdbb5c26c8cdd"
       ],
       "layout": "IPY_MODEL_16618d51db9346fb8e532a14b7f96688"
      }
     },
     "cbfc4b8ed32741b59dc5161624c8fe2c": {
      "model_module": "@jupyter-widgets/controls",
      "model_module_version": "1.5.0",
      "model_name": "ComboboxModel",
      "state": {
       "description": "Horiz. DCDT:",
       "ensure_option": true,
       "layout": "IPY_MODEL_de68cc7401b14be2a6856cd056d314e6",
       "options": [
        "short rod",
        "long rod",
        "None"
       ],
       "placeholder": "Horiz. DCDT",
       "style": "IPY_MODEL_e114540108ac48548873ff6eea2d8222"
      }
     },
     "ccd32d7506df4971a2e503a301eb2a36": {
      "model_module": "@jupyter-widgets/controls",
      "model_module_version": "1.5.0",
      "model_name": "DescriptionStyleModel",
      "state": {
       "description_width": "initial"
      }
     },
     "cd02aaabc13a4274bc9fe87a86c56e5c": {
      "model_module": "@jupyter-widgets/controls",
      "model_module_version": "1.5.0",
      "model_name": "TextModel",
      "state": {
       "description": "I",
       "layout": "IPY_MODEL_1671c893afd04eb9aa33e714dcfd7ff8",
       "placeholder": "",
       "style": "IPY_MODEL_b318463fa73f471eb583d3f602b42bf6"
      }
     },
     "cd84ab1b5549404e92eb100b68f9ee67": {
      "model_module": "@jupyter-widgets/base",
      "model_module_version": "1.2.0",
      "model_name": "LayoutModel",
      "state": {
       "flex": "1 1 1%",
       "width": "auto"
      }
     },
     "ce369f0a1dd94998ac931eb8aa685ffb": {
      "model_module": "@jupyter-widgets/base",
      "model_module_version": "1.2.0",
      "model_name": "LayoutModel",
      "state": {}
     },
     "cfcb909628714d58b7dc7fbc266e3577": {
      "model_module": "@jupyter-widgets/base",
      "model_module_version": "1.2.0",
      "model_name": "LayoutModel",
      "state": {
       "flex": "1 1 1%",
       "width": "auto"
      }
     },
     "d020168723374bab9b72d90bfd0987dc": {
      "model_module": "@jupyter-widgets/controls",
      "model_module_version": "1.5.0",
      "model_name": "DescriptionStyleModel",
      "state": {
       "description_width": "initial"
      }
     },
     "d084bd680b144717bb00f26b84f08fbb": {
      "model_module": "@jupyter-widgets/controls",
      "model_module_version": "1.5.0",
      "model_name": "VBoxModel",
      "state": {
       "children": [
        "IPY_MODEL_152a9efc870d4d09ac26386c55563ef7",
        "IPY_MODEL_6695aa895bfc4f7393c6713bdc965a62"
       ],
       "layout": "IPY_MODEL_ab5bb393e38c4189a004496a12d8d951"
      }
     },
     "d203627820494431afbae5b6b0c4e336": {
      "model_module": "@jupyter-widgets/base",
      "model_module_version": "1.2.0",
      "model_name": "LayoutModel",
      "state": {
       "border": "2px solid royalblue",
       "display": "flex",
       "flex_flow": "row",
       "grid_gap": "60px",
       "padding": "10px",
       "width": "75%"
      }
     },
     "d2ad5b6e6b344a99a582974aeb6f7069": {
      "model_module": "@jupyter-widgets/controls",
      "model_module_version": "1.5.0",
      "model_name": "GridBoxModel",
      "state": {
       "children": [
        "IPY_MODEL_5cd275ef2ee34d7b8fb4a477d7b73cb5",
        "IPY_MODEL_3d36b02916ee4e6b8a1cd57aac366e75"
       ],
       "layout": "IPY_MODEL_ffa8ac28039a446a8d63f404985a709c"
      }
     },
     "d2ad81c9dc2f498fa3dcdbb5c26c8cdd": {
      "model_module": "@jupyter-widgets/controls",
      "model_module_version": "1.5.0",
      "model_name": "TextModel",
      "state": {
       "description": "Hyd. End:",
       "layout": "IPY_MODEL_16ef63a29a9c42638b1cc29d563280d2",
       "placeholder": "xxx.x",
       "style": "IPY_MODEL_bf297d973ea643c6ad48218ed6dd6e08"
      }
     },
     "d379a98950764879b12d841b7885f031": {
      "model_module": "@jupyter-widgets/base",
      "model_module_version": "1.2.0",
      "model_name": "LayoutModel",
      "state": {}
     },
     "d401372092c640cd82ff2fd49ce0a0bc": {
      "model_module": "@jupyter-widgets/output",
      "model_module_version": "1.0.0",
      "model_name": "OutputModel",
      "state": {
       "layout": "IPY_MODEL_4a2d9811e4044d21aefc6359aaada760",
       "outputs": [
        {
         "data": {
          "application/vnd.jupyter.widget-view+json": {
           "model_id": "997c00a64fcf49409470034bd7b51d75",
           "version_major": 2,
           "version_minor": 0
          },
          "text/plain": "Label(value='')"
         },
         "metadata": {},
         "output_type": "display_data"
        }
       ]
      }
     },
     "d45570fbd77b4fb794d945ec301cb47f": {
      "model_module": "@jupyter-widgets/controls",
      "model_module_version": "1.5.0",
      "model_name": "DescriptionStyleModel",
      "state": {
       "description_width": "initial"
      }
     },
     "d568ed17997143339d987e253ade5b73": {
      "model_module": "@jupyter-widgets/base",
      "model_module_version": "1.2.0",
      "model_name": "LayoutModel",
      "state": {}
     },
     "d61d9571bd474e8e823b57a69d12b069": {
      "model_module": "@jupyter-widgets/controls",
      "model_module_version": "1.5.0",
      "model_name": "DescriptionStyleModel",
      "state": {
       "description_width": ""
      }
     },
     "d781d17f1a17457cb0bb7643f8da3e93": {
      "model_module": "@jupyter-widgets/base",
      "model_module_version": "1.2.0",
      "model_name": "LayoutModel",
      "state": {
       "flex": "1 1 1%",
       "width": "auto"
      }
     },
     "d7f5dcf8d8314ff59b5e87ecdb0870d4": {
      "model_module": "@jupyter-widgets/base",
      "model_module_version": "1.2.0",
      "model_name": "LayoutModel",
      "state": {}
     },
     "d842da01485e447faa20b47eecbd8f6e": {
      "model_module": "@jupyter-widgets/controls",
      "model_module_version": "1.5.0",
      "model_name": "TextModel",
      "state": {
       "description": "Acoustics blocks used",
       "layout": "IPY_MODEL_78615c06cae04dc289889cf00e0bdd0b",
       "placeholder": "",
       "style": "IPY_MODEL_8773f03c31244632a234c9e963c69ca0"
      }
     },
     "d84424d7c95d44d79d210d60a3365eee": {
      "model_module": "@jupyter-widgets/controls",
      "model_module_version": "1.5.0",
      "model_name": "LabelModel",
      "state": {
       "layout": "IPY_MODEL_d7f5dcf8d8314ff59b5e87ecdb0870d4",
       "style": "IPY_MODEL_8ef23ee13fef49d9a13e50bd68f79bf1"
      }
     },
     "d966ba8c92f746b88e9414534ef40dea": {
      "model_module": "@jupyter-widgets/base",
      "model_module_version": "1.2.0",
      "model_name": "LayoutModel",
      "state": {
       "flex": "1 1 1%",
       "width": "auto"
      }
     },
     "dcd8df968e21454d853ed6de5698df6a": {
      "model_module": "@jupyter-widgets/controls",
      "model_module_version": "1.5.0",
      "model_name": "GridBoxModel",
      "state": {
       "children": [
        "IPY_MODEL_a5b1096c0e1048d4a15dfe35c4a2a402",
        "IPY_MODEL_cb4eb39ee0aa432bbcaee6d5f75fbd9b"
       ],
       "layout": "IPY_MODEL_0e5f42c4319647bf884a66b9d66be1ac"
      }
     },
     "dd0d289fd5c042d7a791ef6c8fa2fa9f": {
      "model_module": "@jupyter-widgets/controls",
      "model_module_version": "1.5.0",
      "model_name": "TextModel",
      "state": {
       "description": "PpB Gain (V/MPa):",
       "layout": "IPY_MODEL_b727573f2d7e40538543bbeec9e36913",
       "placeholder": "PpB Gain (V/MPa)",
       "style": "IPY_MODEL_d020168723374bab9b72d90bfd0987dc"
      }
     },
     "de68cc7401b14be2a6856cd056d314e6": {
      "model_module": "@jupyter-widgets/base",
      "model_module_version": "1.2.0",
      "model_name": "LayoutModel",
      "state": {}
     },
     "deef07ec186f4116b9af344cd0e67397": {
      "model_module": "@jupyter-widgets/controls",
      "model_module_version": "1.5.0",
      "model_name": "LabelModel",
      "state": {
       "layout": "IPY_MODEL_3cd2c90bdda44cad97a3dfa059abc099",
       "style": "IPY_MODEL_88907fa9288f4822b7eb0b19a464ce9a"
      }
     },
     "e114540108ac48548873ff6eea2d8222": {
      "model_module": "@jupyter-widgets/controls",
      "model_module_version": "1.5.0",
      "model_name": "DescriptionStyleModel",
      "state": {
       "description_width": "initial"
      }
     },
     "e219e507af274d7184ffa8475411118c": {
      "model_module": "@jupyter-widgets/controls",
      "model_module_version": "1.5.0",
      "model_name": "TextModel",
      "state": {
       "description": "Target Stress(es) (MPa):",
       "layout": "IPY_MODEL_d379a98950764879b12d841b7885f031",
       "placeholder": "MPa",
       "style": "IPY_MODEL_963fc1414aee4e559af89eeecc1dadfe"
      }
     },
     "e2759ca1ae9d496eb3b4d998224e12e6": {
      "model_module": "@jupyter-widgets/controls",
      "model_module_version": "1.5.0",
      "model_name": "GridBoxModel",
      "state": {
       "children": [
        "IPY_MODEL_2bcb519c7f484b48886782423c5415dd",
        "IPY_MODEL_2967ae966a08456486e24d690ed8c1c0"
       ],
       "layout": "IPY_MODEL_29790bdb7f8548a4b6ed76f998cd1aa2"
      }
     },
     "e279d3604dc4429f84d549ad15ce8b4e": {
      "model_module": "@jupyter-widgets/controls",
      "model_module_version": "1.5.0",
      "model_name": "DescriptionStyleModel",
      "state": {
       "description_width": "initial"
      }
     },
     "e2c8e32a565749839548165250cbf644": {
      "model_module": "@jupyter-widgets/controls",
      "model_module_version": "1.5.0",
      "model_name": "TextModel",
      "state": {
       "description": "Calibration (mV/kN):",
       "layout": "IPY_MODEL_644c362fcbbc479a9a0fd0f748315e69",
       "placeholder": "mV/kN",
       "style": "IPY_MODEL_4c93658660584c149c3e1ce05848cec9"
      }
     },
     "e35ffaa0621743cca382d02d2e7f82bf": {
      "model_module": "@jupyter-widgets/controls",
      "model_module_version": "1.5.0",
      "model_name": "LabelModel",
      "state": {
       "layout": "IPY_MODEL_20820af8fcef4c09b1ed9734cd5e7b69",
       "style": "IPY_MODEL_5cadb0dbff054ba6ba5a8c6a51a906c7"
      }
     },
     "e46ba5beb22247fc832dff72b48856f5": {
      "model_module": "@jupyter-widgets/output",
      "model_module_version": "1.0.0",
      "model_name": "OutputModel",
      "state": {
       "layout": "IPY_MODEL_ce369f0a1dd94998ac931eb8aa685ffb",
       "outputs": [
        {
         "data": {
          "application/vnd.jupyter.widget-view+json": {
           "model_id": "deef07ec186f4116b9af344cd0e67397",
           "version_major": 2,
           "version_minor": 0
          },
          "text/plain": "Label(value='')"
         },
         "metadata": {},
         "output_type": "display_data"
        }
       ]
      }
     },
     "e51c6f977c5d4264bbcd2d1e14f3e14f": {
      "model_module": "@jupyter-widgets/controls",
      "model_module_version": "1.5.0",
      "model_name": "TextModel",
      "state": {
       "description": "Feedback",
       "layout": "IPY_MODEL_ad93b027fbd14249b2474c6bf3d5b9ba",
       "placeholder": "",
       "style": "IPY_MODEL_c2597df51c0341ea942ab4d97b72f2b4"
      }
     },
     "e61bbb0256484ca198992b7859b106ce": {
      "model_module": "@jupyter-widgets/controls",
      "model_module_version": "1.5.0",
      "model_name": "VBoxModel",
      "state": {
       "children": [
        "IPY_MODEL_a8119ca451304d0dbb2587cbfc3fc89c",
        "IPY_MODEL_39ae30e337b141fbaacf5a9211461ce9",
        "IPY_MODEL_dd0d289fd5c042d7a791ef6c8fa2fa9f",
        "IPY_MODEL_971bc8aea9c644a7a594dc00f8da2cf6",
        "IPY_MODEL_8a54d945202742dca6e54b920e70e5c2",
        "IPY_MODEL_7670557dc5544c41a73cccf6119574cf"
       ],
       "layout": "IPY_MODEL_48d0c2f2f90543de8a670fdfb67347d0"
      }
     },
     "e6e80223f4fc4ee497ad2fdab9647612": {
      "model_module": "@jupyter-widgets/controls",
      "model_module_version": "1.5.0",
      "model_name": "TextModel",
      "state": {
       "description": "Datten",
       "layout": "IPY_MODEL_835e29b843c64388a0173291083b5632",
       "placeholder": "",
       "style": "IPY_MODEL_d61d9571bd474e8e823b57a69d12b069"
      }
     },
     "e77067d216d84a729a4ade8e9182c6db": {
      "model_module": "@jupyter-widgets/base",
      "model_module_version": "1.2.0",
      "model_name": "LayoutModel",
      "state": {}
     },
     "e8326fc664584a558901c7cb7e227500": {
      "model_module": "@jupyter-widgets/controls",
      "model_module_version": "1.5.0",
      "model_name": "DropdownModel",
      "state": {
       "_options_labels": [
        "8 channel",
        "16 channel"
       ],
       "description": "Data Logger Used:",
       "index": 0,
       "layout": "IPY_MODEL_7ac86895fd424eef9e8ab920ee51181d",
       "style": "IPY_MODEL_1797645d157546c2b1fbbb524abf0b40"
      }
     },
     "e8b67603fbd84cd8935669b2f47b4e7c": {
      "model_module": "@jupyter-widgets/controls",
      "model_module_version": "1.5.0",
      "model_name": "DescriptionStyleModel",
      "state": {
       "description_width": ""
      }
     },
     "e8bc2964208f4095a15dc00db620d16c": {
      "model_module": "@jupyter-widgets/controls",
      "model_module_version": "1.5.0",
      "model_name": "LabelModel",
      "state": {
       "layout": "IPY_MODEL_a8a942dddd3b4f06baad54d8bf1bd52c",
       "style": "IPY_MODEL_fe33a679a1b74f4c980487fb48c307ea"
      }
     },
     "e8e3fe804679454a866a5eaa2e037e10": {
      "model_module": "@jupyter-widgets/controls",
      "model_module_version": "1.5.0",
      "model_name": "DescriptionStyleModel",
      "state": {
       "description_width": "initial"
      }
     },
     "e9aedcc8f49e47d887ca75792719297b": {
      "model_module": "@jupyter-widgets/controls",
      "model_module_version": "1.5.0",
      "model_name": "ButtonStyleModel",
      "state": {}
     },
     "eaa61ee391af4ff3b3255f9df5460c84": {
      "model_module": "@jupyter-widgets/base",
      "model_module_version": "1.2.0",
      "model_name": "LayoutModel",
      "state": {}
     },
     "ecc0a5c9bdda45d490c31f72a57e9c79": {
      "model_module": "@jupyter-widgets/controls",
      "model_module_version": "1.5.0",
      "model_name": "DescriptionStyleModel",
      "state": {
       "description_width": ""
      }
     },
     "ed9a429406b94bd6bc5f9c4a8104a151": {
      "model_module": "@jupyter-widgets/base",
      "model_module_version": "1.2.0",
      "model_name": "LayoutModel",
      "state": {}
     },
     "f1724740c1b349ee865596dc9d33f0e3": {
      "model_module": "@jupyter-widgets/controls",
      "model_module_version": "1.5.0",
      "model_name": "TextModel",
      "state": {
       "description": "Exp. Name:",
       "layout": "IPY_MODEL_2cdf2f7357cd40a2b2873502e7aa1456",
       "placeholder": "pxxxx",
       "style": "IPY_MODEL_49864bd9669c4b388ab635016e977d57"
      }
     },
     "f377410545904f0faa1fac113c97b53b": {
      "model_module": "@jupyter-widgets/base",
      "model_module_version": "1.2.0",
      "model_name": "LayoutModel",
      "state": {
       "flex": "1 1 1%",
       "width": "auto"
      }
     },
     "f3dfbbfc38004669bc4fb74f63afe123": {
      "model_module": "@jupyter-widgets/controls",
      "model_module_version": "1.5.0",
      "model_name": "TextModel",
      "state": {
       "description": "Feedback",
       "layout": "IPY_MODEL_833d0c822523474180dc9b7c47be4e61",
       "placeholder": "",
       "style": "IPY_MODEL_2ac1c0e6bf5e40f2b983de46fffee205"
      }
     },
     "f48ef9e643b34b0dbe2278f235979ccc": {
      "model_module": "@jupyter-widgets/base",
      "model_module_version": "1.2.0",
      "model_name": "LayoutModel",
      "state": {}
     },
     "f50dd29116714256b5b1bf03b6029722": {
      "model_module": "@jupyter-widgets/controls",
      "model_module_version": "1.5.0",
      "model_name": "GridBoxModel",
      "state": {
       "children": [
        "IPY_MODEL_5cd275ef2ee34d7b8fb4a477d7b73cb5",
        "IPY_MODEL_3d36b02916ee4e6b8a1cd57aac366e75"
       ],
       "layout": "IPY_MODEL_ffa8ac28039a446a8d63f404985a709c"
      }
     },
     "f5839b18c8be49979eeea2181df89bcf": {
      "model_module": "@jupyter-widgets/controls",
      "model_module_version": "1.5.0",
      "model_name": "DescriptionStyleModel",
      "state": {
       "description_width": ""
      }
     },
     "f60f2f8520154c319ae442da316893e8": {
      "model_module": "@jupyter-widgets/base",
      "model_module_version": "1.2.0",
      "model_name": "LayoutModel",
      "state": {}
     },
     "f84377c75a8e473997faf6108e1b05e5": {
      "model_module": "@jupyter-widgets/controls",
      "model_module_version": "1.5.0",
      "model_name": "VBoxModel",
      "state": {
       "children": [
        "IPY_MODEL_cbfc4b8ed32741b59dc5161624c8fe2c",
        "IPY_MODEL_376b114d5b864db0a4ca620437370766"
       ],
       "layout": "IPY_MODEL_cfcb909628714d58b7dc7fbc266e3577"
      }
     },
     "fa18817a4e75464a8bc6fc228286aadb": {
      "model_module": "@jupyter-widgets/controls",
      "model_module_version": "1.5.0",
      "model_name": "HBoxModel",
      "state": {
       "children": [
        "IPY_MODEL_d842da01485e447faa20b47eecbd8f6e",
        "IPY_MODEL_683b3c387295455e80470aeb25fe429b",
        "IPY_MODEL_360f55051ec24dbf9af34041773f6514"
       ],
       "layout": "IPY_MODEL_bcfdd03f2b8a466bafaee61a89e6dbd1"
      }
     },
     "fa56c7be40124c71b03dfca966ecfa94": {
      "model_module": "@jupyter-widgets/controls",
      "model_module_version": "1.5.0",
      "model_name": "LabelModel",
      "state": {
       "layout": "IPY_MODEL_c56da2e2f5d8415389def1d7ff4bb950",
       "style": "IPY_MODEL_34e71349c3fb42528a42c1a665d7f763",
       "value": "Hor. Servo Settings"
      }
     },
     "fb53aec67ae041a5a438a775f3201520": {
      "model_module": "@jupyter-widgets/controls",
      "model_module_version": "1.5.0",
      "model_name": "LabelModel",
      "state": {
       "layout": "IPY_MODEL_6f4ede198a1546d39a6d6726be01779b",
       "style": "IPY_MODEL_1914b1fb1ae347af8b582f8da9a36058",
       "value": "Volt. @ Load = "
      }
     },
     "fb815d8cb56e487f928d017f5c9329ba": {
      "model_module": "@jupyter-widgets/controls",
      "model_module_version": "1.5.0",
      "model_name": "VBoxModel",
      "state": {
       "children": [
        "IPY_MODEL_fa56c7be40124c71b03dfca966ecfa94",
        "IPY_MODEL_7da76ef935744681a33734cdc70ee16f",
        "IPY_MODEL_cd02aaabc13a4274bc9fe87a86c56e5c",
        "IPY_MODEL_056e02d05fe84c5e99dbb89d67878aa8"
       ],
       "layout": "IPY_MODEL_fedbc6744e4f4417adb1cf2f50daa168"
      }
     },
     "fbbf906880e74f1398b1b5894b96dadf": {
      "model_module": "@jupyter-widgets/controls",
      "model_module_version": "1.5.0",
      "model_name": "TextModel",
      "state": {
       "description": "Pc Gain (V/MPa):",
       "layout": "IPY_MODEL_890c4b70e8c64e5f8d0428e67de2f477",
       "placeholder": "0.1456 V/MPa",
       "style": "IPY_MODEL_8d205b93c4b24f8f8bb3a2d05f2fe777",
       "value": "0.1456"
      }
     },
     "fcab1432b7124b62aad021a4a5fb69b4": {
      "model_module": "@jupyter-widgets/controls",
      "model_module_version": "1.5.0",
      "model_name": "TextModel",
      "state": {
       "description": "P",
       "layout": "IPY_MODEL_cd84ab1b5549404e92eb100b68f9ee67",
       "placeholder": "",
       "style": "IPY_MODEL_5585f183cc5440b7a4fc9bdf4de42625"
      }
     },
     "fd9ebe96e46745b4b1ac3146f4ca9120": {
      "model_module": "@jupyter-widgets/controls",
      "model_module_version": "1.5.0",
      "model_name": "DescriptionStyleModel",
      "state": {
       "description_width": "initial"
      }
     },
     "fe33a679a1b74f4c980487fb48c307ea": {
      "model_module": "@jupyter-widgets/controls",
      "model_module_version": "1.5.0",
      "model_name": "DescriptionStyleModel",
      "state": {
       "description_width": ""
      }
     },
     "fedbc6744e4f4417adb1cf2f50daa168": {
      "model_module": "@jupyter-widgets/base",
      "model_module_version": "1.2.0",
      "model_name": "LayoutModel",
      "state": {}
     },
     "ffa8ac28039a446a8d63f404985a709c": {
      "model_module": "@jupyter-widgets/base",
      "model_module_version": "1.2.0",
      "model_name": "LayoutModel",
      "state": {
       "align_items": "stretch",
       "border": "2px solid grey",
       "display": "flex",
       "flex_flow": "row",
       "padding": "10px",
       "width": "75%"
      }
     }
    },
    "version_major": 2,
    "version_minor": 0
   }
  }
 },
 "nbformat": 4,
 "nbformat_minor": 5
}
