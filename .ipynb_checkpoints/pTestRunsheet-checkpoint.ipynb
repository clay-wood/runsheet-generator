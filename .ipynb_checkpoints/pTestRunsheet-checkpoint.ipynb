{
 "cells": [
  {
   "cell_type": "code",
   "execution_count": 1,
   "id": "ab603420-bff5-430d-a23f-5c92098226a9",
   "metadata": {},
   "outputs": [],
   "source": [
    "import runsheet_display as rs"
   ]
  },
  {
   "cell_type": "code",
   "execution_count": 2,
   "id": "2e17655f-9de4-46f9-a57a-0fead58a9792",
   "metadata": {
    "tags": []
   },
   "outputs": [
    {
     "data": {
      "application/vnd.jupyter.widget-view+json": {
       "model_id": "92aa0c6ec16f440183ea3ab9e52685bd",
       "version_major": 2,
       "version_minor": 0
      },
      "text/plain": [
       "GridBox(children=(VBox(children=(Text(value='', description='Exp. Name:', placeholder='pxxxx', style=Descripti…"
      ]
     },
     "metadata": {},
     "output_type": "display_data"
    },
    {
     "data": {
      "application/vnd.jupyter.widget-view+json": {
       "model_id": "b4a9a75f19364ba4b0cc6ed1e1216e93",
       "version_major": 2,
       "version_minor": 0
      },
      "text/plain": [
       "GridBox(children=(VBox(children=(Text(value='', description='Contact Area (m^2)', placeholder='m^2', style=Des…"
      ]
     },
     "metadata": {},
     "output_type": "display_data"
    },
    {
     "data": {
      "application/vnd.jupyter.widget-view+json": {
       "model_id": "fe75a1fc756e47f29b06f614f0710314",
       "version_major": 2,
       "version_minor": 0
      },
      "text/plain": [
       "GridBox(children=(VBox(children=(Label(value='Horizontal Load Cell'), Dropdown(description='Horiz. Load Cell:'…"
      ]
     },
     "metadata": {},
     "output_type": "display_data"
    },
    {
     "data": {
      "application/vnd.jupyter.widget-view+json": {
       "model_id": "5d1c7aa298134f2fb225b868cb1c8779",
       "version_major": 2,
       "version_minor": 0
      },
      "text/plain": [
       "RadioButtons(description='Use Vessel?', index=1, options=('yes', 'no'), value='no')"
      ]
     },
     "metadata": {},
     "output_type": "display_data"
    },
    {
     "data": {
      "application/vnd.jupyter.widget-view+json": {
       "model_id": "8d55a32521eb4305a5439d2e536f9c78",
       "version_major": 2,
       "version_minor": 0
      },
      "text/plain": [
       "Output()"
      ]
     },
     "metadata": {},
     "output_type": "display_data"
    },
    {
     "data": {
      "application/vnd.jupyter.widget-view+json": {
       "model_id": "0bf821d6b73a425c9a7d9279f039900d",
       "version_major": 2,
       "version_minor": 0
      },
      "text/plain": [
       "GridBox(children=(Dropdown(description='Data Logger Used:', options=('8 channel', '16 channel'), style=Descrip…"
      ]
     },
     "metadata": {},
     "output_type": "display_data"
    },
    {
     "data": {
      "application/vnd.jupyter.widget-view+json": {
       "model_id": "d269887d519446e2afed5b69060f0b51",
       "version_major": 2,
       "version_minor": 0
      },
      "text/plain": [
       "GridBox(children=(Textarea(value='', description='Purpose/Description', layout=Layout(flex='1 1 1%', width='au…"
      ]
     },
     "metadata": {},
     "output_type": "display_data"
    },
    {
     "data": {
      "application/vnd.jupyter.widget-view+json": {
       "model_id": "25ac5471282a428db96eb79a56a7932c",
       "version_major": 2,
       "version_minor": 0
      },
      "text/plain": [
       "RadioButtons(description='Record PID?', index=1, options=('yes', 'no'), value='no')"
      ]
     },
     "metadata": {},
     "output_type": "display_data"
    },
    {
     "data": {
      "application/vnd.jupyter.widget-view+json": {
       "model_id": "74d88b03f4eb44edbdc27833fdea422b",
       "version_major": 2,
       "version_minor": 0
      },
      "text/plain": [
       "Output()"
      ]
     },
     "metadata": {},
     "output_type": "display_data"
    },
    {
     "data": {
      "application/vnd.jupyter.widget-view+json": {
       "model_id": "488357bae26c4e7782a496f29315fbc4",
       "version_major": 2,
       "version_minor": 0
      },
      "text/plain": [
       "Button(description='Make Runsheet', style=ButtonStyle())"
      ]
     },
     "metadata": {},
     "output_type": "display_data"
    },
    {
     "data": {
      "application/vnd.jupyter.widget-view+json": {
       "model_id": "297bd3e5dceb47af8034da9246a42b39",
       "version_major": 2,
       "version_minor": 0
      },
      "text/plain": [
       "Output()"
      ]
     },
     "metadata": {},
     "output_type": "display_data"
    }
   ],
   "source": [
    "entry, outputs = rs.entry_gui()\n",
    "\n",
    "rs.print_btn(outputs)"
   ]
  }
 ],
 "metadata": {
  "kernelspec": {
   "display_name": "Python 3",
   "language": "python",
   "name": "python3"
  },
  "language_info": {
   "codemirror_mode": {
    "name": "ipython",
    "version": 3
   },
   "file_extension": ".py",
   "mimetype": "text/x-python",
   "name": "python",
   "nbconvert_exporter": "python",
   "pygments_lexer": "ipython3",
   "version": "3.9.5"
  },
  "widgets": {
   "application/vnd.jupyter.widget-state+json": {
    "state": {
     "006f8192421746d28e536f9ea11246fb": {
      "model_module": "@jupyter-widgets/base",
      "model_module_version": "1.2.0",
      "model_name": "LayoutModel",
      "state": {}
     },
     "01f95e5fa25545d9a5878e8cc0549123": {
      "model_module": "@jupyter-widgets/controls",
      "model_module_version": "1.5.0",
      "model_name": "DescriptionStyleModel",
      "state": {
       "description_width": "initial"
      }
     },
     "0259c72eff8246ffa4949b611994710c": {
      "model_module": "@jupyter-widgets/base",
      "model_module_version": "1.2.0",
      "model_name": "LayoutModel",
      "state": {}
     },
     "02f1d1028de541258aafee56c2cc80af": {
      "model_module": "@jupyter-widgets/base",
      "model_module_version": "1.2.0",
      "model_name": "LayoutModel",
      "state": {}
     },
     "0325fa170e834b5cbcc8fd06a5a17697": {
      "model_module": "@jupyter-widgets/controls",
      "model_module_version": "1.5.0",
      "model_name": "TextModel",
      "state": {
       "description": "Particle Size, Distribution",
       "layout": "IPY_MODEL_34ba056b80474ebb8411be9babeb6b97",
       "placeholder": "Size Distribution",
       "style": "IPY_MODEL_3c038a8708134b83b27def26d13075ee"
      }
     },
     "03ce4b27aa9c4c15af93395fabfe43af": {
      "model_module": "@jupyter-widgets/controls",
      "model_module_version": "1.5.0",
      "model_name": "TextModel",
      "state": {
       "description": "Hyd. Start:",
       "layout": "IPY_MODEL_f2b19cc8e39e4f669ec7977f838b1744",
       "placeholder": "xxx.x",
       "style": "IPY_MODEL_c6db1a33f3274d50b6a5f02e07ba7964"
      }
     },
     "06da6c5584e0487493d8d25e65b2e09c": {
      "model_module": "@jupyter-widgets/base",
      "model_module_version": "1.2.0",
      "model_name": "LayoutModel",
      "state": {}
     },
     "08184154737e4f28a522abed3f431feb": {
      "model_module": "@jupyter-widgets/controls",
      "model_module_version": "1.5.0",
      "model_name": "TextModel",
      "state": {
       "description": "Feedback",
       "layout": "IPY_MODEL_2f9a91c424ff40ad9c350d222a01c45c",
       "placeholder": "",
       "style": "IPY_MODEL_dd29da9ee7e74cdb959d2974b6fb191c"
      }
     },
     "081bb74f7c654c78b79acb2830393fd4": {
      "model_module": "@jupyter-widgets/base",
      "model_module_version": "1.2.0",
      "model_name": "LayoutModel",
      "state": {
       "grid_area": "widget001"
      }
     },
     "09479faf56f94bf7bd339f44baaf15b0": {
      "model_module": "@jupyter-widgets/controls",
      "model_module_version": "1.5.0",
      "model_name": "DescriptionStyleModel",
      "state": {
       "description_width": "initial"
      }
     },
     "0af79fcdd97346d4bc65a05e7a3504e7": {
      "model_module": "@jupyter-widgets/controls",
      "model_module_version": "1.5.0",
      "model_name": "DescriptionStyleModel",
      "state": {
       "description_width": ""
      }
     },
     "0b39326f664b4099a27a4869d581015b": {
      "model_module": "@jupyter-widgets/controls",
      "model_module_version": "1.5.0",
      "model_name": "DescriptionStyleModel",
      "state": {
       "description_width": ""
      }
     },
     "0bf821d6b73a425c9a7d9279f039900d": {
      "model_module": "@jupyter-widgets/controls",
      "model_module_version": "1.5.0",
      "model_name": "GridBoxModel",
      "state": {
       "children": [
        "IPY_MODEL_a9ae0f1fd7cc4a799f9b4265168ed6b2",
        "IPY_MODEL_15044859b538434d9fc929baaa7556aa",
        "IPY_MODEL_54ecf18a4e7747b0a795201d26801c9e"
       ],
       "layout": "IPY_MODEL_0eaffd1cf171467cae3a910634b19f13"
      }
     },
     "0c05dc56d2fd4f09927896df70f25b92": {
      "model_module": "@jupyter-widgets/base",
      "model_module_version": "1.2.0",
      "model_name": "LayoutModel",
      "state": {}
     },
     "0cf3287e56ff463abfacd22713e43a58": {
      "model_module": "@jupyter-widgets/base",
      "model_module_version": "1.2.0",
      "model_name": "LayoutModel",
      "state": {
       "grid_area": "widget012",
       "width": "150px"
      }
     },
     "0d1be5469ebc4880a3937f3245cbd6c4": {
      "model_module": "@jupyter-widgets/controls",
      "model_module_version": "1.5.0",
      "model_name": "DescriptionStyleModel",
      "state": {
       "description_width": "initial"
      }
     },
     "0d6ba345de954577b7ca9ac851fb9adf": {
      "model_module": "@jupyter-widgets/controls",
      "model_module_version": "1.5.0",
      "model_name": "TextModel",
      "state": {
       "description": "I",
       "layout": "IPY_MODEL_624a95181898425283628cac7359d2b1",
       "placeholder": "",
       "style": "IPY_MODEL_b0713ce302ae4acca03238327ed7be60"
      }
     },
     "0dd7d13347b4435a8fcbceca17512b17": {
      "model_module": "@jupyter-widgets/controls",
      "model_module_version": "1.5.0",
      "model_name": "TextModel",
      "state": {
       "description": "Target Stress(es) (MPa):",
       "layout": "IPY_MODEL_4d6119fa464646738dc9bace0abba8be",
       "placeholder": "MPa",
       "style": "IPY_MODEL_ffbaee91acbd46de9a87b917d8b8a108"
      }
     },
     "0eaffd1cf171467cae3a910634b19f13": {
      "model_module": "@jupyter-widgets/base",
      "model_module_version": "1.2.0",
      "model_name": "LayoutModel",
      "state": {
       "border": "2px solid grey",
       "display": "flex",
       "flex_flow": "row",
       "grid_gap": "5px 100px",
       "padding": "10px",
       "width": "75%"
      }
     },
     "0eb97194650d4159b1308895028a6327": {
      "model_module": "@jupyter-widgets/base",
      "model_module_version": "1.2.0",
      "model_name": "LayoutModel",
      "state": {}
     },
     "0f6662e7eeb745d18aca1ace2eafe446": {
      "model_module": "@jupyter-widgets/controls",
      "model_module_version": "1.5.0",
      "model_name": "DescriptionStyleModel",
      "state": {
       "description_width": "initial"
      }
     },
     "0f752405a8b240949e4b225bf48e7005": {
      "model_module": "@jupyter-widgets/base",
      "model_module_version": "1.2.0",
      "model_name": "LayoutModel",
      "state": {
       "align_items": "stretch",
       "border": "2px solid grey",
       "display": "flex",
       "flex_flow": "row",
       "padding": "10px",
       "width": "75%"
      }
     },
     "0f77eeca754146e6ae4e9c2b88c0502f": {
      "model_module": "@jupyter-widgets/controls",
      "model_module_version": "1.5.0",
      "model_name": "DescriptionStyleModel",
      "state": {
       "description_width": ""
      }
     },
     "111765190cb04eaa8d7412021d0cfdaa": {
      "model_module": "@jupyter-widgets/base",
      "model_module_version": "1.2.0",
      "model_name": "LayoutModel",
      "state": {
       "grid_area": "widget007",
       "width": "150px"
      }
     },
     "1413cb90ee6d437b916f6563f56052a8": {
      "model_module": "@jupyter-widgets/base",
      "model_module_version": "1.2.0",
      "model_name": "LayoutModel",
      "state": {}
     },
     "14b5d3eaf996458a908d4d0ac7e07db2": {
      "model_module": "@jupyter-widgets/base",
      "model_module_version": "1.2.0",
      "model_name": "LayoutModel",
      "state": {}
     },
     "14d50cee3ff543fea3c0f6e3c7e8163d": {
      "model_module": "@jupyter-widgets/controls",
      "model_module_version": "1.5.0",
      "model_name": "TextModel",
      "state": {
       "description": "D",
       "layout": "IPY_MODEL_83c925241395426b86178d9026876453",
       "placeholder": "",
       "style": "IPY_MODEL_ec95105b45c54329a3ff2bf5e6c43972"
      }
     },
     "15044859b538434d9fc929baaa7556aa": {
      "model_module": "@jupyter-widgets/controls",
      "model_module_version": "1.5.0",
      "model_name": "VBoxModel",
      "state": {
       "children": [
        "IPY_MODEL_67548bf892484ed191e19ae51fdc9333",
        "IPY_MODEL_e887ed58779b4cfb89f44245c2ec5740"
       ],
       "layout": "IPY_MODEL_ae8ea47251c740cea814d8e2d9eac6e4"
      }
     },
     "154cdd80e30b48f0aea0782dc7d02aac": {
      "model_module": "@jupyter-widgets/controls",
      "model_module_version": "1.5.0",
      "model_name": "DescriptionStyleModel",
      "state": {
       "description_width": "initial"
      }
     },
     "155c02f610ee4af694396e9064564870": {
      "model_module": "@jupyter-widgets/base",
      "model_module_version": "1.2.0",
      "model_name": "LayoutModel",
      "state": {}
     },
     "156894c55adc40e7af6afbe6a82730e4": {
      "model_module": "@jupyter-widgets/controls",
      "model_module_version": "1.5.0",
      "model_name": "DescriptionStyleModel",
      "state": {
       "description_width": ""
      }
     },
     "16745f3810a94824acc1d3c94380665f": {
      "model_module": "@jupyter-widgets/controls",
      "model_module_version": "1.5.0",
      "model_name": "DropdownModel",
      "state": {
       "_options_labels": [
        "44mm Solid Horiz",
        "44mm Solid Vert",
        "None"
       ],
       "description": "Horiz. Load Cell:",
       "index": 0,
       "layout": "IPY_MODEL_1f321cf6b1e74ec1bf242a05fde550e8",
       "style": "IPY_MODEL_d2be9ad7aa064a3698f0e9ac7e9f37f1"
      }
     },
     "195229618dfb4f37bfe321135d257502": {
      "model_module": "@jupyter-widgets/controls",
      "model_module_version": "1.5.0",
      "model_name": "TextModel",
      "state": {
       "description": "Datten",
       "layout": "IPY_MODEL_78a05be39b7545cfb173c2b78435e6e0",
       "placeholder": "",
       "style": "IPY_MODEL_3dbec8d29bb7481b933ab7c567474d2b"
      }
     },
     "19a0cd54f469414b9481583abdc977f7": {
      "model_module": "@jupyter-widgets/controls",
      "model_module_version": "1.5.0",
      "model_name": "DescriptionStyleModel",
      "state": {
       "description_width": ""
      }
     },
     "1b237423ac174760b22b219ff74cc2ee": {
      "model_module": "@jupyter-widgets/controls",
      "model_module_version": "1.5.0",
      "model_name": "TextModel",
      "state": {
       "description": "Temperture",
       "layout": "IPY_MODEL_2d5518a348504fd79214e37445a90ae9",
       "placeholder": "Temperature (C)",
       "style": "IPY_MODEL_b1b1edadf86546a4a7ab22e82412c2fa"
      }
     },
     "1b79e20a69394ef1917c2890489403d0": {
      "model_module": "@jupyter-widgets/base",
      "model_module_version": "1.2.0",
      "model_name": "LayoutModel",
      "state": {}
     },
     "1c2f8f015d9e47babee8b9197d5f6a2a": {
      "model_module": "@jupyter-widgets/controls",
      "model_module_version": "1.5.0",
      "model_name": "VBoxModel",
      "state": {
       "children": [
        "IPY_MODEL_b200ebc76fb84ae08fb75ec93ab068ed",
        "IPY_MODEL_16745f3810a94824acc1d3c94380665f",
        "IPY_MODEL_faad05ff29314bff83d880d51caea21b",
        "IPY_MODEL_403b9aaf61444c6abb3db8025e7c7216",
        "IPY_MODEL_c3fdd884161d477abfe36d302877b645",
        "IPY_MODEL_3ea2a10222d9480e9a3c22827c3640e5"
       ],
       "layout": "IPY_MODEL_996dafe3e35b42848959624c36b49cc0"
      }
     },
     "1c77fe414d05461b8c26883d14b257a7": {
      "model_module": "@jupyter-widgets/controls",
      "model_module_version": "1.5.0",
      "model_name": "DescriptionStyleModel",
      "state": {
       "description_width": ""
      }
     },
     "1d82aac0aa764918a2720a5580ca6d56": {
      "model_module": "@jupyter-widgets/controls",
      "model_module_version": "1.5.0",
      "model_name": "TextModel",
      "state": {
       "description": "D",
       "layout": "IPY_MODEL_71ac78f667ce40bdbaa08c427c11a390",
       "placeholder": "",
       "style": "IPY_MODEL_82955f58274a44b4a5cd2a9c0313365f"
      }
     },
     "1ef6adb954a84362b0e7990510a2ec6a": {
      "model_module": "@jupyter-widgets/base",
      "model_module_version": "1.2.0",
      "model_name": "LayoutModel",
      "state": {
       "grid_area": "widget002",
       "width": "150px"
      }
     },
     "1f321cf6b1e74ec1bf242a05fde550e8": {
      "model_module": "@jupyter-widgets/base",
      "model_module_version": "1.2.0",
      "model_name": "LayoutModel",
      "state": {}
     },
     "1f7a2c2e9f9d44549558208d88ebe7c7": {
      "model_module": "@jupyter-widgets/base",
      "model_module_version": "1.2.0",
      "model_name": "LayoutModel",
      "state": {}
     },
     "225c29cebe9b436aa82be8736dbeb012": {
      "model_module": "@jupyter-widgets/base",
      "model_module_version": "1.2.0",
      "model_name": "LayoutModel",
      "state": {
       "align_content": "center",
       "align_items": "center",
       "border": "2px solid grey",
       "display": "inline_flex",
       "grid_template_areas": "\"widget001 widget001 widget008 widget008\"\n\"widget002 widget005 widget009 widget012\"\n\"widget003 widget006 widget010 widget013\"\n\"widget004 widget007 widget011 widget014\"",
       "grid_template_columns": "repeat(4, 1fr)",
       "grid_template_rows": "repeat(4, 1fr)",
       "padding": "10px",
       "width": "75%"
      }
     },
     "235e2a34e72143cbbfd7f5e1c9a0dfd2": {
      "model_module": "@jupyter-widgets/base",
      "model_module_version": "1.2.0",
      "model_name": "LayoutModel",
      "state": {
       "border": "2px solid royalblue",
       "display": "flex",
       "flex_flow": "row",
       "grid_gap": "60px",
       "padding": "10px",
       "width": "75%"
      }
     },
     "2387576add724b8da4553c12e107a500": {
      "model_module": "@jupyter-widgets/controls",
      "model_module_version": "1.5.0",
      "model_name": "TextModel",
      "state": {
       "description": "E-gain",
       "layout": "IPY_MODEL_fdf8218f4d38433784d78e9862219da5",
       "placeholder": "",
       "style": "IPY_MODEL_c02016698dac4168be87e8bfe7785f0d"
      }
     },
     "23f81e1f1e1341c08ef7cda007304e65": {
      "model_module": "@jupyter-widgets/controls",
      "model_module_version": "1.5.0",
      "model_name": "DescriptionStyleModel",
      "state": {
       "description_width": ""
      }
     },
     "24158e0a40504b8b8828bf78166c7fb2": {
      "model_module": "@jupyter-widgets/base",
      "model_module_version": "1.2.0",
      "model_name": "LayoutModel",
      "state": {}
     },
     "2415a13a089647d2ad3a14c5ade89635": {
      "model_module": "@jupyter-widgets/controls",
      "model_module_version": "1.5.0",
      "model_name": "DescriptionStyleModel",
      "state": {
       "description_width": ""
      }
     },
     "25ac5471282a428db96eb79a56a7932c": {
      "model_module": "@jupyter-widgets/controls",
      "model_module_version": "1.5.0",
      "model_name": "RadioButtonsModel",
      "state": {
       "_options_labels": [
        "yes",
        "no"
       ],
       "description": "Record PID?",
       "index": 1,
       "layout": "IPY_MODEL_e29cc51152cf40bbb6c902bd868e8479",
       "style": "IPY_MODEL_423787e20e214708b2a8a3f1e5ee7687"
      }
     },
     "2644b5860122468cb8aa2036c6468c03": {
      "model_module": "@jupyter-widgets/controls",
      "model_module_version": "1.5.0",
      "model_name": "TextModel",
      "state": {
       "description": "Pc Gain (V/MPa):",
       "layout": "IPY_MODEL_6fef606e9f2740698cfaa2139f08d253",
       "placeholder": "0.1456 V/MPa",
       "style": "IPY_MODEL_bb89333544c047b5a6312c4bb24f134b",
       "value": "0.1456"
      }
     },
     "266301cc4ef9412e9e8d59c871df397f": {
      "model_module": "@jupyter-widgets/controls",
      "model_module_version": "1.5.0",
      "model_name": "DescriptionStyleModel",
      "state": {
       "description_width": ""
      }
     },
     "274f3696088b4f66802031f8b8f5e4aa": {
      "model_module": "@jupyter-widgets/controls",
      "model_module_version": "1.5.0",
      "model_name": "DescriptionStyleModel",
      "state": {
       "description_width": ""
      }
     },
     "2812394f5e7d4fd5a6f9482f162e658c": {
      "model_module": "@jupyter-widgets/controls",
      "model_module_version": "1.5.0",
      "model_name": "DescriptionStyleModel",
      "state": {
       "description_width": "initial"
      }
     },
     "29361954477d4a0cb65bf791576ccbfb": {
      "model_module": "@jupyter-widgets/controls",
      "model_module_version": "1.5.0",
      "model_name": "DescriptionStyleModel",
      "state": {
       "description_width": ""
      }
     },
     "2948a6a26a414a37951e6f1d85a181e1": {
      "model_module": "@jupyter-widgets/controls",
      "model_module_version": "1.5.0",
      "model_name": "TextModel",
      "state": {
       "description": "P",
       "layout": "IPY_MODEL_fc08a31567774630b7f7790d8348f88a",
       "placeholder": "",
       "style": "IPY_MODEL_607749878e1842749e8345030c9214db"
      }
     },
     "294a85dad3a542d6a34d48e9e513408f": {
      "model_module": "@jupyter-widgets/base",
      "model_module_version": "1.2.0",
      "model_name": "LayoutModel",
      "state": {
       "grid_area": "widget012",
       "width": "150px"
      }
     },
     "294b5633951548d6a1ea7d0c8f19f331": {
      "model_module": "@jupyter-widgets/base",
      "model_module_version": "1.2.0",
      "model_name": "LayoutModel",
      "state": {
       "flex": "1 1 1%",
       "width": "auto"
      }
     },
     "297bd3e5dceb47af8034da9246a42b39": {
      "model_module": "@jupyter-widgets/output",
      "model_module_version": "1.0.0",
      "model_name": "OutputModel",
      "state": {
       "layout": "IPY_MODEL_7d696bd0e74d49ab903fd06502b06a14"
      }
     },
     "2d5518a348504fd79214e37445a90ae9": {
      "model_module": "@jupyter-widgets/base",
      "model_module_version": "1.2.0",
      "model_name": "LayoutModel",
      "state": {
       "flex": "1 1 1%",
       "width": "auto"
      }
     },
     "2d60693a72c64975b77193de16a3e490": {
      "model_module": "@jupyter-widgets/controls",
      "model_module_version": "1.5.0",
      "model_name": "LabelModel",
      "state": {
       "layout": "IPY_MODEL_d1eb28368b8543afbaf030a2de204d99",
       "style": "IPY_MODEL_e8d24f3580ef41d18f19f1f304bdc3a9",
       "value": "Hor. Servo Settings"
      }
     },
     "2dc4f2bbf256408597f9f4bc6b59cd5e": {
      "model_module": "@jupyter-widgets/controls",
      "model_module_version": "1.5.0",
      "model_name": "DescriptionStyleModel",
      "state": {
       "description_width": ""
      }
     },
     "2df971cd30224a66bd24607cddb86d4d": {
      "model_module": "@jupyter-widgets/controls",
      "model_module_version": "1.5.0",
      "model_name": "DescriptionStyleModel",
      "state": {
       "description_width": "initial"
      }
     },
     "2eb85c91d66a48139a3abd3e7c58d56b": {
      "model_module": "@jupyter-widgets/controls",
      "model_module_version": "1.5.0",
      "model_name": "TextModel",
      "state": {
       "description": "Sample Block Thickness (no gouge)",
       "layout": "IPY_MODEL_ec91a80b87954f78a5394a914c0dd9a9",
       "placeholder": "mm",
       "style": "IPY_MODEL_3d261189a7d3404c85a786cbce6a431c"
      }
     },
     "2ed4c97c7a8f42309f19fac0de28b680": {
      "model_module": "@jupyter-widgets/base",
      "model_module_version": "1.2.0",
      "model_name": "LayoutModel",
      "state": {}
     },
     "2f9a91c424ff40ad9c350d222a01c45c": {
      "model_module": "@jupyter-widgets/base",
      "model_module_version": "1.2.0",
      "model_name": "LayoutModel",
      "state": {
       "grid_area": "widget006",
       "width": "150px"
      }
     },
     "31b36ae5ce0a4427a0fee9c102b1151d": {
      "model_module": "@jupyter-widgets/base",
      "model_module_version": "1.2.0",
      "model_name": "LayoutModel",
      "state": {}
     },
     "328df6a11d1c4d469b45be400b792ee9": {
      "model_module": "@jupyter-widgets/base",
      "model_module_version": "1.2.0",
      "model_name": "LayoutModel",
      "state": {
       "flex": "1 1 1%",
       "width": "auto"
      }
     },
     "33bf87d2318c4f388372bee54c042a23": {
      "model_module": "@jupyter-widgets/controls",
      "model_module_version": "1.5.0",
      "model_name": "TextModel",
      "state": {
       "description": "V. Init. Volt.:",
       "layout": "IPY_MODEL_85fba816579046e4ab17cb00bac482b1",
       "placeholder": "Volt",
       "style": "IPY_MODEL_154cdd80e30b48f0aea0782dc7d02aac"
      }
     },
     "34ba056b80474ebb8411be9babeb6b97": {
      "model_module": "@jupyter-widgets/base",
      "model_module_version": "1.2.0",
      "model_name": "LayoutModel",
      "state": {}
     },
     "3798ee88b1d342e6b9c9a4579a7e1cde": {
      "model_module": "@jupyter-widgets/controls",
      "model_module_version": "1.5.0",
      "model_name": "LabelModel",
      "state": {
       "layout": "IPY_MODEL_4beb767e905b4018b1ffad61beabd60e",
       "style": "IPY_MODEL_a80859062d4d43e2a11d12f3c6851ca8",
       "value": "Confining Pressure"
      }
     },
     "3845e2ff146146fb95bfadbbd95d54ab": {
      "model_module": "@jupyter-widgets/controls",
      "model_module_version": "1.5.0",
      "model_name": "VBoxModel",
      "state": {
       "children": [
        "IPY_MODEL_3798ee88b1d342e6b9c9a4579a7e1cde",
        "IPY_MODEL_4d62896169884a2ab97cad000c7bc518",
        "IPY_MODEL_df7dbd25333e4f2198d48c309d1bb976",
        "IPY_MODEL_90e33dd2f6be462b98178edb64268817",
        "IPY_MODEL_4d3fc92542d64ccf860e14b22417a95c"
       ],
       "layout": "IPY_MODEL_02f1d1028de541258aafee56c2cc80af"
      }
     },
     "3b788aabc24348c4a4596295a1ffbf83": {
      "model_module": "@jupyter-widgets/base",
      "model_module_version": "1.2.0",
      "model_name": "LayoutModel",
      "state": {
       "grid_area": "widget004",
       "width": "150px"
      }
     },
     "3c038a8708134b83b27def26d13075ee": {
      "model_module": "@jupyter-widgets/controls",
      "model_module_version": "1.5.0",
      "model_name": "DescriptionStyleModel",
      "state": {
       "description_width": "initial"
      }
     },
     "3c9ba08541dc45d4b4496eec05ae8be1": {
      "model_module": "@jupyter-widgets/controls",
      "model_module_version": "1.5.0",
      "model_name": "TextModel",
      "state": {
       "description": "P",
       "layout": "IPY_MODEL_dfbd2fd89aba4c15bc38824f3dbfb652",
       "placeholder": "",
       "style": "IPY_MODEL_562abb7308f2451eb7aae8a40f5f692c"
      }
     },
     "3cbc11a1424e4503a86d4b0bc9970634": {
      "model_module": "@jupyter-widgets/controls",
      "model_module_version": "1.5.0",
      "model_name": "VBoxModel",
      "state": {
       "children": [
        "IPY_MODEL_7c67849d623d4d48a6c0dab2711aab7c",
        "IPY_MODEL_03ce4b27aa9c4c15af93395fabfe43af",
        "IPY_MODEL_44fcc53143e74f41aa5437387939c0fc"
       ],
       "layout": "IPY_MODEL_87cd36f6cbe84a37b033452f81fb91e2"
      }
     },
     "3d261189a7d3404c85a786cbce6a431c": {
      "model_module": "@jupyter-widgets/controls",
      "model_module_version": "1.5.0",
      "model_name": "DescriptionStyleModel",
      "state": {
       "description_width": "initial"
      }
     },
     "3d3721ab8e754ff884bae9ecd79790f6": {
      "model_module": "@jupyter-widgets/base",
      "model_module_version": "1.2.0",
      "model_name": "LayoutModel",
      "state": {
       "grid_area": "widget013",
       "width": "150px"
      }
     },
     "3dbec8d29bb7481b933ab7c567474d2b": {
      "model_module": "@jupyter-widgets/controls",
      "model_module_version": "1.5.0",
      "model_name": "DescriptionStyleModel",
      "state": {
       "description_width": ""
      }
     },
     "3dd33933f26c42ea899d0bdcc43d4e88": {
      "model_module": "@jupyter-widgets/base",
      "model_module_version": "1.2.0",
      "model_name": "LayoutModel",
      "state": {
       "grid_area": "widget011",
       "width": "150px"
      }
     },
     "3e5e52d856a148b9b5cc710aca10d85a": {
      "model_module": "@jupyter-widgets/controls",
      "model_module_version": "1.5.0",
      "model_name": "DescriptionStyleModel",
      "state": {
       "description_width": "initial"
      }
     },
     "3ea2a10222d9480e9a3c22827c3640e5": {
      "model_module": "@jupyter-widgets/controls",
      "model_module_version": "1.5.0",
      "model_name": "LabelModel",
      "state": {
       "layout": "IPY_MODEL_c7f5b4deff1d404b90cbab1be498f5d7",
       "style": "IPY_MODEL_156894c55adc40e7af6afbe6a82730e4",
       "value": "Volt. @ Load = "
      }
     },
     "3fb827ad62e04cd5929db370cdd50397": {
      "model_module": "@jupyter-widgets/controls",
      "model_module_version": "1.5.0",
      "model_name": "DescriptionStyleModel",
      "state": {
       "description_width": ""
      }
     },
     "4021a6bc02ef45cd8fb30be53aa4f482": {
      "model_module": "@jupyter-widgets/base",
      "model_module_version": "1.2.0",
      "model_name": "LayoutModel",
      "state": {
       "grid_area": "widget008"
      }
     },
     "403b9aaf61444c6abb3db8025e7c7216": {
      "model_module": "@jupyter-widgets/controls",
      "model_module_version": "1.5.0",
      "model_name": "TextModel",
      "state": {
       "description": "Target Stress(es) (MPa):",
       "layout": "IPY_MODEL_06da6c5584e0487493d8d25e65b2e09c",
       "placeholder": "MPa",
       "style": "IPY_MODEL_7aad6818f8e0460ead75a3b3dcdf8b53"
      }
     },
     "41d81e6b933945bd87b763cac3f0f001": {
      "model_module": "@jupyter-widgets/base",
      "model_module_version": "1.2.0",
      "model_name": "LayoutModel",
      "state": {}
     },
     "423787e20e214708b2a8a3f1e5ee7687": {
      "model_module": "@jupyter-widgets/controls",
      "model_module_version": "1.5.0",
      "model_name": "DescriptionStyleModel",
      "state": {
       "description_width": ""
      }
     },
     "44fcc53143e74f41aa5437387939c0fc": {
      "model_module": "@jupyter-widgets/controls",
      "model_module_version": "1.5.0",
      "model_name": "TextModel",
      "state": {
       "description": "Hyd. End:",
       "layout": "IPY_MODEL_78c6fc33b1d84799b15bf30301dcb393",
       "placeholder": "xxx.x",
       "style": "IPY_MODEL_9230ef5858ad4f7096829f1f0d611b28"
      }
     },
     "45709d6a743b4855909d1b7a5d5b1e7a": {
      "model_module": "@jupyter-widgets/base",
      "model_module_version": "1.2.0",
      "model_name": "LayoutModel",
      "state": {
       "flex": "1 1 1%",
       "width": "auto"
      }
     },
     "467f90d981a64f1fa3dbe7d39b2357cc": {
      "model_module": "@jupyter-widgets/controls",
      "model_module_version": "1.5.0",
      "model_name": "TextModel",
      "state": {
       "description": "Target Stress(es) (MPa):",
       "layout": "IPY_MODEL_8b6818fb4c104a7290a6fc17af124790",
       "placeholder": "MPa",
       "style": "IPY_MODEL_b6c224d5b5eb4eb1afcdbe6bd3e12efa"
      }
     },
     "474619f5756c4579bb873f6d371ce5b7": {
      "model_module": "@jupyter-widgets/controls",
      "model_module_version": "1.5.0",
      "model_name": "LabelModel",
      "state": {
       "layout": "IPY_MODEL_def4e25ba5634c7db104fa927c66b478",
       "style": "IPY_MODEL_4f7bfde268f54878ac3adb2f1f577229",
       "value": "Vert. Servo Settings"
      }
     },
     "4876c7038ce44456a0101e47572ea719": {
      "model_module": "@jupyter-widgets/controls",
      "model_module_version": "1.5.0",
      "model_name": "TextModel",
      "state": {
       "description": "Material",
       "layout": "IPY_MODEL_a038c360025c4514b8a7e74f4f869a1e",
       "placeholder": "Anhydrite, Westerly Granite",
       "style": "IPY_MODEL_d271fe32895b487a92cd8f72b0902c02"
      }
     },
     "488357bae26c4e7782a496f29315fbc4": {
      "model_module": "@jupyter-widgets/controls",
      "model_module_version": "1.5.0",
      "model_name": "ButtonModel",
      "state": {
       "description": "Make Runsheet",
       "layout": "IPY_MODEL_642e20454fd742d9b48eb54fc6c6270b",
       "style": "IPY_MODEL_675375f93769427e903fb80e211dc26e"
      }
     },
     "490d7a6191c64a0ba958f9ed95c9e88d": {
      "model_module": "@jupyter-widgets/controls",
      "model_module_version": "1.5.0",
      "model_name": "DescriptionStyleModel",
      "state": {
       "description_width": ""
      }
     },
     "496d92925a2f49eb8b42bbfcc228f195": {
      "model_module": "@jupyter-widgets/controls",
      "model_module_version": "1.5.0",
      "model_name": "LabelModel",
      "state": {
       "layout": "IPY_MODEL_8d29919874264a07a4c161c5a7da1e70",
       "style": "IPY_MODEL_19a0cd54f469414b9481583abdc977f7",
       "value": "Volt. @ Load = "
      }
     },
     "4a102b81221043b58f9342ee015993d8": {
      "model_module": "@jupyter-widgets/controls",
      "model_module_version": "1.5.0",
      "model_name": "TextModel",
      "state": {
       "description": "E-gain",
       "layout": "IPY_MODEL_a8689054e5594db588bfdb6a3d4124f1",
       "placeholder": "",
       "style": "IPY_MODEL_c10acc60557f42cca56f7de76c320171"
      }
     },
     "4b3934c5340c42bf96cd46325ffee5b8": {
      "model_module": "@jupyter-widgets/controls",
      "model_module_version": "1.5.0",
      "model_name": "LabelModel",
      "state": {
       "layout": "IPY_MODEL_2ed4c97c7a8f42309f19fac0de28b680",
       "style": "IPY_MODEL_9f2d3760efed42628c2dee4f61076622"
      }
     },
     "4beb767e905b4018b1ffad61beabd60e": {
      "model_module": "@jupyter-widgets/base",
      "model_module_version": "1.2.0",
      "model_name": "LayoutModel",
      "state": {}
     },
     "4d3fc92542d64ccf860e14b22417a95c": {
      "model_module": "@jupyter-widgets/controls",
      "model_module_version": "1.5.0",
      "model_name": "LabelModel",
      "state": {
       "layout": "IPY_MODEL_c07016ea4528490689759b3db813847a",
       "style": "IPY_MODEL_b3146f61bea54c788352fdd4e0330606",
       "value": "Volt. @ Load = "
      }
     },
     "4d6119fa464646738dc9bace0abba8be": {
      "model_module": "@jupyter-widgets/base",
      "model_module_version": "1.2.0",
      "model_name": "LayoutModel",
      "state": {}
     },
     "4d62896169884a2ab97cad000c7bc518": {
      "model_module": "@jupyter-widgets/controls",
      "model_module_version": "1.5.0",
      "model_name": "TextModel",
      "state": {
       "description": "Ppa Gain (V/MPa):",
       "layout": "IPY_MODEL_a8aae611ddad49dca295b7d0fabaf4ee",
       "placeholder": "Ppa Gain (V/MPa)",
       "style": "IPY_MODEL_bec03db0750a475aaddc65c736e35280"
      }
     },
     "4f7bfde268f54878ac3adb2f1f577229": {
      "model_module": "@jupyter-widgets/controls",
      "model_module_version": "1.5.0",
      "model_name": "DescriptionStyleModel",
      "state": {
       "description_width": ""
      }
     },
     "527df04f54734dad80efd27c567ad0a5": {
      "model_module": "@jupyter-widgets/controls",
      "model_module_version": "1.5.0",
      "model_name": "TextModel",
      "state": {
       "description": "E-gain",
       "layout": "IPY_MODEL_734488eb39c2425583e901e796bfb61a",
       "placeholder": "",
       "style": "IPY_MODEL_bc2d8c733109485abcb6c1fedfe85fc3"
      }
     },
     "53f8fe9f289c4e68a8497e5a9f4f8fb9": {
      "model_module": "@jupyter-widgets/controls",
      "model_module_version": "1.5.0",
      "model_name": "DescriptionStyleModel",
      "state": {
       "description_width": ""
      }
     },
     "54ecf18a4e7747b0a795201d26801c9e": {
      "model_module": "@jupyter-widgets/controls",
      "model_module_version": "1.5.0",
      "model_name": "VBoxModel",
      "state": {
       "children": [
        "IPY_MODEL_c5e1c5b8de354b05a6a7f218db0b4232",
        "IPY_MODEL_b19bb24b2b8c4d28a6058a8663eff0fa"
       ],
       "layout": "IPY_MODEL_328df6a11d1c4d469b45be400b792ee9"
      }
     },
     "554fc725a0a2484aab056c3c2cc3ee00": {
      "model_module": "@jupyter-widgets/base",
      "model_module_version": "1.2.0",
      "model_name": "LayoutModel",
      "state": {}
     },
     "562abb7308f2451eb7aae8a40f5f692c": {
      "model_module": "@jupyter-widgets/controls",
      "model_module_version": "1.5.0",
      "model_name": "DescriptionStyleModel",
      "state": {
       "description_width": ""
      }
     },
     "59d34a6c2330419c8c1178c9192c09ea": {
      "model_module": "@jupyter-widgets/controls",
      "model_module_version": "1.5.0",
      "model_name": "DescriptionStyleModel",
      "state": {
       "description_width": "initial"
      }
     },
     "5d1c7aa298134f2fb225b868cb1c8779": {
      "model_module": "@jupyter-widgets/controls",
      "model_module_version": "1.5.0",
      "model_name": "RadioButtonsModel",
      "state": {
       "_options_labels": [
        "yes",
        "no"
       ],
       "description": "Use Vessel?",
       "index": 1,
       "layout": "IPY_MODEL_6138cc7f191b4222b94f2856cc8d079c",
       "style": "IPY_MODEL_266301cc4ef9412e9e8d59c871df397f"
      }
     },
     "5dfbb582603c4e4c8cbde6b6a4f9e5b9": {
      "model_module": "@jupyter-widgets/controls",
      "model_module_version": "1.5.0",
      "model_name": "TextModel",
      "state": {
       "description": "Pore Fluid",
       "layout": "IPY_MODEL_0c05dc56d2fd4f09927896df70f25b92",
       "placeholder": "DI H2O",
       "style": "IPY_MODEL_9db6dbc336c5470394272d3f9bb1e589",
       "value": "DI H2O"
      }
     },
     "5fd77701d3d44d1fb601fd7fd3195d67": {
      "model_module": "@jupyter-widgets/controls",
      "model_module_version": "1.5.0",
      "model_name": "TextModel",
      "state": {
       "description": "Operator Name(s):",
       "layout": "IPY_MODEL_0eb97194650d4159b1308895028a6327",
       "placeholder": "Name(s)",
       "style": "IPY_MODEL_59d34a6c2330419c8c1178c9192c09ea"
      }
     },
     "607749878e1842749e8345030c9214db": {
      "model_module": "@jupyter-widgets/controls",
      "model_module_version": "1.5.0",
      "model_name": "DescriptionStyleModel",
      "state": {
       "description_width": ""
      }
     },
     "6138cc7f191b4222b94f2856cc8d079c": {
      "model_module": "@jupyter-widgets/base",
      "model_module_version": "1.2.0",
      "model_name": "LayoutModel",
      "state": {}
     },
     "624a95181898425283628cac7359d2b1": {
      "model_module": "@jupyter-widgets/base",
      "model_module_version": "1.2.0",
      "model_name": "LayoutModel",
      "state": {
       "grid_area": "widget003",
       "width": "150px"
      }
     },
     "62f0962549434389ba535d071b4d0640": {
      "model_module": "@jupyter-widgets/controls",
      "model_module_version": "1.5.0",
      "model_name": "DescriptionStyleModel",
      "state": {
       "description_width": ""
      }
     },
     "6361125932844576bd59cb7d3306cabc": {
      "model_module": "@jupyter-widgets/controls",
      "model_module_version": "1.5.0",
      "model_name": "VBoxModel",
      "state": {
       "children": [
        "IPY_MODEL_3798ee88b1d342e6b9c9a4579a7e1cde",
        "IPY_MODEL_2644b5860122468cb8aa2036c6468c03",
        "IPY_MODEL_0dd7d13347b4435a8fcbceca17512b17",
        "IPY_MODEL_724c33c4513048948e99fb173428ac92",
        "IPY_MODEL_9746efe01df54c2f991eb3fecc9c68f3"
       ],
       "layout": "IPY_MODEL_91ffe54042dd42e0a915b365e88fbce0"
      }
     },
     "642e20454fd742d9b48eb54fc6c6270b": {
      "model_module": "@jupyter-widgets/base",
      "model_module_version": "1.2.0",
      "model_name": "LayoutModel",
      "state": {}
     },
     "64c8088fd4b843d9bbab5746258fb273": {
      "model_module": "@jupyter-widgets/controls",
      "model_module_version": "1.5.0",
      "model_name": "DescriptionStyleModel",
      "state": {
       "description_width": ""
      }
     },
     "653c7344fbe241ad85cf3fc2a24efabf": {
      "model_module": "@jupyter-widgets/base",
      "model_module_version": "1.2.0",
      "model_name": "LayoutModel",
      "state": {}
     },
     "65cdb59b8ce44367ac8f298cf50dfbcc": {
      "model_module": "@jupyter-widgets/base",
      "model_module_version": "1.2.0",
      "model_name": "LayoutModel",
      "state": {}
     },
     "65df5956754b42a39c3dae6046a67972": {
      "model_module": "@jupyter-widgets/controls",
      "model_module_version": "1.5.0",
      "model_name": "DescriptionStyleModel",
      "state": {
       "description_width": "initial"
      }
     },
     "669effa83c1f4e2baeb784e6ffe65159": {
      "model_module": "@jupyter-widgets/controls",
      "model_module_version": "1.5.0",
      "model_name": "DescriptionStyleModel",
      "state": {
       "description_width": ""
      }
     },
     "67180e8b660d43e8975281c13a27fde9": {
      "model_module": "@jupyter-widgets/controls",
      "model_module_version": "1.5.0",
      "model_name": "LabelModel",
      "state": {
       "layout": "IPY_MODEL_4021a6bc02ef45cd8fb30be53aa4f482",
       "style": "IPY_MODEL_1c77fe414d05461b8c26883d14b257a7",
       "value": "Vert. Servo Settings"
      }
     },
     "675375f93769427e903fb80e211dc26e": {
      "model_module": "@jupyter-widgets/controls",
      "model_module_version": "1.5.0",
      "model_name": "ButtonStyleModel",
      "state": {}
     },
     "67548bf892484ed191e19ae51fdc9333": {
      "model_module": "@jupyter-widgets/controls",
      "model_module_version": "1.5.0",
      "model_name": "ComboboxModel",
      "state": {
       "description": "Horiz. DCDT:",
       "ensure_option": true,
       "layout": "IPY_MODEL_41d81e6b933945bd87b763cac3f0f001",
       "options": [
        "short rod",
        "long rod",
        "None"
       ],
       "placeholder": "Horiz. DCDT",
       "style": "IPY_MODEL_01f95e5fa25545d9a5878e8cc0549123"
      }
     },
     "680b1c7525b5444b952ae9cd1352243f": {
      "model_module": "@jupyter-widgets/controls",
      "model_module_version": "1.5.0",
      "model_name": "TextareaModel",
      "state": {
       "description": "Experiment Notes",
       "layout": "IPY_MODEL_45709d6a743b4855909d1b7a5d5b1e7a",
       "placeholder": "Experiment Notes",
       "style": "IPY_MODEL_8e35665d649142f7a9d6779cadb26351"
      }
     },
     "6b90e981292c47c6b743d99f503c9c94": {
      "model_module": "@jupyter-widgets/controls",
      "model_module_version": "1.5.0",
      "model_name": "DescriptionStyleModel",
      "state": {
       "description_width": "initial"
      }
     },
     "6c182699fc814cb3a78a3b70c5a53187": {
      "model_module": "@jupyter-widgets/base",
      "model_module_version": "1.2.0",
      "model_name": "LayoutModel",
      "state": {
       "flex": "1 1 1%",
       "width": "auto"
      }
     },
     "6cfe1657a91641a484a0c3fb29e3e7fe": {
      "model_module": "@jupyter-widgets/controls",
      "model_module_version": "1.5.0",
      "model_name": "DescriptionStyleModel",
      "state": {
       "description_width": "initial"
      }
     },
     "6d6f060b69d54cbea35c11a47b5f41d0": {
      "model_module": "@jupyter-widgets/controls",
      "model_module_version": "1.5.0",
      "model_name": "DescriptionStyleModel",
      "state": {
       "description_width": "initial"
      }
     },
     "6ef2561ec2384313ab30bd5317b20372": {
      "model_module": "@jupyter-widgets/controls",
      "model_module_version": "1.5.0",
      "model_name": "TextModel",
      "state": {
       "description": "I",
       "layout": "IPY_MODEL_f4aa4ace3d6e4521ac38e2f6e6c87744",
       "placeholder": "",
       "style": "IPY_MODEL_490d7a6191c64a0ba958f9ed95c9e88d"
      }
     },
     "6fef606e9f2740698cfaa2139f08d253": {
      "model_module": "@jupyter-widgets/base",
      "model_module_version": "1.2.0",
      "model_name": "LayoutModel",
      "state": {}
     },
     "70015c8f5cc6462e91708576cbebff2a": {
      "model_module": "@jupyter-widgets/base",
      "model_module_version": "1.2.0",
      "model_name": "LayoutModel",
      "state": {}
     },
     "70f47193a5474215af395d642651dd14": {
      "model_module": "@jupyter-widgets/controls",
      "model_module_version": "1.5.0",
      "model_name": "TextModel",
      "state": {
       "description": "Layer Thickness",
       "layout": "IPY_MODEL_d04cceaa886140188a1e62e270f9eeae",
       "placeholder": "mm",
       "style": "IPY_MODEL_2812394f5e7d4fd5a6f9482f162e658c"
      }
     },
     "71ac78f667ce40bdbaa08c427c11a390": {
      "model_module": "@jupyter-widgets/base",
      "model_module_version": "1.2.0",
      "model_name": "LayoutModel",
      "state": {
       "grid_area": "widget011",
       "width": "150px"
      }
     },
     "71fa28dbd6474ef5a1ef0a7957680e23": {
      "model_module": "@jupyter-widgets/controls",
      "model_module_version": "1.5.0",
      "model_name": "TextModel",
      "state": {
       "description": "E-gain",
       "layout": "IPY_MODEL_111765190cb04eaa8d7412021d0cfdaa",
       "placeholder": "",
       "style": "IPY_MODEL_e6074c0131ee469a80f3afbb8ce0c6a2"
      }
     },
     "724c33c4513048948e99fb173428ac92": {
      "model_module": "@jupyter-widgets/controls",
      "model_module_version": "1.5.0",
      "model_name": "TextModel",
      "state": {
       "description": "V. Init. Volt.:",
       "layout": "IPY_MODEL_f22cf28aaa794850aecb2bd89083ae3d",
       "placeholder": "Volt",
       "style": "IPY_MODEL_fb47051248b54f498dfd2e8922b41f68"
      }
     },
     "734488eb39c2425583e901e796bfb61a": {
      "model_module": "@jupyter-widgets/base",
      "model_module_version": "1.2.0",
      "model_name": "LayoutModel",
      "state": {
       "grid_area": "widget007",
       "width": "150px"
      }
     },
     "74946555071b4e3a841a486919d107d0": {
      "model_module": "@jupyter-widgets/controls",
      "model_module_version": "1.5.0",
      "model_name": "DescriptionStyleModel",
      "state": {
       "description_width": ""
      }
     },
     "74d88b03f4eb44edbdc27833fdea422b": {
      "model_module": "@jupyter-widgets/output",
      "model_module_version": "1.0.0",
      "model_name": "OutputModel",
      "state": {
       "layout": "IPY_MODEL_14b5d3eaf996458a908d4d0ac7e07db2",
       "outputs": [
        {
         "data": {
          "application/vnd.jupyter.widget-view+json": {
           "model_id": "e845e4939569447d8e7326aceceedf25",
           "version_major": 2,
           "version_minor": 0
          },
          "text/plain": "Label(value='')"
         },
         "metadata": {},
         "output_type": "display_data"
        }
       ]
      }
     },
     "75ae6340fb6a42b38e6c710e30313465": {
      "model_module": "@jupyter-widgets/controls",
      "model_module_version": "1.5.0",
      "model_name": "TextareaModel",
      "state": {
       "description": "Purpose/Description",
       "layout": "IPY_MODEL_b7aab8e6deaf40cd877331331d23f2fd",
       "placeholder": "Purpose/Description",
       "style": "IPY_MODEL_77006c9385f64a14a6e34d3c79ba51ff"
      }
     },
     "77006c9385f64a14a6e34d3c79ba51ff": {
      "model_module": "@jupyter-widgets/controls",
      "model_module_version": "1.5.0",
      "model_name": "DescriptionStyleModel",
      "state": {
       "description_width": "initial"
      }
     },
     "77762e7314354bc6948a883112bdcd59": {
      "model_module": "@jupyter-widgets/controls",
      "model_module_version": "1.5.0",
      "model_name": "DescriptionStyleModel",
      "state": {
       "description_width": ""
      }
     },
     "7870f2c33a3d46e58f5af6658802ff03": {
      "model_module": "@jupyter-widgets/controls",
      "model_module_version": "1.5.0",
      "model_name": "TextModel",
      "state": {
       "description": "P",
       "layout": "IPY_MODEL_1ef6adb954a84362b0e7990510a2ec6a",
       "placeholder": "",
       "style": "IPY_MODEL_3fb827ad62e04cd5929db370cdd50397"
      }
     },
     "78a05be39b7545cfb173c2b78435e6e0": {
      "model_module": "@jupyter-widgets/base",
      "model_module_version": "1.2.0",
      "model_name": "LayoutModel",
      "state": {
       "grid_area": "widget005",
       "width": "150px"
      }
     },
     "78c6fc33b1d84799b15bf30301dcb393": {
      "model_module": "@jupyter-widgets/base",
      "model_module_version": "1.2.0",
      "model_name": "LayoutModel",
      "state": {}
     },
     "7aad6818f8e0460ead75a3b3dcdf8b53": {
      "model_module": "@jupyter-widgets/controls",
      "model_module_version": "1.5.0",
      "model_name": "DescriptionStyleModel",
      "state": {
       "description_width": "initial"
      }
     },
     "7b0f1a88e38c419ea5be6f3223cf2652": {
      "model_module": "@jupyter-widgets/controls",
      "model_module_version": "1.5.0",
      "model_name": "DescriptionStyleModel",
      "state": {
       "description_width": ""
      }
     },
     "7be1f18d3bc94063948fea3c29e468fa": {
      "model_module": "@jupyter-widgets/base",
      "model_module_version": "1.2.0",
      "model_name": "LayoutModel",
      "state": {
       "align_items": "stretch",
       "border": "2px solid grey",
       "display": "flex",
       "flex_flow": "column",
       "padding": "10px",
       "width": "75%"
      }
     },
     "7c67849d623d4d48a6c0dab2711aab7c": {
      "model_module": "@jupyter-widgets/controls",
      "model_module_version": "1.5.0",
      "model_name": "DatePickerModel",
      "state": {
       "description": "Exp. Date:",
       "disabled": false,
       "layout": "IPY_MODEL_70015c8f5cc6462e91708576cbebff2a",
       "style": "IPY_MODEL_3e5e52d856a148b9b5cc710aca10d85a"
      }
     },
     "7d696bd0e74d49ab903fd06502b06a14": {
      "model_module": "@jupyter-widgets/base",
      "model_module_version": "1.2.0",
      "model_name": "LayoutModel",
      "state": {}
     },
     "7e4fa3b425ea48d29adffb000237a216": {
      "model_module": "@jupyter-widgets/controls",
      "model_module_version": "1.5.0",
      "model_name": "TextModel",
      "state": {
       "description": "I",
       "layout": "IPY_MODEL_e8c2ac550bbd407b9a1f6ab2458fb825",
       "placeholder": "",
       "style": "IPY_MODEL_29361954477d4a0cb65bf791576ccbfb"
      }
     },
     "819d19a9944648f5a9512dc0e0d59fed": {
      "model_module": "@jupyter-widgets/controls",
      "model_module_version": "1.5.0",
      "model_name": "VBoxModel",
      "state": {
       "children": [
        "IPY_MODEL_838f70e4a0aa4b548a7d977c2e81bfff",
        "IPY_MODEL_e3e98e25845b430abb2c9e53c04d7115",
        "IPY_MODEL_b7f22104303b4ccfb54ad9b181d5c704",
        "IPY_MODEL_467f90d981a64f1fa3dbe7d39b2357cc",
        "IPY_MODEL_33bf87d2318c4f388372bee54c042a23",
        "IPY_MODEL_496d92925a2f49eb8b42bbfcc228f195"
       ],
       "layout": "IPY_MODEL_829b542f97c449b2829fb50d868b1017"
      }
     },
     "8200e0ae5f7d4fb49c7beb8a380fdf1a": {
      "model_module": "@jupyter-widgets/controls",
      "model_module_version": "1.5.0",
      "model_name": "TextModel",
      "state": {
       "description": "D",
       "layout": "IPY_MODEL_3dd33933f26c42ea899d0bdcc43d4e88",
       "placeholder": "",
       "style": "IPY_MODEL_74946555071b4e3a841a486919d107d0"
      }
     },
     "82955f58274a44b4a5cd2a9c0313365f": {
      "model_module": "@jupyter-widgets/controls",
      "model_module_version": "1.5.0",
      "model_name": "DescriptionStyleModel",
      "state": {
       "description_width": ""
      }
     },
     "829b542f97c449b2829fb50d868b1017": {
      "model_module": "@jupyter-widgets/base",
      "model_module_version": "1.2.0",
      "model_name": "LayoutModel",
      "state": {
       "flex": "1 1 0%",
       "width": "auto"
      }
     },
     "82c88e6733ce4f1d8976617a744b325b": {
      "model_module": "@jupyter-widgets/controls",
      "model_module_version": "1.5.0",
      "model_name": "TextModel",
      "state": {
       "description": "P",
       "layout": "IPY_MODEL_b9178dfca5e549aab3b0043cbf9843e6",
       "placeholder": "",
       "style": "IPY_MODEL_2415a13a089647d2ad3a14c5ade89635"
      }
     },
     "838f70e4a0aa4b548a7d977c2e81bfff": {
      "model_module": "@jupyter-widgets/controls",
      "model_module_version": "1.5.0",
      "model_name": "LabelModel",
      "state": {
       "layout": "IPY_MODEL_554fc725a0a2484aab056c3c2cc3ee00",
       "style": "IPY_MODEL_274f3696088b4f66802031f8b8f5e4aa",
       "value": "Vertical Load Cell"
      }
     },
     "83c925241395426b86178d9026876453": {
      "model_module": "@jupyter-widgets/base",
      "model_module_version": "1.2.0",
      "model_name": "LayoutModel",
      "state": {
       "grid_area": "widget004",
       "width": "150px"
      }
     },
     "85e7fc5d9ecc42dbae1b519767312aa6": {
      "model_module": "@jupyter-widgets/controls",
      "model_module_version": "1.5.0",
      "model_name": "DescriptionStyleModel",
      "state": {
       "description_width": "initial"
      }
     },
     "85fba816579046e4ab17cb00bac482b1": {
      "model_module": "@jupyter-widgets/base",
      "model_module_version": "1.2.0",
      "model_name": "LayoutModel",
      "state": {}
     },
     "87cd36f6cbe84a37b033452f81fb91e2": {
      "model_module": "@jupyter-widgets/base",
      "model_module_version": "1.2.0",
      "model_name": "LayoutModel",
      "state": {
       "flex": "1 1 1%",
       "width": "auto"
      }
     },
     "892a993aebc84020902862c8f6cdb854": {
      "model_module": "@jupyter-widgets/base",
      "model_module_version": "1.2.0",
      "model_name": "LayoutModel",
      "state": {}
     },
     "8a49e5f4fc8a4c8da365c6eadb6c3378": {
      "model_module": "@jupyter-widgets/base",
      "model_module_version": "1.2.0",
      "model_name": "LayoutModel",
      "state": {}
     },
     "8ac78eb389e542e98c59c178e22bf88b": {
      "model_module": "@jupyter-widgets/controls",
      "model_module_version": "1.5.0",
      "model_name": "LabelModel",
      "state": {
       "layout": "IPY_MODEL_31b36ae5ce0a4427a0fee9c102b1151d",
       "style": "IPY_MODEL_e7b0d3bfc98244dd8d35ec629fdee0f9"
      }
     },
     "8adedf63227940078010a64478185e67": {
      "model_module": "@jupyter-widgets/controls",
      "model_module_version": "1.5.0",
      "model_name": "TextModel",
      "state": {
       "description": "Feedback",
       "layout": "IPY_MODEL_3d3721ab8e754ff884bae9ecd79790f6",
       "placeholder": "",
       "style": "IPY_MODEL_53f8fe9f289c4e68a8497e5a9f4f8fb9"
      }
     },
     "8b6818fb4c104a7290a6fc17af124790": {
      "model_module": "@jupyter-widgets/base",
      "model_module_version": "1.2.0",
      "model_name": "LayoutModel",
      "state": {}
     },
     "8d00c69115d24db8b8a115eae0700468": {
      "model_module": "@jupyter-widgets/base",
      "model_module_version": "1.2.0",
      "model_name": "LayoutModel",
      "state": {}
     },
     "8d29919874264a07a4c161c5a7da1e70": {
      "model_module": "@jupyter-widgets/base",
      "model_module_version": "1.2.0",
      "model_name": "LayoutModel",
      "state": {}
     },
     "8d55a32521eb4305a5439d2e536f9c78": {
      "model_module": "@jupyter-widgets/output",
      "model_module_version": "1.0.0",
      "model_name": "OutputModel",
      "state": {
       "layout": "IPY_MODEL_ebfe99be73eb410fa6c4a1c62b762ec3",
       "outputs": [
        {
         "data": {
          "application/vnd.jupyter.widget-view+json": {
           "model_id": "a32e4c9c4e05412c97d639d399cb4a67",
           "version_major": 2,
           "version_minor": 0
          },
          "text/plain": "Label(value='')"
         },
         "metadata": {},
         "output_type": "display_data"
        }
       ]
      }
     },
     "8e35665d649142f7a9d6779cadb26351": {
      "model_module": "@jupyter-widgets/controls",
      "model_module_version": "1.5.0",
      "model_name": "DescriptionStyleModel",
      "state": {
       "description_width": "initial"
      }
     },
     "8e6f9b758c07443f9c8d92a177fd43d6": {
      "model_module": "@jupyter-widgets/base",
      "model_module_version": "1.2.0",
      "model_name": "LayoutModel",
      "state": {
       "flex": "1 1 1%",
       "width": "auto"
      }
     },
     "8f7b9e58f5ca4f0cbea2c04e77511ea8": {
      "model_module": "@jupyter-widgets/base",
      "model_module_version": "1.2.0",
      "model_name": "LayoutModel",
      "state": {}
     },
     "8f9a7f7b1e004312936ef848bbc5ae27": {
      "model_module": "@jupyter-widgets/base",
      "model_module_version": "1.2.0",
      "model_name": "LayoutModel",
      "state": {}
     },
     "90e33dd2f6be462b98178edb64268817": {
      "model_module": "@jupyter-widgets/controls",
      "model_module_version": "1.5.0",
      "model_name": "TextModel",
      "state": {
       "description": "V. Init. Volt.:",
       "layout": "IPY_MODEL_fe658ac51f2549b3baf6fe922d21110b",
       "placeholder": "Volt",
       "style": "IPY_MODEL_09479faf56f94bf7bd339f44baaf15b0"
      }
     },
     "913202fe587e4f92acb8e1078d0be3eb": {
      "model_module": "@jupyter-widgets/controls",
      "model_module_version": "1.5.0",
      "model_name": "TextModel",
      "state": {
       "description": "Feedback",
       "layout": "IPY_MODEL_b1e90967866b480898620840f3b12a30",
       "placeholder": "",
       "style": "IPY_MODEL_2dc4f2bbf256408597f9f4bc6b59cd5e"
      }
     },
     "91ffe54042dd42e0a915b365e88fbce0": {
      "model_module": "@jupyter-widgets/base",
      "model_module_version": "1.2.0",
      "model_name": "LayoutModel",
      "state": {}
     },
     "9230ef5858ad4f7096829f1f0d611b28": {
      "model_module": "@jupyter-widgets/controls",
      "model_module_version": "1.5.0",
      "model_name": "DescriptionStyleModel",
      "state": {
       "description_width": "initial"
      }
     },
     "92aa0c6ec16f440183ea3ab9e52685bd": {
      "model_module": "@jupyter-widgets/controls",
      "model_module_version": "1.5.0",
      "model_name": "GridBoxModel",
      "state": {
       "children": [
        "IPY_MODEL_e320592cd3194d54b6504c4b3d3be3c1",
        "IPY_MODEL_3cbc11a1424e4503a86d4b0bc9970634"
       ],
       "layout": "IPY_MODEL_aaebe7c9f21b417b8755542df7df69b7"
      }
     },
     "93cc742428a8417488778f9b0377b1bd": {
      "model_module": "@jupyter-widgets/controls",
      "model_module_version": "1.5.0",
      "model_name": "TextModel",
      "state": {
       "description": "Feedback",
       "layout": "IPY_MODEL_a5dcf5f42a4b4e7ea56e254dad0570b8",
       "placeholder": "",
       "style": "IPY_MODEL_23f81e1f1e1341c08ef7cda007304e65"
      }
     },
     "95c6205164764074aa89777b3de16048": {
      "model_module": "@jupyter-widgets/base",
      "model_module_version": "1.2.0",
      "model_name": "LayoutModel",
      "state": {}
     },
     "96265c11d1e9442eae13aa2568d0a339": {
      "model_module": "@jupyter-widgets/controls",
      "model_module_version": "1.5.0",
      "model_name": "TextModel",
      "state": {
       "description": "Datten",
       "layout": "IPY_MODEL_ab9892dbef1a46cf91849af1a36dda9a",
       "placeholder": "",
       "style": "IPY_MODEL_0f77eeca754146e6ae4e9c2b88c0502f"
      }
     },
     "9746efe01df54c2f991eb3fecc9c68f3": {
      "model_module": "@jupyter-widgets/controls",
      "model_module_version": "1.5.0",
      "model_name": "LabelModel",
      "state": {
       "layout": "IPY_MODEL_1413cb90ee6d437b916f6563f56052a8",
       "style": "IPY_MODEL_989af17d990f4597b5a6a9534b464b66",
       "value": "Volt. @ Load = "
      }
     },
     "989af17d990f4597b5a6a9534b464b66": {
      "model_module": "@jupyter-widgets/controls",
      "model_module_version": "1.5.0",
      "model_name": "DescriptionStyleModel",
      "state": {
       "description_width": ""
      }
     },
     "996dafe3e35b42848959624c36b49cc0": {
      "model_module": "@jupyter-widgets/base",
      "model_module_version": "1.2.0",
      "model_name": "LayoutModel",
      "state": {
       "flex": "1 1 0%",
       "width": "auto"
      }
     },
     "9974de35fc674a21956f8552d99ff323": {
      "model_module": "@jupyter-widgets/controls",
      "model_module_version": "1.5.0",
      "model_name": "LabelModel",
      "state": {
       "layout": "IPY_MODEL_081bb74f7c654c78b79acb2830393fd4",
       "style": "IPY_MODEL_f73ed3e2914d4f6a9f6c7ba935720f8c",
       "value": "Hor. Servo Settings"
      }
     },
     "9bf0b7f9af244a42af1fce8e1c8e2d07": {
      "model_module": "@jupyter-widgets/controls",
      "model_module_version": "1.5.0",
      "model_name": "DescriptionStyleModel",
      "state": {
       "description_width": "initial"
      }
     },
     "9cdeb65d08d744ba9747ee312ea3e83f": {
      "model_module": "@jupyter-widgets/base",
      "model_module_version": "1.2.0",
      "model_name": "LayoutModel",
      "state": {
       "align_content": "center",
       "align_items": "center",
       "border": "2px solid grey",
       "display": "inline_flex",
       "grid_template_areas": "\"widget001 widget001 widget008 widget008\"\n\"widget002 widget005 widget009 widget012\"\n\"widget003 widget006 widget010 widget013\"\n\"widget004 widget007 widget011 widget014\"",
       "grid_template_columns": "repeat(4, 1fr)",
       "grid_template_rows": "repeat(4, 1fr)",
       "padding": "10px",
       "width": "75%"
      }
     },
     "9db6dbc336c5470394272d3f9bb1e589": {
      "model_module": "@jupyter-widgets/controls",
      "model_module_version": "1.5.0",
      "model_name": "DescriptionStyleModel",
      "state": {
       "description_width": "initial"
      }
     },
     "9de507cc18384c10957ec981228492df": {
      "model_module": "@jupyter-widgets/base",
      "model_module_version": "1.2.0",
      "model_name": "LayoutModel",
      "state": {
       "grid_area": "widget003",
       "width": "150px"
      }
     },
     "9ea01180ae844731b84ee205232cc4da": {
      "model_module": "@jupyter-widgets/controls",
      "model_module_version": "1.5.0",
      "model_name": "TextModel",
      "state": {
       "description": "Datten",
       "layout": "IPY_MODEL_294a85dad3a542d6a34d48e9e513408f",
       "placeholder": "",
       "style": "IPY_MODEL_64c8088fd4b843d9bbab5746258fb273"
      }
     },
     "9f2d3760efed42628c2dee4f61076622": {
      "model_module": "@jupyter-widgets/controls",
      "model_module_version": "1.5.0",
      "model_name": "DescriptionStyleModel",
      "state": {
       "description_width": ""
      }
     },
     "9f4383744eb548549f384905bc6f0799": {
      "model_module": "@jupyter-widgets/controls",
      "model_module_version": "1.5.0",
      "model_name": "DescriptionStyleModel",
      "state": {
       "description_width": "initial"
      }
     },
     "a038c360025c4514b8a7e74f4f869a1e": {
      "model_module": "@jupyter-widgets/base",
      "model_module_version": "1.2.0",
      "model_name": "LayoutModel",
      "state": {}
     },
     "a0e4c47926e4483db4f1cb73bcfe8fb4": {
      "model_module": "@jupyter-widgets/base",
      "model_module_version": "1.2.0",
      "model_name": "LayoutModel",
      "state": {}
     },
     "a13a31b1aad6441eb2a04a0dab944012": {
      "model_module": "@jupyter-widgets/controls",
      "model_module_version": "1.5.0",
      "model_name": "DescriptionStyleModel",
      "state": {
       "description_width": "initial"
      }
     },
     "a32e4c9c4e05412c97d639d399cb4a67": {
      "model_module": "@jupyter-widgets/controls",
      "model_module_version": "1.5.0",
      "model_name": "LabelModel",
      "state": {
       "layout": "IPY_MODEL_1b79e20a69394ef1917c2890489403d0",
       "style": "IPY_MODEL_669effa83c1f4e2baeb784e6ffe65159"
      }
     },
     "a5dcf5f42a4b4e7ea56e254dad0570b8": {
      "model_module": "@jupyter-widgets/base",
      "model_module_version": "1.2.0",
      "model_name": "LayoutModel",
      "state": {
       "grid_area": "widget006",
       "width": "150px"
      }
     },
     "a764d31fc3f9402493c3567b0bf070ac": {
      "model_module": "@jupyter-widgets/base",
      "model_module_version": "1.2.0",
      "model_name": "LayoutModel",
      "state": {}
     },
     "a80859062d4d43e2a11d12f3c6851ca8": {
      "model_module": "@jupyter-widgets/controls",
      "model_module_version": "1.5.0",
      "model_name": "DescriptionStyleModel",
      "state": {
       "description_width": ""
      }
     },
     "a84d3ba81ff542fd9abb3302884e5738": {
      "model_module": "@jupyter-widgets/controls",
      "model_module_version": "1.5.0",
      "model_name": "VBoxModel",
      "state": {
       "children": [
        "IPY_MODEL_4876c7038ce44456a0101e47572ea719",
        "IPY_MODEL_0325fa170e834b5cbcc8fd06a5a17697"
       ],
       "layout": "IPY_MODEL_294b5633951548d6a1ea7d0c8f19f331"
      }
     },
     "a8689054e5594db588bfdb6a3d4124f1": {
      "model_module": "@jupyter-widgets/base",
      "model_module_version": "1.2.0",
      "model_name": "LayoutModel",
      "state": {
       "grid_area": "widget014",
       "width": "150px"
      }
     },
     "a8aae611ddad49dca295b7d0fabaf4ee": {
      "model_module": "@jupyter-widgets/base",
      "model_module_version": "1.2.0",
      "model_name": "LayoutModel",
      "state": {}
     },
     "a9ae0f1fd7cc4a799f9b4265168ed6b2": {
      "model_module": "@jupyter-widgets/controls",
      "model_module_version": "1.5.0",
      "model_name": "DropdownModel",
      "state": {
       "_options_labels": [
        "8 channel",
        "16 channel"
       ],
       "description": "Data Logger Used:",
       "index": 0,
       "layout": "IPY_MODEL_24158e0a40504b8b8828bf78166c7fb2",
       "style": "IPY_MODEL_85e7fc5d9ecc42dbae1b519767312aa6"
      }
     },
     "aaebe7c9f21b417b8755542df7df69b7": {
      "model_module": "@jupyter-widgets/base",
      "model_module_version": "1.2.0",
      "model_name": "LayoutModel",
      "state": {
       "align_items": "stretch",
       "border": "2px solid grey",
       "display": "flex",
       "flex_flow": "row",
       "grid_gap": "60px 60px",
       "padding": "10px",
       "width": "75%"
      }
     },
     "aafcfd3e54ad449381ca9c9ea03ec7e1": {
      "model_module": "@jupyter-widgets/controls",
      "model_module_version": "1.5.0",
      "model_name": "DescriptionStyleModel",
      "state": {
       "description_width": "initial"
      }
     },
     "ab9892dbef1a46cf91849af1a36dda9a": {
      "model_module": "@jupyter-widgets/base",
      "model_module_version": "1.2.0",
      "model_name": "LayoutModel",
      "state": {
       "grid_area": "widget005",
       "width": "150px"
      }
     },
     "ae5a5f73175141d4ae74ca697f144b2e": {
      "model_module": "@jupyter-widgets/controls",
      "model_module_version": "1.5.0",
      "model_name": "VBoxModel",
      "state": {
       "children": [
        "IPY_MODEL_5dfbb582603c4e4c8cbde6b6a4f9e5b9",
        "IPY_MODEL_3798ee88b1d342e6b9c9a4579a7e1cde",
        "IPY_MODEL_b070353748cb41ffb213069b8ffd7141",
        "IPY_MODEL_e2d90aac7eaf4e268d7453a196b05c9f",
        "IPY_MODEL_ffa436b78833480a835627bb27cf61ae",
        "IPY_MODEL_eaffcc651e4f494096239c982be1a88c"
       ],
       "layout": "IPY_MODEL_8f9a7f7b1e004312936ef848bbc5ae27"
      }
     },
     "ae8ea47251c740cea814d8e2d9eac6e4": {
      "model_module": "@jupyter-widgets/base",
      "model_module_version": "1.2.0",
      "model_name": "LayoutModel",
      "state": {
       "flex": "1 1 1%",
       "width": "auto"
      }
     },
     "af5f1de41ee949b9835f955d80011595": {
      "model_module": "@jupyter-widgets/base",
      "model_module_version": "1.2.0",
      "model_name": "LayoutModel",
      "state": {}
     },
     "b070353748cb41ffb213069b8ffd7141": {
      "model_module": "@jupyter-widgets/controls",
      "model_module_version": "1.5.0",
      "model_name": "TextModel",
      "state": {
       "description": "PpB Gain (V/MPa):",
       "layout": "IPY_MODEL_8d00c69115d24db8b8a115eae0700468",
       "placeholder": "PpB Gain (V/MPa)",
       "style": "IPY_MODEL_9f4383744eb548549f384905bc6f0799"
      }
     },
     "b0713ce302ae4acca03238327ed7be60": {
      "model_module": "@jupyter-widgets/controls",
      "model_module_version": "1.5.0",
      "model_name": "DescriptionStyleModel",
      "state": {
       "description_width": ""
      }
     },
     "b19bb24b2b8c4d28a6058a8663eff0fa": {
      "model_module": "@jupyter-widgets/controls",
      "model_module_version": "1.5.0",
      "model_name": "TextModel",
      "state": {
       "description": "Vert. DCDT calib.:",
       "layout": "IPY_MODEL_892a993aebc84020902862c8f6cdb854",
       "placeholder": "mm/V",
       "style": "IPY_MODEL_9bf0b7f9af244a42af1fce8e1c8e2d07"
      }
     },
     "b1b1edadf86546a4a7ab22e82412c2fa": {
      "model_module": "@jupyter-widgets/controls",
      "model_module_version": "1.5.0",
      "model_name": "DescriptionStyleModel",
      "state": {
       "description_width": "initial"
      }
     },
     "b1e90967866b480898620840f3b12a30": {
      "model_module": "@jupyter-widgets/base",
      "model_module_version": "1.2.0",
      "model_name": "LayoutModel",
      "state": {
       "grid_area": "widget013",
       "width": "150px"
      }
     },
     "b200ebc76fb84ae08fb75ec93ab068ed": {
      "model_module": "@jupyter-widgets/controls",
      "model_module_version": "1.5.0",
      "model_name": "LabelModel",
      "state": {
       "layout": "IPY_MODEL_95c6205164764074aa89777b3de16048",
       "style": "IPY_MODEL_62f0962549434389ba535d071b4d0640",
       "value": "Horizontal Load Cell"
      }
     },
     "b3146f61bea54c788352fdd4e0330606": {
      "model_module": "@jupyter-widgets/controls",
      "model_module_version": "1.5.0",
      "model_name": "DescriptionStyleModel",
      "state": {
       "description_width": ""
      }
     },
     "b4a9a75f19364ba4b0cc6ed1e1216e93": {
      "model_module": "@jupyter-widgets/controls",
      "model_module_version": "1.5.0",
      "model_name": "GridBoxModel",
      "state": {
       "children": [
        "IPY_MODEL_d9f059fb431a4c599a911c30ed63bf2e",
        "IPY_MODEL_a84d3ba81ff542fd9abb3302884e5738"
       ],
       "layout": "IPY_MODEL_cdce41d61fe84de69469176a7de0040f"
      }
     },
     "b6c224d5b5eb4eb1afcdbe6bd3e12efa": {
      "model_module": "@jupyter-widgets/controls",
      "model_module_version": "1.5.0",
      "model_name": "DescriptionStyleModel",
      "state": {
       "description_width": "initial"
      }
     },
     "b7aab8e6deaf40cd877331331d23f2fd": {
      "model_module": "@jupyter-widgets/base",
      "model_module_version": "1.2.0",
      "model_name": "LayoutModel",
      "state": {
       "flex": "1 1 1%",
       "width": "auto"
      }
     },
     "b7f22104303b4ccfb54ad9b181d5c704": {
      "model_module": "@jupyter-widgets/controls",
      "model_module_version": "1.5.0",
      "model_name": "TextModel",
      "state": {
       "description": "Calibration (mV/kN):",
       "layout": "IPY_MODEL_155c02f610ee4af694396e9064564870",
       "placeholder": "mV/kN",
       "style": "IPY_MODEL_a13a31b1aad6441eb2a04a0dab944012"
      }
     },
     "b82bb4dff2834892835f8eb300db3460": {
      "model_module": "@jupyter-widgets/controls",
      "model_module_version": "1.5.0",
      "model_name": "TextModel",
      "state": {
       "description": "Relative Humidity",
       "layout": "IPY_MODEL_ba7d75338e6242a99cd70a1bbf95661c",
       "placeholder": "Rel. Humid. (%)",
       "style": "IPY_MODEL_aafcfd3e54ad449381ca9c9ea03ec7e1"
      }
     },
     "b9178dfca5e549aab3b0043cbf9843e6": {
      "model_module": "@jupyter-widgets/base",
      "model_module_version": "1.2.0",
      "model_name": "LayoutModel",
      "state": {
       "grid_area": "widget009",
       "width": "150px"
      }
     },
     "ba04d119c4e44b8b9a2ea5ed93403043": {
      "model_module": "@jupyter-widgets/controls",
      "model_module_version": "1.5.0",
      "model_name": "TextModel",
      "state": {
       "description": "D",
       "layout": "IPY_MODEL_3b788aabc24348c4a4596295a1ffbf83",
       "placeholder": "",
       "style": "IPY_MODEL_0b39326f664b4099a27a4869d581015b"
      }
     },
     "ba7d75338e6242a99cd70a1bbf95661c": {
      "model_module": "@jupyter-widgets/base",
      "model_module_version": "1.2.0",
      "model_name": "LayoutModel",
      "state": {
       "flex": "1 1 1%",
       "width": "auto"
      }
     },
     "baa99ea64fd645a8a3245b50ffe6ffdb": {
      "model_module": "@jupyter-widgets/controls",
      "model_module_version": "1.5.0",
      "model_name": "HBoxModel",
      "state": {
       "children": [
        "IPY_MODEL_d7f41bc4b9ef4dd19c0114a8abfc2ba3",
        "IPY_MODEL_1b237423ac174760b22b219ff74cc2ee",
        "IPY_MODEL_b82bb4dff2834892835f8eb300db3460"
       ],
       "layout": "IPY_MODEL_e66cf2f1c94b452faf07f42fba4af954"
      }
     },
     "bb89333544c047b5a6312c4bb24f134b": {
      "model_module": "@jupyter-widgets/controls",
      "model_module_version": "1.5.0",
      "model_name": "DescriptionStyleModel",
      "state": {
       "description_width": "initial"
      }
     },
     "bc11b60255b143269c750c4181132455": {
      "model_module": "@jupyter-widgets/base",
      "model_module_version": "1.2.0",
      "model_name": "LayoutModel",
      "state": {}
     },
     "bc2d8c733109485abcb6c1fedfe85fc3": {
      "model_module": "@jupyter-widgets/controls",
      "model_module_version": "1.5.0",
      "model_name": "DescriptionStyleModel",
      "state": {
       "description_width": ""
      }
     },
     "bcb67062d29c4c61801d50858a62b72c": {
      "model_module": "@jupyter-widgets/base",
      "model_module_version": "1.2.0",
      "model_name": "LayoutModel",
      "state": {}
     },
     "bd580e1cbdb44c8cb3b6a22e14037960": {
      "model_module": "@jupyter-widgets/controls",
      "model_module_version": "1.5.0",
      "model_name": "TextModel",
      "state": {
       "description": "Datten",
       "layout": "IPY_MODEL_0cf3287e56ff463abfacd22713e43a58",
       "placeholder": "",
       "style": "IPY_MODEL_7b0f1a88e38c419ea5be6f3223cf2652"
      }
     },
     "bec03db0750a475aaddc65c736e35280": {
      "model_module": "@jupyter-widgets/controls",
      "model_module_version": "1.5.0",
      "model_name": "DescriptionStyleModel",
      "state": {
       "description_width": "initial"
      }
     },
     "c02016698dac4168be87e8bfe7785f0d": {
      "model_module": "@jupyter-widgets/controls",
      "model_module_version": "1.5.0",
      "model_name": "DescriptionStyleModel",
      "state": {
       "description_width": ""
      }
     },
     "c07016ea4528490689759b3db813847a": {
      "model_module": "@jupyter-widgets/base",
      "model_module_version": "1.2.0",
      "model_name": "LayoutModel",
      "state": {}
     },
     "c10acc60557f42cca56f7de76c320171": {
      "model_module": "@jupyter-widgets/controls",
      "model_module_version": "1.5.0",
      "model_name": "DescriptionStyleModel",
      "state": {
       "description_width": ""
      }
     },
     "c296d39ea5bf40e1bdaed3d5d57af37f": {
      "model_module": "@jupyter-widgets/controls",
      "model_module_version": "1.5.0",
      "model_name": "GridBoxModel",
      "state": {
       "children": [
        "IPY_MODEL_9974de35fc674a21956f8552d99ff323",
        "IPY_MODEL_2948a6a26a414a37951e6f1d85a181e1",
        "IPY_MODEL_0d6ba345de954577b7ca9ac851fb9adf",
        "IPY_MODEL_14d50cee3ff543fea3c0f6e3c7e8163d",
        "IPY_MODEL_195229618dfb4f37bfe321135d257502",
        "IPY_MODEL_08184154737e4f28a522abed3f431feb",
        "IPY_MODEL_527df04f54734dad80efd27c567ad0a5",
        "IPY_MODEL_474619f5756c4579bb873f6d371ce5b7",
        "IPY_MODEL_3c9ba08541dc45d4b4496eec05ae8be1",
        "IPY_MODEL_7e4fa3b425ea48d29adffb000237a216",
        "IPY_MODEL_1d82aac0aa764918a2720a5580ca6d56",
        "IPY_MODEL_9ea01180ae844731b84ee205232cc4da",
        "IPY_MODEL_913202fe587e4f92acb8e1078d0be3eb",
        "IPY_MODEL_4a102b81221043b58f9342ee015993d8"
       ],
       "layout": "IPY_MODEL_225c29cebe9b436aa82be8736dbeb012"
      }
     },
     "c3fdd884161d477abfe36d302877b645": {
      "model_module": "@jupyter-widgets/controls",
      "model_module_version": "1.5.0",
      "model_name": "TextModel",
      "state": {
       "description": "H. Init. Volt.:",
       "layout": "IPY_MODEL_a0e4c47926e4483db4f1cb73bcfe8fb4",
       "placeholder": "Volt",
       "style": "IPY_MODEL_0d1be5469ebc4880a3937f3245cbd6c4"
      }
     },
     "c5482d66101b451eb9eb416bb374e9a9": {
      "model_module": "@jupyter-widgets/base",
      "model_module_version": "1.2.0",
      "model_name": "LayoutModel",
      "state": {}
     },
     "c5e1c5b8de354b05a6a7f218db0b4232": {
      "model_module": "@jupyter-widgets/controls",
      "model_module_version": "1.5.0",
      "model_name": "ComboboxModel",
      "state": {
       "description": "Vert. DCDT:",
       "ensure_option": true,
       "layout": "IPY_MODEL_8a49e5f4fc8a4c8da365c6eadb6c3378",
       "options": [
        "Trans-Tek2",
        "None"
       ],
       "placeholder": "Vert. DCDT",
       "style": "IPY_MODEL_0f6662e7eeb745d18aca1ace2eafe446"
      }
     },
     "c6db1a33f3274d50b6a5f02e07ba7964": {
      "model_module": "@jupyter-widgets/controls",
      "model_module_version": "1.5.0",
      "model_name": "DescriptionStyleModel",
      "state": {
       "description_width": "initial"
      }
     },
     "c7f5b4deff1d404b90cbab1be498f5d7": {
      "model_module": "@jupyter-widgets/base",
      "model_module_version": "1.2.0",
      "model_name": "LayoutModel",
      "state": {}
     },
     "cdce41d61fe84de69469176a7de0040f": {
      "model_module": "@jupyter-widgets/base",
      "model_module_version": "1.2.0",
      "model_name": "LayoutModel",
      "state": {
       "align_items": "stretch",
       "border": "2px solid grey",
       "display": "flex",
       "flex_flow": "row",
       "grid_gap": "60px 60px",
       "padding": "10px",
       "width": "75%"
      }
     },
     "ce2355934c0d48e1ac97a42702ec0f73": {
      "model_module": "@jupyter-widgets/controls",
      "model_module_version": "1.5.0",
      "model_name": "TextModel",
      "state": {
       "description": "Contact Area (m^2)",
       "layout": "IPY_MODEL_bcb67062d29c4c61801d50858a62b72c",
       "placeholder": "m^2",
       "style": "IPY_MODEL_f5be5b5a89d042ff99718772b53aa124"
      }
     },
     "ce5172b370f9406bae012540c2f43b04": {
      "model_module": "@jupyter-widgets/controls",
      "model_module_version": "1.5.0",
      "model_name": "DescriptionStyleModel",
      "state": {
       "description_width": ""
      }
     },
     "d0226941ca944c75a44744cd1ba5ec6b": {
      "model_module": "@jupyter-widgets/controls",
      "model_module_version": "1.5.0",
      "model_name": "TextModel",
      "state": {
       "description": "Under Load",
       "layout": "IPY_MODEL_8f7b9e58f5ca4f0cbea2c04e77511ea8",
       "placeholder": "mm",
       "style": "IPY_MODEL_e743bd00041d45a69be2354709d3ddb2"
      }
     },
     "d04cceaa886140188a1e62e270f9eeae": {
      "model_module": "@jupyter-widgets/base",
      "model_module_version": "1.2.0",
      "model_name": "LayoutModel",
      "state": {}
     },
     "d1eb28368b8543afbaf030a2de204d99": {
      "model_module": "@jupyter-widgets/base",
      "model_module_version": "1.2.0",
      "model_name": "LayoutModel",
      "state": {
       "grid_area": "widget001"
      }
     },
     "d269887d519446e2afed5b69060f0b51": {
      "model_module": "@jupyter-widgets/controls",
      "model_module_version": "1.5.0",
      "model_name": "GridBoxModel",
      "state": {
       "children": [
        "IPY_MODEL_75ae6340fb6a42b38e6c710e30313465",
        "IPY_MODEL_baa99ea64fd645a8a3245b50ffe6ffdb",
        "IPY_MODEL_680b1c7525b5444b952ae9cd1352243f"
       ],
       "layout": "IPY_MODEL_7be1f18d3bc94063948fea3c29e468fa"
      }
     },
     "d271fe32895b487a92cd8f72b0902c02": {
      "model_module": "@jupyter-widgets/controls",
      "model_module_version": "1.5.0",
      "model_name": "DescriptionStyleModel",
      "state": {
       "description_width": "initial"
      }
     },
     "d2be9ad7aa064a3698f0e9ac7e9f37f1": {
      "model_module": "@jupyter-widgets/controls",
      "model_module_version": "1.5.0",
      "model_name": "DescriptionStyleModel",
      "state": {
       "description_width": "initial"
      }
     },
     "d7f41bc4b9ef4dd19c0114a8abfc2ba3": {
      "model_module": "@jupyter-widgets/controls",
      "model_module_version": "1.5.0",
      "model_name": "TextModel",
      "state": {
       "description": "Acoustics blocks used",
       "layout": "IPY_MODEL_6c182699fc814cb3a78a3b70c5a53187",
       "placeholder": "",
       "style": "IPY_MODEL_e8be12b104ee4d949218ed559554c482"
      }
     },
     "d9f059fb431a4c599a911c30ed63bf2e": {
      "model_module": "@jupyter-widgets/controls",
      "model_module_version": "1.5.0",
      "model_name": "VBoxModel",
      "state": {
       "children": [
        "IPY_MODEL_ce2355934c0d48e1ac97a42702ec0f73",
        "IPY_MODEL_2eb85c91d66a48139a3abd3e7c58d56b",
        "IPY_MODEL_70f47193a5474215af395d642651dd14"
       ],
       "layout": "IPY_MODEL_8e6f9b758c07443f9c8d92a177fd43d6"
      }
     },
     "dd29da9ee7e74cdb959d2974b6fb191c": {
      "model_module": "@jupyter-widgets/controls",
      "model_module_version": "1.5.0",
      "model_name": "DescriptionStyleModel",
      "state": {
       "description_width": ""
      }
     },
     "def4e25ba5634c7db104fa927c66b478": {
      "model_module": "@jupyter-widgets/base",
      "model_module_version": "1.2.0",
      "model_name": "LayoutModel",
      "state": {
       "grid_area": "widget008"
      }
     },
     "df7dbd25333e4f2198d48c309d1bb976": {
      "model_module": "@jupyter-widgets/controls",
      "model_module_version": "1.5.0",
      "model_name": "TextModel",
      "state": {
       "description": "PpA Press. (MPa)",
       "layout": "IPY_MODEL_0259c72eff8246ffa4949b611994710c",
       "placeholder": "MPa",
       "style": "IPY_MODEL_dfb20862c01c4ae5b2edff5c3d10ce70"
      }
     },
     "dfb20862c01c4ae5b2edff5c3d10ce70": {
      "model_module": "@jupyter-widgets/controls",
      "model_module_version": "1.5.0",
      "model_name": "DescriptionStyleModel",
      "state": {
       "description_width": "initial"
      }
     },
     "dfbd2fd89aba4c15bc38824f3dbfb652": {
      "model_module": "@jupyter-widgets/base",
      "model_module_version": "1.2.0",
      "model_name": "LayoutModel",
      "state": {
       "grid_area": "widget009",
       "width": "150px"
      }
     },
     "e29cc51152cf40bbb6c902bd868e8479": {
      "model_module": "@jupyter-widgets/base",
      "model_module_version": "1.2.0",
      "model_name": "LayoutModel",
      "state": {}
     },
     "e2d90aac7eaf4e268d7453a196b05c9f": {
      "model_module": "@jupyter-widgets/controls",
      "model_module_version": "1.5.0",
      "model_name": "TextModel",
      "state": {
       "description": "PpB Press. (MPa)",
       "layout": "IPY_MODEL_af5f1de41ee949b9835f955d80011595",
       "placeholder": "MPa",
       "style": "IPY_MODEL_f0cf79d7383d4915bc75d5ad8d3ac9ff"
      }
     },
     "e320592cd3194d54b6504c4b3d3be3c1": {
      "model_module": "@jupyter-widgets/controls",
      "model_module_version": "1.5.0",
      "model_name": "VBoxModel",
      "state": {
       "children": [
        "IPY_MODEL_ea1403982fed42b8af4adc82bea1e5db",
        "IPY_MODEL_5fd77701d3d44d1fb601fd7fd3195d67"
       ],
       "layout": "IPY_MODEL_87cd36f6cbe84a37b033452f81fb91e2"
      }
     },
     "e3e98e25845b430abb2c9e53c04d7115": {
      "model_module": "@jupyter-widgets/controls",
      "model_module_version": "1.5.0",
      "model_name": "DropdownModel",
      "state": {
       "_options_labels": [
        "44mm Solid Vert",
        "44mm Solid Vert",
        "None"
       ],
       "description": "Vert. Load Cell:",
       "index": 0,
       "layout": "IPY_MODEL_c5482d66101b451eb9eb416bb374e9a9",
       "style": "IPY_MODEL_2df971cd30224a66bd24607cddb86d4d"
      }
     },
     "e50784b1629241c1b2bbaad5c542d748": {
      "model_module": "@jupyter-widgets/controls",
      "model_module_version": "1.5.0",
      "model_name": "TextModel",
      "state": {
       "description": "I",
       "layout": "IPY_MODEL_9de507cc18384c10957ec981228492df",
       "placeholder": "",
       "style": "IPY_MODEL_77762e7314354bc6948a883112bdcd59"
      }
     },
     "e6074c0131ee469a80f3afbb8ce0c6a2": {
      "model_module": "@jupyter-widgets/controls",
      "model_module_version": "1.5.0",
      "model_name": "DescriptionStyleModel",
      "state": {
       "description_width": ""
      }
     },
     "e66cf2f1c94b452faf07f42fba4af954": {
      "model_module": "@jupyter-widgets/base",
      "model_module_version": "1.2.0",
      "model_name": "LayoutModel",
      "state": {}
     },
     "e743bd00041d45a69be2354709d3ddb2": {
      "model_module": "@jupyter-widgets/controls",
      "model_module_version": "1.5.0",
      "model_name": "DescriptionStyleModel",
      "state": {
       "description_width": "initial"
      }
     },
     "e7b0d3bfc98244dd8d35ec629fdee0f9": {
      "model_module": "@jupyter-widgets/controls",
      "model_module_version": "1.5.0",
      "model_name": "DescriptionStyleModel",
      "state": {
       "description_width": ""
      }
     },
     "e845e4939569447d8e7326aceceedf25": {
      "model_module": "@jupyter-widgets/controls",
      "model_module_version": "1.5.0",
      "model_name": "LabelModel",
      "state": {
       "layout": "IPY_MODEL_a764d31fc3f9402493c3567b0bf070ac",
       "style": "IPY_MODEL_0af79fcdd97346d4bc65a05e7a3504e7"
      }
     },
     "e887ed58779b4cfb89f44245c2ec5740": {
      "model_module": "@jupyter-widgets/controls",
      "model_module_version": "1.5.0",
      "model_name": "TextModel",
      "state": {
       "description": "Horiz. DCDT calib.:",
       "layout": "IPY_MODEL_653c7344fbe241ad85cf3fc2a24efabf",
       "placeholder": "mm/V",
       "style": "IPY_MODEL_6b90e981292c47c6b743d99f503c9c94"
      }
     },
     "e8be12b104ee4d949218ed559554c482": {
      "model_module": "@jupyter-widgets/controls",
      "model_module_version": "1.5.0",
      "model_name": "DescriptionStyleModel",
      "state": {
       "description_width": "initial"
      }
     },
     "e8c2ac550bbd407b9a1f6ab2458fb825": {
      "model_module": "@jupyter-widgets/base",
      "model_module_version": "1.2.0",
      "model_name": "LayoutModel",
      "state": {
       "grid_area": "widget010",
       "width": "150px"
      }
     },
     "e8d24f3580ef41d18f19f1f304bdc3a9": {
      "model_module": "@jupyter-widgets/controls",
      "model_module_version": "1.5.0",
      "model_name": "DescriptionStyleModel",
      "state": {
       "description_width": ""
      }
     },
     "ea1403982fed42b8af4adc82bea1e5db": {
      "model_module": "@jupyter-widgets/controls",
      "model_module_version": "1.5.0",
      "model_name": "TextModel",
      "state": {
       "description": "Exp. Name:",
       "layout": "IPY_MODEL_bc11b60255b143269c750c4181132455",
       "placeholder": "pxxxx",
       "style": "IPY_MODEL_6cfe1657a91641a484a0c3fb29e3e7fe"
      }
     },
     "ea5c573b4b5a4a5ba991727958ee876c": {
      "model_module": "@jupyter-widgets/controls",
      "model_module_version": "1.5.0",
      "model_name": "GridBoxModel",
      "state": {
       "children": [
        "IPY_MODEL_2d60693a72c64975b77193de16a3e490",
        "IPY_MODEL_7870f2c33a3d46e58f5af6658802ff03",
        "IPY_MODEL_e50784b1629241c1b2bbaad5c542d748",
        "IPY_MODEL_ba04d119c4e44b8b9a2ea5ed93403043",
        "IPY_MODEL_96265c11d1e9442eae13aa2568d0a339",
        "IPY_MODEL_93cc742428a8417488778f9b0377b1bd",
        "IPY_MODEL_71fa28dbd6474ef5a1ef0a7957680e23",
        "IPY_MODEL_67180e8b660d43e8975281c13a27fde9",
        "IPY_MODEL_82c88e6733ce4f1d8976617a744b325b",
        "IPY_MODEL_6ef2561ec2384313ab30bd5317b20372",
        "IPY_MODEL_8200e0ae5f7d4fb49c7beb8a380fdf1a",
        "IPY_MODEL_bd580e1cbdb44c8cb3b6a22e14037960",
        "IPY_MODEL_8adedf63227940078010a64478185e67",
        "IPY_MODEL_2387576add724b8da4553c12e107a500"
       ],
       "layout": "IPY_MODEL_9cdeb65d08d744ba9747ee312ea3e83f"
      }
     },
     "eaffcc651e4f494096239c982be1a88c": {
      "model_module": "@jupyter-widgets/controls",
      "model_module_version": "1.5.0",
      "model_name": "LabelModel",
      "state": {
       "layout": "IPY_MODEL_1f7a2c2e9f9d44549558208d88ebe7c7",
       "style": "IPY_MODEL_ce5172b370f9406bae012540c2f43b04",
       "value": "Volt. @ Load = "
      }
     },
     "ebfe99be73eb410fa6c4a1c62b762ec3": {
      "model_module": "@jupyter-widgets/base",
      "model_module_version": "1.2.0",
      "model_name": "LayoutModel",
      "state": {}
     },
     "ec91a80b87954f78a5394a914c0dd9a9": {
      "model_module": "@jupyter-widgets/base",
      "model_module_version": "1.2.0",
      "model_name": "LayoutModel",
      "state": {}
     },
     "ec95105b45c54329a3ff2bf5e6c43972": {
      "model_module": "@jupyter-widgets/controls",
      "model_module_version": "1.5.0",
      "model_name": "DescriptionStyleModel",
      "state": {
       "description_width": ""
      }
     },
     "f0cf79d7383d4915bc75d5ad8d3ac9ff": {
      "model_module": "@jupyter-widgets/controls",
      "model_module_version": "1.5.0",
      "model_name": "DescriptionStyleModel",
      "state": {
       "description_width": "initial"
      }
     },
     "f22cf28aaa794850aecb2bd89083ae3d": {
      "model_module": "@jupyter-widgets/base",
      "model_module_version": "1.2.0",
      "model_name": "LayoutModel",
      "state": {}
     },
     "f2b19cc8e39e4f669ec7977f838b1744": {
      "model_module": "@jupyter-widgets/base",
      "model_module_version": "1.2.0",
      "model_name": "LayoutModel",
      "state": {}
     },
     "f4aa4ace3d6e4521ac38e2f6e6c87744": {
      "model_module": "@jupyter-widgets/base",
      "model_module_version": "1.2.0",
      "model_name": "LayoutModel",
      "state": {
       "grid_area": "widget010",
       "width": "150px"
      }
     },
     "f5be5b5a89d042ff99718772b53aa124": {
      "model_module": "@jupyter-widgets/controls",
      "model_module_version": "1.5.0",
      "model_name": "DescriptionStyleModel",
      "state": {
       "description_width": "initial"
      }
     },
     "f73ed3e2914d4f6a9f6c7ba935720f8c": {
      "model_module": "@jupyter-widgets/controls",
      "model_module_version": "1.5.0",
      "model_name": "DescriptionStyleModel",
      "state": {
       "description_width": ""
      }
     },
     "faad05ff29314bff83d880d51caea21b": {
      "model_module": "@jupyter-widgets/controls",
      "model_module_version": "1.5.0",
      "model_name": "TextModel",
      "state": {
       "description": "Calibration (mV/kN):",
       "layout": "IPY_MODEL_006f8192421746d28e536f9ea11246fb",
       "placeholder": "mV/kN",
       "style": "IPY_MODEL_6d6f060b69d54cbea35c11a47b5f41d0"
      }
     },
     "fb47051248b54f498dfd2e8922b41f68": {
      "model_module": "@jupyter-widgets/controls",
      "model_module_version": "1.5.0",
      "model_name": "DescriptionStyleModel",
      "state": {
       "description_width": "initial"
      }
     },
     "fc08a31567774630b7f7790d8348f88a": {
      "model_module": "@jupyter-widgets/base",
      "model_module_version": "1.2.0",
      "model_name": "LayoutModel",
      "state": {
       "grid_area": "widget002",
       "width": "150px"
      }
     },
     "fdf8218f4d38433784d78e9862219da5": {
      "model_module": "@jupyter-widgets/base",
      "model_module_version": "1.2.0",
      "model_name": "LayoutModel",
      "state": {
       "grid_area": "widget014",
       "width": "150px"
      }
     },
     "fe658ac51f2549b3baf6fe922d21110b": {
      "model_module": "@jupyter-widgets/base",
      "model_module_version": "1.2.0",
      "model_name": "LayoutModel",
      "state": {}
     },
     "fe75a1fc756e47f29b06f614f0710314": {
      "model_module": "@jupyter-widgets/controls",
      "model_module_version": "1.5.0",
      "model_name": "GridBoxModel",
      "state": {
       "children": [
        "IPY_MODEL_1c2f8f015d9e47babee8b9197d5f6a2a",
        "IPY_MODEL_819d19a9944648f5a9512dc0e0d59fed"
       ],
       "layout": "IPY_MODEL_0f752405a8b240949e4b225bf48e7005"
      }
     },
     "ffa436b78833480a835627bb27cf61ae": {
      "model_module": "@jupyter-widgets/controls",
      "model_module_version": "1.5.0",
      "model_name": "TextModel",
      "state": {
       "description": "V. Init. Volt.:",
       "layout": "IPY_MODEL_65cdb59b8ce44367ac8f298cf50dfbcc",
       "placeholder": "Volt",
       "style": "IPY_MODEL_65df5956754b42a39c3dae6046a67972"
      }
     },
     "ffbaee91acbd46de9a87b917d8b8a108": {
      "model_module": "@jupyter-widgets/controls",
      "model_module_version": "1.5.0",
      "model_name": "DescriptionStyleModel",
      "state": {
       "description_width": "initial"
      }
     }
    },
    "version_major": 2,
    "version_minor": 0
   }
  }
 },
 "nbformat": 4,
 "nbformat_minor": 5
}
