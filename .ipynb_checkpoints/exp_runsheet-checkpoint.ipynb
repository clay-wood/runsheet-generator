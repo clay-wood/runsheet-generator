{
 "cells": [
  {
   "cell_type": "code",
   "execution_count": 1,
   "metadata": {},
   "outputs": [],
   "source": [
    "import make_runsheet as mr"
   ]
  },
  {
   "cell_type": "code",
   "execution_count": 2,
   "metadata": {},
   "outputs": [],
   "source": [
    "Preamble= {\n",
    "\n",
    "'ExpName': 'p5458WGcutPerm5-20',\n",
    "\n",
    "'Date': '01 Nov. 2020',\n",
    "\n",
    "'Operator': 'Wood',\n",
    "\n",
    "'HydStart': '3613.2',\n",
    "\n",
    "'HydEnd': '3621.6'}"
   ]
  },
  {
   "cell_type": "code",
   "execution_count": 3,
   "metadata": {},
   "outputs": [],
   "source": [
    "Block_material = {\n",
    "\n",
    "'Material': 'WG, Saw-cut \\& 600-grit.', \n",
    "'Area': '0.0022292545'\n",
    "    \n",
    "}"
   ]
  },
  {
   "cell_type": "code",
   "execution_count": 4,
   "metadata": {},
   "outputs": [],
   "source": [
    "Load_Cells = {\n",
    "    \n",
    "'HorizLC': '44',\n",
    "'H_gain': 'HG: 119.303', \n",
    "'H_Stress': '1, 5, 20', \n",
    "'H_init_V': '0.79220', \n",
    "\n",
    "'VertLC': None, \n",
    "'V_gain': _, \n",
    "'V_stress': _, \n",
    "'V_init_V': _, \n",
    "}"
   ]
  },
  {
   "cell_type": "code",
   "execution_count": 5,
   "metadata": {},
   "outputs": [],
   "source": [
    "Vessel = {\n",
    "\n",
    "'UseVessel': 'yes',\n",
    "    \n",
    "'PoreFluid': 'DI H2O',\n",
    "\n",
    "'Pc_press': '3.145',\n",
    "'Pc_init_V': '-0.153436',\n",
    "\n",
    "'PpA_gain': 'HG: 1.517',\n",
    "'PpA_press': '2.5',\n",
    "'PpA_init_V': '0.097009',\n",
    "\n",
    "'PpB_gain': 'HG: 1.483',\n",
    "'PpB_press': '0.5, 1.0, 2.0',\n",
    "'PpB_init_V': '0.049729',\n",
    "}"
   ]
  },
  {
   "cell_type": "code",
   "execution_count": 6,
   "metadata": {},
   "outputs": [],
   "source": [
    "DCDTs = {\n",
    "\n",
    "'DataLogger': '16',\n",
    "'CtrlFile': 'No',\n",
    "\n",
    "'H_DCDT_rod': 'Short',\n",
    "'H_DCDT_gain': 'HG: 0.64 mm/V',\n",
    "\n",
    "'V_DCDT': 'TT2',\n",
    "'V_DCDT_gain': '',\n",
    "}"
   ]
  },
  {
   "cell_type": "code",
   "execution_count": 7,
   "metadata": {},
   "outputs": [],
   "source": [
    "ExpInfo = {\n",
    "\n",
    "'Purpose': '''\n",
    "Permeability test of saw-cut sample roughened with 80-grit. \\\\\\\\ Sample to be sent to Andy Rathbun at Chevron for profilometry before DAET/PP osc. experiment. \n",
    "''',\n",
    "\n",
    "'AcBlocks': '''\n",
    "SDS L-block v2\n",
    "'''\n",
    "}"
   ]
  },
  {
   "cell_type": "code",
   "execution_count": 8,
   "metadata": {},
   "outputs": [],
   "source": [
    "notes = [\n",
    "'''\n",
    "150 NS = 6kN. put on doors\n",
    "\n",
    "2710 plug in PpA/B ptrdx\n",
    "\n",
    "2980 empty/refill PpA/B\n",
    "\n",
    "3220 NS $\\\\nearrow$ 5MPa\n",
    "\n",
    "3350 fill vessel\n",
    "\n",
    "3555 switch PpA/B to high gain\n",
    "\n",
    "3630 PpA/B load offsets\n",
    "\n",
    "4470 Pc $\\\\nearrow$ 3MPa\n",
    "\n",
    "note: Pc load and displacement reversed in recorder -- oops.\n",
    "\n",
    "7520 hydraulics shut off. chiller on, check hydraulics before next exp.\n",
    "\n",
    "8260 unplug/replug Ppb cable\n",
    "\n",
    "8625 start saturation\n",
    "\n",
    "9500 flowing through, $\\\\sim 13 \\\\mu m/s$. $k \\\\approx 3*10^{-16} m^2$. @ PpA = 1MPa.\n",
    "\n",
    "13000 connect PpB (valve closed).\n",
    "\n",
    "13135 PpA $\\\\nearrow$ 1.4MPa. No slope in PpA disp. -- no leaks/mysterious storage.\n",
    "\n",
    "14300 refill PpA., $\\\\nearrow$ 2.5MPa. PpB $\\\\nearrow$ 0.5MPa.\n",
    "\n",
    "14500 open B and start flow.\n",
    "\n",
    "14900 1Hz $\\\\nearrow$ 10Hz (about 4:30min into flow). $ Qa \\\\approx Qb \\\\approx 10^{-8} m^3/s $\n",
    "\n",
    "24380 PpB $\\\\nearrow$ 1MPa. $ Qa \\\\approx 6*10^{-9} m^3/s, Qb \\\\approx 2*10^{-8} m^3/s $\n",
    "\n",
    "38500 PpB $\\\\nearrow$ 2MPa. $ Qa \\\\approx 2*10^{-9} m^3/s, Qb \\\\approx 2*10^{-8} m^3/s $\n",
    "\n",
    "51500 PpA/B $\\\\searrow$ 0MPa, refill. \n",
    "\n",
    "53750 NS $\\\\nearrow$ 20MPa, PpA $\\\\nearrow$ 2.5MPa, PpB $\\\\nearrow$ 0.5MPa. \n",
    "\n",
    "54030 $\\\\nearrow$ 10Hz, open B. $ Qa \\\\approx 2*10^{-9} m^3/s, Qb \\\\approx 1.4*10^{-9} m^3/s $\n",
    "\n",
    "67125 close B valve, PpB $\\\\nearrow$ 1MPa, open valve. $Qa \\\\approx 9*10^{-10} m^3/s, Qb \\\\approx 8*10^{-10} m^3/s $\n",
    "\n",
    "78640 close B valve, PpB $\\\\nearrow$ 2MPa, open valve. Qb not steady-state, opposite flow direction.\n",
    "\n",
    "85800 close B valve, PpB $\\\\searrow$ 1.5MPa, open valve. $Qa \\\\approx Qb \\\\approx 5*10^{-10} m^3/s $\n",
    "\n",
    "98000 $\\\\searrow$ 1Hz. reduce all stresses.  \n",
    "\n",
    "'''];"
   ]
  },
  {
   "cell_type": "code",
   "execution_count": 9,
   "metadata": {},
   "outputs": [],
   "source": [
    "mr.write_runsheet(Preamble, Block_material, Load_Cells, Vessel, DCDTs, ExpInfo, notes)"
   ]
  }
 ],
 "metadata": {
  "kernelspec": {
   "display_name": "Python 3",
   "language": "python",
   "name": "python3"
  },
  "language_info": {
   "codemirror_mode": {
    "name": "ipython",
    "version": 3
   },
   "file_extension": ".py",
   "mimetype": "text/x-python",
   "name": "python",
   "nbconvert_exporter": "python",
   "pygments_lexer": "ipython3",
   "version": "3.7.3"
  }
 },
 "nbformat": 4,
 "nbformat_minor": 4
}
